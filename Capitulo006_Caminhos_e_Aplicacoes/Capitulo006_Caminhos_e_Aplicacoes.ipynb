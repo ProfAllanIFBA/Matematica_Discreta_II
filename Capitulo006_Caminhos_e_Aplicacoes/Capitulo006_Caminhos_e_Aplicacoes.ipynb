{
 "cells": [
  {
   "cell_type": "markdown",
   "id": "ce33096c",
   "metadata": {},
   "source": [
    "<center> <img src=\"logo_ifba.jpg\" alt=\"jpg_python\" width=\"100\" height=\"200\"> </center>\n",
    "<br><br>\n",
    "<div align=\"center\"><span style=\"font-size: 26px;\"><strong>Matemática Discreta II <br></strong></span></div> <br>\n",
    "<center> <img src=\"python_gif.gif\" alt=\"gif_python\" width=\"80\"> </center>"
   ]
  },
  {
   "cell_type": "markdown",
   "id": "c5073180",
   "metadata": {},
   "source": [
    "<div style=\"border: 2px solid black; padding: 10px; width: 95%; background-color: lightgray; display: flex; align-items: center;\">\n",
    "    <h1 style=\"color: red; text-align: center; margin: auto;\">\n",
    "        Capítulo 6: Caminhos e Aplicações\n",
    "    </h1>\n",
    "</div>\n",
    "\n",
    "<font color='red'></font>\n",
    "<a href=\"\"></a>"
   ]
  },
  {
   "cell_type": "markdown",
   "id": "9e9c75ab",
   "metadata": {},
   "source": [
    "Neste capítulo, abordaremos o conceito fundamental de caminho em um grafo, além de explorar algumas aplicações relevantes relacionadas à demonstração de isomorfismo entre dois grafos, bem como à contagem das diferentes formas de se percorrer um vértices de um grafo. A compreensão desses conceitos é essencial para a análise e resolução de problemas em diversas áreas, como ciência da computação, matemática e redes complexas."
   ]
  },
  {
   "cell_type": "markdown",
   "id": "b409060e",
   "metadata": {},
   "source": [
    "# <div style=\"margin-top: -20px;\">\n",
    "<hr style=\"border: 2px solid black;\">\n",
    "\n",
    "<font color='black'><span style=\"font-size: 22px;\"><strong>6.1 Caminhos</strong></span></font>\n",
    "\n",
    "<hr style=\"border: 2px solid black;\">\n",
    "</div>"
   ]
  },
  {
   "cell_type": "markdown",
   "id": "137ff662",
   "metadata": {},
   "source": [
    "Informalmente, um caminho é uma sequência de arestas que começa em um vértice de um grafo e viaja de vértice para vértice ao longo das arestas do grafo. À medida que o caminho percorre suas bordas, ele visita os vértices ao longo desse caminho, isto é, os pontos finais dessas arestas."
   ]
  },
  {
   "cell_type": "markdown",
   "id": "ed702183",
   "metadata": {},
   "source": [
    "#### <font color='red'> Definição 1 </font>"
   ]
  },
  {
   "cell_type": "markdown",
   "id": "f0b5e339",
   "metadata": {},
   "source": [
    "<font color='red'> Seja $n$ um inteiro não negativo e $G$ um grafo não orientado. Um **caminho** de comprimento $n$ de $u$ para $v$ em $G$ é uma sequência de $n$ arestas $e_{1},\\ldots , e_{n}$ de $G$ para o qual existe uma sequência $x_{0} = u, x_{1},\\ldots , x_{n-1}, x_{n} = v$ de vértices tais que $e_{i}$ tem, para $i = 1,\\ldots , n$, os pontos finais $x_{i-1}$ e $x_{i}$. Quando o grafo é simples, denotamos este caminho pela sua sequência de vértices $x_{0}, x_{1},. . . , x_{n}$. O caminho é um **circuito** se começa e termina no mesmo vértice, isto é, se $u = v$, e tem comprimento maior que zero. O caminho ou circuito é dito passar pelos vértices $x_{1}, x_{2},\\ldots , x_{n-1}$ ou atravessar as arestas $e_{1}, e_{2},\\ldots , e_{n}$. Um caminho ou circuito é **simples** se não contiver a mesma borda mais de uma vez."
   ]
  },
  {
   "cell_type": "markdown",
   "id": "6ce45303",
   "metadata": {},
   "source": [
    "Evite usar a palavra caminho quando se referir a uma aresta, exceto nos casos em que se estiver de fato tratando de um caminho de comprimento $1$."
   ]
  },
  {
   "cell_type": "markdown",
   "id": "3066633b",
   "metadata": {},
   "source": [
    "#### <font color='blue'> Exemplo 1 </font>"
   ]
  },
  {
   "cell_type": "markdown",
   "id": "7a168750",
   "metadata": {},
   "source": [
    "<font color='blue'> No grafo simples mostrado a seguir, $a,b,e,f,c$ é um caminho simples de comprimento $4$, pois $\\{a, b\\}, \\{b, e\\}, \\{e, f\\}$ e $\\{f, c\\}$ são todas as arestas. No entanto, $a,b,f,e$ não é um caminho, pois $\\{b,f\\}$ não é uma aresta. Note que $a,b,c,e,a$ é um circuito de comprimento $4$ pois $\\{a, b\\}, \\{b, c\\}, \\{c, e\\}$ e $\\{e, a\\}$ são arestas, e esse caminho começa e termina em $a$. O caminho $a,b,c,b,e,f$, que é de comprimento $5$, não é simples pois contém a borda $\\{b,c\\}$ duas vezes.\n",
    "<center> <img src=\"fig6_1.jpg\" alt=\"jpg_python\" width=\"180\" height=\"\"> </center>"
   ]
  },
  {
   "cell_type": "markdown",
   "id": "c0caf622",
   "metadata": {},
   "source": [
    "#### <font color='red'> Definição 2 </font>"
   ]
  },
  {
   "cell_type": "markdown",
   "id": "6e009327",
   "metadata": {},
   "source": [
    "<font color='red'> Seja $n$ um inteiro não negativo e $G$ um grafo orientado. Um **caminho** de comprimento $n$ de $u$ para $v$ em $G$ é uma sequência de arestas $e_{1}, e_{2},\\ldots , e_{n}$ de $G$ tal que $e_{1}$ está associado a $(x_{0}, x_{1})$, $e_{2}$ está associado a $(x_{1}, x_{2})$, e assim por diante, com $e_{n}$ associado a $(x_{n-1}, x_{n})$, onde $x_{0} = u$ e $x_{n} = v$. Quando não há múltiplas arestas no grafo orientado, esse caminho é denotado por sua sequência de vértices $x_{0}, x_{1}, x_{2},\\ldots , x_{n}$. Um caminho de comprimento maior que zero que começa e termina no mesmo vértice é chamado de **circuito** ou ciclo. Um caminho ou circuito é chamado **simples** se não contiver a mesma borda mais de uma vez."
   ]
  },
  {
   "cell_type": "markdown",
   "id": "a0d57a4d",
   "metadata": {},
   "source": [
    "#### <font color='blue'> Exemplo 2 </font>"
   ]
  },
  {
   "cell_type": "markdown",
   "id": "645664f2",
   "metadata": {},
   "source": [
    "<font color='blue'> No grafo orientado simples mostrado a seguir, $a,b,c,e$ é um caminho simples de comprimento $3$, pois $(a, b), (b, c)$ e $(c, e)$ são todas as arestas. No entanto, $a,b,e,d$ não é um caminho, pois $(b,f)$ não é uma aresta. Note que $a,b,c,e,a$ é um circuito de comprimento $4$ pois $(a,b), (b,c), (c,e)$ e $(e,a)$ são arestas, e esse caminho começa e termina em $a$. O caminho $a,b,c,e,c$, que é de comprimento $4$, não é simples pois contém a borda $(e,c)$ duas vezes.\n",
    "<center> <img src=\"fig6_2.jpg\" alt=\"jpg_python\" width=\"180\" height=\"\"> </center>"
   ]
  },
  {
   "cell_type": "markdown",
   "id": "52739f73",
   "metadata": {},
   "source": [
    "# <div style=\"margin-top: -20px;\">\n",
    "<hr style=\"border: 2px solid black;\">\n",
    "\n",
    "<font color='black'><span style=\"font-size: 22px;\"><strong>6.2 Caminhos e Isomorfismo</strong></span></font>\n",
    "\n",
    "<hr style=\"border: 2px solid black;\">\n",
    "</div>"
   ]
  },
  {
   "cell_type": "markdown",
   "id": "550dbc85",
   "metadata": {},
   "source": [
    "Existem várias maneiras pelas quais caminhos e circuitos podem ajudar a determinar se dois grafos são isomorfos (ou não são isomorfos como é mais comum). Por exemplo, a exist\\^encia de um circuito simples de um determinado comprimento é um invariante útil que pode ser usada para mostrar que dois grafos não são isomorfos. Além disso, caminhos podem ser usados para construir mapeamentos que facilite-nos encontrar um isomorfismo entre grafos quando for o caso."
   ]
  },
  {
   "cell_type": "markdown",
   "id": "d667a017",
   "metadata": {},
   "source": [
    "#### <font color='blue'> Exemplo 3 </font>"
   ]
  },
  {
   "cell_type": "markdown",
   "id": "fc058eca",
   "metadata": {},
   "source": [
    "<font color='blue'> Determine se os grafos $G$ e $H$ mostrados a seguir são isomorfos.\n",
    "<center> <img src=\"fig6_3.jpg\" alt=\"jpg_python\" width=\"350\" height=\"\"> </center>"
   ]
  },
  {
   "cell_type": "markdown",
   "id": "f041422f",
   "metadata": {},
   "source": [
    "<font color='blue'> **Solução**: Ambos $G$ e $H$ têm seis vértices e oito arestas. Cada um tem quatro vértices de grau três e dois vértices de grau dois. Assim, os três invariantes - número de vértices, número de arestas e os graus dos vértices - concordam para os dois grafos. Entretanto, $H$ tem dois circuitos simples de comprimento três, $t,u,v,t$ e $s,w,x,s$, enquanto $G$ não possui um circuito simples de comprimento três, como pode ser determinado por inspeção. Como a existência de um circuito simples de comprimento três é um invariante isomorfo, $G$ e $H$ não são isomorfos."
   ]
  },
  {
   "cell_type": "markdown",
   "id": "affe7d47",
   "metadata": {},
   "source": [
    "#### <font color='blue'> Exemplo 4 </font>"
   ]
  },
  {
   "cell_type": "markdown",
   "id": "f486de4e",
   "metadata": {},
   "source": [
    "<font color='blue'> Determine se os grafos $G$ e $H$ mostrados a seguir são isomorfos.\n",
    "<center> <img src=\"fig6_4.jpg\" alt=\"jpg_python\" width=\"350\" height=\"\"> </center>"
   ]
  },
  {
   "cell_type": "markdown",
   "id": "c3cdc62d",
   "metadata": {},
   "source": [
    "<font color='blue'> **Solução**: Tanto $G$ como $H$ têm cinco vértices e seis arestas, ambos têm dois vértices de grau três e três vértices de grau dois, e ambos possuem um circuito simples de comprimento três, um circuito simples de comprimento quatro e um circuito simples de comprimento cinco. Como todos esses invariantes isomorfos concordam, $G$ e $H$ ainda podem ser isomorfos. *Verifique!*"
   ]
  },
  {
   "cell_type": "markdown",
   "id": "5845b2ce",
   "metadata": {},
   "source": [
    "#### <font color='green'> Palavras dos Mestres </font>"
   ]
  },
  {
   "cell_type": "markdown",
   "id": "98d958f9",
   "metadata": {},
   "source": [
    "<font color='green'> Podemos usar caminhos para encontrarmos um possível isomorfismo mais rapidamente. Para tanto, bastamos procurar caminhos (de preferência circuitos) envolvendo o máximo de vértices em cada um dos grafo de modo que a sequência de graus se repita em ambos. Considerando o grafo $G$ do **Exemplo 4** temos um circuito $a,b,c,e,d,a$ cuja sequência de graus associada é dada, respectivamente, por $2,3,2,3,2,2$. Um bom sinal da existência de um isomorfismo entre $G$ e $H$ é a existência de um circuito com mesma sequência de graus. Por insperção temos a seguinte sequência $t,u,v,w,s,t$ cuja sequência de graus é também $2,3,2,3,2,2$. Neste caso, pode-se verificar que há um isomorfismo entre $G$ e $H$ dado por $f(a) = t,f(b) = u, f(c) = v, f(d) = s, f(e) = w$."
   ]
  },
  {
   "cell_type": "markdown",
   "id": "7579e9a5",
   "metadata": {},
   "source": [
    "# <div style=\"margin-top: -20px;\">\n",
    "<hr style=\"border: 2px solid black;\">\n",
    "\n",
    "<font color='black'><span style=\"font-size: 22px;\"><strong>6.3 Contando Caminhos Entre Vértices</strong></span></font>\n",
    "\n",
    "<hr style=\"border: 2px solid black;\">\n",
    "</div>"
   ]
  },
  {
   "cell_type": "markdown",
   "id": "d2eccc6e",
   "metadata": {},
   "source": [
    "O número de caminhos entre dois vértices em um grafo pode ser determinado usando sua matriz de adjacência."
   ]
  },
  {
   "cell_type": "markdown",
   "id": "52fe7b9f",
   "metadata": {},
   "source": [
    "#### <font color='red'> Teorema 1 </font>"
   ]
  },
  {
   "cell_type": "markdown",
   "id": "45fe0907",
   "metadata": {},
   "source": [
    "<font color='red'> Seja $G$ um grafo com matriz de adjacência $A$ em relação à ordenação $v_{1}, v_{2}, \\ldots , v_{n}$ dos vértices do grafo (com arestas direcionadas ou não direcionadas, com múltiplas arestas e loops). O número de caminhos diferentes de comprimento $r$ de $v_{i}$ para $v_{j}$, onde $r$ é um inteiro positivo, é igual à entrada $(i, j)$ de $A^{r}$."
   ]
  },
  {
   "cell_type": "markdown",
   "id": "3af9cfea",
   "metadata": {},
   "source": [
    "<font color='red'> **Demonstração**: O teorema será provado usando indução matemática. Seja $G$ um grafo com a matriz de adjacencia $A$ (assumindo uma ordenação $v_{1}, v_{2}, \\ldots, v_{n}$ dos vértices de $G$). O número de caminhos de $v_{i}$ para $v_{j}$ de comprimento $1$ é a entrada $(i, j)$ de $A$, pois esta entrada é o número de arestas de $v_{i} para v_{j}$. Suponha que a $(i, j)$-ésima entrada de $A^{r}$ é o número de caminhos diferentes de comprimento $r$ de $v_{i}$ para $v_{j}$. Esta é a hipótese indutiva. Como $A^{r + 1} = A^{r}A$, a $(i, j)$-ésima entrada de $A^{r+1}$ é igual a<br><br>\n",
    "$$b_{i1}a_{1j} + b_{i2}a_{2j} + \\ldots + b_{in}a_{nj},$$<br>\n",
    "em que $b_{ik}$ é a $(i, k)$-ésima entrada de $A^{r}$. Pela hipótese indutiva, $b_{ik}$ é o número de caminhos de comprimento $r$ de $v_{i}$ para $v_{k}$. Um caminho de comprimento $r + 1$ de $v_{i}$ para $v_{j}$ é constituído por um caminho de comprimento $r$ de $v_{i}$ para algum vértice intermediário $v_{k}$ e uma borda de $v_{k}$ para $v_{j}$. Pela regra do produto para contagem, o número desses caminhos é o produto do número de caminhos de comprimento $r$ de $v_{i}$ para $v_{k}$, a saber, $b_{ik}$ é o número de arestas de $v_{k}$ para $v_{j}$, $a_{kj}$. Quando esses produtos são adicionados para todos os possíveis vértices intermediários $v_{k}$, o resultado desejado segue a regra de soma para contagem."
   ]
  },
  {
   "cell_type": "markdown",
   "id": "83d371ae",
   "metadata": {},
   "source": [
    "#### <font color='blue'> Exemplo 5 </font>"
   ]
  },
  {
   "cell_type": "markdown",
   "id": "7e7c5e57",
   "metadata": {},
   "source": [
    "<font color='blue'> Quantos caminhos de comprimento $4$ existem de $a$ para $d$ no grafo simples $G$ dado a seguir?\n",
    "<center> <img src=\"fig6_5.jpg\" alt=\"jpg_python\" width=\"150\" height=\"\"> </center>"
   ]
  },
  {
   "cell_type": "markdown",
   "id": "716a4e14",
   "metadata": {},
   "source": [
    "<font color='blue'> **Solução**: A matriz de adjacência de $G$ (ordenando os vértices como $a, b, c, d$) é:<br><br>\n",
    "$$A = \\left(\\begin{array}{cccc}\n",
    "0 & 1 & 1 & 0 \\\\\n",
    "1 & 0 & 0 & 1 \\\\\n",
    "1 & 0 & 0 & 1 \\\\\n",
    "0 & 1 & 1 & 0 \\\\\n",
    "\\end{array} \\right)$$<br>\n",
    "Assim, o número de caminhos de comprimento quatro de $a$ para $d$ é $(1, 4)$-ésima entrada de $A^{4}$.<br><br>\n",
    "$$A^{4} = \\left(\\begin{array}{cccc}\n",
    "8 & 0 & 0 & 8 \\\\\n",
    "0 & 8 & 8 & 0 \\\\\n",
    "0 & 8 & 8 & 0 \\\\\n",
    "8 & 0 & 0 & 8 \\\\\n",
    "\\end{array} \\right)$$<br>\n",
    "Portanto, temos $8$ caminhos. A saber, os caminhos são: $ababd$, $abacd$ $abdbd$, $abdcd$,  $acacd$, $acdac$, $acdbc$ e $acdcd$."
   ]
  },
  {
   "cell_type": "markdown",
   "id": "3fa5f110",
   "metadata": {},
   "source": [
    "# <div style=\"margin-top: -20px;\">\n",
    "<hr style=\"border: 2px solid black;\">\n",
    "\n",
    "<font color='black'><span style=\"font-size: 22px;\"><strong>6.4 Exercícios</strong></span></font>\n",
    "\n",
    "<hr style=\"border: 2px solid black;\">\n",
    "</div>"
   ]
  },
  {
   "cell_type": "markdown",
   "id": "c19d7f01",
   "metadata": {},
   "source": [
    "#### Exercício 1"
   ]
  },
  {
   "cell_type": "markdown",
   "id": "6d4b7c45",
   "metadata": {},
   "source": [
    "Com base no grafo $G$ dado a seguir analise cada uma das afirmações classificando-as em verdadeiras ou falsas.<br><br>\n",
    "<center> <img src=\"fig6_6.jpg\" alt=\"jpg_python\" width=\"200\" height=\"\"> </center>\n",
    "\n",
    "a) A sequência $a,e,c$ corresponde a um caminho de comprimento $2$ no grafo $G$.\n",
    "\n",
    "b) A sequência $a,b,c,d$ corresponde a um caminho de comprimento $3$ no grafo $G$.\n",
    "\n",
    "c) A sequência $a,b,d,e,a$ corresponde a um circuito simples de comprimento $4$ no grafo $G$.\n",
    "\n",
    "d) O grafo $G$ não possui circuitos de comprimento igual a $3$."
   ]
  },
  {
   "cell_type": "markdown",
   "id": "89b14670",
   "metadata": {},
   "source": [
    "#### Exercício 2"
   ]
  },
  {
   "cell_type": "markdown",
   "id": "5ed0cdb8",
   "metadata": {},
   "source": [
    "Use caminhos para mostrar que os pares de grafos não são isomorfos ou para auxiliar a prova de um isomorfismo. Justifique.\n",
    "<center> <img src=\"fig6_7.jpg\" alt=\"jpg_python\" width=\"900\" height=\"\"> </center>\n",
    "<center> <img src=\"fig6_8.jpg\" alt=\"jpg_python\" width=\"900\" height=\"\"> </center>"
   ]
  },
  {
   "cell_type": "markdown",
   "id": "07e39662",
   "metadata": {},
   "source": [
    "#### Exercício 3"
   ]
  },
  {
   "cell_type": "markdown",
   "id": "d6373878",
   "metadata": {},
   "source": [
    "Considerando o grafo $G$ dado a seguir determine:<br><br>\n",
    "\n",
    "<center> <img src=\"fig6_9.jpg\" alt=\"jpg_python\" width=\"170\" height=\"\"> </center>\n",
    "\n",
    "a) Quantos caminhos de comprimento $3$ existem de $a$ para $d$.\n",
    "\n",
    "b) Quantos caminhos de comprimento $3$ existem de $d$ para $e$.\n",
    "\n",
    "c) Quantos caminhos de comprimento $10$ existem de $c$ para $f$.\n",
    "\n",
    "d) Determine todos os caminhos de comprimento $4$ que existem de $a$ para $e$."
   ]
  },
  {
   "cell_type": "markdown",
   "id": "d52ee48a",
   "metadata": {},
   "source": [
    "## <div style=\"margin-top: -20px;\">\n",
    "<hr style=\"border: 2px solid black;\">\n",
    "\n",
    "<font color='black'><span style=\"font-size: 18px;\"><strong>Respostas</strong></span></font>\n",
    "\n",
    "<hr style=\"border: 2px solid black;\">\n",
    "</div>"
   ]
  },
  {
   "cell_type": "markdown",
   "id": "a0d787c4",
   "metadata": {},
   "source": [
    "#### Respostas do Exercício 1"
   ]
  },
  {
   "cell_type": "markdown",
   "id": "cd31a445",
   "metadata": {},
   "source": [
    "a) $V$, b) $F$, c) $V$, d) $V$"
   ]
  },
  {
   "cell_type": "markdown",
   "id": "826f741f",
   "metadata": {},
   "source": [
    "#### Respostas do Exercício 2"
   ]
  },
  {
   "cell_type": "markdown",
   "id": "1908328b",
   "metadata": {},
   "source": [
    "a) não isomorfos, b) não isomorfos, c) isomorfos, d) não isomorfos"
   ]
  },
  {
   "cell_type": "markdown",
   "id": "567f278d",
   "metadata": {},
   "source": [
    "#### Respostas do Exercício 3"
   ]
  },
  {
   "cell_type": "markdown",
   "id": "88c255ac",
   "metadata": {},
   "source": [
    "a) $2$, b) $5$, c) $4813$, d) Caminho $1$: $a, b, c, d, e$; Caminho $2$: $a,f,c,d,e$."
   ]
  },
  {
   "cell_type": "markdown",
   "id": "77040c68",
   "metadata": {},
   "source": [
    "# <div style=\"margin-top: -20px;\">\n",
    "<hr style=\"border: 2px solid black;\">\n",
    "\n",
    "<font color='black'><span style=\"font-size: 22px;\"><strong>6.5 Vídeo Aulas</strong></span></font>\n",
    "\n",
    "<hr style=\"border: 2px solid black;\">\n",
    "</div>"
   ]
  },
  {
   "cell_type": "markdown",
   "id": "a22169bb",
   "metadata": {},
   "source": [
    "Clicando nos links a seguir você será redirecionado às aulas referentes a este capítulo.\n",
    "\n",
    "[Caminhos em Grafos](https://youtu.be/svGdv6tXD9g)\n",
    "\n",
    "[Exemplo Envolvendo Caminhos e Isomorfismo](https://youtu.be/TCdaLKaev3U)\n",
    "\n",
    "[Contando Caminhos Entre Vértices](https://youtu.be/HsHDTAdPDPI)"
   ]
  },
  {
   "cell_type": "markdown",
   "id": "72581701",
   "metadata": {},
   "source": [
    "# <div style=\"margin-top: -20px;\">\n",
    "<hr style=\"border: 2px solid black;\">\n",
    "\n",
    "<font color='black'><span style=\"font-size: 22px;\"><strong>5.3 No Computador (Experimental)</strong></span></font>\n",
    "\n",
    "<hr style=\"border: 2px solid black;\">\n",
    "</div>"
   ]
  },
  {
   "cell_type": "markdown",
   "id": "d1680b0c",
   "metadata": {},
   "source": [
    "#### Resolução Computacional do Exemplo 5"
   ]
  },
  {
   "cell_type": "markdown",
   "id": "8b375fdb",
   "metadata": {},
   "source": [
    "Usaremos array para podermos aplicar o produto de matrizes. Além disso, repassaremos os vértices $a,b,c$ e $d$ para $0,1,2$ e $3$ respectivamente."
   ]
  },
  {
   "cell_type": "code",
   "execution_count": 21,
   "id": "5505b106",
   "metadata": {
    "ExecuteTime": {
     "end_time": "2023-08-02T20:53:07.168373Z",
     "start_time": "2023-08-02T20:53:07.161392Z"
    }
   },
   "outputs": [
    {
     "name": "stdout",
     "output_type": "stream",
     "text": [
      "O número de caminhos de comprimento 4 de a para d é: 8\n"
     ]
    }
   ],
   "source": [
    "import numpy as np\n",
    "\n",
    "# Matriz de adjacência associada ao grafo\n",
    "A = [[0,1,1,0],\n",
    "     [1,0,0,1],\n",
    "     [1,0,0,1],\n",
    "     [0,1,1,0]]\n",
    "\n",
    "a, b, c, d = 0, 1, 2, 3\n",
    "\n",
    "# Criando um dicionário para mapear valores às variáveis\n",
    "vertices = {a: 'a', b: 'b', c: 'c', d: 'd'}\n",
    "\n",
    "# Vertices de finais\n",
    "v_i = a\n",
    "v_f = d\n",
    "\n",
    "comprimento = 4 # Potência de A a ser calculada\n",
    "\n",
    "potencia = np.linalg.matrix_power(np.array(A), comprimento)\n",
    "\n",
    "print(f'O número de caminhos de comprimento {comprimento} de {vertices[v_i]} para {vertices[v_f]} é: {potencia[v_i][v_f]}')\n"
   ]
  },
  {
   "cell_type": "markdown",
   "id": "e1cb02c3",
   "metadata": {},
   "source": [
    "Podemos imprimir a matriz **potencia**:"
   ]
  },
  {
   "cell_type": "code",
   "execution_count": 23,
   "id": "4e37834e",
   "metadata": {
    "ExecuteTime": {
     "end_time": "2023-08-02T20:53:41.103146Z",
     "start_time": "2023-08-02T20:53:41.097157Z"
    }
   },
   "outputs": [
    {
     "name": "stdout",
     "output_type": "stream",
     "text": [
      "[[8 0 0 8]\n",
      " [0 8 8 0]\n",
      " [0 8 8 0]\n",
      " [8 0 0 8]]\n"
     ]
    }
   ],
   "source": [
    "print(potencia)"
   ]
  },
  {
   "cell_type": "markdown",
   "id": "3ca837c0",
   "metadata": {},
   "source": [
    "#### Exibindo caminhos simples entre vértices"
   ]
  },
  {
   "cell_type": "markdown",
   "id": "e814d742",
   "metadata": {},
   "source": [
    "##### Grafo não orientado"
   ]
  },
  {
   "cell_type": "code",
   "execution_count": 43,
   "id": "ec6d05f5",
   "metadata": {
    "ExecuteTime": {
     "end_time": "2023-08-02T21:15:24.465582Z",
     "start_time": "2023-08-02T21:15:24.280077Z"
    }
   },
   "outputs": [
    {
     "data": {
      "image/png": "[encoded data removed]",
      "text/plain": [
       "<Figure size 640x480 with 1 Axes>"
      ]
     },
     "metadata": {},
     "output_type": "display_data"
    },
    {
     "name": "stdout",
     "output_type": "stream",
     "text": [
      "Os caminhos simples entre a e d são:\n",
      "['a', 'b', 'c', 'd']\n",
      "['a', 'b', 'c', 'f', 'd']\n",
      "['a', 'b', 'c', 'f', 'e', 'd']\n",
      "['a', 'b', 'c', 'f', 'g', 'e', 'd']\n",
      "['a', 'b', 'd']\n",
      "['a', 'b', 'g', 'e', 'd']\n",
      "['a', 'b', 'g', 'e', 'f', 'c', 'd']\n",
      "['a', 'b', 'g', 'e', 'f', 'd']\n",
      "['a', 'b', 'g', 'f', 'c', 'd']\n",
      "['a', 'b', 'g', 'f', 'd']\n",
      "['a', 'b', 'g', 'f', 'e', 'd']\n",
      "['a', 'd']\n"
     ]
    }
   ],
   "source": [
    "import networkx as nx\n",
    "import matplotlib.pyplot as plt\n",
    "\n",
    "# Criar um grafo direcionado (ou não-direcionado)\n",
    "G = nx.Graph()  \n",
    "\n",
    "\n",
    "# Adicionar arestas ao grafo\n",
    "G.add_edges_from([('a', 'b'), ('a', 'd'), ('b', 'c'), ('b', 'd'),\\\n",
    "                  ('b', 'g'), ('c', 'd'), ('c', 'f'), ('d', 'e'),\\\n",
    "                  ('d', 'f'), ('e', 'f'), ('e', 'g'), ('f', 'g')])\n",
    "\n",
    "\n",
    "# Calcular todos os caminhos entre dois vértices\n",
    "vertice_inicial = 'a'\n",
    "vertice_final = 'd'\n",
    "caminhos = list(nx.all_simple_paths(G, source=vertice_inicial, target=vertice_final))\n",
    "\n",
    "# Desenhe o grafo.\n",
    "pos = nx.spring_layout(G)  # Defina a posição dos nós.\n",
    "nx.draw_networkx_nodes(G, pos, node_color='blue')  # Desenhe os nós.\n",
    "nx.draw_networkx_edges(G, pos)  # Desenhe as arestas.\n",
    "nx.draw_networkx_labels(G, pos, font_color='white', font_weight='bold')  # Desenhe os rótulos dos nós.\n",
    "plt.title('Grafo Não Orientado')\n",
    "plt.show()\n",
    "\n",
    "# Imprimir os caminhos\n",
    "print(f\"Os caminhos simples entre {vertice_inicial} e {vertice_final} são:\")\n",
    "for caminho in caminhos:\n",
    "    print(caminho)"
   ]
  },
  {
   "cell_type": "markdown",
   "id": "54f9d015",
   "metadata": {},
   "source": [
    "##### Grafo orientado"
   ]
  },
  {
   "cell_type": "code",
   "execution_count": 44,
   "id": "208cd73b",
   "metadata": {
    "ExecuteTime": {
     "end_time": "2023-08-02T21:15:27.705735Z",
     "start_time": "2023-08-02T21:15:27.447427Z"
    }
   },
   "outputs": [
    {
     "data": {
      "image/png": "[encoded data removed]",
      "text/plain": [
       "<Figure size 640x480 with 1 Axes>"
      ]
     },
     "metadata": {},
     "output_type": "display_data"
    },
    {
     "name": "stdout",
     "output_type": "stream",
     "text": [
      "Os caminhos simples entre a e d são:\n",
      "['a', 'b', 'f', 'd']\n",
      "['a', 'b', 'f', 'g', 'd']\n",
      "['a', 'd']\n"
     ]
    }
   ],
   "source": [
    "import networkx as nx\n",
    "import matplotlib.pyplot as plt\n",
    "\n",
    "# Criar um grafo direcionado (ou não-direcionado)\n",
    "G = nx.DiGraph()  \n",
    "\n",
    "\n",
    "# Adicionar arestas ao grafo\n",
    "G.add_edges_from([('a', 'b'), ('a', 'd'), ('b', 'a'), ('b', 'c'),\\\n",
    "                  ('b', 'f'), ('c', 'a'), ('c', 'b'), ('d', 'e'),\\\n",
    "                  ('d', 'g'), ('e', 'f'), ('e', 'g'), ('f', 'a'),\\\n",
    "                  ('f', 'c'), ('f', 'd'), ('f', 'g'), ('g', 'b'),\\\n",
    "                  ('g', 'd'), ('g', 'e')])\n",
    "\n",
    "\n",
    "# Calcular todos os caminhos entre dois vértices\n",
    "vertice_inicial = 'a'\n",
    "vertice_final = 'd'\n",
    "caminhos = list(nx.all_simple_paths(G, source=vertice_inicial, target=vertice_final))\n",
    "\n",
    "# Desenhe o grafo.\n",
    "pos = nx.spring_layout(G)  # Defina a posição dos nós.\n",
    "nx.draw_networkx_nodes(G, pos, node_color='blue')  # Desenhe os nós.\n",
    "nx.draw_networkx_edges(G, pos)  # Desenhe as arestas.\n",
    "nx.draw_networkx_labels(G, pos, font_color='white', font_weight='bold')  # Desenhe os rótulos dos nós.\n",
    "plt.title('Grafo Orientado')\n",
    "plt.show()\n",
    "\n",
    "# Imprimir os caminhos\n",
    "print(f\"Os caminhos simples entre {vertice_inicial} e {vertice_final} são:\")\n",
    "for caminho in caminhos:\n",
    "    print(caminho)"
   ]
  }
 ],
 "metadata": {
  "kernelspec": {
   "display_name": "Python 3 (ipykernel)",
   "language": "python",
   "name": "python3"
  },
  "language_info": {
   "codemirror_mode": {
    "name": "ipython",
    "version": 3
   },
   "file_extension": ".py",
   "mimetype": "text/x-python",
   "name": "python",
   "nbconvert_exporter": "python",
   "pygments_lexer": "ipython3",
   "version": "3.11.5"
  },
  "varInspector": {
   "cols": {
    "lenName": 16,
    "lenType": 16,
    "lenVar": 40
   },
   "kernels_config": {
    "python": {
     "delete_cmd_postfix": "",
     "delete_cmd_prefix": "del ",
     "library": "var_list.py",
     "varRefreshCmd": "print(var_dic_list())"
    },
    "r": {
     "delete_cmd_postfix": ") ",
     "delete_cmd_prefix": "rm(",
     "library": "var_list.r",
     "varRefreshCmd": "cat(var_dic_list()) "
    }
   },
   "types_to_exclude": [
    "module",
    "function",
    "builtin_function_or_method",
    "instance",
    "_Feature"
   ],
   "window_display": false
  }
 },
 "nbformat": 4,
 "nbformat_minor": 5
}
