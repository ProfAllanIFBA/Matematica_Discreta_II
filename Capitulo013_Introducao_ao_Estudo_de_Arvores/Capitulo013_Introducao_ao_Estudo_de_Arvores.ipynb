{
 "cells": [
  {
   "cell_type": "markdown",
   "id": "ce33096c",
   "metadata": {},
   "source": [
    "<center> <img src=\"logo_ifba.jpg\" alt=\"jpg_python\" width=\"100\" height=\"\"> </center>\n",
    "<br><br>\n",
    "<div align=\"center\"><span style=\"font-size: 26px;\"><strong>Matemática Discreta II <br></strong></span></div> <br>\n",
    "<center> <img src=\"python_gif.gif\" alt=\"gif_python\" width=\"80\"> </center>"
   ]
  },
  {
   "cell_type": "markdown",
   "id": "c5073180",
   "metadata": {},
   "source": [
    "<div style=\"border: 2px solid black; padding: 10px; width: 95%; background-color: lightgray; display: flex; align-items: center;\">\n",
    "    <h1 style=\"color: red; text-align: center; margin: auto;\">\n",
    "        Capítulo 13: Introdução ao Estudo de Árvores\n",
    "    </h1>\n",
    "</div>\n",
    "\n",
    "<font color='red'></font>\n",
    "<a href=\"\"></a>"
   ]
  },
  {
   "cell_type": "markdown",
   "id": "efb1d751",
   "metadata": {},
   "source": [
    "Agora estudaremos alguns grafos especiais conhecidos como árvores. Tais grafos bastante úteis na ciência da computação sendo bastante empregadas em muitas situações. Por exemplo, as árvores são usadas para construir algoritmos eficientes desempenhando a tarefa de localizar itens em uma lista. Eles podem ser usados em algoritmos possibilitando a construção de códigos eficientes que economizam custos na transmissão e no armazenamento de dados. As árvores são usadas para modelar procedimentos realizados usando uma sequência de decisões. A construção desses modelos pode ajudar a determinar a complexidade computacional dos algoritmos com base em uma sequência de decisões."
   ]
  },
  {
   "cell_type": "markdown",
   "id": "80eccbaa",
   "metadata": {},
   "source": [
    "# <div style=\"margin-top: -20px;\">\n",
    "<hr style=\"border: 2px solid black;\">\n",
    "\n",
    "<font color='black'><span style=\"font-size: 22px;\"><strong>13.1 Árvores</strong></span></font>\n",
    "\n",
    "<hr style=\"border: 2px solid black;\">\n",
    "</div>"
   ]
  },
  {
   "cell_type": "markdown",
   "id": "75ad8348",
   "metadata": {},
   "source": [
    "#### <font color='red'> Definição 1 </font>"
   ]
  },
  {
   "cell_type": "markdown",
   "id": "9c38054e",
   "metadata": {},
   "source": [
    "<font color='red'> Uma **árvore** é um grafo não direcionado conectado, sem circuitos simples."
   ]
  },
  {
   "cell_type": "markdown",
   "id": "abfc1671",
   "metadata": {},
   "source": [
    "#### <font color='blue'> Exemplo 1 </font>"
   ]
  },
  {
   "cell_type": "markdown",
   "id": "a0e9e43b",
   "metadata": {},
   "source": [
    "<font color='blue'> Quais dos grafos mostrados na figura a seguir são árvores?<br><br>\n",
    " <center> <img src=\"fig13_1.jpg\" alt=\"jpg_python\" width=\"800\" height=\"\"> </center>"
   ]
  },
  {
   "cell_type": "markdown",
   "id": "65438f44",
   "metadata": {},
   "source": [
    "##### <font color='blue'> Solução"
   ]
  },
  {
   "cell_type": "markdown",
   "id": "cede797b",
   "metadata": {},
   "source": [
    "<font color='blue'> $F$ e $G$ são árvores, porque ambos são grafos conectados sem circuitos simples. $H$ não é uma árvore pois $a,b,d,c,a$ é um circuito simples neste grafo. Finalmente, $I$ não é uma árvore pois não é conexos (componentes $I_{1} = \\{a,b,c,f\\}$ e $I_{2} = \\{d,e,g\\}$)."
   ]
  },
  {
   "cell_type": "markdown",
   "id": "0fdbc70a",
   "metadata": {},
   "source": [
    "#### <font color='red'> Teorema 1 </font>"
   ]
  },
  {
   "cell_type": "markdown",
   "id": "0cdc00bc",
   "metadata": {},
   "source": [
    "<font color='red'> Um grafo não orientado é uma árvore se, e somente se, houver um caminho simples e único entre dois dos seus vértices."
   ]
  },
  {
   "cell_type": "markdown",
   "id": "01910658",
   "metadata": {},
   "source": [
    "## <div style=\"margin-top: -20px;\">\n",
    "<hr style=\"border: 2px solid black;\">\n",
    "\n",
    "<font color='black'><span style=\"font-size: 18px;\"><strong>13.1.1 Florestas</strong></span></font>\n",
    "\n",
    "<hr style=\"border: 2px solid black;\">\n",
    "</div>"
   ]
  },
  {
   "cell_type": "markdown",
   "id": "2ddceeec",
   "metadata": {},
   "source": [
    "Qualquer grafo conexo que não contenha circuitos simples é uma árvore. E os grafos que não contêm circuitos simples que não estão necessariamente conectados? Esses grafos são chamados de **florestas** e possuem a propriedade de que cada um de seus componentes conectados é uma árvore. A figura dada no **Exemplo 2**, a seguir, representa uma floresta.\n"
   ]
  },
  {
   "cell_type": "markdown",
   "id": "b3bf9f10",
   "metadata": {},
   "source": [
    "#### <font color='blue'> Exemplo 2 </font>"
   ]
  },
  {
   "cell_type": "markdown",
   "id": "777ed814",
   "metadata": {},
   "source": [
    "<font color='blue'> O grafo a seguir representa uma floresta:<br><br>\n",
    " <center> <img src=\"fig13_2.jpg\" alt=\"jpg_python\" width=\"250\" height=\"\"> </center><br>\n",
    "Note que o grafo $G$ é composto por duas árvores $G_{1} =\\{a,b,c,d,e,f\\}$ e $G_{2} = \\{g,h,i,j,k\\}$. Observe que a \"caixa\" ao redor das árvores $G_{1}$ e $G_{2}$ serve apenas para delimitar as componentes uma vez que trata-se de um grafo desconexo."
   ]
  },
  {
   "cell_type": "markdown",
   "id": "672cd525",
   "metadata": {},
   "source": [
    "# <div style=\"margin-top: -20px;\">\n",
    "<hr style=\"border: 2px solid black;\">\n",
    "\n",
    "<font color='black'><span style=\"font-size: 22px;\"><strong>13.2 Árvores Enraizadas</strong></span></font>\n",
    "\n",
    "<hr style=\"border: 2px solid black;\">\n",
    "</div>"
   ]
  },
  {
   "cell_type": "markdown",
   "id": "ab33f472",
   "metadata": {},
   "source": [
    "Em muitas aplicações de árvores, um determinado vértice de uma árvore é designado como raiz. Uma vez que especificamos uma raiz, podemos atribuir uma direção a cada aresta da seguinte maneira. Como existe um caminho único da raiz para cada vértice do grafo (pelo **Teorema 1**, direcionamos cada borda para fora da raiz). Assim, uma árvore junto com sua raiz produz um grafo direcionado chamado árvore enraizada."
   ]
  },
  {
   "cell_type": "markdown",
   "id": "c1159596",
   "metadata": {},
   "source": [
    "#### <font color='red'> Definição 2 </font>"
   ]
  },
  {
   "cell_type": "markdown",
   "id": "a05cb751",
   "metadata": {},
   "source": [
    "<font color='red'> Uma **árvore com raiz** é uma árvore na qual um vértice foi designado como raiz e toda aresta é orientada para longe da raiz."
   ]
  },
  {
   "cell_type": "markdown",
   "id": "9573e0c2",
   "metadata": {},
   "source": [
    "#### Terminologias"
   ]
  },
  {
   "cell_type": "markdown",
   "id": "52718ce7",
   "metadata": {},
   "source": [
    "É costume se fazer alguma analogia entre a botânica e árvores genealógica com alguns elementos que compõe as árvores. Consideremos uma árvore enraizada $T$ com  raiz. Diremos que o **pai** de um vértice $v$, diferente da raiz, é o único vértice $u$ de $T$ tal que existe uma única aresta orientada de $u$ para $v$. Obviamente, se $u$ é o pai de $v$, então $v$ é o **filho** de $u$. Vértices com um mesmo pai são ditos **irmãos**. Os **ancestrais** de um vértice diferente da raiz são os vértices no caminho da raiz para este vértice, excluindo o próprio vértice e incluindo a raiz. Os **descendentes** de um vértice $v$ são aqueles vértices que possuem $v$ como ancestral. Um vértice de uma árvore com raiz é chamado de **folha** se não tiver filhos. Vértices que têm filhos são chamados **vértices internos**. A raiz é um vértice interno, a menos que seja o único vértice no grafo, caso em que é uma folha."
   ]
  },
  {
   "cell_type": "markdown",
   "id": "f8b9cc7c",
   "metadata": {},
   "source": [
    "#### <font color='blue'> Exemplo 3 </font>"
   ]
  },
  {
   "cell_type": "markdown",
   "id": "fdcdefad",
   "metadata": {},
   "source": [
    "<font color='blue'> Na árvore enraizada $T$ (com raiz $a$) mostrada a seguir, encontre o pai de $e$, os filhos de $d$, os irmãos de $b$, todos os ancestrais de $j$, todos descendentes de $c$, todos os vértices internos e todas as folhas.<br><br>\n",
    " <center> <img src=\"fig13_3.jpg\" alt=\"jpg_python\" width=\"250\" height=\"\"> </center>"
   ]
  },
  {
   "cell_type": "markdown",
   "id": "fc2ff190",
   "metadata": {},
   "source": [
    "##### <font color='blue'> Solução"
   ]
  },
  {
   "cell_type": "markdown",
   "id": "37b89580",
   "metadata": {},
   "source": [
    "<font color='blue'> O pai de $e$ é $c$. Os filhos de $d$ são $g$ e $h$. Os irmãos de $b$ são $c$ e $d$. Os ancestrais de $j$ são $a$, $c$ e $e$. Os descendentes de $c$ são $e$, $f$, $i$ e $j$. Os vértices internos são $a$, $c$, $d$, e $e$. As folhas são $b$, $f$, $g$, $h$, $i$ e $j$."
   ]
  },
  {
   "cell_type": "markdown",
   "id": "4a1e1094",
   "metadata": {},
   "source": [
    "#### <font color='red'> Definição 3 </font>"
   ]
  },
  {
   "cell_type": "markdown",
   "id": "6a1e1db2",
   "metadata": {},
   "source": [
    "<font color='red'> Uma árvore com raiz é chamada de **árvore de grau $m$** se cada vértice interno não tiver mais que $m$ filhos. A árvore de grau $m$ é dita **$m$-cheia** se cada vértice interno tiver exatamente $m$ filhos. Uma árvore de grau $2$ é chamada de binária."
   ]
  },
  {
   "cell_type": "markdown",
   "id": "a3fb58e8",
   "metadata": {},
   "source": [
    "#### <font color='blue'> Exemplo 4 </font>"
   ]
  },
  {
   "cell_type": "markdown",
   "id": "b04f5e3c",
   "metadata": {},
   "source": [
    "<font color='blue'> Considere as árvores enraizadas $T_{1}$, $T_{2}$ e $T_{3}$ com raízes $a$, $g$ e $n$, apresentadas na figura a seguir.<br><br>\n",
    " <center> <img src=\"fig13_4.jpg\" alt=\"jpg_python\" width=\"600\" height=\"\"> </center><br>\n",
    " Classifique-as segundo a **Definição 3.**"
   ]
  },
  {
   "cell_type": "markdown",
   "id": "e051dfd9",
   "metadata": {},
   "source": [
    "##### <font color='blue'> Solução"
   ]
  },
  {
   "cell_type": "markdown",
   "id": "ed327c71",
   "metadata": {},
   "source": [
    "<font color='blue'> $T_{1}$ é uma árvore ternária não cheia pois, o vértice $a$ possui $3$ filhos (vértice interno com o maior número de filhos) mas o vértice $c$ possui apenas dois filhos. $T_{2}$ é uma árvore binária cheia pois, cada um dos seus vértices internos tem dois filhos. Em $T_{3}$ cada vértice interno tem três filhos e, portanto, $T_{3}$ é uma árvore ternária cheia."
   ]
  },
  {
   "cell_type": "markdown",
   "id": "3fa5f110",
   "metadata": {},
   "source": [
    "# <div style=\"margin-top: -20px;\">\n",
    "<hr style=\"border: 2px solid black;\">\n",
    "\n",
    "<font color='black'><span style=\"font-size: 22px;\"><strong>13.3 Exercícios</strong></span></font>\n",
    "\n",
    "<hr style=\"border: 2px solid black;\">\n",
    "</div>"
   ]
  },
  {
   "cell_type": "markdown",
   "id": "cefa3c75",
   "metadata": {},
   "source": [
    "#### Exercício 1"
   ]
  },
  {
   "cell_type": "markdown",
   "id": "f467d038",
   "metadata": {},
   "source": [
    "Identifique quais dos grafos $F$, $G$ e $H$ a seguir são árvores, florestas ou nenhum. Justifique.<br><br>\n",
    " <center> <img src=\"fig13_5.jpg\" alt=\"jpg_python\" width=\"600\" height=\"\"> </center><br>"
   ]
  },
  {
   "cell_type": "markdown",
   "id": "68ce046d",
   "metadata": {},
   "source": [
    "#### Exercício 2"
   ]
  },
  {
   "cell_type": "markdown",
   "id": "1da5b469",
   "metadata": {},
   "source": [
    "Considerando os grafos dados no **Exercício 1** transforme os grafos que não são uma árvore em uma pela adição ou exclusão de uma única aresta."
   ]
  },
  {
   "cell_type": "markdown",
   "id": "d7e051b9",
   "metadata": {},
   "source": [
    "#### Exercício 3"
   ]
  },
  {
   "cell_type": "markdown",
   "id": "7b73fd37",
   "metadata": {},
   "source": [
    "Desenhe, se possível, as árvores solicitadas.\n",
    "\n",
    "a) Uma árvore com $5$ vértices internos e $8$ folhas.\n",
    "\n",
    "b) Uma árvore contendo $3$ pais e $8$ filhos."
   ]
  },
  {
   "cell_type": "markdown",
   "id": "021ba8b5",
   "metadata": {},
   "source": [
    "#### Exercício 4"
   ]
  },
  {
   "cell_type": "markdown",
   "id": "92136c1b",
   "metadata": {},
   "source": [
    "Dada a árvore enraizada $T$ com raiz $a$<br><br>\n",
    " <center> <img src=\"fig13_6.jpg\" alt=\"jpg_python\" width=\"230\" height=\"\"> </center><br>\n",
    "determine:\n",
    "\n",
    "a) os filhos de $i$\n",
    "\n",
    "b) o pai de $g$\n",
    "\n",
    "c) os ancestrais de $l$\n",
    "\n",
    "d) os descendentes de $h$\n",
    "\n",
    "e) os vértices internos\n",
    "\n",
    "f) as folhas"
   ]
  },
  {
   "cell_type": "markdown",
   "id": "11ed12fb",
   "metadata": {},
   "source": [
    "#### Exercício 5"
   ]
  },
  {
   "cell_type": "markdown",
   "id": "6e66bb37",
   "metadata": {},
   "source": [
    "Desenhe, se possível, as árvores solicitadas.\n",
    "\n",
    "a) Uma árvore ternária completa com $3$ filhos e $9$ folhas.\n",
    "\n",
    "b) Uma árvore binária completa $6$ vértices internos e $11$ arestas."
   ]
  },
  {
   "cell_type": "markdown",
   "id": "d52ee48a",
   "metadata": {},
   "source": [
    "## <div style=\"margin-top: -20px;\">\n",
    "<hr style=\"border: 2px solid black;\">\n",
    "\n",
    "<font color='black'><span style=\"font-size: 18px;\"><strong>Respostas</strong></span></font>\n",
    "\n",
    "<hr style=\"border: 2px solid black;\">\n",
    "</div>"
   ]
  },
  {
   "cell_type": "markdown",
   "id": "08aa690c",
   "metadata": {},
   "source": [
    "#### Respostas do Exercício 1"
   ]
  },
  {
   "cell_type": "markdown",
   "id": "185ea011",
   "metadata": {},
   "source": [
    "a) Não é árvore, b) É árvore, c) É floresta."
   ]
  },
  {
   "cell_type": "markdown",
   "id": "a9c59a82",
   "metadata": {},
   "source": [
    "#### Respostas do Exercício 2"
   ]
  },
  {
   "cell_type": "markdown",
   "id": "63314ca2",
   "metadata": {},
   "source": [
    "a) Exclusão da aresta $\\{c,f\\}$, c) Adição da aresta $\\{o,n\\}$."
   ]
  },
  {
   "cell_type": "markdown",
   "id": "0b772ed9",
   "metadata": {},
   "source": [
    "#### Respostas do Exercício 3"
   ]
  },
  {
   "cell_type": "markdown",
   "id": "ace85f4e",
   "metadata": {},
   "source": [
    "<center> <img src=\"fig13_7.jpg\" alt=\"jpg_python\" width=\"700\" height=\"\"> </center><br>"
   ]
  },
  {
   "cell_type": "markdown",
   "id": "cb2c06d6",
   "metadata": {},
   "source": [
    "#### Respostas do Exercício 4"
   ]
  },
  {
   "cell_type": "markdown",
   "id": "32f7d218",
   "metadata": {},
   "source": [
    "a) $j$, $k$ e $l$; b) $c$; c) $a$, $d$, $h$ e $i$; d) $i$, $j$, $k$ e $l$; e) $a$, $b$, $c$, $d$, $h$ e $i$; f) $e$, $f$, $g$, $j$, $k$, $l$."
   ]
  },
  {
   "cell_type": "markdown",
   "id": "93aaa558",
   "metadata": {},
   "source": [
    "#### Respostas do Exercício 5"
   ]
  },
  {
   "cell_type": "markdown",
   "id": "bade6cb1",
   "metadata": {},
   "source": [
    "<center> <img src=\"fig13_8.jpg\" alt=\"jpg_python\" width=\"450\" height=\"\"> </center><br>"
   ]
  },
  {
   "cell_type": "markdown",
   "id": "77040c68",
   "metadata": {},
   "source": [
    "# <div style=\"margin-top: -20px;\">\n",
    "<hr style=\"border: 2px solid black;\">\n",
    "\n",
    "<font color='black'><span style=\"font-size: 22px;\"><strong>13.4 Vídeo Aulas</strong></span></font>\n",
    "\n",
    "<hr style=\"border: 2px solid black;\">\n",
    "</div>"
   ]
  },
  {
   "cell_type": "markdown",
   "id": "a22169bb",
   "metadata": {},
   "source": [
    "Clicando nos links a seguir você será redirecionado às aulas referentes a este capítulo.\n",
    "\n",
    "[Introdução ao Estudo de Árvores](https://youtu.be/o7Xs3v48wF4)\n",
    "\n",
    "[Árvores Enraizadas](https://youtu.be/3wCk_c1aGy0)\n",
    "\n",
    "[Grau de Uma Árvore Enraizada](https://youtu.be/MntlZEk0yYw)"
   ]
  },
  {
   "cell_type": "markdown",
   "id": "72581701",
   "metadata": {},
   "source": [
    "# <div style=\"margin-top: -20px;\">\n",
    "<hr style=\"border: 2px solid black;\">\n",
    "\n",
    "<font color='black'><span style=\"font-size: 22px;\"><strong>13.5 No Computador (Experimental)</strong></span></font>\n",
    "\n",
    "<hr style=\"border: 2px solid black;\">\n",
    "</div>"
   ]
  },
  {
   "cell_type": "markdown",
   "id": "cce5f042",
   "metadata": {},
   "source": [
    "***Observação**: Devido a alta demanda de trabalho nas últimas semanas não tive tempo suficiente para testar os códigos a seguir. Alguns deles podem apresentar saídas incorretas!*"
   ]
  },
  {
   "cell_type": "markdown",
   "id": "9f233b56",
   "metadata": {},
   "source": [
    "Para os exemplos a seguir utilizamos os grafos \"G\", \"H\" e \"I\"dados no **Exemplo 1**."
   ]
  },
  {
   "cell_type": "code",
   "execution_count": 2,
   "id": "019be255",
   "metadata": {
    "ExecuteTime": {
     "end_time": "2023-08-28T02:33:32.701776Z",
     "start_time": "2023-08-28T02:33:32.690781Z"
    }
   },
   "outputs": [],
   "source": [
    "# Considere inserir as arestas considerando (pai,filho)\n",
    "\n",
    "grafo_G = [('a','c'), ('a','d'), ('a','e'), ('b','f'), ('c','g'), ('g','b')]\n",
    "\n",
    "grafo_H = [('a','b'), ('a','c'), ('a','e'), ('a','f'), ('b','d'), ('c','d')]\n",
    "\n",
    "grafo_I = [('a','b'), ('b','c'), ('c','f'), ('d','e'), ('e','g')]"
   ]
  },
  {
   "cell_type": "markdown",
   "id": "38d0d22e",
   "metadata": {},
   "source": [
    "Confira os desenhos dos grafos a seguir:"
   ]
  },
  {
   "cell_type": "code",
   "execution_count": 7,
   "id": "8ba981c5",
   "metadata": {},
   "outputs": [
    {
     "data": {
      "image/png": "[encoded data removed]",
      "text/plain": [
       "<Figure size 640x480 with 1 Axes>"
      ]
     },
     "metadata": {},
     "output_type": "display_data"
    }
   ],
   "source": [
    "import networkx as nx\n",
    "import matplotlib.pyplot as plt\n",
    "\n",
    "# Gerando o grafo\n",
    "G = nx.Graph()\n",
    "\n",
    "# Adicionando arestas ao grafo\n",
    "G.add_edges_from(grafo_G) # Repasse para os grafos grafo_H e grafo_I\n",
    "\n",
    "# Desenho do grafo\n",
    "pos = nx.spring_layout(G)  # Posicionamento dos vértices\n",
    "nx.draw(G, pos, with_labels=True, font_weight='bold', font_color='white')\n",
    "\n",
    "# Exibição do desenho\n",
    "plt.show()"
   ]
  },
  {
   "cell_type": "markdown",
   "id": "84ef8063",
   "metadata": {},
   "source": [
    "##### Verificando se um grafo é uma árvore"
   ]
  },
  {
   "cell_type": "code",
   "execution_count": 8,
   "id": "1d830833",
   "metadata": {},
   "outputs": [
    {
     "name": "stdout",
     "output_type": "stream",
     "text": [
      "True\n"
     ]
    }
   ],
   "source": [
    "import networkx as nx\n",
    "\n",
    "G = nx.Graph()\n",
    "G.add_edges_from(grafo_G) # Repasse para os grafos grafo_H e grafo_I\n",
    "\n",
    "is_tree = nx.is_tree(G)\n",
    "print(is_tree)"
   ]
  },
  {
   "cell_type": "markdown",
   "id": "eb4b0238",
   "metadata": {},
   "source": [
    "##### Determinando as folhas e os vértices internos em uma árvore"
   ]
  },
  {
   "cell_type": "code",
   "execution_count": 9,
   "id": "26cd47fb",
   "metadata": {},
   "outputs": [
    {
     "name": "stdout",
     "output_type": "stream",
     "text": [
      "Vértices Internos: ['a', 'c', 'b', 'g']\n",
      "Folhas: ['d', 'e', 'f']\n"
     ]
    }
   ],
   "source": [
    "import networkx as nx\n",
    "\n",
    "# Crie um grafo de exemplo (uma árvore)\n",
    "G = nx.DiGraph()  # Usando DiGraph para criar uma árvore direcionada\n",
    "G.add_edges_from(grafo_G)\n",
    "\n",
    "if nx.is_tree(G) == True:\n",
    "    # Vértices internos são os nós com mais de um filho\n",
    "    internal_nodes = [node for node in G.nodes() if G.degree(node) > 1]\n",
    "\n",
    "    # Folhas são os nós com exatamente um filho ou nenhum filho\n",
    "    leaves = [node for node in G.nodes() if G.degree(node) <= 1]\n",
    "\n",
    "    print(\"Vértices Internos:\", internal_nodes)\n",
    "    print(\"Folhas:\", leaves)\n",
    "else:\n",
    "    print(\"O grafo não é uma árvore.\")"
   ]
  },
  {
   "cell_type": "markdown",
   "id": "03a91ad0",
   "metadata": {},
   "source": [
    "##### Determinando o pai, os filhos, os ancestrais e os descendentes de um vértice em uma árvore"
   ]
  },
  {
   "cell_type": "code",
   "execution_count": 10,
   "id": "ec6e079e",
   "metadata": {},
   "outputs": [
    {
     "name": "stdout",
     "output_type": "stream",
     "text": [
      "Vértice de Interesse: g\n",
      "Pais: ['c']\n",
      "Filhos: ['b']\n",
      "Ancestrais: ['a', 'c']\n",
      "Descendentes: ['b', 'f']\n"
     ]
    }
   ],
   "source": [
    "import networkx as nx\n",
    "\n",
    "# Crie um grafo de exemplo (uma árvore)\n",
    "G = nx.DiGraph()  # Usando DiGraph para criar uma árvore direcionada\n",
    "G.add_edges_from(grafo_G)\n",
    "\n",
    "if nx.is_tree(G) == True:\n",
    "    # Função para encontrar pais, filhos, ancestrais e descendentes de um vértice\n",
    "    def find_relationships(graph, node):\n",
    "        parents = list(graph.predecessors(node))\n",
    "        children = list(graph.successors(node))\n",
    "        ancestors = list(nx.ancestors(graph, node))\n",
    "        descendants = list(nx.descendants(graph, node))\n",
    "        return parents, children, ancestors, descendants\n",
    "\n",
    "    # Vértice de interesse\n",
    "    vertex_of_interest = 'g'\n",
    "\n",
    "    # Encontre as relações para o vértice de interesse\n",
    "    parents, children, ancestors, descendants = find_relationships(G, vertex_of_interest)\n",
    "\n",
    "    # Exiba os resultados\n",
    "    print(\"Vértice de Interesse:\", vertex_of_interest)\n",
    "    print(\"Pais:\", parents)\n",
    "    print(\"Filhos:\", children)\n",
    "    print(\"Ancestrais:\", ancestors)\n",
    "    print(\"Descendentes:\", descendants)\n",
    "\n",
    "else:\n",
    "    print(\"O grafo não é uma árvore.\")\n"
   ]
  },
  {
   "cell_type": "markdown",
   "id": "ea728890",
   "metadata": {},
   "source": [
    "##### Determinando o grau de uma árvore e verificando se a mesma é cheia"
   ]
  },
  {
   "cell_type": "code",
   "execution_count": 11,
   "id": "0b81b04b",
   "metadata": {},
   "outputs": [
    {
     "name": "stdout",
     "output_type": "stream",
     "text": [
      "Grau da Árvore: 3\n",
      "A árvore não é cheia.\n"
     ]
    }
   ],
   "source": [
    "import networkx as nx\n",
    "\n",
    "# Crie um grafo de exemplo (uma árvore)\n",
    "G = nx.DiGraph()\n",
    "G.add_edges_from(grafo_G)\n",
    "\n",
    "# Calcule o grau da árvore (máximo grau dos nós internos)\n",
    "internal_nodes = [node for node in G.nodes() if G.out_degree(node) > 0]\n",
    "degree_of_tree = max(G.out_degree(internal_nodes), key=lambda x: x[1])[1]\n",
    "\n",
    "# Verifique se a árvore é cheia\n",
    "is_full_tree = all(G.out_degree(node) == degree_of_tree for node in internal_nodes)\n",
    "\n",
    "print(\"Grau da Árvore:\", degree_of_tree)\n",
    "if is_full_tree:\n",
    "    print(\"A árvore é cheia.\")\n",
    "else:\n",
    "    print(\"A árvore não é cheia.\")"
   ]
  },
  {
   "cell_type": "markdown",
   "id": "8792277f",
   "metadata": {},
   "source": [
    "Nenhum dos grafos usados como exemplo é uma árvore cheia ($H$ e $I$ nem mesmo são árvores). Neste caso, compile a célula a seguir e repasse-o para o grafo_J:"
   ]
  },
  {
   "cell_type": "code",
   "execution_count": 12,
   "id": "09049ecf",
   "metadata": {},
   "outputs": [
    {
     "data": {
      "image/png": "[encoded data removed]",
      "text/plain": [
       "<Figure size 640x480 with 1 Axes>"
      ]
     },
     "metadata": {},
     "output_type": "display_data"
    }
   ],
   "source": [
    "# Considere inserir as arestas considerando (pai,filho)\n",
    "\n",
    "grafo_J = [('a','b'), ('a','c'), ('a','d'), ('b','e'), ('b','f'), ('b','g'),]\n",
    "\n",
    "# Crie um grafo de exemplo (uma árvore)\n",
    "G = nx.Graph()  # Usando DiGraph para criar uma árvore direcionada\n",
    "G.add_edges_from(grafo_J)\n",
    "\n",
    "# Desenho do grafo\n",
    "pos = nx.spring_layout(G)  # Posicionamento dos vértices\n",
    "nx.draw(G, pos, with_labels=True, font_weight='bold', font_color='white')\n",
    "\n",
    "# Exibição do desenho\n",
    "plt.show()\n"
   ]
  },
  {
   "cell_type": "markdown",
   "id": "f1e5dd46",
   "metadata": {},
   "source": [
    "##### Gerando uma árvore aleatória com n vértices"
   ]
  },
  {
   "cell_type": "code",
   "execution_count": 13,
   "id": "958256e3",
   "metadata": {},
   "outputs": [
    {
     "name": "stdout",
     "output_type": "stream",
     "text": [
      "[(0, 2), (0, 3), (0, 5), (1, 4), (1, 3)]\n"
     ]
    },
    {
     "data": {
      "image/png": "[encoded data removed]",
      "text/plain": [
       "<Figure size 640x480 with 1 Axes>"
      ]
     },
     "metadata": {},
     "output_type": "display_data"
    }
   ],
   "source": [
    "import networkx as nx\n",
    "import matplotlib.pyplot as plt\n",
    "\n",
    "G = nx.Graph()\n",
    "random_tree = nx.random_tree(6)\n",
    "\n",
    "# Exibindo as arestas da árvore\n",
    "print(random_tree.edges())\n",
    "\n",
    "# Desenho do grafo\n",
    "pos = nx.spring_layout(random_tree)  # Posicionamento dos vértices\n",
    "nx.draw(random_tree, pos, with_labels=True, font_weight='bold', font_color='white')\n",
    "\n",
    "# Exibição do desenho\n",
    "plt.show()\n"
   ]
  }
 ],
 "metadata": {
  "kernelspec": {
   "display_name": "Python 3 (ipykernel)",
   "language": "python",
   "name": "python3"
  },
  "language_info": {
   "codemirror_mode": {
    "name": "ipython",
    "version": 3
   },
   "file_extension": ".py",
   "mimetype": "text/x-python",
   "name": "python",
   "nbconvert_exporter": "python",
   "pygments_lexer": "ipython3",
   "version": "3.11.5"
  },
  "varInspector": {
   "cols": {
    "lenName": 16,
    "lenType": 16,
    "lenVar": 40
   },
   "kernels_config": {
    "python": {
     "delete_cmd_postfix": "",
     "delete_cmd_prefix": "del ",
     "library": "var_list.py",
     "varRefreshCmd": "print(var_dic_list())"
    },
    "r": {
     "delete_cmd_postfix": ") ",
     "delete_cmd_prefix": "rm(",
     "library": "var_list.r",
     "varRefreshCmd": "cat(var_dic_list()) "
    }
   },
   "types_to_exclude": [
    "module",
    "function",
    "builtin_function_or_method",
    "instance",
    "_Feature"
   ],
   "window_display": false
  }
 },
 "nbformat": 4,
 "nbformat_minor": 5
}
