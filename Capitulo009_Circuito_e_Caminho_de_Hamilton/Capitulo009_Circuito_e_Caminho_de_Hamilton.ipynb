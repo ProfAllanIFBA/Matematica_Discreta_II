{
 "cells": [
  {
   "cell_type": "markdown",
   "id": "ce33096c",
   "metadata": {},
   "source": [
    "<center> <img src=\"logo_ifba.jpg\" alt=\"jpg_python\" width=\"100\" height=\"200\"> </center>\n",
    "<br><br>\n",
    "<div align=\"center\"><span style=\"font-size: 26px;\"><strong>Matemática Discreta II <br></strong></span></div> <br>\n",
    "<center> <img src=\"python_gif.gif\" alt=\"gif_python\" width=\"80\"> </center>"
   ]
  },
  {
   "cell_type": "markdown",
   "id": "c5073180",
   "metadata": {},
   "source": [
    "<div style=\"border: 2px solid black; padding: 10px; width: 95%; background-color: lightgray; display: flex; align-items: center;\">\n",
    "    <h1 style=\"color: red; text-align: center; margin: auto;\">\n",
    "        Capítulo 9: Circuito e Caminho de Hamilton\n",
    "    </h1>\n",
    "</div>\n",
    "\n",
    "<font color='red'></font>\n",
    "<a href=\"\"></a>"
   ]
  },
  {
   "cell_type": "markdown",
   "id": "9e9c75ab",
   "metadata": {},
   "source": [
    "Um outro problema interessante na teoria dos grafos propõe um desafio cativante: será possível, partindo de um vértice, caminhar por todos os vértices de um grafo, retornando ou não ao ponto inicial, de modo que cada vértice seja visitado exatamente uma vez? Este é o enigma dos caminhos e circuitos de Hamilton. Diferente dos circuitos de Euler, que focam nas arestas, os caminhos e circuitos hamiltonianos voltam-se para os vértices. Mas, em um universo tão vasto e diversificado de grafos, quais são as características e condições que permitem a existência desses caminhos e circuitos? Este capítulo irá mergulhar nos mistérios e propriedades dos circuitos e caminhos de Hamilton, desvendando um dos aspectos mais enigmáticos e profundos da teoria dos grafos."
   ]
  },
  {
   "cell_type": "markdown",
   "id": "b409060e",
   "metadata": {},
   "source": [
    "# <div style=\"margin-top: -20px;\">\n",
    "<hr style=\"border: 2px solid black;\">\n",
    "\n",
    "<font color='black'><span style=\"font-size: 22px;\"><strong>9.1 Resultados Sobre a Existência de Circuitos de Hamilton</strong></span></font>\n",
    "\n",
    "<hr style=\"border: 2px solid black;\">\n",
    "</div>"
   ]
  },
  {
   "cell_type": "markdown",
   "id": "f4b2f9be",
   "metadata": {},
   "source": [
    "Apresentamos condições necessárias e suficientes para a existência de caminhos e circuitos que contêm cada borda de um multigrafo exatamente uma vez. Podemos fazer o mesmo para caminhos e circuitos simples que contêm todos os vértices do grafo exatamente uma vez? Infelizmente, não. A busca pela existência de circuitos desta natureza é algo relativamente difícil quando comparada à procura por circuitos ou caminhos de Euler (**Capítulo 8**). Apresentaremos alguns resultados a seguir que nos possibilitarão mostrar a existência de circuitos com tais características."
   ]
  },
  {
   "cell_type": "markdown",
   "id": "10434ce0",
   "metadata": {},
   "source": [
    "#### <font color='red'> Definição 1 </font>"
   ]
  },
  {
   "cell_type": "markdown",
   "id": "29a9ad02",
   "metadata": {},
   "source": [
    "<font color='red'> Um caminho simples em um grafo que passa em cada vértice exatamente uma vez é chamado de \\underline{caminho de Hamilton}, e um circuito simples em um grafo $G$ que passa por todos os vértices exatamente uma vez é chamado de circuito de Hamilton. Ou seja, o caminho simples $x_{0}, x_{1},\\ldots , x_{n-1}, x_{n}$ no grafo $G = (V, E)$ é um caminho de Hamilton se $V = \\{x_{0}, x_{1},\\ldots , x_{n-1}, x_{n}\\}$ e $x_{i} \\neq x_{j}$ para $0 \\leq i < j \\leq n$, e o circuito simples $x_{0}, x_{1},\\ldots , x_{n-1}, x_{n}, x_{0}$ (com $n > 0$) é um circuito de Hamilton se $x_{0}, x_{1},\\ldots , x_{n-1}, x_{n}$ é um caminho de Hamilton."
   ]
  },
  {
   "cell_type": "markdown",
   "id": "6ff9f539",
   "metadata": {},
   "source": [
    "#### <font color='blue'> Exemplo 1 </font>"
   ]
  },
  {
   "cell_type": "markdown",
   "id": "a7cafcb0",
   "metadata": {},
   "source": [
    "<font color='blue'> Quais dos grafos simples na Figura têm um circuito Hamilton ou, se não, um caminho Hamilton?\n",
    " <center> <img src=\"fig9_1.jpg\" alt=\"jpg_python\" width=\"650\" height=\"\"> </center>\n"
   ]
  },
  {
   "cell_type": "markdown",
   "id": "c5d73746",
   "metadata": {},
   "source": [
    "##### <font color='blue'> Solução </font>"
   ]
  },
  {
   "cell_type": "markdown",
   "id": "4ca1a913",
   "metadata": {},
   "source": [
    "<font color='blue'> O grafo $F$ possui um circuito de Hamilton dado por $a,b,c,d,e,a$. O grafo $G$ não possui circuito ou caminho de Hamilton. O grafo $H$ possui um circuito de Hamilton $u,s,t,v,w,r,u$. O grafo $I$ possui um caminho de Hamilton $o, p, m, n, q$."
   ]
  },
  {
   "cell_type": "markdown",
   "id": "6f9ed622",
   "metadata": {},
   "source": [
    "#### <font color='red'> Teorema 1 </font>"
   ]
  },
  {
   "cell_type": "markdown",
   "id": "e750383b",
   "metadata": {},
   "source": [
    "<font color='red'> Se $G$ é um grafo simples com $n$ vértices com $n \\geq 3$ tais que o grau de todos os vértices em $G$ é pelo menos $\\frac{n}{2}$, então $G$ tem um circuito de Hamilton."
   ]
  },
  {
   "cell_type": "markdown",
   "id": "ad53f519",
   "metadata": {},
   "source": [
    "#### <font color='red'> Teorema 2 </font>"
   ]
  },
  {
   "cell_type": "markdown",
   "id": "cc3b25d8",
   "metadata": {},
   "source": [
    "<font color='red'> Se $G$ é um grafo simples com $n$ vértices, $n \\geq 3$ tais que $deg(u) + deg(v) \\geq n$ para cada par de vértices não adjacentes $u$ e $v$ em $G$, então $G$ tem um circuito de Hamilton."
   ]
  },
  {
   "cell_type": "markdown",
   "id": "b3f3edde",
   "metadata": {},
   "source": [
    "#### <font color='blue'> Exemplo 2 </font>"
   ]
  },
  {
   "cell_type": "markdown",
   "id": "26d8feaa",
   "metadata": {},
   "source": [
    "<font color='blue'> Voltando ao **Exemplo 1** temos que, o grafo $F$ é tal que a soma dos graus de todos vértices não adjacentes é maior ou igual a $5$ (neste caso, somente igual). De fato, os únicos pares não adjacentes são o par $a$ e $c$ e o par $a$ e $d$ donde temos $deg(a) + deg(c) = deg(a) + deg(d) = 5$. Portanto o **Teorema 2** assegura a existência de um circuito de Hamilton. Note que o **Teorema 1** não pode ser aplicado pois, $deg(a) = 2 < \\frac{5}{2}$; O grafo $H$ é tal que cada vértice possui grau superior a $\\frac{6}{2}$ e portanto o **Teorema 1** assegura a existência de um circuito de Hamilton, note que o **Teorema 2** também se aplica ao grafo $H$ para mostrar a existência de um circuito de Hamilton pois, a soma de não adjacentes é superior a $6$ (verifique os pares, $r$ e $t$, $u$ e $v$ e por fim $u$ e $w$. Note que nenhum dos **Teoremas 1** e **2** se aplica aos grafos $G$ e $I$."
   ]
  },
  {
   "cell_type": "markdown",
   "id": "bf41cfad",
   "metadata": {},
   "source": [
    "#### <font color='green'> Palavras dos Mestres </font>"
   ]
  },
  {
   "cell_type": "markdown",
   "id": "48fd0ed3",
   "metadata": {},
   "source": [
    "<font color='green'> Há uma grande diferença entre a comprovação da existência de circuitos (ou caminhos) de Euler e  circuitos (ou caminhos) de Hamilton. No primeiro caso, temos teoremas do tipo \"... se, e somente,...\" e no segundo caso, teoremas do tipo \"Se...,então...\". Teoremas do tipo \"...se e somente se...\" são, em geral, muito potentes quando comparados os \"Se..., então...\". No caso da comprovação da existência de circuitos ou caminhos de Euler acredito que não há qualquer dúvida até mesmo nos grafos mais complexos. Uma busca rápida identifica a existência ou não de tais estruturas. Por outro lado, a comprovação da existência de um circuito de Hamilton se mostrou mais aberta ao passo que nem todo grafo atende a pelo menos um dos dois teoremas dados. Além disso é possível que exista um circuito de Hamilton em um grafo mesmo que nenhum dos dois teoremas dados tenha hipóteses satisfeitas. Para ver isto basta tomar, por exemplo, o ciclo $C_{6}$. Nele todos os vértices tem grau $2$ que é menor que $\\frac{6}{2}$ (**Teorema 1** não se aplica) e também, a soma de não adjacentes é igual $4$ (**Teorema 2** não se aplica). Ao final do **Exemplo 2** afirmamos que os **Teoremas 1** e **2** não se aplicam aos grafos $G$ e $I$. O que isso significa? Na verdade as condições da hipótese (antes do \"então\") não são verificadas. Portanto somente por inspeção ou usando outros resultados podemos ter certeza se existem ou não circuitos de Hamilton. *Muito cuidado com teoremas!*"
   ]
  },
  {
   "cell_type": "markdown",
   "id": "3fa5f110",
   "metadata": {},
   "source": [
    "# <div style=\"margin-top: -20px;\">\n",
    "<hr style=\"border: 2px solid black;\">\n",
    "\n",
    "<font color='black'><span style=\"font-size: 22px;\"><strong>9.2 Exercícios</strong></span></font>\n",
    "\n",
    "<hr style=\"border: 2px solid black;\">\n",
    "</div>"
   ]
  },
  {
   "cell_type": "markdown",
   "id": "cefa3c75",
   "metadata": {},
   "source": [
    "#### Exercício 1"
   ]
  },
  {
   "cell_type": "markdown",
   "id": "60b7a1e9",
   "metadata": {},
   "source": [
    "Para cada um dos grafos a seguir, se possível, primeiro determine a existência ou não de um circuito ou caminho de Hamilton. Se existir um exiba-o.\n",
    " <center> <img src=\"fig9_2.jpg\" alt=\"jpg_python\" width=\"600\" height=\"\"> </center>"
   ]
  },
  {
   "cell_type": "markdown",
   "id": "d52ee48a",
   "metadata": {},
   "source": [
    "## <div style=\"margin-top: -20px;\">\n",
    "<hr style=\"border: 2px solid black;\">\n",
    "\n",
    "<font color='black'><span style=\"font-size: 18px;\"><strong>Respostas</strong></span></font>\n",
    "\n",
    "<hr style=\"border: 2px solid black;\">\n",
    "</div>"
   ]
  },
  {
   "cell_type": "markdown",
   "id": "08aa690c",
   "metadata": {},
   "source": [
    "#### Respostas do Exercício 1"
   ]
  },
  {
   "cell_type": "markdown",
   "id": "185ea011",
   "metadata": {},
   "source": [
    "Existe um circuito de Hamilton $a,b,c,d,e,f,g,a$, b) Existe um circuito de Hamilton $k,j,l,m,i,h,k$, c) Não existe circuito ou caminho de Hamilton."
   ]
  },
  {
   "cell_type": "markdown",
   "id": "77040c68",
   "metadata": {},
   "source": [
    "# <div style=\"margin-top: -20px;\">\n",
    "<hr style=\"border: 2px solid black;\">\n",
    "\n",
    "<font color='black'><span style=\"font-size: 22px;\"><strong>9.3 Vídeo Aulas</strong></span></font>\n",
    "\n",
    "<hr style=\"border: 2px solid black;\">\n",
    "</div>"
   ]
  },
  {
   "cell_type": "markdown",
   "id": "a22169bb",
   "metadata": {},
   "source": [
    "Clicando nos links a seguir você será redirecionado às aulas referentes a este capítulo.\n",
    "\n",
    "[Aula 9.1: Circuitos e Caminhos de Hamilton](https://youtu.be/AvAXto1x3GQ)\n",
    "\n",
    "[Aula 9.2: Teoremas Assegurando a Existência de Circuitos de Hamilton](https://youtu.be/3w_hckaV1ws)"
   ]
  },
  {
   "cell_type": "markdown",
   "id": "72581701",
   "metadata": {},
   "source": [
    "# <div style=\"margin-top: -20px;\">\n",
    "<hr style=\"border: 2px solid black;\">\n",
    "\n",
    "<font color='black'><span style=\"font-size: 22px;\"><strong>9.4 No Computador (Experimental)</strong></span></font>\n",
    "\n",
    "<hr style=\"border: 2px solid black;\">\n",
    "</div>"
   ]
  },
  {
   "cell_type": "markdown",
   "id": "e2669ec6",
   "metadata": {
    "ExecuteTime": {
     "end_time": "2023-08-28T02:01:41.637378Z",
     "start_time": "2023-08-28T02:01:41.629398Z"
    }
   },
   "source": [
    "A biblioteca networkx é amplamente utilizada para trabalhar com grafos em Python. Contudo ela não fornece uma função direta para encontrar caminhos ou circuitos de Hamilton. No entanto, a biblioteca fornece uma ampla variedade de funções que podem ajudar a implementar tal busca, se desejado.\n",
    "\n",
    "Para determinar um caminho ou circuito de Hamilton, geralmente é preciso implementar um algoritmo de busca ou alguma heurística, uma vez que o problema é [**NP-completo**](https://www.ime.usp.br/~pf/analise_de_algoritmos/aulas/NPcompleto.html). Um método comum é usar [**backtracking**](https://pt.wikipedia.org/wiki/Backtracking) para tentar encontrar tais caminhos ou circuitos. Vejamos o código a seguir:"
   ]
  },
  {
   "cell_type": "markdown",
   "id": "9f233b56",
   "metadata": {},
   "source": [
    "Para os exemplos a seguir utilizamos os grafos $F$, $G$ e $H$ dados no **Exemplo 1**."
   ]
  },
  {
   "cell_type": "code",
   "execution_count": 1,
   "id": "019be255",
   "metadata": {
    "ExecuteTime": {
     "end_time": "2023-08-28T02:33:32.701776Z",
     "start_time": "2023-08-28T02:33:32.690781Z"
    }
   },
   "outputs": [],
   "source": [
    "grafo_F = [('a','b'), ('a','e'), ('b','c'), ('b','d'), ('b','e'), ('c','d'), ('c','e'), ('d','e')]\n",
    "grafo_G = [('f','g'),('f','h'),('f','j'),('f','k'),('g','h'),('g','i')]\n",
    "grafo_H = [('r','s'), ('r','u'), ('r','v'), ('r','w'), ('s','t'), ('s','u'), ('s','v'),\\\n",
    "           ('s','w'), ('t','u'), ('t','v'), ('t','w'), ('v','w')]\n",
    "grafo_I = [('m','n'), ('m','p'), ('n','o'), ('n','q'), ('o','p')]"
   ]
  },
  {
   "cell_type": "markdown",
   "id": "0d9ef6ab",
   "metadata": {},
   "source": [
    "##### Exibindo um circuito ou caminho de hamilton"
   ]
  },
  {
   "cell_type": "code",
   "execution_count": 10,
   "id": "cfd4fb07",
   "metadata": {
    "ExecuteTime": {
     "end_time": "2023-08-28T02:43:16.767893Z",
     "start_time": "2023-08-28T02:43:16.586380Z"
    }
   },
   "outputs": [
    {
     "name": "stdout",
     "output_type": "stream",
     "text": [
      "Circuito de Hamilton encontrado: ['a', 'b', 'c', 'd', 'e']\n"
     ]
    },
    {
     "data": {
      "image/png": "[encoded data removed]",
      "text/plain": [
       "<Figure size 640x480 with 1 Axes>"
      ]
     },
     "metadata": {},
     "output_type": "display_data"
    }
   ],
   "source": [
    "import networkx as nx\n",
    "import matplotlib.pyplot as plt\n",
    "\n",
    "G = nx.Graph()\n",
    "G.add_edges_from(grafo_F) # Repasse para os grafos grafo_G, grafo_H e grafo_I\n",
    "\n",
    "def hamiltonian_path(G, current_path):\n",
    "    if len(current_path) == len(G.nodes()):\n",
    "        return current_path\n",
    "    for neighbor in G.neighbors(current_path[-1]):\n",
    "        if neighbor not in current_path:\n",
    "            new_path = list(current_path)\n",
    "            new_path.append(neighbor)\n",
    "            extended_path = hamiltonian_path(G, new_path)\n",
    "            if extended_path:\n",
    "                return extended_path\n",
    "    return None\n",
    "\n",
    "def find_hamiltonian_circuit(G):\n",
    "    for node in G.nodes():\n",
    "        circuit = hamiltonian_path(G, [node])\n",
    "        if circuit and circuit[0] in G.neighbors(circuit[-1]):\n",
    "            return circuit\n",
    "    return None\n",
    "\n",
    "def find_hamiltonian_path(G):\n",
    "    for node in G.nodes():\n",
    "        path = hamiltonian_path(G, [node])\n",
    "        if path:\n",
    "            return path\n",
    "    return None\n",
    "\n",
    "circuit = find_hamiltonian_circuit(G)\n",
    "path = find_hamiltonian_path(G) if not circuit else None\n",
    "\n",
    "# Desenhar o grafo\n",
    "pos = nx.spring_layout(G)\n",
    "nx.draw_networkx_nodes(G, pos, node_size=500, node_color='lightblue')\n",
    "nx.draw_networkx_labels(G, pos)\n",
    "nx.draw_networkx_edges(G, pos, width=1)\n",
    "\n",
    "# Destacar circuito de Hamilton ou caminho de Hamilton\n",
    "if circuit:\n",
    "    edge_list = [(circuit[i], circuit[i+1]) for i in range(len(circuit)-1)]\n",
    "    edge_list.append((circuit[-1], circuit[0]))  # para fechar o circuito\n",
    "    nx.draw_networkx_edges(G, pos, edgelist=edge_list, width=2.5, edge_color='blue')\n",
    "    print(\"Circuito de Hamilton encontrado:\", circuit)\n",
    "elif path:\n",
    "    edge_list = [(path[i], path[i+1]) for i in range(len(path)-1)]\n",
    "    nx.draw_networkx_edges(G, pos, edgelist=edge_list, width=2.5, edge_color='red')\n",
    "    print(\"Caminho de Hamilton encontrado:\", path)\n",
    "else:\n",
    "    print(\"Nem caminho nem circuito de Hamilton foram encontrados.\")\n",
    "\n",
    "plt.show()\n"
   ]
  },
  {
   "cell_type": "markdown",
   "id": "69be9ecd",
   "metadata": {
    "ExecuteTime": {
     "end_time": "2023-08-28T02:40:39.871273Z",
     "start_time": "2023-08-28T02:40:39.867261Z"
    },
    "heading_collapsed": true
   },
   "source": [
    "##### Backtracking"
   ]
  },
  {
   "cell_type": "markdown",
   "id": "5d27908f",
   "metadata": {
    "ExecuteTime": {
     "end_time": "2023-08-28T02:29:12.080130Z",
     "start_time": "2023-08-28T02:29:11.843763Z"
    },
    "hidden": true
   },
   "source": [
    "O algoritmo anterior utiliza a técnica de **backtracking** para encontrar um caminho ou circuito de Hamilton em um grafo.\n",
    "\n",
    "O backtracking é uma abordagem geral usada para encontrar todas (ou algumas) soluções para problemas computacionais, especialmente problemas de otimização e restrição, tentando construir soluções de forma incremental. Quando a construção de uma solução é considerada inviável ou inútil, o algoritmo volta (daí o nome \"backtracking\") e tenta uma alternativa diferente.\n",
    "\n",
    "No contexto do problema de Hamilton, o backtracking é usado para explorar os possíveis caminhos no grafo de forma incremental:\n",
    "\n",
    "1. Começa com um vértice.\n",
    "2. Tenta estender o caminho atual adicionando um vértice adjacente que ainda não esteja no caminho.\n",
    "3. Se não for possível estender o caminho (por exemplo, todos os vizinhos do último vértice já estão no caminho e ainda não se chegou a um caminho ou circuito de Hamilton), o algoritmo retrocede e tenta uma alternativa diferente para o vértice anterior.\n",
    "4. Este processo é repetido até que seja encontrado um caminho ou circuito de Hamilton ou até que todas as possíveis combinações sejam exploradas.\n",
    "\n",
    "O método **hamiltonian_path** no código acima exemplifica essa abordagem. Ele tenta estender um caminho dado (**current_path**) adicionando um vértice adjacente. Se não for possível, ele volta e tenta uma alternativa diferente. E assim por diante."
   ]
  },
  {
   "cell_type": "code",
   "execution_count": null,
   "id": "6b911512",
   "metadata": {
    "hidden": true
   },
   "outputs": [],
   "source": []
  },
  {
   "cell_type": "code",
   "execution_count": null,
   "id": "a86695d4",
   "metadata": {
    "hidden": true
   },
   "outputs": [],
   "source": []
  },
  {
   "cell_type": "code",
   "execution_count": null,
   "id": "07f3614a",
   "metadata": {
    "hidden": true
   },
   "outputs": [],
   "source": []
  }
 ],
 "metadata": {
  "kernelspec": {
   "display_name": "Python 3 (ipykernel)",
   "language": "python",
   "name": "python3"
  },
  "language_info": {
   "codemirror_mode": {
    "name": "ipython",
    "version": 3
   },
   "file_extension": ".py",
   "mimetype": "text/x-python",
   "name": "python",
   "nbconvert_exporter": "python",
   "pygments_lexer": "ipython3",
   "version": "3.11.5"
  },
  "varInspector": {
   "cols": {
    "lenName": 16,
    "lenType": 16,
    "lenVar": 40
   },
   "kernels_config": {
    "python": {
     "delete_cmd_postfix": "",
     "delete_cmd_prefix": "del ",
     "library": "var_list.py",
     "varRefreshCmd": "print(var_dic_list())"
    },
    "r": {
     "delete_cmd_postfix": ") ",
     "delete_cmd_prefix": "rm(",
     "library": "var_list.r",
     "varRefreshCmd": "cat(var_dic_list()) "
    }
   },
   "types_to_exclude": [
    "module",
    "function",
    "builtin_function_or_method",
    "instance",
    "_Feature"
   ],
   "window_display": false
  }
 },
 "nbformat": 4,
 "nbformat_minor": 5
}
