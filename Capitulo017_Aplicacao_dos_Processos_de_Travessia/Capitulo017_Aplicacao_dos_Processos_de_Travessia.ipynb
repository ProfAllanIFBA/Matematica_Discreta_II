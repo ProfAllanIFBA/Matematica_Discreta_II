{
 "cells": [
  {
   "cell_type": "markdown",
   "id": "ce33096c",
   "metadata": {},
   "source": [
    "<center> <img src=\"logo_ifba.jpg\" alt=\"jpg_python\" width=\"100\" height=\"\"> </center>\n",
    "<br><br>\n",
    "<div align=\"center\"><span style=\"font-size: 26px;\"><strong>Matemática Discreta II <br></strong></span></div> <br>\n",
    "<center> <img src=\"python_gif.gif\" alt=\"gif_python\" width=\"80\"> </center>"
   ]
  },
  {
   "cell_type": "markdown",
   "id": "c5073180",
   "metadata": {},
   "source": [
    "<div style=\"border: 2px solid black; padding: 10px; width: 95%; background-color: lightgray; display: flex; align-items: center;\">\n",
    "    <h1 style=\"color: red; text-align: center; margin: auto;\">\n",
    "        Capítulo 17: Aplicação dos Processos de Travessia no Cálculo de Expressões Algébricas\n",
    "    </h1>\n",
    "</div>\n",
    "\n",
    "<font color='red'></font>\n",
    "<a href=\"\"></a>"
   ]
  },
  {
   "cell_type": "markdown",
   "id": "01714086",
   "metadata": {},
   "source": [
    "# <div style=\"margin-top: -20px;\">\n",
    "<hr style=\"border: 2px solid black;\">\n",
    "\n",
    "<font color='black'><span style=\"font-size: 22px;\"><strong>17.1 Notações Prefixa, Infixa e Pós-fixa</strong></span></font>\n",
    "\n",
    "<hr style=\"border: 2px solid black;\">\n",
    "</div>"
   ]
  },
  {
   "cell_type": "markdown",
   "id": "1503bef1",
   "metadata": {},
   "source": [
    "Árvores enraizadas ordenadas também podem ser usadas para representar vários tipos de expressões, como expressões aritméticas envolvendo números, variáveis e operações. As diferentes listagens dos vértices de árvores com raízes ordenadas usadas para representar expressões são úteis na avaliação dessas expressões.\n",
    "\n",
    "Por exemplo, considere a representação de uma expressão aritmética envolvendo os operadores $-$ (adição), $-$ (subtração), $*$ (multiplicação), $/$ (divisão) e $^{\\wedge}$ (exponenciação). Usaremos parênteses para indicar a ordem das operações. Uma árvore ordenada pode ser usada para representar tais expressões, onde os vértices internos representam operações, e as folhas representam as variáveis ou números. Cada operação opera em suas subárvores esquerda e direita (nessa ordem)."
   ]
  },
  {
   "cell_type": "markdown",
   "id": "f12eb062",
   "metadata": {},
   "source": [
    "#### <font color='blue'> Exemplo 1 </font>"
   ]
  },
  {
   "cell_type": "markdown",
   "id": "38a4a1a2",
   "metadata": {},
   "source": [
    "<font color='blue'> Determine a árvore enraizada ordenada que representa a expressão:<br><br>\n",
    " $$((x+y)^{\\wedge} 2) + ((x-4)/3)$$"
   ]
  },
  {
   "cell_type": "markdown",
   "id": "214d5459",
   "metadata": {},
   "source": [
    "##### <font color='blue'> Solução </font>"
   ]
  },
  {
   "cell_type": "markdown",
   "id": "7da7f37e",
   "metadata": {},
   "source": [
    "<font color='blue'> A árvore binária dessa expressão pode ser construída de baixo para cima. Primeiro, uma subárvore para a expressão $x+y$ é construída. Então isto é incorporado como parte da subárvore maior representando $(x+y)^{\\wedge} 2$. Além disso, uma subárvore para $x-4$ é construída e, em seguida, isso é incorporado em uma subárvore que representa $(x-4)/3$. Finalmente, as subárvores representando $(x+y)^{\\wedge} 2$ e $(x-4)/3$ são combinadas para formar a árvore enraizada ordenada representando $((x+y)^{\\wedge} 2) + ((x-4)/3)$. Essas etapas são mostradas na figura a seguir:<br><br>\n",
    " <center> <img src=\"fig17_1.jpg\" alt=\"jpg_python\" width=\"600\" height=\"\"> </center>"
   ]
  },
  {
   "cell_type": "markdown",
   "id": "f31604aa",
   "metadata": {},
   "source": [
    "#### <font color='blue'> Exemplo 2 </font>"
   ]
  },
  {
   "cell_type": "markdown",
   "id": "209a82e9",
   "metadata": {},
   "source": [
    "<font color='blue'> Qual é a sequencia da travessia em pré-ordem para $((x+y) ^{\\wedge} 2) + ((x-4)/3)$?"
   ]
  },
  {
   "cell_type": "markdown",
   "id": "545fab14",
   "metadata": {},
   "source": [
    "##### <font color='blue'> Solução </font>"
   ]
  },
  {
   "cell_type": "markdown",
   "id": "47a20e80",
   "metadata": {},
   "source": [
    "<font color='blue'> Obtemos a pré-ordem para essa expressão percorrendo a árvore binária que a representa na pré-ordem, mostrada na figura dada no **Exemplo 1**: $+$,  $^{\\wedge}$, $+$, $x$, $y$, $2$, $/$, $-$, $x$, $4$ e $3$."
   ]
  },
  {
   "cell_type": "markdown",
   "id": "ee740000",
   "metadata": {},
   "source": [
    "#### <font color='blue'> Exemplo 3 </font>"
   ]
  },
  {
   "cell_type": "markdown",
   "id": "53e907b6",
   "metadata": {},
   "source": [
    "<font color='blue'> Determine o valor da expressão prefixada:<br><br>\n",
    "    <center> $+$, $-$, $*$, $2$, $3$, $5$, $/$, $^{\\wedge}$, $2$, $3$ $4$ </center>\n"
   ]
  },
  {
   "cell_type": "markdown",
   "id": "71ea687f",
   "metadata": {},
   "source": [
    "##### <font color='blue'> Solução </font>"
   ]
  },
  {
   "cell_type": "markdown",
   "id": "34941517",
   "metadata": {},
   "source": [
    "<font color='blue'> As etapas usadas para avaliar essa expressão trabalhando da direita para a esquerda e executando operações usando um operador localizado à esquerda de dois valores numéricos seguidos. Os passos são mostradas na figura a seguir:<br><br>\n",
    " <center> <img src=\"fig17_2.jpg\" alt=\"jpg_python\" width=\"350\" height=\"\"> </center>"
   ]
  },
  {
   "cell_type": "markdown",
   "id": "a40615b4",
   "metadata": {},
   "source": [
    "#### <font color='blue'> Exemplo 4 </font>"
   ]
  },
  {
   "cell_type": "markdown",
   "id": "0f3de705",
   "metadata": {},
   "source": [
    "<font color='blue'> Qual é a forma pós-ordem da expressão $((x+y) ^{\\wedge} 2) + ((x-4)/3)$?\n"
   ]
  },
  {
   "cell_type": "markdown",
   "id": "597c2086",
   "metadata": {},
   "source": [
    "##### <font color='blue'> Solução </font>"
   ]
  },
  {
   "cell_type": "markdown",
   "id": "dabd07e4",
   "metadata": {},
   "source": [
    "<font color='blue'> Conforme visto no **Exemplo 1** temos a seguinte árvore binária representando a expressão dada:<br><br>\n",
    " <center> <img src=\"fig17_3.jpg\" alt=\"jpg_python\" width=\"300\" height=\"\"> </center><br>\n",
    " Obtemos, portanto, o seguinte percurso em pós-ordem:<br><br>\n",
    " <center> $x$, $y$, $+$, $2$, $^{\\wedge}$, $x$, $4$, $-$, $3$, $/$, $+$. </center>"
   ]
  },
  {
   "cell_type": "markdown",
   "id": "e3d8f1b6",
   "metadata": {},
   "source": [
    "#### <font color='blue'> Exemplo 5 </font>"
   ]
  },
  {
   "cell_type": "markdown",
   "id": "46ac2cc6",
   "metadata": {},
   "source": [
    "<font color='blue'> Qual é o valor da expressão pós-fixada $7$, $2$, $3$, $*$, $-$, $4$, $^{\\wedge}$, $9$, $3$, $/$, $+$?\n"
   ]
  },
  {
   "cell_type": "markdown",
   "id": "37bdb5c7",
   "metadata": {},
   "source": [
    "##### <font color='blue'> Solução </font>"
   ]
  },
  {
   "cell_type": "markdown",
   "id": "02eb8883",
   "metadata": {},
   "source": [
    "<font color='blue'>  As etapas usadas para avaliar essa expressão trabalhando da esquerda para a direita e executando operações usando um operador localizado à direita de dois valores numéricos seguidos. Os passos são mostradas na figura a seguir:<br><br>\n",
    " <center> <img src=\"fig17_4.jpg\" alt=\"jpg_python\" width=\"350\" height=\"\"> </center>"
   ]
  },
  {
   "cell_type": "markdown",
   "id": "1f083a11",
   "metadata": {},
   "source": [
    "#### <font color='blue'> Exemplo 6 </font>"
   ]
  },
  {
   "cell_type": "markdown",
   "id": "62af8433",
   "metadata": {},
   "source": [
    "<font color='blue'> Qual é a sequencia da travessia em ordem simétrica da árvore binária dada no **Exemplo 1**?"
   ]
  },
  {
   "cell_type": "markdown",
   "id": "fe62d18e",
   "metadata": {},
   "source": [
    "##### <font color='blue'> Solução </font>"
   ]
  },
  {
   "cell_type": "markdown",
   "id": "fc9efde6",
   "metadata": {},
   "source": [
    "<font color='blue'> Conforme visto no **Exemplo 1** temos a seguinte árvore binária representando a expressão dada:<br><br>\n",
    " <center> <img src=\"fig17_3.jpg\" alt=\"jpg_python\" width=\"300\" height=\"\"> </center><br>\n",
    " O percurso em ordem simétrica é dado por: $x$, $+$, $y$, $^{\\wedge}$, $2$, $+$, $x$, $-$, $4$, $/$, $3$."
   ]
  },
  {
   "cell_type": "markdown",
   "id": "a304c7c5",
   "metadata": {},
   "source": [
    "Note que a sequência de símbolos obtida no **Exemplo 6** coincide com a ordem na qual estes aparecem na expressão associada $((x+y)^{\\wedge} 2) + ((x-4)/3)$. Contudo, a notação infixada necessita de parênteses para evitar ambiguidades. Para resolvermos o problema da ambiguidade podemos utilizar as **notações prefixada** obtida pela travessia em pré-ordem e **notação pós-fixada** obtida pela travessia em pós ordem. As notações prefixada e pós-fixada são também conhecidas, respectivamente, por **notação polonesa** e **notação polonesa inversa**."
   ]
  },
  {
   "cell_type": "markdown",
   "id": "da89f160",
   "metadata": {},
   "source": [
    "# <div style=\"margin-top: -20px;\">\n",
    "<hr style=\"border: 2px solid black;\">\n",
    "\n",
    "<font color='black'><span style=\"font-size: 22px;\"><strong>17.2 Exercícios</strong></span></font>\n",
    "\n",
    "<hr style=\"border: 2px solid black;\">\n",
    "</div>"
   ]
  },
  {
   "cell_type": "markdown",
   "id": "8a6e16c4",
   "metadata": {},
   "source": [
    "#### Exercício 1"
   ]
  },
  {
   "cell_type": "markdown",
   "id": "a6077586",
   "metadata": {},
   "source": [
    "Considere as expressões i) $x*y + x/z$ e ii) $x + ((x*y + x) / y)$:\n",
    "\n",
    "a) Represente as expressões i) e ii) usando árvores binárias.\n",
    "\n",
    "b) Escrevas as expressões i) e ii) codificação infixada.\n",
    "\n",
    "c) Escrevas as expressões i) e ii) codificação prefixada.\n",
    "\n",
    "d) Escrevas as expressões i) e ii) codificação pós-fixada."
   ]
  },
  {
   "cell_type": "markdown",
   "id": "efc2fa3b",
   "metadata": {},
   "source": [
    "#### Exercício 2"
   ]
  },
  {
   "cell_type": "markdown",
   "id": "152453db",
   "metadata": {},
   "source": [
    "Qual é o valor de cada uma dessas expressões em ordem prefixada?\n",
    "\n",
    "a) $-$, $*$, $2$, $/$, $8$, $4$, $3$\n",
    "\n",
    "b) $^{\\wedge}$, $-$, $*$, $3$, $3$, $*$, $4$, $2$, $5$\n",
    "\n",
    "c) $+$, $-$, $^{\\wedge}$, $3$, $2$, $^{\\wedge}$, $2$, $3$, $/$, $6$, $-$, $4$, $2$"
   ]
  },
  {
   "cell_type": "markdown",
   "id": "38e68274",
   "metadata": {},
   "source": [
    "#### Exercício 3"
   ]
  },
  {
   "cell_type": "markdown",
   "id": "56751393",
   "metadata": {},
   "source": [
    "Qual é o valor de cada uma dessas expressões em ordem pós-fixada?\n",
    "\n",
    "a) $6$, $2$, $*$, $3$, $/$, $1$, $+$\n",
    "\n",
    "b) $4$, $2$, $+$, $3$, $5$, $2$, $-$, $+$, $*$\n",
    "\n",
    "c) $3$, $2$, $^{\\wedge}$, $5$, $1$, $+$, $-$, $2$, $2$, $^{\\wedge}$, $^{\\wedge}$"
   ]
  },
  {
   "cell_type": "markdown",
   "id": "4724424a",
   "metadata": {},
   "source": [
    "## <div style=\"margin-top: -20px;\">\n",
    "<hr style=\"border: 2px solid black;\">\n",
    "\n",
    "<font color='black'><span style=\"font-size: 18px;\"><strong>Respostas</strong></span></font>\n",
    "\n",
    "<hr style=\"border: 2px solid black;\">\n",
    "</div>"
   ]
  },
  {
   "cell_type": "markdown",
   "id": "af67a54f",
   "metadata": {},
   "source": [
    "#### Resposta do Exercício 1"
   ]
  },
  {
   "cell_type": "markdown",
   "id": "05ff7305",
   "metadata": {},
   "source": [
    "a) <center> <img src=\"fig17_5.jpg\" alt=\"jpg_python\" width=\"700\" height=\"\"> </center><br>\n",
    "\n",
    "b) i) $x$, $*$, $y$, $+$, $x$, $/$, $z$, ii) $x$, $+$, $x$, $*$, $y$, $+$, $x$,$/$, $y$\n",
    "\n",
    "c) i) $+$, $*$, $x$, $y$, $/$, $x$, $z$, ii) $+$, $x$, $/$, $+$, $*$, $x$, $y$,$x$, $y$\n",
    "\n",
    "d) i) $x$, $y$, $*$, $x$, $z$, $/$, $+$, ii) $x$, $x$, $y$, $*$, $x$, $+$, $y$,$/$, $+$"
   ]
  },
  {
   "cell_type": "markdown",
   "id": "baa66642",
   "metadata": {},
   "source": [
    "#### Resposta do Exercício 2"
   ]
  },
  {
   "cell_type": "markdown",
   "id": "8f4b4186",
   "metadata": {},
   "source": [
    "a) $1$, b) $1$, c) $4$"
   ]
  },
  {
   "cell_type": "markdown",
   "id": "34f7149c",
   "metadata": {},
   "source": [
    "#### Resposta do Exercício 3"
   ]
  },
  {
   "cell_type": "markdown",
   "id": "00d11caf",
   "metadata": {},
   "source": [
    "a) $5$, b) $36$, c) $81$"
   ]
  },
  {
   "cell_type": "markdown",
   "id": "d8c4b044",
   "metadata": {},
   "source": [
    "# <div style=\"margin-top: -20px;\">\n",
    "<hr style=\"border: 2px solid black;\">\n",
    "\n",
    "<font color='black'><span style=\"font-size: 22px;\"><strong>17.3 Vídeo Aulas</strong></span></font>\n",
    "\n",
    "<hr style=\"border: 2px solid black;\">\n",
    "</div>"
   ]
  },
  {
   "cell_type": "markdown",
   "id": "685861b5",
   "metadata": {},
   "source": [
    "Clicando nos links a seguir você será redirecionado às aulas referentes a este capítulo.\n",
    "\n",
    "[Representação de Expressões Algébricas Por Meio de Árvores](https://youtu.be/g454jdsGehs)\n",
    "\n",
    "[Notação Prefixa](https://youtu.be/1npaL78fuuE)\n",
    "\n",
    "[Notação Posfixa](https://youtu.be/fcMux_tJMc4)\n",
    "\n",
    "[Notação Infixa (Cuidado!)](https://youtu.be/ksiYAcPbzG4)"
   ]
  },
  {
   "cell_type": "markdown",
   "id": "92cd6cec",
   "metadata": {},
   "source": [
    "# <div style=\"margin-top: -20px;\">\n",
    "<hr style=\"border: 2px solid black;\">\n",
    "\n",
    "<font color='black'><span style=\"font-size: 22px;\"><strong>17.4 No Computador (Experimental)</strong></span></font>\n",
    "\n",
    "<hr style=\"border: 2px solid black;\">\n",
    "</div>"
   ]
  },
  {
   "cell_type": "markdown",
   "id": "560c26b8",
   "metadata": {},
   "source": [
    "#### Notação polonesa"
   ]
  },
  {
   "cell_type": "code",
   "execution_count": 39,
   "id": "b958ffd0",
   "metadata": {
    "ExecuteTime": {
     "end_time": "2024-01-12T20:21:22.371514Z",
     "start_time": "2024-01-12T20:21:22.364511Z"
    }
   },
   "outputs": [],
   "source": [
    "def prefix(expression):\n",
    "    precedence = {'+': 1, '-': 1, '*': 2, '/': 2, '^': 3}\n",
    "    stack = []\n",
    "    output = []\n",
    "    expression = expression.replace(' ', '')\n",
    "\n",
    "    for i in range(len(expression) - 1, -1, -1):\n",
    "        char = expression[i]\n",
    "\n",
    "        if char.isalnum() or char == '.':\n",
    "            output.append(char)\n",
    "        elif char == ')':\n",
    "            stack.append(char)\n",
    "        elif char == '(':\n",
    "            while stack and stack[-1] != ')':\n",
    "                output.append(stack.pop())\n",
    "            stack.pop()  # Remove the '(' from the stack\n",
    "        else:\n",
    "            while stack and stack[-1] != ')' and precedence[char] <= precedence[stack[-1]]:\n",
    "                output.append(stack.pop())\n",
    "            stack.append(char)\n",
    "\n",
    "    while stack:\n",
    "        output.append(stack.pop())\n",
    "\n",
    "    return ' '.join(output[::-1])  # Reverse the output list"
   ]
  },
  {
   "cell_type": "code",
   "execution_count": 40,
   "id": "480489ec",
   "metadata": {
    "ExecuteTime": {
     "end_time": "2024-01-12T20:21:23.967434Z",
     "start_time": "2024-01-12T20:21:23.963059Z"
    }
   },
   "outputs": [
    {
     "data": {
      "text/plain": [
       "'+ ^ + 1 3 2 / - 1 4 3'"
      ]
     },
     "execution_count": 40,
     "metadata": {},
     "output_type": "execute_result"
    }
   ],
   "source": [
    "# Exemplo de uso\n",
    "prefix(\"(1+3)^2 + (1-4)/3\")"
   ]
  },
  {
   "cell_type": "markdown",
   "id": "0729b74f",
   "metadata": {
    "ExecuteTime": {
     "end_time": "2024-01-12T20:11:33.933693Z",
     "start_time": "2024-01-12T20:11:33.929971Z"
    }
   },
   "source": [
    "#### Calculando o valor de uma expressão na ordem polonesa"
   ]
  },
  {
   "cell_type": "code",
   "execution_count": 49,
   "id": "2de27c0c",
   "metadata": {
    "ExecuteTime": {
     "end_time": "2024-01-12T20:25:49.561396Z",
     "start_time": "2024-01-12T20:25:49.555388Z"
    }
   },
   "outputs": [],
   "source": [
    "def calc_prefix(expression):\n",
    "    stack = []\n",
    "\n",
    "    # Dividindo a expressão em tokens e invertendo para processamento\n",
    "    tokens = expression.split()[::-1]\n",
    "\n",
    "    for token in tokens:\n",
    "        if token in '+-*/^':\n",
    "            # Realizando a operação com os dois últimos números da pilha\n",
    "            a = stack.pop()\n",
    "            b = stack.pop()\n",
    "\n",
    "            if token == '+':\n",
    "                stack.append(a + b)\n",
    "            elif token == '-':\n",
    "                stack.append(a - b)\n",
    "            elif token == '*':\n",
    "                stack.append(a * b)\n",
    "            elif token == '/':\n",
    "                stack.append(a / b)\n",
    "            elif token == '^':\n",
    "                stack.append(a ** b)\n",
    "        else:\n",
    "            # Convertendo o token para um número flutuante\n",
    "            stack.append(float(token))\n",
    "\n",
    "    return stack.pop()"
   ]
  },
  {
   "cell_type": "code",
   "execution_count": 50,
   "id": "89956131",
   "metadata": {
    "ExecuteTime": {
     "end_time": "2024-01-12T20:25:51.014310Z",
     "start_time": "2024-01-12T20:25:51.009663Z"
    }
   },
   "outputs": [
    {
     "data": {
      "text/plain": [
       "15.0"
      ]
     },
     "execution_count": 50,
     "metadata": {},
     "output_type": "execute_result"
    }
   ],
   "source": [
    "# Exemplo de uso\n",
    "calc_prefix(\"+ ^ + 1 3 2 / - 1 4 3\")"
   ]
  },
  {
   "cell_type": "markdown",
   "id": "33e889ea",
   "metadata": {},
   "source": [
    "#### Notação polonesa inversa"
   ]
  },
  {
   "cell_type": "code",
   "execution_count": 13,
   "id": "ac346d98",
   "metadata": {
    "ExecuteTime": {
     "end_time": "2024-01-12T20:08:51.953526Z",
     "start_time": "2024-01-12T20:08:51.945655Z"
    }
   },
   "outputs": [],
   "source": [
    "def postfix(expression):\n",
    "    precedence = {'+': 1, '-': 1, '*': 2, '/': 2, '^': 3}\n",
    "    stack = []\n",
    "    output = []\n",
    "    expression = expression.replace(' ', '')\n",
    "\n",
    "    i = 0\n",
    "    while i < len(expression):\n",
    "        if expression[i].isalnum() or expression[i] == '.':\n",
    "            start = i\n",
    "            while i + 1 < len(expression) and (expression[i + 1].isalnum() or expression[i + 1] == '.'):\n",
    "                i += 1\n",
    "            output.append(expression[start:i + 1])\n",
    "        elif expression[i] == '(':\n",
    "            stack.append('(')\n",
    "        elif expression[i] == ')':\n",
    "            while stack and stack[-1] != '(':\n",
    "                output.append(stack.pop())\n",
    "            stack.pop()\n",
    "        else:\n",
    "            while stack and stack[-1] != '(' and precedence[expression[i]] <= precedence[stack[-1]]:\n",
    "                output.append(stack.pop())\n",
    "            stack.append(expression[i])\n",
    "        i += 1\n",
    "\n",
    "    while stack:\n",
    "        output.append(stack.pop())\n",
    "\n",
    "    return ' '.join(output)"
   ]
  },
  {
   "cell_type": "code",
   "execution_count": 43,
   "id": "521fec86",
   "metadata": {
    "ExecuteTime": {
     "end_time": "2024-01-12T20:21:41.656008Z",
     "start_time": "2024-01-12T20:21:41.650549Z"
    }
   },
   "outputs": [
    {
     "data": {
      "text/plain": [
       "'1 3 + 2 ^ 1 4 - 3 / +'"
      ]
     },
     "execution_count": 43,
     "metadata": {},
     "output_type": "execute_result"
    }
   ],
   "source": [
    "# Chamando a função\n",
    "postfix(\"(1+3)^2 + (1-4)/3\")"
   ]
  },
  {
   "cell_type": "markdown",
   "id": "5473506b",
   "metadata": {},
   "source": [
    "#### Calculando uma expressão na ordem polonesa inversa"
   ]
  },
  {
   "cell_type": "code",
   "execution_count": 46,
   "id": "c00b5ac9",
   "metadata": {
    "ExecuteTime": {
     "end_time": "2024-01-12T20:25:22.809108Z",
     "start_time": "2024-01-12T20:25:22.803831Z"
    }
   },
   "outputs": [],
   "source": [
    "def calc_postfix(expression):\n",
    "    stack = []\n",
    "\n",
    "    # Dividindo a expressão em tokens\n",
    "    tokens = expression.split()\n",
    "\n",
    "    for token in tokens:\n",
    "        if token in '+-*/^':\n",
    "            # Realizando a operação com os dois últimos números da pilha\n",
    "            b = stack.pop()\n",
    "            a = stack.pop()\n",
    "\n",
    "            if token == '+':\n",
    "                stack.append(a + b)\n",
    "            elif token == '-':\n",
    "                stack.append(a - b)\n",
    "            elif token == '*':\n",
    "                stack.append(a * b)\n",
    "            elif token == '/':\n",
    "                stack.append(a / b)\n",
    "            elif token == '^':\n",
    "                stack.append(a ** b)\n",
    "        else:\n",
    "            # Convertendo o token para um número flutuante\n",
    "            stack.append(float(token))\n",
    "\n",
    "    return stack.pop()"
   ]
  },
  {
   "cell_type": "code",
   "execution_count": 47,
   "id": "8ee4cf95",
   "metadata": {
    "ExecuteTime": {
     "end_time": "2024-01-12T20:25:25.303780Z",
     "start_time": "2024-01-12T20:25:25.298543Z"
    }
   },
   "outputs": [
    {
     "data": {
      "text/plain": [
       "15.0"
      ]
     },
     "execution_count": 47,
     "metadata": {},
     "output_type": "execute_result"
    }
   ],
   "source": [
    "# Exemplo de uso\n",
    "calc_postfix(\"1 3 + 2 ^ 1 4 - 3 / +\")"
   ]
  }
 ],
 "metadata": {
  "kernelspec": {
   "display_name": "Python 3 (ipykernel)",
   "language": "python",
   "name": "python3"
  },
  "language_info": {
   "codemirror_mode": {
    "name": "ipython",
    "version": 3
   },
   "file_extension": ".py",
   "mimetype": "text/x-python",
   "name": "python",
   "nbconvert_exporter": "python",
   "pygments_lexer": "ipython3",
   "version": "3.11.5"
  },
  "varInspector": {
   "cols": {
    "lenName": 16,
    "lenType": 16,
    "lenVar": 40
   },
   "kernels_config": {
    "python": {
     "delete_cmd_postfix": "",
     "delete_cmd_prefix": "del ",
     "library": "var_list.py",
     "varRefreshCmd": "print(var_dic_list())"
    },
    "r": {
     "delete_cmd_postfix": ") ",
     "delete_cmd_prefix": "rm(",
     "library": "var_list.r",
     "varRefreshCmd": "cat(var_dic_list()) "
    }
   },
   "types_to_exclude": [
    "module",
    "function",
    "builtin_function_or_method",
    "instance",
    "_Feature"
   ],
   "window_display": false
  }
 },
 "nbformat": 4,
 "nbformat_minor": 5
}
