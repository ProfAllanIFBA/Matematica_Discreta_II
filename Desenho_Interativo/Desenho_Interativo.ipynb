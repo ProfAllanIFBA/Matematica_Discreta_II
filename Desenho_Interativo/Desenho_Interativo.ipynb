{
 "cells": [
  {
   "cell_type": "markdown",
   "id": "83cf96c6",
   "metadata": {},
   "source": [
    "<center> <img src=\"logo_ifba.jpg\" alt=\"jpg_python\" width=\"100\" height=\"200\"> </center>\n",
    "<br><br>\n",
    "<div align=\"center\"><span style=\"font-size: 26px;\"><strong>Matemática Discreta II<br></strong></span></div> <br>\n",
    "<center> <img src=\"python_gif.gif\" alt=\"gif_python\" width=\"80\"> </center>"
   ]
  },
  {
   "cell_type": "markdown",
   "id": "8aa8237c",
   "metadata": {},
   "source": [
    "<div style=\"border: 2px solid black; padding: 10px; width: 95%; background-color: lightgray; display: flex; align-items: center;\">\n",
    "    <h1 style=\"color: red; text-align: center; margin: auto;\">\n",
    "        Grafo Interativo\n",
    "    </h1>\n",
    "</div>\n",
    "\n",
    "<font color='red'></font>\n",
    "<a href=\"\"></a>"
   ]
  },
  {
   "cell_type": "markdown",
   "id": "3513f258",
   "metadata": {},
   "source": [
    "Este material possibilita o desenho de grafos não rígidos (padrão da biblioteca networkx), além de permitir outras configurações, como cores e pesos das arestas, entre outras."
   ]
  },
  {
   "cell_type": "markdown",
   "id": "20ed2149",
   "metadata": {},
   "source": [
    "# Etapa 1: Instalando Bibliotecas Necessárias"
   ]
  },
  {
   "cell_type": "markdown",
   "id": "22164b45",
   "metadata": {},
   "source": [
    "Caso encontre algum erro ao executar o código a seguir no Jupyter Notebook, considere reiniciar o kernel. Para isso, acesse o menu do Jupyter, selecione 'Kernel' e clique em 'Restart'. Se o problema persistir, feche completamente o Jupyter Notebook e abra-o novamente. Este procedimento pode ajudar a resolver conflitos ou problemas na execução do código. A célula a seguir requer apenas uma execução. Portanto, ao utilizar este material novamente, você pode optar por pular esta etapa."
   ]
  },
  {
   "cell_type": "code",
   "execution_count": 1,
   "id": "3cff7669",
   "metadata": {
    "ExecuteTime": {
     "end_time": "2024-02-08T00:19:52.602808Z",
     "start_time": "2024-02-08T00:19:11.975493Z"
    }
   },
   "outputs": [
    {
     "name": "stdout",
     "output_type": "stream",
     "text": [
      "Requirement already satisfied: notebook in d:\\anaconda3\\lib\\site-packages (6.5.4)\n",
      "Collecting notebook\n",
      "  Obtaining dependency information for notebook from https://files.pythonhosted.org/packages/f2/57/2f8d59ddc7f2d0d8ac4f80f869545bc44646fc78c1c083b3655c58e3edfb/notebook-7.0.7-py3-none-any.whl.metadata\n",
      "  Downloading notebook-7.0.7-py3-none-any.whl.metadata (10 kB)\n",
      "Requirement already satisfied: ipywidgets in d:\\anaconda3\\lib\\site-packages (8.0.4)\n",
      "Collecting ipywidgets\n",
      "  Obtaining dependency information for ipywidgets from https://files.pythonhosted.org/packages/4a/0e/57ed498fafbc60419a9332d872e929879ceba2d73cb11d284d7112472b3e/ipywidgets-8.1.1-py3-none-any.whl.metadata\n",
      "  Using cached ipywidgets-8.1.1-py3-none-any.whl.metadata (2.4 kB)\n",
      "Collecting jupyter-server<3,>=2.4.0 (from notebook)\n",
      "  Obtaining dependency information for jupyter-server<3,>=2.4.0 from https://files.pythonhosted.org/packages/25/d6/6ee093c967d11144aeb1b0b4952d30e51da8eb2737837ab612084c783a58/jupyter_server-2.12.5-py3-none-any.whl.metadata\n",
      "  Downloading jupyter_server-2.12.5-py3-none-any.whl.metadata (8.4 kB)\n",
      "Collecting jupyterlab-server<3,>=2.22.1 (from notebook)\n",
      "  Obtaining dependency information for jupyterlab-server<3,>=2.22.1 from https://files.pythonhosted.org/packages/a2/97/abbbe35fc67b6f9423309988f2e411f7cb117b08321866d3d8b720f4c0d4/jupyterlab_server-2.25.2-py3-none-any.whl.metadata\n",
      "  Using cached jupyterlab_server-2.25.2-py3-none-any.whl.metadata (5.9 kB)\n",
      "Collecting jupyterlab<5,>=4.0.2 (from notebook)\n",
      "  Obtaining dependency information for jupyterlab<5,>=4.0.2 from https://files.pythonhosted.org/packages/d0/c9/ac2353a6fd4aeeaa9a76de7568f8d229d3eada77d67325338ccd0bb0b6ee/jupyterlab-4.1.0-py3-none-any.whl.metadata\n",
      "  Downloading jupyterlab-4.1.0-py3-none-any.whl.metadata (15 kB)\n",
      "Requirement already satisfied: notebook-shim<0.3,>=0.2 in d:\\anaconda3\\lib\\site-packages (from notebook) (0.2.2)\n",
      "Requirement already satisfied: tornado>=6.2.0 in d:\\anaconda3\\lib\\site-packages (from notebook) (6.3.2)\n",
      "Collecting comm>=0.1.3 (from ipywidgets)\n",
      "  Obtaining dependency information for comm>=0.1.3 from https://files.pythonhosted.org/packages/6e/c1/e7335bd49aa3fa3bd453e34a4580b0076804f219897ad76d4d5aa4d8f22f/comm-0.2.1-py3-none-any.whl.metadata\n",
      "  Using cached comm-0.2.1-py3-none-any.whl.metadata (3.7 kB)\n",
      "Requirement already satisfied: ipython>=6.1.0 in d:\\anaconda3\\lib\\site-packages (from ipywidgets) (8.15.0)\n",
      "Requirement already satisfied: traitlets>=4.3.1 in d:\\anaconda3\\lib\\site-packages (from ipywidgets) (5.7.1)\n",
      "Requirement already satisfied: widgetsnbextension~=4.0.9 in d:\\anaconda3\\lib\\site-packages (from ipywidgets) (4.0.9)\n",
      "Collecting jupyterlab-widgets~=3.0.9 (from ipywidgets)\n",
      "  Obtaining dependency information for jupyterlab-widgets~=3.0.9 from https://files.pythonhosted.org/packages/e8/05/0ebab152288693b5ec7b339aab857362947031143b282853b4c2dd4b5b40/jupyterlab_widgets-3.0.9-py3-none-any.whl.metadata\n",
      "  Using cached jupyterlab_widgets-3.0.9-py3-none-any.whl.metadata (4.1 kB)\n",
      "Requirement already satisfied: backcall in d:\\anaconda3\\lib\\site-packages (from ipython>=6.1.0->ipywidgets) (0.2.0)\n",
      "Requirement already satisfied: decorator in d:\\anaconda3\\lib\\site-packages (from ipython>=6.1.0->ipywidgets) (5.1.1)\n",
      "Requirement already satisfied: jedi>=0.16 in d:\\anaconda3\\lib\\site-packages (from ipython>=6.1.0->ipywidgets) (0.18.1)\n",
      "Requirement already satisfied: matplotlib-inline in d:\\anaconda3\\lib\\site-packages (from ipython>=6.1.0->ipywidgets) (0.1.6)\n",
      "Requirement already satisfied: pickleshare in d:\\anaconda3\\lib\\site-packages (from ipython>=6.1.0->ipywidgets) (0.7.5)\n",
      "Requirement already satisfied: prompt-toolkit!=3.0.37,<3.1.0,>=3.0.30 in d:\\anaconda3\\lib\\site-packages (from ipython>=6.1.0->ipywidgets) (3.0.36)\n",
      "Requirement already satisfied: pygments>=2.4.0 in d:\\anaconda3\\lib\\site-packages (from ipython>=6.1.0->ipywidgets) (2.15.1)\n",
      "Requirement already satisfied: stack-data in d:\\anaconda3\\lib\\site-packages (from ipython>=6.1.0->ipywidgets) (0.2.0)\n",
      "Requirement already satisfied: colorama in d:\\anaconda3\\lib\\site-packages (from ipython>=6.1.0->ipywidgets) (0.4.6)\n",
      "Requirement already satisfied: anyio>=3.1.0 in d:\\anaconda3\\lib\\site-packages (from jupyter-server<3,>=2.4.0->notebook) (3.5.0)\n",
      "Requirement already satisfied: argon2-cffi in d:\\anaconda3\\lib\\site-packages (from jupyter-server<3,>=2.4.0->notebook) (21.3.0)\n",
      "Requirement already satisfied: jinja2 in d:\\anaconda3\\lib\\site-packages (from jupyter-server<3,>=2.4.0->notebook) (3.1.2)\n",
      "Requirement already satisfied: jupyter-client>=7.4.4 in d:\\anaconda3\\lib\\site-packages (from jupyter-server<3,>=2.4.0->notebook) (7.4.9)\n",
      "Requirement already satisfied: jupyter-core!=5.0.*,>=4.12 in d:\\anaconda3\\lib\\site-packages (from jupyter-server<3,>=2.4.0->notebook) (5.3.0)\n",
      "Collecting jupyter-events>=0.9.0 (from jupyter-server<3,>=2.4.0->notebook)\n",
      "  Obtaining dependency information for jupyter-events>=0.9.0 from https://files.pythonhosted.org/packages/e3/55/0c1aa72f4317e826a471dc4adc3036acd11d496ded68c4bbac2a88551519/jupyter_events-0.9.0-py3-none-any.whl.metadata\n",
      "  Using cached jupyter_events-0.9.0-py3-none-any.whl.metadata (5.7 kB)\n",
      "Collecting jupyter-server-terminals (from jupyter-server<3,>=2.4.0->notebook)\n",
      "  Obtaining dependency information for jupyter-server-terminals from https://files.pythonhosted.org/packages/7c/ec/ebb52454525e1d346bfa2ea91b3dcda3b92687bb73b2c25a6d621d9eeaf1/jupyter_server_terminals-0.5.2-py3-none-any.whl.metadata\n",
      "  Downloading jupyter_server_terminals-0.5.2-py3-none-any.whl.metadata (5.6 kB)\n",
      "Requirement already satisfied: nbconvert>=6.4.4 in d:\\anaconda3\\lib\\site-packages (from jupyter-server<3,>=2.4.0->notebook) (6.5.4)\n",
      "Requirement already satisfied: nbformat>=5.3.0 in d:\\anaconda3\\lib\\site-packages (from jupyter-server<3,>=2.4.0->notebook) (5.9.2)\n",
      "Collecting overrides (from jupyter-server<3,>=2.4.0->notebook)\n",
      "  Obtaining dependency information for overrides from https://files.pythonhosted.org/packages/2c/ab/fc8290c6a4c722e5514d80f62b2dc4c4df1a68a41d1364e625c35990fcf3/overrides-7.7.0-py3-none-any.whl.metadata\n",
      "  Downloading overrides-7.7.0-py3-none-any.whl.metadata (5.8 kB)\n",
      "Requirement already satisfied: packaging in d:\\anaconda3\\lib\\site-packages (from jupyter-server<3,>=2.4.0->notebook) (23.1)\n",
      "Requirement already satisfied: prometheus-client in d:\\anaconda3\\lib\\site-packages (from jupyter-server<3,>=2.4.0->notebook) (0.14.1)\n",
      "Requirement already satisfied: pywinpty in d:\\anaconda3\\lib\\site-packages (from jupyter-server<3,>=2.4.0->notebook) (2.0.10)\n",
      "Requirement already satisfied: pyzmq>=24 in d:\\anaconda3\\lib\\site-packages (from jupyter-server<3,>=2.4.0->notebook) (25.1.2)\n",
      "Requirement already satisfied: send2trash>=1.8.2 in d:\\anaconda3\\lib\\site-packages (from jupyter-server<3,>=2.4.0->notebook) (1.8.2)\n",
      "Requirement already satisfied: terminado>=0.8.3 in d:\\anaconda3\\lib\\site-packages (from jupyter-server<3,>=2.4.0->notebook) (0.17.1)\n",
      "Requirement already satisfied: websocket-client in d:\\anaconda3\\lib\\site-packages (from jupyter-server<3,>=2.4.0->notebook) (0.58.0)\n",
      "Collecting async-lru>=1.0.0 (from jupyterlab<5,>=4.0.2->notebook)\n",
      "  Obtaining dependency information for async-lru>=1.0.0 from https://files.pythonhosted.org/packages/fa/9f/3c3503693386c4b0f245eaf5ca6198e3b28879ca0a40bde6b0e319793453/async_lru-2.0.4-py3-none-any.whl.metadata\n",
      "  Using cached async_lru-2.0.4-py3-none-any.whl.metadata (4.5 kB)\n",
      "Collecting httpx>=0.25.0 (from jupyterlab<5,>=4.0.2->notebook)\n",
      "  Obtaining dependency information for httpx>=0.25.0 from https://files.pythonhosted.org/packages/39/9b/4937d841aee9c2c8102d9a4eeb800c7dad25386caabb4a1bf5010df81a57/httpx-0.26.0-py3-none-any.whl.metadata\n",
      "  Downloading httpx-0.26.0-py3-none-any.whl.metadata (7.6 kB)\n",
      "Requirement already satisfied: ipykernel in d:\\anaconda3\\lib\\site-packages (from jupyterlab<5,>=4.0.2->notebook) (6.25.0)\n",
      "Collecting jupyter-lsp>=2.0.0 (from jupyterlab<5,>=4.0.2->notebook)\n",
      "  Obtaining dependency information for jupyter-lsp>=2.0.0 from https://files.pythonhosted.org/packages/d4/35/8332e7a07f872324e29ae4620a41a21372a8dc710b63b873d80cb2184241/jupyter_lsp-2.2.2-py3-none-any.whl.metadata\n",
      "  Downloading jupyter_lsp-2.2.2-py3-none-any.whl.metadata (1.8 kB)\n",
      "Requirement already satisfied: babel>=2.10 in d:\\anaconda3\\lib\\site-packages (from jupyterlab-server<3,>=2.22.1->notebook) (2.11.0)\n",
      "Requirement already satisfied: json5>=0.9.0 in d:\\anaconda3\\lib\\site-packages (from jupyterlab-server<3,>=2.22.1->notebook) (0.9.6)\n",
      "Collecting jsonschema>=4.18.0 (from jupyterlab-server<3,>=2.22.1->notebook)\n",
      "  Obtaining dependency information for jsonschema>=4.18.0 from https://files.pythonhosted.org/packages/39/9d/b035d024c62c85f2e2d4806a59ca7b8520307f34e0932fbc8cc75fe7b2d9/jsonschema-4.21.1-py3-none-any.whl.metadata\n",
      "  Downloading jsonschema-4.21.1-py3-none-any.whl.metadata (7.8 kB)\n",
      "Requirement already satisfied: requests>=2.31 in d:\\anaconda3\\lib\\site-packages (from jupyterlab-server<3,>=2.22.1->notebook) (2.31.0)\n",
      "Requirement already satisfied: idna>=2.8 in d:\\anaconda3\\lib\\site-packages (from anyio>=3.1.0->jupyter-server<3,>=2.4.0->notebook) (3.4)\n",
      "Requirement already satisfied: sniffio>=1.1 in d:\\anaconda3\\lib\\site-packages (from anyio>=3.1.0->jupyter-server<3,>=2.4.0->notebook) (1.2.0)\n",
      "Requirement already satisfied: pytz>=2015.7 in d:\\anaconda3\\lib\\site-packages (from babel>=2.10->jupyterlab-server<3,>=2.22.1->notebook) (2023.3.post1)\n",
      "Requirement already satisfied: certifi in d:\\anaconda3\\lib\\site-packages (from httpx>=0.25.0->jupyterlab<5,>=4.0.2->notebook) (2023.7.22)\n",
      "Collecting httpcore==1.* (from httpx>=0.25.0->jupyterlab<5,>=4.0.2->notebook)\n",
      "  Obtaining dependency information for httpcore==1.* from https://files.pythonhosted.org/packages/56/ba/78b0a99c4da0ff8b0f59defa2f13ca4668189b134bd9840b6202a93d9a0f/httpcore-1.0.2-py3-none-any.whl.metadata\n",
      "  Downloading httpcore-1.0.2-py3-none-any.whl.metadata (20 kB)\n",
      "Collecting h11<0.15,>=0.13 (from httpcore==1.*->httpx>=0.25.0->jupyterlab<5,>=4.0.2->notebook)\n",
      "  Downloading h11-0.14.0-py3-none-any.whl (58 kB)\n",
      "     ---------------------------------------- 0.0/58.3 kB ? eta -:--:--\n",
      "     ---------------------------------------- 58.3/58.3 kB 1.5 MB/s eta 0:00:00\n",
      "Requirement already satisfied: parso<0.9.0,>=0.8.0 in d:\\anaconda3\\lib\\site-packages (from jedi>=0.16->ipython>=6.1.0->ipywidgets) (0.8.3)\n",
      "Requirement already satisfied: MarkupSafe>=2.0 in d:\\anaconda3\\lib\\site-packages (from jinja2->jupyter-server<3,>=2.4.0->notebook) (2.1.1)\n",
      "Collecting attrs>=22.2.0 (from jsonschema>=4.18.0->jupyterlab-server<3,>=2.22.1->notebook)\n",
      "  Obtaining dependency information for attrs>=22.2.0 from https://files.pythonhosted.org/packages/e0/44/827b2a91a5816512fcaf3cc4ebc465ccd5d598c45cefa6703fcf4a79018f/attrs-23.2.0-py3-none-any.whl.metadata\n",
      "  Using cached attrs-23.2.0-py3-none-any.whl.metadata (9.5 kB)\n",
      "Collecting jsonschema-specifications>=2023.03.6 (from jsonschema>=4.18.0->jupyterlab-server<3,>=2.22.1->notebook)\n",
      "  Obtaining dependency information for jsonschema-specifications>=2023.03.6 from https://files.pythonhosted.org/packages/ee/07/44bd408781594c4d0a027666ef27fab1e441b109dc3b76b4f836f8fd04fe/jsonschema_specifications-2023.12.1-py3-none-any.whl.metadata\n",
      "  Using cached jsonschema_specifications-2023.12.1-py3-none-any.whl.metadata (3.0 kB)\n",
      "Collecting referencing>=0.28.4 (from jsonschema>=4.18.0->jupyterlab-server<3,>=2.22.1->notebook)\n",
      "  Obtaining dependency information for referencing>=0.28.4 from https://files.pythonhosted.org/packages/90/10/1c92edb0a0a14b67ff825bc338e74bc49ab27d3f3bae3f9a02838cba546f/referencing-0.33.0-py3-none-any.whl.metadata\n",
      "  Downloading referencing-0.33.0-py3-none-any.whl.metadata (2.7 kB)\n",
      "Requirement already satisfied: rpds-py>=0.7.1 in d:\\anaconda3\\lib\\site-packages (from jsonschema>=4.18.0->jupyterlab-server<3,>=2.22.1->notebook) (0.17.1)\n",
      "Requirement already satisfied: entrypoints in d:\\anaconda3\\lib\\site-packages (from jupyter-client>=7.4.4->jupyter-server<3,>=2.4.0->notebook) (0.4)\n",
      "Requirement already satisfied: nest-asyncio>=1.5.4 in d:\\anaconda3\\lib\\site-packages (from jupyter-client>=7.4.4->jupyter-server<3,>=2.4.0->notebook) (1.5.6)\n",
      "Requirement already satisfied: python-dateutil>=2.8.2 in d:\\anaconda3\\lib\\site-packages (from jupyter-client>=7.4.4->jupyter-server<3,>=2.4.0->notebook) (2.8.2)\n",
      "Requirement already satisfied: platformdirs>=2.5 in d:\\anaconda3\\lib\\site-packages (from jupyter-core!=5.0.*,>=4.12->jupyter-server<3,>=2.4.0->notebook) (3.10.0)\n",
      "Requirement already satisfied: pywin32>=300 in d:\\anaconda3\\lib\\site-packages (from jupyter-core!=5.0.*,>=4.12->jupyter-server<3,>=2.4.0->notebook) (305.1)\n",
      "Requirement already satisfied: python-json-logger>=2.0.4 in d:\\anaconda3\\lib\\site-packages (from jupyter-events>=0.9.0->jupyter-server<3,>=2.4.0->notebook) (2.0.7)\n",
      "Requirement already satisfied: pyyaml>=5.3 in d:\\anaconda3\\lib\\site-packages (from jupyter-events>=0.9.0->jupyter-server<3,>=2.4.0->notebook) (6.0)\n",
      "Requirement already satisfied: rfc3339-validator in d:\\anaconda3\\lib\\site-packages (from jupyter-events>=0.9.0->jupyter-server<3,>=2.4.0->notebook) (0.1.4)\n",
      "Requirement already satisfied: rfc3986-validator>=0.1.1 in d:\\anaconda3\\lib\\site-packages (from jupyter-events>=0.9.0->jupyter-server<3,>=2.4.0->notebook) (0.1.1)\n",
      "Requirement already satisfied: lxml in d:\\anaconda3\\lib\\site-packages (from nbconvert>=6.4.4->jupyter-server<3,>=2.4.0->notebook) (4.9.3)\n",
      "Requirement already satisfied: beautifulsoup4 in d:\\anaconda3\\lib\\site-packages (from nbconvert>=6.4.4->jupyter-server<3,>=2.4.0->notebook) (4.12.2)\n",
      "Requirement already satisfied: bleach in d:\\anaconda3\\lib\\site-packages (from nbconvert>=6.4.4->jupyter-server<3,>=2.4.0->notebook) (4.1.0)\n",
      "Requirement already satisfied: defusedxml in d:\\anaconda3\\lib\\site-packages (from nbconvert>=6.4.4->jupyter-server<3,>=2.4.0->notebook) (0.7.1)\n",
      "Requirement already satisfied: jupyterlab-pygments in d:\\anaconda3\\lib\\site-packages (from nbconvert>=6.4.4->jupyter-server<3,>=2.4.0->notebook) (0.1.2)\n",
      "Requirement already satisfied: mistune<2,>=0.8.1 in d:\\anaconda3\\lib\\site-packages (from nbconvert>=6.4.4->jupyter-server<3,>=2.4.0->notebook) (0.8.4)\n",
      "Requirement already satisfied: nbclient>=0.5.0 in d:\\anaconda3\\lib\\site-packages (from nbconvert>=6.4.4->jupyter-server<3,>=2.4.0->notebook) (0.5.13)\n",
      "Requirement already satisfied: pandocfilters>=1.4.1 in d:\\anaconda3\\lib\\site-packages (from nbconvert>=6.4.4->jupyter-server<3,>=2.4.0->notebook) (1.5.0)\n",
      "Requirement already satisfied: tinycss2 in d:\\anaconda3\\lib\\site-packages (from nbconvert>=6.4.4->jupyter-server<3,>=2.4.0->notebook) (1.2.1)\n",
      "Requirement already satisfied: fastjsonschema in d:\\anaconda3\\lib\\site-packages (from nbformat>=5.3.0->jupyter-server<3,>=2.4.0->notebook) (2.16.2)\n",
      "Requirement already satisfied: wcwidth in d:\\anaconda3\\lib\\site-packages (from prompt-toolkit!=3.0.37,<3.1.0,>=3.0.30->ipython>=6.1.0->ipywidgets) (0.2.5)\n",
      "Requirement already satisfied: charset-normalizer<4,>=2 in d:\\anaconda3\\lib\\site-packages (from requests>=2.31->jupyterlab-server<3,>=2.22.1->notebook) (2.0.4)\n",
      "Requirement already satisfied: urllib3<3,>=1.21.1 in d:\\anaconda3\\lib\\site-packages (from requests>=2.31->jupyterlab-server<3,>=2.22.1->notebook) (1.26.16)\n",
      "Requirement already satisfied: argon2-cffi-bindings in d:\\anaconda3\\lib\\site-packages (from argon2-cffi->jupyter-server<3,>=2.4.0->notebook) (21.2.0)\n",
      "Requirement already satisfied: debugpy>=1.6.5 in d:\\anaconda3\\lib\\site-packages (from ipykernel->jupyterlab<5,>=4.0.2->notebook) (1.6.7)\n",
      "Requirement already satisfied: psutil in d:\\anaconda3\\lib\\site-packages (from ipykernel->jupyterlab<5,>=4.0.2->notebook) (5.9.0)\n",
      "Requirement already satisfied: executing in d:\\anaconda3\\lib\\site-packages (from stack-data->ipython>=6.1.0->ipywidgets) (0.8.3)\n",
      "Requirement already satisfied: asttokens in d:\\anaconda3\\lib\\site-packages (from stack-data->ipython>=6.1.0->ipywidgets) (2.0.5)\n",
      "Requirement already satisfied: pure-eval in d:\\anaconda3\\lib\\site-packages (from stack-data->ipython>=6.1.0->ipywidgets) (0.2.2)\n",
      "Requirement already satisfied: six in d:\\anaconda3\\lib\\site-packages (from websocket-client->jupyter-server<3,>=2.4.0->notebook) (1.16.0)\n",
      "Collecting fqdn (from jsonschema>=4.18.0->jupyterlab-server<3,>=2.22.1->notebook)\n",
      "  Using cached fqdn-1.5.1-py3-none-any.whl (9.1 kB)\n",
      "Collecting isoduration (from jsonschema>=4.18.0->jupyterlab-server<3,>=2.22.1->notebook)\n",
      "  Using cached isoduration-20.11.0-py3-none-any.whl (11 kB)\n",
      "Requirement already satisfied: jsonpointer>1.13 in d:\\anaconda3\\lib\\site-packages (from jsonschema>=4.18.0->jupyterlab-server<3,>=2.22.1->notebook) (2.1)\n",
      "Requirement already satisfied: uri-template in d:\\anaconda3\\lib\\site-packages (from jsonschema>=4.18.0->jupyterlab-server<3,>=2.22.1->notebook) (1.3.0)\n",
      "Requirement already satisfied: webcolors>=1.11 in d:\\anaconda3\\lib\\site-packages (from jsonschema>=4.18.0->jupyterlab-server<3,>=2.22.1->notebook) (1.13)\n",
      "Requirement already satisfied: cffi>=1.0.1 in d:\\anaconda3\\lib\\site-packages (from argon2-cffi-bindings->argon2-cffi->jupyter-server<3,>=2.4.0->notebook) (1.15.1)\n",
      "Requirement already satisfied: soupsieve>1.2 in d:\\anaconda3\\lib\\site-packages (from beautifulsoup4->nbconvert>=6.4.4->jupyter-server<3,>=2.4.0->notebook) (2.4)\n",
      "Requirement already satisfied: webencodings in d:\\anaconda3\\lib\\site-packages (from bleach->nbconvert>=6.4.4->jupyter-server<3,>=2.4.0->notebook) (0.5.1)\n",
      "Requirement already satisfied: pycparser in d:\\anaconda3\\lib\\site-packages (from cffi>=1.0.1->argon2-cffi-bindings->argon2-cffi->jupyter-server<3,>=2.4.0->notebook) (2.21)\n",
      "Requirement already satisfied: arrow>=0.15.0 in d:\\anaconda3\\lib\\site-packages (from isoduration->jsonschema>=4.18.0->jupyterlab-server<3,>=2.22.1->notebook) (1.2.3)\n",
      "Downloading notebook-7.0.7-py3-none-any.whl (4.0 MB)\n",
      "   ---------------------------------------- 0.0/4.0 MB ? eta -:--:--\n",
      "   -- ------------------------------------- 0.2/4.0 MB 6.7 MB/s eta 0:00:01\n",
      "   ----- ---------------------------------- 0.5/4.0 MB 5.7 MB/s eta 0:00:01\n",
      "   ---------- ----------------------------- 1.0/4.0 MB 7.1 MB/s eta 0:00:01\n",
      "   --------------- ------------------------ 1.6/4.0 MB 8.5 MB/s eta 0:00:01\n",
      "   ------------------- -------------------- 2.0/4.0 MB 8.3 MB/s eta 0:00:01\n",
      "   --------------------- ------------------ 2.1/4.0 MB 7.9 MB/s eta 0:00:01\n",
      "   ------------------------- -------------- 2.6/4.0 MB 7.8 MB/s eta 0:00:01\n",
      "   ----------------------------- ---------- 2.9/4.0 MB 8.1 MB/s eta 0:00:01\n",
      "   --------------------------------- ------ 3.4/4.0 MB 8.7 MB/s eta 0:00:01\n",
      "   ------------------------------------- -- 3.7/4.0 MB 8.5 MB/s eta 0:00:01\n",
      "   -------------------------------------- - 3.9/4.0 MB 8.3 MB/s eta 0:00:01\n",
      "   ---------------------------------------- 4.0/4.0 MB 7.8 MB/s eta 0:00:00\n",
      "Using cached ipywidgets-8.1.1-py3-none-any.whl (139 kB)\n",
      "Using cached comm-0.2.1-py3-none-any.whl (7.2 kB)\n",
      "Downloading jupyter_server-2.12.5-py3-none-any.whl (380 kB)\n",
      "   ---------------------------------------- 0.0/380.3 kB ? eta -:--:--\n",
      "   --------------------------------------- 380.3/380.3 kB 11.9 MB/s eta 0:00:00\n",
      "Downloading jupyterlab-4.1.0-py3-none-any.whl (11.4 MB)\n",
      "   ---------------------------------------- 0.0/11.4 MB ? eta -:--:--\n",
      "   - -------------------------------------- 0.5/11.4 MB 13.8 MB/s eta 0:00:01\n",
      "   -- ------------------------------------- 0.7/11.4 MB 9.3 MB/s eta 0:00:02\n",
      "   ---- ----------------------------------- 1.3/11.4 MB 10.2 MB/s eta 0:00:01\n",
      "   ----- ---------------------------------- 1.6/11.4 MB 10.4 MB/s eta 0:00:01\n",
      "   ------- -------------------------------- 2.2/11.4 MB 10.9 MB/s eta 0:00:01\n",
      "   --------- ------------------------------ 2.6/11.4 MB 11.2 MB/s eta 0:00:01\n",
      "   ---------- ----------------------------- 3.1/11.4 MB 11.0 MB/s eta 0:00:01\n",
      "   ------------ --------------------------- 3.6/11.4 MB 10.4 MB/s eta 0:00:01\n",
      "   -------------- ------------------------- 4.1/11.4 MB 10.3 MB/s eta 0:00:01\n",
      "   --------------- ------------------------ 4.5/11.4 MB 10.3 MB/s eta 0:00:01\n",
      "   ----------------- ---------------------- 4.9/11.4 MB 10.2 MB/s eta 0:00:01\n",
      "   ------------------ --------------------- 5.3/11.4 MB 10.0 MB/s eta 0:00:01\n",
      "   -------------------- ------------------- 5.7/11.4 MB 10.1 MB/s eta 0:00:01\n",
      "   --------------------- ------------------ 6.1/11.4 MB 10.0 MB/s eta 0:00:01\n",
      "   ---------------------- ----------------- 6.6/11.4 MB 9.7 MB/s eta 0:00:01\n",
      "   ------------------------ --------------- 7.0/11.4 MB 10.0 MB/s eta 0:00:01\n",
      "   -------------------------- ------------- 7.5/11.4 MB 9.8 MB/s eta 0:00:01\n",
      "   ---------------------------- ----------- 8.0/11.4 MB 9.8 MB/s eta 0:00:01\n",
      "   ----------------------------- ---------- 8.4/11.4 MB 9.7 MB/s eta 0:00:01\n",
      "   ------------------------------ --------- 8.8/11.4 MB 9.8 MB/s eta 0:00:01\n",
      "   ------------------------------- -------- 9.1/11.4 MB 9.7 MB/s eta 0:00:01\n",
      "   --------------------------------- ------ 9.5/11.4 MB 9.8 MB/s eta 0:00:01\n",
      "   ---------------------------------- ----- 9.9/11.4 MB 9.7 MB/s eta 0:00:01\n",
      "   ----------------------------------- ---- 10.2/11.4 MB 9.6 MB/s eta 0:00:01\n",
      "   ------------------------------------- -- 10.7/11.4 MB 9.6 MB/s eta 0:00:01\n",
      "   ---------------------------------------  11.1/11.4 MB 9.6 MB/s eta 0:00:01\n",
      "   ---------------------------------------  11.4/11.4 MB 9.5 MB/s eta 0:00:01\n",
      "   ---------------------------------------- 11.4/11.4 MB 8.8 MB/s eta 0:00:00\n",
      "Using cached jupyterlab_server-2.25.2-py3-none-any.whl (58 kB)\n",
      "Using cached jupyterlab_widgets-3.0.9-py3-none-any.whl (214 kB)\n",
      "Using cached async_lru-2.0.4-py3-none-any.whl (6.1 kB)\n",
      "Downloading httpx-0.26.0-py3-none-any.whl (75 kB)\n",
      "   ---------------------------------------- 0.0/75.9 kB ? eta -:--:--\n",
      "   ---------------------------------------- 75.9/75.9 kB 4.1 MB/s eta 0:00:00\n",
      "Downloading httpcore-1.0.2-py3-none-any.whl (76 kB)\n",
      "   ---------------------------------------- 0.0/76.9 kB ? eta -:--:--\n",
      "   ---------------------------------------- 76.9/76.9 kB 4.2 MB/s eta 0:00:00\n",
      "Downloading jsonschema-4.21.1-py3-none-any.whl (85 kB)\n",
      "   ---------------------------------------- 0.0/85.5 kB ? eta -:--:--\n",
      "   ---------------------------------------- 85.5/85.5 kB 4.7 MB/s eta 0:00:00\n",
      "Using cached jupyter_events-0.9.0-py3-none-any.whl (18 kB)\n",
      "Downloading jupyter_lsp-2.2.2-py3-none-any.whl (68 kB)\n",
      "   ---------------------------------------- 0.0/68.8 kB ? eta -:--:--\n",
      "   ---------------------------------------- 68.8/68.8 kB 3.7 MB/s eta 0:00:00\n",
      "Downloading jupyter_server_terminals-0.5.2-py3-none-any.whl (13 kB)\n",
      "Downloading overrides-7.7.0-py3-none-any.whl (17 kB)\n",
      "Using cached attrs-23.2.0-py3-none-any.whl (60 kB)\n",
      "Using cached jsonschema_specifications-2023.12.1-py3-none-any.whl (18 kB)\n",
      "Downloading referencing-0.33.0-py3-none-any.whl (26 kB)\n",
      "Installing collected packages: overrides, jupyterlab-widgets, h11, fqdn, comm, attrs, async-lru, referencing, jupyter-server-terminals, httpcore, jsonschema-specifications, isoduration, httpx, jsonschema, ipywidgets, jupyter-events, jupyter-server, jupyterlab-server, jupyter-lsp, jupyterlab, notebook\n",
      "  Attempting uninstall: jupyterlab-widgets\n",
      "    Found existing installation: jupyterlab-widgets 3.0.5\n",
      "    Uninstalling jupyterlab-widgets-3.0.5:\n",
      "      Successfully uninstalled jupyterlab-widgets-3.0.5\n",
      "  Attempting uninstall: comm\n",
      "    Found existing installation: comm 0.1.2\n",
      "    Uninstalling comm-0.1.2:\n",
      "      Successfully uninstalled comm-0.1.2\n",
      "  Attempting uninstall: attrs\n",
      "    Found existing installation: attrs 22.1.0\n",
      "    Uninstalling attrs-22.1.0:\n",
      "      Successfully uninstalled attrs-22.1.0\n",
      "  Attempting uninstall: jsonschema\n",
      "    Found existing installation: jsonschema 4.17.3\n",
      "    Uninstalling jsonschema-4.17.3:\n",
      "      Successfully uninstalled jsonschema-4.17.3\n",
      "  Attempting uninstall: ipywidgets\n",
      "    Found existing installation: ipywidgets 8.0.4\n",
      "    Uninstalling ipywidgets-8.0.4:\n",
      "      Successfully uninstalled ipywidgets-8.0.4\n",
      "  Attempting uninstall: jupyter-events\n",
      "    Found existing installation: jupyter-events 0.6.3\n",
      "    Uninstalling jupyter-events-0.6.3:\n",
      "      Successfully uninstalled jupyter-events-0.6.3\n",
      "  Attempting uninstall: jupyter-server\n",
      "    Found existing installation: jupyter-server 1.23.4\n",
      "    Uninstalling jupyter-server-1.23.4:\n",
      "      Successfully uninstalled jupyter-server-1.23.4\n",
      "  Attempting uninstall: jupyterlab-server\n",
      "    Found existing installation: jupyterlab_server 2.22.0\n",
      "    Uninstalling jupyterlab_server-2.22.0:\n",
      "      Successfully uninstalled jupyterlab_server-2.22.0\n",
      "  Attempting uninstall: jupyterlab\n",
      "    Found existing installation: jupyterlab 3.6.3\n",
      "    Uninstalling jupyterlab-3.6.3:\n",
      "      Successfully uninstalled jupyterlab-3.6.3\n",
      "  Attempting uninstall: notebook\n",
      "    Found existing installation: notebook 6.5.4\n",
      "    Uninstalling notebook-6.5.4:\n",
      "      Successfully uninstalled notebook-6.5.4\n",
      "Successfully installed async-lru-2.0.4 attrs-23.2.0 comm-0.2.1 fqdn-1.5.1 h11-0.14.0 httpcore-1.0.2 httpx-0.26.0 ipywidgets-8.1.1 isoduration-20.11.0 jsonschema-4.21.1 jsonschema-specifications-2023.12.1 jupyter-events-0.9.0 jupyter-lsp-2.2.2 jupyter-server-2.12.5 jupyter-server-terminals-0.5.2 jupyterlab-4.1.0 jupyterlab-server-2.25.2 jupyterlab-widgets-3.0.9 notebook-7.0.7 overrides-7.7.0 referencing-0.33.0\n"
     ]
    },
    {
     "name": "stdout",
     "output_type": "stream",
     "text": [
      "Requirement already satisfied: ipycytoscape in d:\\anaconda3\\lib\\site-packages (1.3.3)\n",
      "Requirement already satisfied: ipywidgets>=7.6.0 in d:\\anaconda3\\lib\\site-packages (from ipycytoscape) (8.1.1)\n",
      "Requirement already satisfied: spectate>=1.0.0 in d:\\anaconda3\\lib\\site-packages (from ipycytoscape) (1.0.1)\n",
      "Requirement already satisfied: comm>=0.1.3 in d:\\anaconda3\\lib\\site-packages (from ipywidgets>=7.6.0->ipycytoscape) (0.2.1)\n",
      "Requirement already satisfied: ipython>=6.1.0 in d:\\anaconda3\\lib\\site-packages (from ipywidgets>=7.6.0->ipycytoscape) (8.15.0)\n",
      "Requirement already satisfied: traitlets>=4.3.1 in d:\\anaconda3\\lib\\site-packages (from ipywidgets>=7.6.0->ipycytoscape) (5.7.1)\n",
      "Requirement already satisfied: widgetsnbextension~=4.0.9 in d:\\anaconda3\\lib\\site-packages (from ipywidgets>=7.6.0->ipycytoscape) (4.0.9)\n",
      "Requirement already satisfied: jupyterlab-widgets~=3.0.9 in d:\\anaconda3\\lib\\site-packages (from ipywidgets>=7.6.0->ipycytoscape) (3.0.9)\n",
      "Requirement already satisfied: backcall in d:\\anaconda3\\lib\\site-packages (from ipython>=6.1.0->ipywidgets>=7.6.0->ipycytoscape) (0.2.0)\n",
      "Requirement already satisfied: decorator in d:\\anaconda3\\lib\\site-packages (from ipython>=6.1.0->ipywidgets>=7.6.0->ipycytoscape) (5.1.1)\n",
      "Requirement already satisfied: jedi>=0.16 in d:\\anaconda3\\lib\\site-packages (from ipython>=6.1.0->ipywidgets>=7.6.0->ipycytoscape) (0.18.1)\n",
      "Requirement already satisfied: matplotlib-inline in d:\\anaconda3\\lib\\site-packages (from ipython>=6.1.0->ipywidgets>=7.6.0->ipycytoscape) (0.1.6)\n",
      "Requirement already satisfied: pickleshare in d:\\anaconda3\\lib\\site-packages (from ipython>=6.1.0->ipywidgets>=7.6.0->ipycytoscape) (0.7.5)\n",
      "Requirement already satisfied: prompt-toolkit!=3.0.37,<3.1.0,>=3.0.30 in d:\\anaconda3\\lib\\site-packages (from ipython>=6.1.0->ipywidgets>=7.6.0->ipycytoscape) (3.0.36)\n",
      "Requirement already satisfied: pygments>=2.4.0 in d:\\anaconda3\\lib\\site-packages (from ipython>=6.1.0->ipywidgets>=7.6.0->ipycytoscape) (2.15.1)\n",
      "Requirement already satisfied: stack-data in d:\\anaconda3\\lib\\site-packages (from ipython>=6.1.0->ipywidgets>=7.6.0->ipycytoscape) (0.2.0)\n",
      "Requirement already satisfied: colorama in d:\\anaconda3\\lib\\site-packages (from ipython>=6.1.0->ipywidgets>=7.6.0->ipycytoscape) (0.4.6)\n",
      "Requirement already satisfied: parso<0.9.0,>=0.8.0 in d:\\anaconda3\\lib\\site-packages (from jedi>=0.16->ipython>=6.1.0->ipywidgets>=7.6.0->ipycytoscape) (0.8.3)\n",
      "Requirement already satisfied: wcwidth in d:\\anaconda3\\lib\\site-packages (from prompt-toolkit!=3.0.37,<3.1.0,>=3.0.30->ipython>=6.1.0->ipywidgets>=7.6.0->ipycytoscape) (0.2.5)\n",
      "Requirement already satisfied: executing in d:\\anaconda3\\lib\\site-packages (from stack-data->ipython>=6.1.0->ipywidgets>=7.6.0->ipycytoscape) (0.8.3)\n",
      "Requirement already satisfied: asttokens in d:\\anaconda3\\lib\\site-packages (from stack-data->ipython>=6.1.0->ipywidgets>=7.6.0->ipycytoscape) (2.0.5)\n",
      "Requirement already satisfied: pure-eval in d:\\anaconda3\\lib\\site-packages (from stack-data->ipython>=6.1.0->ipywidgets>=7.6.0->ipycytoscape) (0.2.2)\n",
      "Requirement already satisfied: six in d:\\anaconda3\\lib\\site-packages (from asttokens->stack-data->ipython>=6.1.0->ipywidgets>=7.6.0->ipycytoscape) (1.16.0)\n"
     ]
    }
   ],
   "source": [
    "# Instalação de pacotes necessários\n",
    "!pip install --upgrade notebook ipywidgets\n",
    "!pip install ipycytoscape"
   ]
  },
  {
   "cell_type": "markdown",
   "id": "fa1245fa",
   "metadata": {},
   "source": [
    "# Etapa 2: Importando Módulos Necessários"
   ]
  },
  {
   "cell_type": "markdown",
   "id": "e154d3f8",
   "metadata": {},
   "source": [
    "A célula a seguir é responsável por importar as bibliotecas necessárias para o funcionamento do programa."
   ]
  },
  {
   "cell_type": "code",
   "execution_count": 2,
   "id": "68a1def9",
   "metadata": {
    "ExecuteTime": {
     "end_time": "2024-02-08T00:19:53.596994Z",
     "start_time": "2024-02-08T00:19:52.602808Z"
    }
   },
   "outputs": [],
   "source": [
    "# Bibliotecas\n",
    "import networkx as nx\n",
    "import ipycytoscape\n",
    "from ipywidgets import Output"
   ]
  },
  {
   "cell_type": "markdown",
   "id": "a28175fd",
   "metadata": {},
   "source": [
    "## <font color='red'>Etapa 2.1: Apenas no Ambiente Colab </font>"
   ]
  },
  {
   "cell_type": "markdown",
   "id": "1594068d",
   "metadata": {},
   "source": [
    "Caso esteja no ambiente Google Colab execute a célula a seguir:"
   ]
  },
  {
   "cell_type": "code",
   "execution_count": null,
   "id": "196f9dab",
   "metadata": {
    "ExecuteTime": {
     "end_time": "2024-02-08T00:10:56.960838Z",
     "start_time": "2024-02-08T00:10:56.222354Z"
    }
   },
   "outputs": [],
   "source": [
    "from google.colab import output\n",
    "output.enable_custom_widget_manager()"
   ]
  },
  {
   "cell_type": "markdown",
   "id": "86b83c45",
   "metadata": {},
   "source": [
    "# Etapa 3: Executando a Função Principal"
   ]
  },
  {
   "cell_type": "markdown",
   "id": "e07c11f8",
   "metadata": {},
   "source": [
    "A célula a seguir contém a função principal do nosso código. Edite-a apenas se tiver certeza do que está fazendo."
   ]
  },
  {
   "cell_type": "code",
   "execution_count": 3,
   "id": "1aaed791",
   "metadata": {
    "ExecuteTime": {
     "end_time": "2024-02-08T00:19:53.607278Z",
     "start_time": "2024-02-08T00:19:53.596994Z"
    }
   },
   "outputs": [],
   "source": [
    "def plota_grafo(data, config):\n",
    "    # Cria o grafo\n",
    "    G = nx.DiGraph() if config['directed'] else nx.Graph()\n",
    "    for node_id, label in data['nodes'].items():\n",
    "        G.add_node(node_id, label=label)\n",
    "    for edge in data['edges']:\n",
    "        G.add_edge(edge[0], edge[1], **edge[2])\n",
    "\n",
    "    # Converte para o ipycytoscape\n",
    "    cyto_graph = ipycytoscape.CytoscapeWidget()\n",
    "    cyto_graph.graph.add_graph_from_networkx(G, directed=config['directed'])\n",
    "\n",
    "    # Função para atualizar estilos e rótulos\n",
    "    def update_styles_and_labels(cyto_graph, data):\n",
    "        styles = [\n",
    "            {\n",
    "                'selector': 'node',\n",
    "                'css': {\n",
    "                    'content': 'data(label)',\n",
    "                    'text-valign': 'center',\n",
    "                    'font_color': config['font_color'],\n",
    "                    'font-family': config['font_family'],\n",
    "                    'text-outline-width': config['text_outline_width'],\n",
    "                    'text-outline-color': config['outline_color'],\n",
    "                    'background-color': config['vertex_color'],\n",
    "                    'color': config['vertex_font_color']\n",
    "                }\n",
    "            },\n",
    "            {\n",
    "                'selector': 'edge',\n",
    "                'css': {\n",
    "                    'target-arrow-shape': 'triangle' if config['directed'] else 'none',\n",
    "                    'width': config['edge_thickness'],\n",
    "                    'line-color': config['edge_color'],\n",
    "                    'color': config['edge_font_color']\n",
    "                }\n",
    "            }\n",
    "        ]\n",
    "        for edge in cyto_graph.graph.edges:\n",
    "            source, target = edge.data['source'], edge.data['target']\n",
    "            edge_label = \"\"\n",
    "            if config['show_labels'] and 'label' in edge.data:\n",
    "                edge_label = edge.data['label']\n",
    "            if config['show_weights'] and 'weight' in G[source][target]:\n",
    "                edge_label += f\" {G[source][target]['weight']}\"\n",
    "            edge.data['label'] = edge_label\n",
    "            styles.append({\n",
    "                'selector': f'edge[source=\"{source}\"][target=\"{target}\"]',\n",
    "                'css': {\n",
    "                    'content': 'data(label)'\n",
    "                }\n",
    "            })\n",
    "        cyto_graph.set_style(styles)\n",
    "\n",
    "    update_styles_and_labels(cyto_graph, data)\n",
    "\n",
    "    # Exibe o grafo em um widget\n",
    "    output = Output()\n",
    "    with output:\n",
    "        display(cyto_graph)\n",
    "    return output"
   ]
  },
  {
   "cell_type": "markdown",
   "id": "512d5541",
   "metadata": {},
   "source": [
    "# Etapa 4: Configurações do Grafo"
   ]
  },
  {
   "cell_type": "markdown",
   "id": "cc6df6e9",
   "metadata": {},
   "source": [
    "A célula a seguir apresenta as configurações do nosso grafo interativo. É possível editar cores dos vértices e arestas, pesos das arestas (ativar ou desativar) entre outras funcionalidades."
   ]
  },
  {
   "cell_type": "code",
   "execution_count": 4,
   "id": "7462042f",
   "metadata": {
    "ExecuteTime": {
     "end_time": "2024-02-08T00:19:53.614439Z",
     "start_time": "2024-02-08T00:19:53.607278Z"
    }
   },
   "outputs": [],
   "source": [
    "config = {\n",
    "    'show_weights': True, # Exibir os pesos das arestas\n",
    "    'show_labels': True, # Exibir os rótulos das arestas\n",
    "    'directed': True,  # Mude para True para fazer o grafo direcionado\n",
    "    'edge_color': 'red',  # Cor das arestas\n",
    "    'vertex_font_color': 'white',  # Cor da fonte dos vértices\n",
    "    'edge_font_color': 'blue',  # Cor da fonte das arestas\n",
    "    'vertex_color': 'blue', # Cor dos vértices\n",
    "    'font_color': 'red', # Cor da fonte\n",
    "    'font_family': 'Arial', # Definindo a fonte dos rótulos dos vértices\n",
    "    'outline_color': '', # Cor do contorno do texto\n",
    "    'text_outline_width': 0, # Largura do contorno do texto\n",
    "    'edge_thickness': 2 # Espessura das arestas\n",
    "}"
   ]
  },
  {
   "cell_type": "markdown",
   "id": "8f7e92b5",
   "metadata": {},
   "source": [
    "# Etapa 5: Dados do Grafo"
   ]
  },
  {
   "cell_type": "markdown",
   "id": "cb9536f6",
   "metadata": {},
   "source": [
    "Insira o grafo no formato de dicionário, conforme o exemplo a seguir:"
   ]
  },
  {
   "cell_type": "code",
   "execution_count": 5,
   "id": "b9a258bf",
   "metadata": {
    "ExecuteTime": {
     "end_time": "2024-02-08T00:19:53.621193Z",
     "start_time": "2024-02-08T00:19:53.614439Z"
    }
   },
   "outputs": [],
   "source": [
    "# Dados de entrada em formato de dicionário\n",
    "data = {\n",
    "    'nodes': {'1': 'A', '2': 'B', '3': 'C', '4': 'D', '5': 'E'},\n",
    "    'edges': [\n",
    "        ('1', '2', {'weight': 0, 'label': ''}),\n",
    "        ('1', '3', {'weight': 0, 'label': ''}),\n",
    "        ('3', '4', {'weight': 0, 'label': ''})]\n",
    "}"
   ]
  },
  {
   "cell_type": "markdown",
   "id": "f0b0be0d",
   "metadata": {
    "ExecuteTime": {
     "end_time": "2024-02-07T23:17:20.380066Z",
     "start_time": "2024-02-07T23:17:20.361518Z"
    }
   },
   "source": [
    "# Etapa 6: Desenhando o Grafo"
   ]
  },
  {
   "cell_type": "markdown",
   "id": "392693ff",
   "metadata": {},
   "source": [
    "Após compilar a célula a seguir, você obterá um grafo remodelável. Divirta-se!"
   ]
  },
  {
   "cell_type": "code",
   "execution_count": 6,
   "id": "fa296a3d",
   "metadata": {
    "ExecuteTime": {
     "end_time": "2024-02-08T00:19:53.647038Z",
     "start_time": "2024-02-08T00:19:53.621193Z"
    }
   },
   "outputs": [
    {
     "data": {
      "application/vnd.jupyter.widget-view+json": {
       "model_id": "72293345e3bc4cebb397fe0ff263432c",
       "version_major": 2,
       "version_minor": 0
      },
      "text/plain": [
       "Output()"
      ]
     },
     "execution_count": 6,
     "metadata": {},
     "output_type": "execute_result"
    }
   ],
   "source": [
    "plota_grafo(data,config)"
   ]
  }
 ],
 "metadata": {
  "kernelspec": {
   "display_name": "Python 3 (ipykernel)",
   "language": "python",
   "name": "python3"
  },
  "language_info": {
   "codemirror_mode": {
    "name": "ipython",
    "version": 3
   },
   "file_extension": ".py",
   "mimetype": "text/x-python",
   "name": "python",
   "nbconvert_exporter": "python",
   "pygments_lexer": "ipython3",
   "version": "3.11.5"
  }
 },
 "nbformat": 4,
 "nbformat_minor": 5
}
