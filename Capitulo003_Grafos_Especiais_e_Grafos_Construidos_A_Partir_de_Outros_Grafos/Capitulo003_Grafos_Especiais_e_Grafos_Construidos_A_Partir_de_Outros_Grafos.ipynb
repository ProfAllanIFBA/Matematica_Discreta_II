{
 "cells": [
  {
   "cell_type": "markdown",
   "id": "d4ea28a8",
   "metadata": {
    "slideshow": {
     "slide_type": "slide"
    }
   },
   "source": [
    "<center> <img src=\"logo_ifba.jpg\" alt=\"jpg_python\" width=\"100\" height=\"200\"> </center>\n",
    "<br><br>\n",
    "<div align=\"center\"><span style=\"font-size: 26px;\"><strong>Matemática Discreta II <br></strong></span><br>\n",
    "<center> <img src=\"python_gif.gif\" alt=\"gif_python\" width=\"80\"> </center>"
   ]
  },
  {
   "cell_type": "markdown",
   "id": "d76184a7",
   "metadata": {
    "slideshow": {
     "slide_type": "slide"
    }
   },
   "source": [
    "<div style=\"border: 2px solid black; padding: 10px; width: 95%; background-color: lightgray; display: flex; align-items: center;\">\n",
    "    <h1 style=\"color: red; text-align: center; margin: auto;\">\n",
    "        Capítulo 3: Grafos Especiais e Grafos Construídos a Partir de Outros Grafos\n",
    "    </h1>\n",
    "</div>\n",
    "\n",
    "<font color='red'></font>\n",
    "<a href=\"\"></a>"
   ]
  },
  {
   "cell_type": "markdown",
   "id": "fa3a1fa8",
   "metadata": {},
   "source": [
    "Neste capítulo apresentaremos alguns grafos bastante recorrentes na teoria. Saber o nome e as características destes será muito importante na compreensão de alguns exemplos e situações futuras."
   ]
  },
  {
   "cell_type": "markdown",
   "id": "20189da1",
   "metadata": {
    "slideshow": {
     "slide_type": "slide"
    }
   },
   "source": [
    "# <div style=\"margin-top: -20px;\">\n",
    "<hr style=\"border: 2px solid black;\">\n",
    "\n",
    "<font color='black'><span style=\"font-size: 22px;\"><strong>3.1 Grafos Usuais</strong></span></font>\n",
    "\n",
    "<hr style=\"border: 2px solid black;\">\n",
    "</div>"
   ]
  },
  {
   "cell_type": "markdown",
   "id": "8dfe2274",
   "metadata": {},
   "source": [
    "Os exemplos que se seguirão apresentam grafos usualmente abordados em muitos enunciados."
   ]
  },
  {
   "cell_type": "markdown",
   "id": "0f801060",
   "metadata": {},
   "source": [
    "#### <font color='blue'> Grafos Completos </font>"
   ]
  },
  {
   "cell_type": "markdown",
   "id": "a3466734",
   "metadata": {},
   "source": [
    "<font color='blue'> Um grafo de $n$ vértices e dito **completo**, denotado por $K_{n}$, é um grafo simples que contém exatamente uma aresta entre cada par de vértices distintos. Os grafos $K_{n}$, para $n = 1, 2, 3, 4, 5$, são exibidos na figura a seguir. Um grafo simples para o qual há pelo menos um par de vértices distintos não conexos por uma borda é chamado de incompleto.<br><br>\n",
    " <center> <img src=\"fig3_1.jpg\" alt=\"jpg_python\" width=\"700\" height=\"\"> </center>"
   ]
  },
  {
   "cell_type": "markdown",
   "id": "4bb95109",
   "metadata": {},
   "source": [
    "#### <font color='blue'> Grafos Cíclicos </font>"
   ]
  },
  {
   "cell_type": "markdown",
   "id": "89c0422a",
   "metadata": {},
   "source": [
    "<font color='blue'> Um **ciclo** $C_{n}$, $n \\geq 3$, consiste de $n$ vértices $v_{1}$, $v_{2}$,... , $v_{n}$ e arestas $\\{v_{1}, v_{2}\\}$,\t$\\{v_{2}, v_{3}\\}$,... , $\\{v_{n-1}, v_{n}\\}$ e $\\{v_{n}, v_{1}\\}$. Os ciclos $C_{3}$, $C_{4}$ e $C_{5}$ são exibidos na figura a seguir:<br><br>\n",
    " <center> <img src=\"fig3_2.jpg\" alt=\"jpg_python\" width=\"700\" height=\"\"> </center>"
   ]
  },
  {
   "cell_type": "markdown",
   "id": "7d7411a5",
   "metadata": {},
   "source": [
    "#### <font color='blue'> Grafos Tipo Roda </font>"
   ]
  },
  {
   "cell_type": "markdown",
   "id": "c65eda9c",
   "metadata": {},
   "source": [
    "<font color='blue'> Obtemos uma **roda** (wheel) $W_{n}$ quando adicionamos um vértice adicional a um ciclo $C_{n}$, para $n \\geq 3$, de tal modo que este novo vértice se conecte a cada um dos $n$ vértices em $C_{n}$, por novas arestas. As rodas $W_{3}$, $W_{4}$ e $W_{5}$ são exibidos na figura a seguir:<br><br>\n",
    " <center> <img src=\"fig3_3.jpg\" alt=\"jpg_python\" width=\"700\" height=\"\"> </center>"
   ]
  },
  {
   "cell_type": "markdown",
   "id": "b1476c04",
   "metadata": {},
   "source": [
    "# <div style=\"margin-top: -20px;\">\n",
    "<hr style=\"border: 2px solid black;\">\n",
    "\n",
    "<font color='black'><span style=\"font-size: 22px;\"><strong>3.2 Grafos Bipartidos</strong></span></font>\n",
    "\n",
    "<hr style=\"border: 2px solid black;\">\n",
    "</div>"
   ]
  },
  {
   "cell_type": "markdown",
   "id": "61589fce",
   "metadata": {},
   "source": [
    "#### <font color='red'> Definição 1 </font>"
   ]
  },
  {
   "cell_type": "markdown",
   "id": "400abc71",
   "metadata": {},
   "source": [
    "<font color='red'> Um grafo simples $G$ é chamado **bipartido** se seu conjunto de vértices $V$ puder ser particionado em dois conjuntos disjuntos $V_{1}$ e $V_{2}$ de tal forma que cada aresta do grafo conecta um vértice em $V_{1}$ e um vértice em $V_{2}$ (portanto nenhuma aresta em $G$ conecte dois vértices em $V_{1}$ ou dois vértices em $V_{2}$). Quando essa condição é verificada, par $(V_{1}, V_{2}$) é dito ser uma bipartição do conjunto de vértices $V$ de $G$."
   ]
  },
  {
   "cell_type": "markdown",
   "id": "cfa684b2",
   "metadata": {},
   "source": [
    "#### <font color='blue'> Exemplo 1 </font>"
   ]
  },
  {
   "cell_type": "markdown",
   "id": "e87a30f6",
   "metadata": {},
   "source": [
    "<font color='blue'> Note que $C_{6}$ é bipartido conforme mostrado na figura a seguir. De fato, seus vértices podem ser particionados em dois conjuntos $V_{1} = \\{v_{1},v_{3},v_{5}\\}$ e $V_{2} = \\{v_{2},v_{4}, v_{6}\\}$ e toda aresta de $C_{6}$ conecta um vértice de $V_{1}$ a um vértice de $V_{2}$.<br><br>\n",
    " <center> <img src=\"fig3_4.jpg\" alt=\"jpg_python\" width=\"500\" height=\"\"> </center>"
   ]
  },
  {
   "cell_type": "markdown",
   "id": "1fe7fb32",
   "metadata": {},
   "source": [
    "#### Observação 1"
   ]
  },
  {
   "cell_type": "markdown",
   "id": "010d2567",
   "metadata": {},
   "source": [
    "Note que, no **Exemplo 1** redesenhamos um grafo de modo a obtermos um outro grafo. Contudo essa remodelagem não alterou as relações existentes entre os vértices e as arestas presentes. Após tratarmos da ideia de **isomorfismo**, mais à frente, ficaremos mais à vontade com tal transformação."
   ]
  },
  {
   "cell_type": "markdown",
   "id": "354183a7",
   "metadata": {},
   "source": [
    "#### <font color='blue'> Exemplo 2 </font>"
   ]
  },
  {
   "cell_type": "markdown",
   "id": "1d3c850b",
   "metadata": {},
   "source": [
    "<font color='blue'> $K_{3}$ não é bipartido. Para verificar isso note que se não dividirmos o conjuntos dos vértices de $K_{3}$ em dois conjuntos disjuntos, um destes conjuntos conterá dois vértices. *Se não conseguiu ver que $K_{3}$ não é bipartido, aguarde que logo mais vai ficar moleza!*"
   ]
  },
  {
   "cell_type": "markdown",
   "id": "9aeddd1d",
   "metadata": {},
   "source": [
    "#### <font color='blue'> Exemplo 3 </font>"
   ]
  },
  {
   "cell_type": "markdown",
   "id": "b7f98781",
   "metadata": {},
   "source": [
    "<font color='blue'> Os grafos mostrados a seguir são bipartidos?<br><br>\n",
    " <center> <img src=\"fig3_5.jpg\" alt=\"jpg_python\" width=\"600\" height=\"\"> </center>"
   ]
  },
  {
   "cell_type": "markdown",
   "id": "2b4c1c60",
   "metadata": {},
   "source": [
    "<font color='blue'> **Solução**: O grafo $G$ é bipartido pois seus vértices são a união dos conjuntos disjuntos $\\{a, b, d, e\\}$ e $\\{c, f, g\\}$ em que cada aresta conecta um vértice de um desses subconjuntos a um vértice do outro subconjunto. Por outro lado, $H$ não é bipartido pois o conjunto dos seus vértices não pode ser particionado em dois subconjuntos disjuntos de modo que arestas conectem um vértice de um desses subconjuntos a um vértice do outro. Sempre as arestas conectam vértices do mesmo conjunto. Um motivo simples está nas relações entre os vértices $b$, $c$ e $g$. Note que todos tem conexões entre si de modo que é impossível colocá-los em apenas duas partições distintas conforme exige a **Definição 1**."
   ]
  },
  {
   "cell_type": "markdown",
   "id": "6341b322",
   "metadata": {},
   "source": [
    "#### <font color='red'> Teorema 1 </font>"
   ]
  },
  {
   "cell_type": "markdown",
   "id": "70274614",
   "metadata": {},
   "source": [
    "<font color='red'> Um grafo simples é bipartido se, e somente se, é possível pintar cada um de seus vértices com apenas duas cores de modo que dois vértices adjacente não sejam pintados da mesma cor."
   ]
  },
  {
   "cell_type": "markdown",
   "id": "fee7cb54",
   "metadata": {},
   "source": [
    "<font color='red'> **Demonstração**: $\\Rightarrow)$ Primeiros, suponha que $G=(V,E)$ é um grafo bipartido simples. Então $V = V_{1} \\cup V_{2}$, em que $V_{1}$ e $V_{2}$ são disjuntos e todo aresta em $E$ conecta um vértice de $V_{1}$ a um vértice de $V_{2}$. Se pintarmos de uma cor cada vértice em $V_{1}$ uma segunda cor cada vértice em $V_{2}$, então nunca dois vértices adjacentes serão pintados com a mesma cor.<br>\n",
    "$\\Leftarrow)$ Agora suponha que é possivel pintar com duas cores todos os vértices de modo que nunca dois vértices adjacentes sejam pintados com a mesma cor. Seja $V_{1}$ o conjunto dos vértices pintados com uma das cores e $V_{2}$ o conjunto dos vértices pintados com a outra cor. Então $V_{1}$ e $V_{2}$ são disjuntos e $V = V_{1} \\cup V_{2}$. Além disso, toda aresta conecta um vértice em $V_{1}$ a um vértice em $V_{2}$ pois nenhum par de vertices adjacentes são ambos vizinhos de $V_{1}$ ou de $V_{2}$. Consequentemente $G$ é bipartido."
   ]
  },
  {
   "cell_type": "markdown",
   "id": "4611eedd",
   "metadata": {},
   "source": [
    "#### <font color='blue'> Exemplo 4 </font>"
   ]
  },
  {
   "cell_type": "markdown",
   "id": "17891f55",
   "metadata": {},
   "source": [
    "<font color='blue'> Use o **Teorema 1** para mostrar que o grafo $G$ do **Exemplo 3** é bipartido e o grafo $H$ não."
   ]
  },
  {
   "cell_type": "markdown",
   "id": "7af5a3f9",
   "metadata": {},
   "source": [
    "<font color='blue'> **Solução**: Temos que<br>\n",
    "**Grafo $G$**: Comecemos analisando o grafo $G$. Consideremos as cores verde e vermelha para pintar cada vértice em $G$. Assim, toda aresta de $G$ deve conectar um vértice verde a um vértice vermelho. Sem perdas de generalidade, pintando $a$ de vermelho. Então, nós devemos pintar de azul $c$ e $f$ de verde. Para evitarmos ter uma aresta em $G$ com dois pontos finais verdes, nós devemos pintar de vermelho todos os vértices adjacentes a qualquer dos vértices $c$ e $f$. Assim, devemos pintar de vermelho os vértices $d$ e $e$. Por fim, pintamos o vértice $b$ com a cor vermelha e o vértice $g$ com a cor verde. Logo, o **Teorema 1** assegura que $G$ é bipartido. Acompanhe a coloração na figura abaixo.<br>\n",
    "**Grafo $H$**: Tomando, novamente as cores verde e vermelho. Comecemos, sem perdas de generalidade pintando $a$ com a cor vermelha. A escolha inicial induz a escolha da cor verde para pintarmos o vértice $b$. Contudo, esta segunda escolha nos induz à escolha da cor vermelha para pintar os vértices $c$ e $g$ o que não é permitido. Logo, o grafo não é bipartido. Acompanhe a coloração na figura a seguir:<br><br>\n",
    " <center> <img src=\"fig3_6.jpg\" alt=\"jpg_python\" width=\"600\" height=\"\"> </center>"
   ]
  },
  {
   "cell_type": "markdown",
   "id": "a68a9531",
   "metadata": {},
   "source": [
    "#### Observação 2"
   ]
  },
  {
   "cell_type": "markdown",
   "id": "fa859d5f",
   "metadata": {},
   "source": [
    "No **Exemplo 4** a coloração dos grafos poderia ser feita a partir de qualquer vértice. Além disso o **Teorema 1** foi usado tanto para mostrar que um grafo é bipartido como para mostrar que não."
   ]
  },
  {
   "cell_type": "markdown",
   "id": "8cd1fff5",
   "metadata": {},
   "source": [
    "#### <font color='blue'> Exemplo 5 </font>"
   ]
  },
  {
   "cell_type": "markdown",
   "id": "7573e9d0",
   "metadata": {},
   "source": [
    "<font color='blue'> Um grafo **bipartido completo** $K_{m,n}$ é um grafo em que seus vértices são particionados em dois subconjuntos de $m$ e $n$ vértices, respectivamente, com uma aresta entre dois vértices se, e somente se, um vértice está no primeiro subconjunto e um outro vértice no segundo subconjunto. Alguns grafos bipartidos completos são mostrados na figura a seguir:<br><br>\n",
    " <center> <img src=\"fig3_7.jpg\" alt=\"jpg_python\" width=\"700\" height=\"\"> </center>"
   ]
  },
  {
   "cell_type": "markdown",
   "id": "af22659f",
   "metadata": {},
   "source": [
    "# <div style=\"margin-top: -20px;\">\n",
    "<hr style=\"border: 2px solid black;\">\n",
    "\n",
    "<font color='black'><span style=\"font-size: 22px;\"><strong>3.3 Grafos Construídos a Partir de Outros Grafos</strong></span></font>\n",
    "\n",
    "<hr style=\"border: 2px solid black;\">\n",
    "</div>"
   ]
  },
  {
   "cell_type": "markdown",
   "id": "715f17cc",
   "metadata": {},
   "source": [
    "Agora veremos algumas definições que nos permitirão criar novos grafos a partir de grafos existentes em uma dada situação. Tais definições serão bastante exploradas em capítulos futuros."
   ]
  },
  {
   "cell_type": "markdown",
   "id": "548fd9ad",
   "metadata": {},
   "source": [
    "#### <font color='red'> Definição 2 </font>"
   ]
  },
  {
   "cell_type": "markdown",
   "id": "4ef901a8",
   "metadata": {},
   "source": [
    "<font color='red'> Um **subgrafo** de um grafo $G = (V, E)$ é um grafo $H = (W, F)$, onde $W \\subseteq V $e $F \\subseteq E.$. Um subgrafo $H$ de $G$ é um **subgrafo próprio** de $G$ se $H \\neq G$."
   ]
  },
  {
   "cell_type": "markdown",
   "id": "579ca72d",
   "metadata": {},
   "source": [
    "Em termos mais simples, um grafo $H$ é subgrafo de um grafo $G$ quando o primeiro pode ser obtido a partir de $G$ pela remoção de vértices e/ou arestas. Obviamente $G$ é um subgrafo de $G$. *Notou a semelhança com a Teoria dos Conjuntos?*"
   ]
  },
  {
   "cell_type": "markdown",
   "id": "bd5f7dda",
   "metadata": {},
   "source": [
    "#### <font color='blue'> Exemplo 6 </font>"
   ]
  },
  {
   "cell_type": "markdown",
   "id": "11913386",
   "metadata": {},
   "source": [
    "<font color='blue'> Determine qual(is) dos grafos $H$, $F$ e $J$ são subgrafos do grafo $G$, todos presentes na figura a seguir:<br><br>\n",
    "<center> <img src=\"fig3_8.jpg\" alt=\"jpg_python\" width=\"750\" height=\"\"> </center>\n"
   ]
  },
  {
   "cell_type": "markdown",
   "id": "989c3dc7",
   "metadata": {},
   "source": [
    "<font color='blue'> **Solução**: Note que o grafo $H$ é subgrafo do grafo $G$ uma vez que pode ser obtido removendo-se as arestas $af$ e $bd$ do grafo $G$ (remoção de arestas é válida); O grafo $F$ também é um subgrafo do grafo $G$ uma vez que pode ser obtido removendo-se o vértice $f$ do grafo $G$ (remoção de vértices é válida); O grafo $J$ não é um subgrafo do grafo $G$ pois a aresta $ab$ presente em $J$ não faz parte do grafo $G$ (\"acréscimo\" de arestas ou vértices não são válidos)."
   ]
  },
  {
   "cell_type": "markdown",
   "id": "f20fe301",
   "metadata": {},
   "source": [
    "#### <font color='red'> Definição 3 </font>"
   ]
  },
  {
   "cell_type": "markdown",
   "id": "caeeb81e",
   "metadata": {},
   "source": [
    "<font color='red'> A **união** de dois grafos simples $G_{1} = (V_{1}, E_{1})$ e $G_{2} = (V_{2}, E_{2})$ é o grafo simples com o conjunto de vetores $V_{1} \\cup V_{2}$ e o conjunto de arestas $E_{1} \\cup E_{2}$. A união de $G_{1}$ e $G_{2}$ é denotada por $G_{1} \\cup G_{2}$."
   ]
  },
  {
   "cell_type": "markdown",
   "id": "9cc4638c",
   "metadata": {},
   "source": [
    "#### <font color='blue'> Exemplo 7 </font>"
   ]
  },
  {
   "cell_type": "markdown",
   "id": "e9ceab4e",
   "metadata": {},
   "source": [
    "<font color='blue'> Exiba a união dos grafos $G_{1}$ e $G_{2}$ mostrados na figura a seguir:<br><br>\n",
    "<center> <img src=\"fig3_9.jpg\" alt=\"jpg_python\" width=\"600\" height=\"\"> </center>"
   ]
  },
  {
   "cell_type": "markdown",
   "id": "936f6436",
   "metadata": {},
   "source": [
    "<font color='blue'> **Solução**: O conjunto de vértices da união $G_{1} \\cup G_{2}$ é a união dos dois conjuntos de vértices, a saber, $\\{a, b, c, d, e, f\\}$. O conjunto de arestas da união é a união dos dois conjuntos de arestas.\tA união é exibida a seguir:<br><br>\n",
    "<center> <img src=\"fig3_10.jpg\" alt=\"jpg_python\" width=\"250\" height=\"\"> </center>"
   ]
  },
  {
   "cell_type": "markdown",
   "id": "a34f014b",
   "metadata": {},
   "source": [
    "# <div style=\"margin-top: -20px;\">\n",
    "<hr style=\"border: 2px solid black;\">\n",
    "\n",
    "<font color='black'><span style=\"font-size: 22px;\"><strong>3.4 Exercícios</strong></span></font>\n",
    "\n",
    "<hr style=\"border: 2px solid black;\">\n",
    "</div>"
   ]
  },
  {
   "cell_type": "markdown",
   "id": "12c586d4",
   "metadata": {
    "ExecuteTime": {
     "end_time": "2023-07-04T13:19:14.383424Z",
     "start_time": "2023-07-04T13:19:14.380445Z"
    },
    "slideshow": {
     "slide_type": "slide"
    }
   },
   "source": [
    "#### Exercício 1"
   ]
  },
  {
   "cell_type": "markdown",
   "id": "60b4fe22",
   "metadata": {},
   "source": [
    "Determine o número de vértices e o número de arestas que os grafos a seguir possuem:\n",
    "\n",
    "a) $C_{10}$ $\\ \\ \\ \\ \\ $ b) $W_{8}$ $\\ \\ \\ \\ \\ $ c) $K_{9}$ $\\ \\ \\ \\ \\ $ d) $K_{9,12}$"
   ]
  },
  {
   "cell_type": "markdown",
   "id": "1edc0fc0",
   "metadata": {},
   "source": [
    "#### Exercício 2"
   ]
  },
  {
   "cell_type": "markdown",
   "id": "1dfc1292",
   "metadata": {},
   "source": [
    "Determine quais dos grafos a seguir são bipartidos:<br><br>\n",
    "<center> <img src=\"fig3_11.jpg\" alt=\"jpg_python\" width=\"600\" height=\"\"> </center>"
   ]
  },
  {
   "cell_type": "markdown",
   "id": "fb599542",
   "metadata": {},
   "source": [
    "#### Exercício 3"
   ]
  },
  {
   "cell_type": "markdown",
   "id": "008b1f2f",
   "metadata": {},
   "source": [
    "Sob quais condições um grafo do tipo ciclo $C_{n}$ é bipartido?"
   ]
  },
  {
   "cell_type": "markdown",
   "id": "1131b525",
   "metadata": {},
   "source": [
    "#### Exercício 4"
   ]
  },
  {
   "cell_type": "markdown",
   "id": "c3fa377e",
   "metadata": {},
   "source": [
    "Considere a a deifinição a seguir: <font color='red'> Um grafo simples é dito **regular** se todo vértice deste grafo tiver o mesmo grau </font>. Para quais valores de $n$ os grafos a seguir são regulares?\n",
    "\n",
    "a) $K_{n}$ $\\ \\ \\ \\ \\ $ b) $C_{n}$  $\\ \\ \\ \\ \\ $ c) $W_{n}$"
   ]
  },
  {
   "cell_type": "markdown",
   "id": "b2aae4d5",
   "metadata": {
    "slideshow": {
     "slide_type": "slide"
    }
   },
   "source": [
    "## <div style=\"margin-top: -20px;\">\n",
    "<hr style=\"border: 2px solid black;\">\n",
    "\n",
    "<font color='black'><span style=\"font-size: 18px;\"><strong>Respostas</strong></span></font>\n",
    "\n",
    "<hr style=\"border: 2px solid black;\">\n",
    "</div>"
   ]
  },
  {
   "cell_type": "markdown",
   "id": "697dfdf4",
   "metadata": {
    "slideshow": {
     "slide_type": "slide"
    }
   },
   "source": [
    "#### Respostas do Exercício 1"
   ]
  },
  {
   "cell_type": "markdown",
   "id": "8de551e9",
   "metadata": {},
   "source": [
    "a) $10$ vértices e $10$ arestas, b) $9$ vértices e $16$ arestas, c) $9$ vértices e $36$ arestas, d) $21$ vértices e $108$ arestas."
   ]
  },
  {
   "cell_type": "markdown",
   "id": "f0277242",
   "metadata": {},
   "source": [
    "#### Respostas do Exercício 2"
   ]
  },
  {
   "cell_type": "markdown",
   "id": "1c134bd1",
   "metadata": {},
   "source": [
    "$G_{1}$ e $G_{3}$ são bipartidos e $G_{2}$ e $G_{4}$ não."
   ]
  },
  {
   "cell_type": "markdown",
   "id": "d2e0c20c",
   "metadata": {},
   "source": [
    "#### Respostas do Exercício 3"
   ]
  },
  {
   "cell_type": "markdown",
   "id": "247c24ad",
   "metadata": {},
   "source": [
    "$n$ deve ser par."
   ]
  },
  {
   "cell_type": "markdown",
   "id": "e418d4d4",
   "metadata": {},
   "source": [
    "#### Respostas do Exercício 4"
   ]
  },
  {
   "cell_type": "markdown",
   "id": "d4f49bd2",
   "metadata": {},
   "source": [
    "a) $n \\geq 1$, b) $n \\geq 3$, c) $n = 3$"
   ]
  },
  {
   "cell_type": "markdown",
   "id": "bb844f24",
   "metadata": {},
   "source": [
    "# <div style=\"margin-top: -20px;\">\n",
    "<hr style=\"border: 2px solid black;\">\n",
    "\n",
    "<font color='black'><span style=\"font-size: 22px;\"><strong>3.5 Vídeo Aulas</strong></span></font>\n",
    "\n",
    "<hr style=\"border: 2px solid black;\">\n",
    "</div>"
   ]
  },
  {
   "cell_type": "markdown",
   "id": "61e875ea",
   "metadata": {},
   "source": [
    "Clicando nos links a seguir você será redirecionado às aulas referentes a este capítulo.\n",
    "\n",
    "[Grafos Usuais](https://youtu.be/f3zhpocRho4)\n",
    "\n",
    "[Grafo Bipartido](https://youtu.be/4mBwTP66JGY)\n",
    "\n",
    "[Exemplo Sobre Grafo Bipartido](https://youtu.be/8XjXOAaJRlg)\n",
    "\n",
    "[Teorema das Duas Cores (Grafo Bipartido)](https://youtu.be/aiK0cv7ZmUY)\n",
    "\n",
    "[Subgrafo](https://youtu.be/tex_JclHsKU)\n",
    "\n",
    "[União de Grafos](https://youtu.be/qOjP8AErb5I)"
   ]
  },
  {
   "cell_type": "markdown",
   "id": "1d92d667",
   "metadata": {},
   "source": [
    "# <div style=\"margin-top: -20px;\">\n",
    "<hr style=\"border: 2px solid black;\">\n",
    "\n",
    "<font color='black'><span style=\"font-size: 22px;\"><strong>3.6 No Computador (Experimental)</strong></span></font>\n",
    "\n",
    "<hr style=\"border: 2px solid black;\">\n",
    "</div>"
   ]
  },
  {
   "cell_type": "markdown",
   "id": "ee80a97f",
   "metadata": {},
   "source": [
    "#### Verficando se um grafo é bipartido"
   ]
  },
  {
   "cell_type": "markdown",
   "id": "85f14f13",
   "metadata": {},
   "source": [
    "O código a seguir verifica se um grafo é bipartido ou não. Caso o grafo em questão seja bipartido as bipartições são exibidas. Nele utilizamos, a título de exemplificação, o grafo $G$ dado no **Exemplo 3**."
   ]
  },
  {
   "cell_type": "code",
   "execution_count": null,
   "id": "8df42fdc",
   "metadata": {
    "ExecuteTime": {
     "end_time": "2023-07-22T22:28:06.133467Z",
     "start_time": "2023-07-22T22:28:05.905828Z"
    }
   },
   "outputs": [],
   "source": [
    "import networkx as nx\n",
    "import csv\n",
    "from io import StringIO\n",
    "\n",
    "# Dados das arestas em formato CSV\n",
    "csv_data = '''\n",
    "a,c\n",
    "a,f\n",
    "b,f\n",
    "c,d\n",
    "c,e\n",
    "d,g\n",
    "e,g\n",
    "'''\n",
    "\n",
    "# Carregar as arestas a partir da string CSV\n",
    "edges = []\n",
    "reader = csv.reader(StringIO(csv_data))\n",
    "for row in reader:\n",
    "    if len(row) != 2:\n",
    "        continue\n",
    "    edges.append((row[0], row[1]))\n",
    "\n",
    "# Criar um grafo não orientado\n",
    "G = nx.Graph()  \n",
    "\n",
    "# Adicionar as arestas ao grafo\n",
    "G.add_edges_from(edges)\n",
    "\n",
    "# Verificar se o grafo é bipartido\n",
    "if nx.is_bipartite(G):\n",
    "    # Encontrar as bipartições\n",
    "    bipartitions = nx.bipartite.sets(G)\n",
    "    set1, set2 = bipartitions\n",
    "\n",
    "    print(\"O grafo é bipartido.\")\n",
    "    print(\"Bipartição 1:\", set1)\n",
    "    print(\"Bipartição 2:\", set2)\n",
    "else:\n",
    "    print(\"O grafo não é bipartido.\")\n"
   ]
  },
  {
   "cell_type": "markdown",
   "id": "28c37a48",
   "metadata": {},
   "source": [
    "Podemos repassar o código acima para a leitura de um arquivo CSV externo. Nele utilizamos, a título de exemplificação, o grafo $G$ dado no **Exemplo 3** inserido em formato CSV no arquivo **dados3_1.csv**. É possível também aplicar o programa ao grafo $H$ do mesmo exemplo bastando chamar o arquivo **dados3_2.csv**"
   ]
  },
  {
   "cell_type": "code",
   "execution_count": null,
   "id": "cf20bdf0",
   "metadata": {
    "ExecuteTime": {
     "end_time": "2023-07-22T22:33:14.664893Z",
     "start_time": "2023-07-22T22:33:14.655940Z"
    }
   },
   "outputs": [],
   "source": [
    "import networkx as nx\n",
    "import csv\n",
    "\n",
    "# Nome do arquivo CSV no mesmo diretório\n",
    "dados = \"dados3_1.csv\"  # Troque \"dados3_2\" para testar em um grafo não bipartido\n",
    "\n",
    "# Carregar as arestas a partir do arquivo CSV\n",
    "edges = []\n",
    "with open(dados, 'r') as file:\n",
    "    reader = csv.reader(file)\n",
    "    for row in reader:\n",
    "        if len(row) != 2:\n",
    "            continue\n",
    "        edges.append((row[0], row[1]))\n",
    "\n",
    "# Criar um grafo não orientado\n",
    "G = nx.Graph()  \n",
    "\n",
    "# Adicionar as arestas ao grafo\n",
    "G.add_edges_from(edges)\n",
    "\n",
    "# Verificar se o grafo é bipartido\n",
    "if nx.is_bipartite(G):\n",
    "    # Encontrar as bipartições\n",
    "    bipartitions = nx.bipartite.sets(G)\n",
    "    set1, set2 = bipartitions\n",
    "\n",
    "    print(\"O grafo é bipartido.\")\n",
    "    print(\"Bipartição 1:\", set1)\n",
    "    print(\"Bipartição 2:\", set2)\n",
    "else:\n",
    "    print(\"O grafo não é bipartido.\")"
   ]
  },
  {
   "cell_type": "markdown",
   "id": "65a8ce70",
   "metadata": {},
   "source": [
    "#### Verficando se um grafo é bipartido + esboço colorido"
   ]
  },
  {
   "cell_type": "markdown",
   "id": "67976b74",
   "metadata": {},
   "source": [
    "O código a seguir apresenta uma versão do código anterior adicionando o grafo colorido. Caso seja bipartido somente as cores azul e vermelhor serão usadas. Neste caso, temos três arquivos disponíveis para teste, os já utilizados **dados3_1.csv**(grafo bipartido) e **dados3_2.csv**(grafo não bipartido) e, adicionalmente o arquivo **dados3_3.csv**(correspondendo ao grafo $K_{4}$(grafo não bipartido). O programa, embora comentado, apresenta certa complexidade em relação aos vistos anteriormente na parte correspondente à coloração e esboço do grafo colorido."
   ]
  },
  {
   "cell_type": "code",
   "execution_count": null,
   "id": "42dd629d",
   "metadata": {
    "ExecuteTime": {
     "end_time": "2023-07-22T23:44:36.380166Z",
     "start_time": "2023-07-22T23:44:36.256048Z"
    }
   },
   "outputs": [],
   "source": [
    "import networkx as nx\n",
    "import csv\n",
    "import matplotlib.pyplot as plt\n",
    "\n",
    "# Nome do arquivo CSV no mesmo diretório\n",
    "dados = \"dados3_1.csv\"  # Troque \"dados3_1\" para \"dados3_2\" ou \"dados3_3\"\n",
    "\n",
    "# Carregar as arestas a partir do arquivo CSV\n",
    "edges = []\n",
    "with open(dados, 'r') as file:\n",
    "    reader = csv.reader(file)\n",
    "    for row in reader:\n",
    "        if len(row) != 2:\n",
    "            continue\n",
    "        edges.append((row[0], row[1]))\n",
    "\n",
    "# Criar um grafo não orientado\n",
    "G = nx.Graph()\n",
    "\n",
    "# Adicionar as arestas ao grafo\n",
    "G.add_edges_from(edges)\n",
    "\n",
    "# Verificar se o grafo é bipartido\n",
    "if nx.is_bipartite(G):\n",
    "    # Encontrar as bipartições\n",
    "    bipartitions = nx.bipartite.sets(G)\n",
    "    set1, set2 = bipartitions\n",
    "\n",
    "    print(\"O grafo é bipartido.\")\n",
    "    print(\"Bipartição 1:\", set1)\n",
    "    print(\"Bipartição 2:\", set2)\n",
    "\n",
    "    # Atribuir cores às bipartições\n",
    "    color_map = {}\n",
    "    for node in G.nodes():\n",
    "        if node in set1:\n",
    "            color_map[node] = 'red'\n",
    "        else:\n",
    "            color_map[node] = 'blue'\n",
    "else:\n",
    "    print(\"O grafo não é bipartido.\")\n",
    "\n",
    "    # Tentar colorir o grafo parcialmente com duas cores\n",
    "    try:\n",
    "        color_map = nx.coloring.greedy_color(G, strategy='largest_first', interchange=True)\n",
    "    except nx.NetworkXError:\n",
    "        # Se ocorrer um erro, significa que o grafo não pode ser colorido com duas cores\n",
    "        print(\"Não é possível colorir o grafo com apenas duas cores.\")\n",
    "        # Destacar a primeira aresta que causa o conflito de cores\n",
    "        conflicting_edges = [(u, v) for u, v in G.edges() if color_map[u] == color_map[v]]\n",
    "        first_conflicting_edge = conflicting_edges[0] if conflicting_edges else None\n",
    "\n",
    "        # Exibir o grafo com a aresta destacada, se houver conflito\n",
    "        plt.figure()\n",
    "        pos = nx.spring_layout(G)\n",
    "        nx.draw_networkx(G, pos, with_labels=True, node_color=[color_map[node] for node in G.nodes()],\n",
    "                         font_color='white', font_weight='bold')\n",
    "        if first_conflicting_edge:\n",
    "            nx.draw_networkx_edges(G, pos, edgelist=[first_conflicting_edge], edge_color='red', width=2)\n",
    "        plt.axis('off')\n",
    "        plt.show()\n",
    "        exit()\n",
    "\n",
    "# Desenhar o grafo com a coloração\n",
    "plt.figure()\n",
    "pos = nx.spring_layout(G)\n",
    "nx.draw_networkx(G, pos, with_labels=True, node_color=[color_map[node] for node in G.nodes()],\n",
    "                 font_color='white', font_weight='bold')\n",
    "plt.axis('off')\n",
    "plt.show()\n"
   ]
  },
  {
   "cell_type": "markdown",
   "id": "a89f44dc",
   "metadata": {},
   "source": [
    "#### Verificando se um grafo é subgrafo de outro"
   ]
  },
  {
   "cell_type": "markdown",
   "id": "ccfe8d5a",
   "metadata": {},
   "source": [
    "O código a seguir verifica se um dado grafo ($H$) é subgrafo de um outro ($G$). Nele utilizamos, a título de exemplificação, os grafos  $G$(principal), $H$(subgrafo) e $J$(não é subgrafo)  dados no **Exemplo 6** inseridos em formato CSV no arquivos **dados3_4.csv**, **dados3_5.csv** e **dados3_6.csv**, respectivamente. No programa, ambos $H$ e $J$ são identidicados por $H$. Acrescentamos também mais um grafo **dados_3_7.csv** constando de um candidato a subgrafo (não é subgrafo) que contém vértices e arestas extras em relação ao grafo $G$."
   ]
  },
  {
   "cell_type": "code",
   "execution_count": 53,
   "id": "9fcea762",
   "metadata": {
    "ExecuteTime": {
     "end_time": "2023-07-23T00:20:22.147719Z",
     "start_time": "2023-07-23T00:20:22.139718Z"
    }
   },
   "outputs": [
    {
     "name": "stdout",
     "output_type": "stream",
     "text": [
      "O grafo H é subgrafo do grafo G.\n"
     ]
    }
   ],
   "source": [
    "import networkx as nx\n",
    "import csv\n",
    "\n",
    "def create_graph_from_csv(csv_file):\n",
    "    edges = []\n",
    "    with open(csv_file, 'r') as file:\n",
    "        reader = csv.reader(file)\n",
    "        for row in reader:\n",
    "            if len(row) != 2:\n",
    "                continue\n",
    "            edges.append((row[0], row[1]))\n",
    "\n",
    "    G = nx.Graph()\n",
    "    G.add_edges_from(edges)\n",
    "    return G\n",
    "\n",
    "# Nome do arquivo CSV no mesmo diretório\n",
    "main_graph_file = \"dados3_4.csv\"\n",
    "subgraph_file = \"dados3_5.csv\"       # Troque \"dados3_5\" para \"dados3_6\" para testar em um grafo não bipartido\n",
    "\n",
    "G = create_graph_from_csv(main_graph_file)\n",
    "H = create_graph_from_csv(subgraph_file)\n",
    "\n",
    "def is_subgraph(G, H):\n",
    "    for edge in H.edges():\n",
    "        if not G.has_edge(*edge):\n",
    "            return 'O grafo H não é subgrafo do grafo G.'\n",
    "    for node in H.nodes():\n",
    "        if not G.has_node(node):\n",
    "            return 'O grafo H não é subgrafo do grafo G.'\n",
    "    return 'O grafo H é subgrafo do grafo G.'\n",
    "\n",
    "# Imprimindo o resultado\n",
    "print(is_subgraph(G, H))\n"
   ]
  },
  {
   "cell_type": "markdown",
   "id": "e5a7b3ef",
   "metadata": {},
   "source": [
    "O código a seguir acrescenta os esboços gráficos de $G$ e $H$ e um esboço conjunto."
   ]
  },
  {
   "cell_type": "code",
   "execution_count": 51,
   "id": "68097a87",
   "metadata": {
    "ExecuteTime": {
     "end_time": "2023-07-23T00:19:47.113672Z",
     "start_time": "2023-07-23T00:19:46.643397Z"
    }
   },
   "outputs": [
    {
     "name": "stdout",
     "output_type": "stream",
     "text": [
      "O grafo H é subgrafo do grafo G.\n"
     ]
    },
    {
     "data": {
      "image/png": "[encoded data removed]",
      "text/plain": [
       "<Figure size 1500x500 with 3 Axes>"
      ]
     },
     "metadata": {},
     "output_type": "display_data"
    }
   ],
   "source": [
    "import networkx as nx\n",
    "import csv\n",
    "import matplotlib.pyplot as plt\n",
    "import matplotlib.patches as mpatches\n",
    "\n",
    "def create_graph_from_csv(csv_file):\n",
    "    edges = []\n",
    "    with open(csv_file, 'r') as file:\n",
    "        reader = csv.reader(file)\n",
    "        for row in reader:\n",
    "            if len(row) != 2:\n",
    "                continue\n",
    "            edges.append((row[0], row[1]))\n",
    "\n",
    "    G = nx.Graph()\n",
    "    G.add_edges_from(edges)\n",
    "    return G\n",
    "\n",
    "# Nome do arquivo CSV no mesmo diretório\n",
    "main_graph_file = \"dados3_4.csv\"\n",
    "subgraph_file = \"dados3_5.csv\"      # Troque \"dados3_5\" para \"dados3_6\" ou \"dados3_7\"\n",
    "\n",
    "G = create_graph_from_csv(main_graph_file)\n",
    "H = create_graph_from_csv(subgraph_file)\n",
    "\n",
    "def is_subgraph(G, H):\n",
    "    for edge in H.edges():\n",
    "        if not G.has_edge(*edge):\n",
    "            return False\n",
    "    for node in H.nodes():\n",
    "        if not G.has_node(node):\n",
    "            return False\n",
    "    return True\n",
    "\n",
    "# Imprimindo o resultado\n",
    "if is_subgraph(G, H):\n",
    "    print('O grafo H é subgrafo do grafo G.')\n",
    "else:\n",
    "    print('O grafo H não é subgrafo do grafo G.')\n",
    "\n",
    "# Criando um grafo que combina G e H para calcular as posições\n",
    "GH = nx.compose(G, H)\n",
    "pos = nx.spring_layout(GH)\n",
    "\n",
    "# Calculando as cores\n",
    "node_color = []\n",
    "for node in GH.nodes():\n",
    "    if node in G.nodes() and node in H.nodes():\n",
    "        node_color.append(\"red\")\n",
    "    elif node in G.nodes():\n",
    "        node_color.append(\"blue\")\n",
    "    else:\n",
    "        node_color.append(\"green\")\n",
    "\n",
    "edge_color = []\n",
    "for edge in GH.edges():\n",
    "    if edge in G.edges() and edge in H.edges():\n",
    "        edge_color.append(\"red\")\n",
    "    elif edge in G.edges():\n",
    "        edge_color.append(\"blue\")\n",
    "    else:\n",
    "        edge_color.append(\"green\")\n",
    "\n",
    "# Desenhando os grafos G e H\n",
    "fig, axs = plt.subplots(1, 3, figsize=(15, 5))\n",
    "\n",
    "nx.draw(G, with_labels=True, ax=axs[0])\n",
    "axs[0].set_title('Grafo G')\n",
    "\n",
    "nx.draw(H, with_labels=True, ax=axs[1])\n",
    "axs[1].set_title('Grafo H')\n",
    "\n",
    "# Desenhando o grafo combinado\n",
    "nx.draw(GH, pos, with_labels=True, node_color=node_color, edge_color=edge_color, ax=axs[2])\n",
    "\n",
    "red_patch = mpatches.Patch(color='red', label='Vértices/Arestas em G e H')\n",
    "blue_patch = mpatches.Patch(color='blue', label='Vértices/Arestas extras em G')\n",
    "green_patch = mpatches.Patch(color='green', label='Vértices/Arestas extras em H')\n",
    "axs[2].legend(handles=[red_patch, blue_patch, green_patch])\n",
    "axs[2].set_title('Grafo Combinado')\n",
    "\n",
    "plt.show()\n"
   ]
  }
 ],
 "metadata": {
  "kernelspec": {
   "display_name": "Python 3 (ipykernel)",
   "language": "python",
   "name": "python3"
  },
  "language_info": {
   "codemirror_mode": {
    "name": "ipython",
    "version": 3
   },
   "file_extension": ".py",
   "mimetype": "text/x-python",
   "name": "python",
   "nbconvert_exporter": "python",
   "pygments_lexer": "ipython3",
   "version": "3.11.5"
  },
  "varInspector": {
   "cols": {
    "lenName": 16,
    "lenType": 16,
    "lenVar": 40
   },
   "kernels_config": {
    "python": {
     "delete_cmd_postfix": "",
     "delete_cmd_prefix": "del ",
     "library": "var_list.py",
     "varRefreshCmd": "print(var_dic_list())"
    },
    "r": {
     "delete_cmd_postfix": ") ",
     "delete_cmd_prefix": "rm(",
     "library": "var_list.r",
     "varRefreshCmd": "cat(var_dic_list()) "
    }
   },
   "types_to_exclude": [
    "module",
    "function",
    "builtin_function_or_method",
    "instance",
    "_Feature"
   ],
   "window_display": false
  }
 },
 "nbformat": 4,
 "nbformat_minor": 5
}
