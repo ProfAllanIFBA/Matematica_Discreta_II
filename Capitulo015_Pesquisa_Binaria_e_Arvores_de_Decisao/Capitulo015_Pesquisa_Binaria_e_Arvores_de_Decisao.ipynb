{
 "cells": [
  {
   "cell_type": "markdown",
   "id": "ce33096c",
   "metadata": {},
   "source": [
    "<center> <img src=\"logo_ifba.jpg\" alt=\"jpg_python\" width=\"100\" height=\"\"> </center>\n",
    "<br><br>\n",
    "<div align=\"center\"><span style=\"font-size: 26px;\"><strong>Matemática Discreta II <br></strong></span></div> <br>\n",
    "<center> <img src=\"python_gif.gif\" alt=\"gif_python\" width=\"80\"> </center>"
   ]
  },
  {
   "cell_type": "markdown",
   "id": "c5073180",
   "metadata": {},
   "source": [
    "<div style=\"border: 2px solid black; padding: 10px; width: 95%; background-color: lightgray; display: flex; align-items: center;\">\n",
    "    <h1 style=\"color: red; text-align: center; margin: auto;\">\n",
    "        Capítulo 15: Pesquisa Binária e Árvores de Decisão\n",
    "    </h1>\n",
    "</div>\n",
    "\n",
    "<font color='red'></font>\n",
    "<a href=\"\"></a>"
   ]
  },
  {
   "cell_type": "markdown",
   "id": "bd57c6ce",
   "metadata": {},
   "source": [
    "# <div style=\"margin-top: -20px;\">\n",
    "<hr style=\"border: 2px solid black;\">\n",
    "\n",
    "<font color='black'><span style=\"font-size: 22px;\"><strong>15.1 Árvore de Busca Binária</strong></span></font>\n",
    "\n",
    "<hr style=\"border: 2px solid black;\">\n",
    "</div>"
   ]
  },
  {
   "cell_type": "markdown",
   "id": "dd6fda65",
   "metadata": {},
   "source": [
    "Neste capítulo apresentaremos o algoritmo da busca binária que tem por finalidade localizar itens em uma lista ordenada. Procurar por itens em uma lista é uma das tarefas mais importantes que surgem na ciência da computação. Árvores binárias podem nos ajudar nessa tarefa. Nelas cada filho de um vértice é designado como filho direito ou esquerdo, nenhum vértice tem mais de um filho direito ou mais de um filho esquerdo e cada vértice é rotulado com uma chave, que é um dos itens. Via de regra, os vértices são atribuídos chaves para que a chave de um vértice seja maior que as chaves de todos os vértices em sua subárvore esquerda e menores que as de todos os vértices em sua subárvore direita. "
   ]
  },
  {
   "cell_type": "markdown",
   "id": "dfbfc4d1",
   "metadata": {},
   "source": [
    "#### Processo de construção de uma árvore de busca binária"
   ]
  },
  {
   "cell_type": "markdown",
   "id": "c2a44eb9",
   "metadata": {},
   "source": [
    "Utilizaremos o seguinte procedimento recursivo para formar a árvore de pesquisa binária para uma lista de itens:<br><br>\n",
    "<font color='red'> Inicialmente nossa árvore de pesquisa binária contém somente um vértice, ou seja, sua raiz. O primeiro item da lista é atribuído como a chave da raiz. Para adicionar um novo item, primeiro compare-o com as chaves dos vértices já na árvore, começando na raiz e movendo para a esquerda se o item for menor que a chave do respectivo vértice se este vértice tiver um filho à esquerda, ou movendo à direita se o item for maior que a chave do respectivo vértice se este vértice tiver um filho direito. Quando o item é menor que o respectivo vértice e este vértice não tem filho à esquerda, então um novo vértice com este item como sua chave é inserido como um novo filho à esquerda. Da mesma forma, quando o item é maior que o respectivo vértice e esse vértice não tem filho direito, um novo vértice com este item como sua chave é inserido como um novo filho direito.</font><br><br>\n",
    "Nós ilustramos este procedimento com o **Exemplo 1**."
   ]
  },
  {
   "cell_type": "markdown",
   "id": "4bacffea",
   "metadata": {},
   "source": [
    "#### <font color='blue'> Exemplo 1 </font>"
   ]
  },
  {
   "cell_type": "markdown",
   "id": "db143941",
   "metadata": {},
   "source": [
    "<font color='blue'> Construa uma árvore de busca binária para as palavras *maçã, pêra, melão, goiaba, uva, ameixa*  e *tangerina* nesta ordem. Adote a ordem lexicográfica."
   ]
  },
  {
   "cell_type": "markdown",
   "id": "50c91315",
   "metadata": {},
   "source": [
    "##### <font color='blue'> Solução"
   ]
  },
  {
   "cell_type": "markdown",
   "id": "d546d01d",
   "metadata": {},
   "source": [
    "<font color='blue'> Comecemos colocando a palavra *maçã* como raiz da árvore. Como *pêra* vem depois de *maçã* considerando a ordem alfabética esta ocupa o lugar de filho direito da *maçã* que está vazio. A palavra *melão* vem depois de *maçã* e portanto deveria ocupar o lugar do filho direito dela. Mas este já está ocupado pela *pêra*. Comparando *melão* com *pêra* temos que *melão* deve ocupar o local destinado ao filho esquerdo da *pêra* pois vem antes desta em ordem alfabética e o espaço destinado a este filho está vazio. A palavra *goiaba* vem antes de *maçã* e portanto deve ocupar o local do filho esquerdo desta que está vazio. A palavra *uva* vem depois da palavra *maçã* e portanto segue para a posição de filho direito que está ocupada pela *pêra*. Como a palavra uva vem depois de *pêra* temos que esta deverá ocupar o local de filho direito desta última. A palavra *tangerina* vem depois da palavra *maçã* e portanto segue para a comparação com a palavra *pêra* e analogamente para a comparação com a palavra *uva*. Como *tangerina* vem antes de *uva* esta deve ocupar o local destinado ao filho esquerdo desta última. Por fim, a palavra *ameixa* vem antes de *maçã* e portanto segue para a posição de filho esquerdo desta que é ocupado pela *goiaba*. A palavra *ameixa* vem antes de *goiaba* e portanto deve ocupar a posição de filho esquerdo desta que está vazia. Acompanhe a figura a seguir:<br><br>\n",
    " <center> <img src=\"fig15_1.jpg\" alt=\"jpg_python\" width=\"280\" height=\"\"> </center>"
   ]
  },
  {
   "cell_type": "markdown",
   "id": "2168928f",
   "metadata": {},
   "source": [
    "##### <font color='orangered'> Algoritmo 1"
   ]
  },
  {
   "cell_type": "markdown",
   "id": "1d7df151",
   "metadata": {},
   "source": [
    "<font color='orangered'>**procedure** *inserção*($T$: árvore de busca binária, $x$: item)<br>\n",
    " $v := $ raiz de $T$ (um vértice não presente em $T$ tem valor nulo)<br>\n",
    " **while** $v \\neq 0$ **e** $label(v) \\neq x$<br>\n",
    " **begin**<br>\n",
    " $ \\ \\ \\ $ **if** $x \\leq label(v)$ **then**<br>\n",
    " $ \\ \\ \\ \\ \\ \\ $ **if** o filho da esquerda de $v \\neq nulo$, **then** $v:=$ filho da esquerda de $v$<br>\n",
    " $ \\ \\ \\ \\ \\ \\ $ **else** adicione um novo vértice como um filho à esquerda de $v$ e defina $v:= nulo$<br>\n",
    " $ \\ \\ \\ $ **else**<br>\n",
    " $ \\ \\ \\ \\ \\ \\ $ **if** se filho direito de $v \\neq nulo$, **then** $v:=$ filho direito de $v$<br>\n",
    " $ \\ \\ \\ \\ \\ \\ $ **else** adicione um novo vértice como filho direito de $v$ e defina $v:=nulo$<br>\n",
    " **end**<br>\n",
    " **if** raiz de $T = null$ **then** adicione um vértice $v$ à árvore e rotule-o com $x$<br>\n",
    " **else** $v$ for $nulo$ ou $label(v) \\neq x$ **then** rotule $novo$ vértice com $x$ e seja $v$ este novo vértice<br>\n",
    " **Return** $v$ $\\{v =$ *localização de $x$* $\\}$ "
   ]
  },
  {
   "cell_type": "markdown",
   "id": "9291d066",
   "metadata": {},
   "source": [
    "#### <font color='blue'> Exemplo 2 </font>"
   ]
  },
  {
   "cell_type": "markdown",
   "id": "2558aa95",
   "metadata": {},
   "source": [
    "<font color='blue'> Considere a árvore de busca binária produzida no **Exemplo 1**.<br><br>\n",
    " a) Use o **Algoritmo 1** para localizar ou inserir a palavra graviola na árvore.<br><br>\n",
    " b) Qual o número máximo de comparações é necessário para se localizar ou inserir um novo item na árvore obtida no item \"a\"? E em uma árvore qualquer?\n"
   ]
  },
  {
   "cell_type": "markdown",
   "id": "aef6c83d",
   "metadata": {},
   "source": [
    "##### <font color='blue'> Solução"
   ]
  },
  {
   "cell_type": "markdown",
   "id": "7a1c5e54",
   "metadata": {},
   "source": [
    "<font color='blue'> a) O algoritmo começa com $v$, o vértice sob exame, igual à raiz de $T$, assim, $label (v) =$ *maça*. Como $v \\neq nulo$ e $label (v) =$ *maçã* $>$ *graviola*, em seguida, examinamos o filho esquerdo da raiz. Este filho esquerdo existe, então nós definimos $v$, o vértice sob exame, para ser esta o filho esquerdo. Neste passo temos $v \\neq nulo$ e $label (v) =$ *goiaba* $<$ *graviola*, portanto examinamos o filho direito de $v$. Entretanto, esse filho direito não existe, então adicionamos um novo vértice como filho direito de $v$ (que neste ponto é o vértice com a *goiaba* como chave) e definimos $v: = nulo$. Agora, saímos do *loop while* pois $v = nulo$. Como a raiz de $T$ não é nula e $v = nulo$, usamos a instrução *else if* no final do algoritmo para rotular nosso novo vértice com a chave *graviola*. Acompanhe a figura a seguir:<br><br>\n",
    " <center> <img src=\"fig15_2.jpg\" alt=\"jpg_python\" width=\"280\" height=\"\"> </center><br>\n",
    " b) A inserção ou localização de um novo item pode exigir até $4$ comparações. Para ver isso, note que uma palavra que seja maior que maçã, pêra, uva e também tangerina irá exigir $4$ comparações. De modo geral, o número de comparações será, no máximo, igual a $h+1$ em que $h$ é a altura de uma árvore."
   ]
  },
  {
   "cell_type": "markdown",
   "id": "2e9fd2c7",
   "metadata": {},
   "source": [
    "# <div style=\"margin-top: -20px;\">\n",
    "<hr style=\"border: 2px solid black;\">\n",
    "\n",
    "<font color='black'><span style=\"font-size: 22px;\"><strong>15.2 Árvores de Decisão</strong></span></font>\n",
    "\n",
    "<hr style=\"border: 2px solid black;\">\n",
    "</div>"
   ]
  },
  {
   "cell_type": "markdown",
   "id": "6e26f30b",
   "metadata": {},
   "source": [
    "Árvores enraizadas podem ser usadas para modelar problemas nos quais uma série de decisões leva a uma solução. Por exemplo, uma árvore pode ser usada para localizar itens com base em uma série de comparações, onde cada comparação nos diz se localizamos o item, ou se devemos ir para a direita ou para a esquerda em uma subárvore. Uma árvore enraizada na qual cada vértice interno corresponde a uma decisão, com uma subárvore nesses vértices para cada resultado possível da decisão, é chamada de árvore de decisão. As possíveis soluções do problema correspondem aos caminhos para as folhas desta árvore enraizada. O **Exemplo 3** ilustra uma aplicação de árvores de decisão."
   ]
  },
  {
   "cell_type": "markdown",
   "id": "d9af5101",
   "metadata": {},
   "source": [
    "#### <font color='blue'> Exemplo 3 </font>"
   ]
  },
  {
   "cell_type": "markdown",
   "id": "0bd888d3",
   "metadata": {},
   "source": [
    "<font color='blue'> Suponha que existam sete moedas, todas com o mesmo peso, e uma moeda falsa que pesa menos que as outras. No mínimo, quantas pesagens são necessárias usando uma balança para determinar qual das oito moedas é a falsificada? Considere que estamos usando uma balança de pratos."
   ]
  },
  {
   "cell_type": "markdown",
   "id": "afab339f",
   "metadata": {},
   "source": [
    "##### <font color='blue'> Solução"
   ]
  },
  {
   "cell_type": "markdown",
   "id": "f01a30d7",
   "metadata": {},
   "source": [
    "<font color='blue'> Existem três possibilidades para cada pesagem em uma balança. Os dois pratos podem ter peso igual, o primeiro prato pode ser mais pesado ou o segundo prato pode ser mais pesado. Consequentemente, a árvore de decisão para a sequência de pesagens é uma árvore ternária. Há pelo menos oito folhas na árvore de decisão porque há oito resultados possíveis (porque cada uma das oito moedas pode ser a moeda mais leve falsificada), e cada resultado possível deve ser representado por pelo menos uma folha. O maior número de pesagens necessárias para determinar a moeda falsa é a altura da árvore de decisão. É possível determinar a moeda falsa usando duas pesagens. A árvore de decisão que ilustra como isso é feito é mostrada na figura a seguir:<br><br><center> <img src=\"fig15_3.jpg\" alt=\"jpg_python\" width=\"400\" height=\"\"> </center>"
   ]
  },
  {
   "cell_type": "markdown",
   "id": "0ab6a415",
   "metadata": {},
   "source": [
    "#### <font color='blue'> Exemplo 4 </font>"
   ]
  },
  {
   "cell_type": "markdown",
   "id": "4e34cf1f",
   "metadata": {},
   "source": [
    "<font color='blue'> Apresentamos na figura a seguir uma árvore de decisão que ordena os elementos da lista $a, b, c$ em ordem decrescente.<br><br><center> <img src=\"fig15_4.jpg\" alt=\"jpg_python\" width=\"400\" height=\"\"> </center>"
   ]
  },
  {
   "cell_type": "markdown",
   "id": "b1abcc14",
   "metadata": {},
   "source": [
    "#### <font color='red'> Teorema 1 </font>"
   ]
  },
  {
   "cell_type": "markdown",
   "id": "df31c33e",
   "metadata": {},
   "source": [
    "<font color='red'> Um algoritmo de ordenação baseado em comparações binárias requer pelo menos $\\lceil log_{2}(n!)\\rceil$"
   ]
  },
  {
   "cell_type": "markdown",
   "id": "f4474399",
   "metadata": {},
   "source": [
    "Considerando o **Exemplo 4** temos que foram usadas $\\lceil log_{2}(3!)\\rceil = 3$ comparações. Se tivéssemos que colocar $10$ números em ordem crescente precisaríamos de pelo menos $\\lceil log_{2}(10!)\\rceil = 22$ comparações."
   ]
  },
  {
   "cell_type": "markdown",
   "id": "3fa5f110",
   "metadata": {},
   "source": [
    "# <div style=\"margin-top: -20px;\">\n",
    "<hr style=\"border: 2px solid black;\">\n",
    "\n",
    "<font color='black'><span style=\"font-size: 22px;\"><strong>15.3 Exercícios</strong></span></font>\n",
    "\n",
    "<hr style=\"border: 2px solid black;\">\n",
    "</div>"
   ]
  },
  {
   "cell_type": "markdown",
   "id": "cefa3c75",
   "metadata": {},
   "source": [
    "#### Exercício 1"
   ]
  },
  {
   "cell_type": "markdown",
   "id": "f467d038",
   "metadata": {},
   "source": [
    "Construa uma árvore de busca binária para as palavras *Salvador*, *Brasília*, *Goiânia*, *Curitiba*, *Sobradinho*, *Formosa* e *Manaus* nesta ordem. Adote a ordem lexicográfica."
   ]
  },
  {
   "cell_type": "markdown",
   "id": "68ce046d",
   "metadata": {},
   "source": [
    "#### Exercício 2"
   ]
  },
  {
   "cell_type": "markdown",
   "id": "1da5b469",
   "metadata": {},
   "source": [
    "Quantas comparações são necessárias para localizar ou adicionar cada um desses itens na árvore de busca do **Exercício 1**. Os itens \"a\", \"b\", \"c\" e \"d\" são independentes?\n",
    "\n",
    "a) Brasília $ \\ \\ \\ \\ \\ \\ \\ \\ \\ $ b) Salvador $ \\ \\ \\ \\ \\ \\ \\ \\ \\ $ c) Anagé $ \\ \\ \\ \\ \\ \\ \\ \\ \\ $ d) Formosa"
   ]
  },
  {
   "cell_type": "markdown",
   "id": "d7e051b9",
   "metadata": {},
   "source": [
    "#### Exercício 3"
   ]
  },
  {
   "cell_type": "markdown",
   "id": "7b73fd37",
   "metadata": {},
   "source": [
    "Usando ordem alfabética, construa uma árvore de busca binária para as palavras da frase \"O IFBA é uma grande instituição de ensino\"."
   ]
  },
  {
   "cell_type": "markdown",
   "id": "021ba8b5",
   "metadata": {},
   "source": [
    "#### Exercício 4"
   ]
  },
  {
   "cell_type": "markdown",
   "id": "92136c1b",
   "metadata": {},
   "source": [
    "Quantas pesagens de uma balança são necessárias para encontrar uma moeda falsa entre quatro moedas se a moeda falsa puder ser mais pesada ou mais leve que as outras?"
   ]
  },
  {
   "cell_type": "markdown",
   "id": "6b891e1d",
   "metadata": {},
   "source": [
    "#### Exercício 5"
   ]
  },
  {
   "cell_type": "markdown",
   "id": "6aec405d",
   "metadata": {},
   "source": [
    "Quantas pesagens de uma balança são necessárias para encontrar uma moeda falsa entre $12$ moedas se a moeda falsa for mais leve que as outras? Descreva um algoritmo para encontrar a moeda mais leve usando este número de pesagens."
   ]
  },
  {
   "cell_type": "markdown",
   "id": "d52ee48a",
   "metadata": {},
   "source": [
    "## <div style=\"margin-top: -20px;\">\n",
    "<hr style=\"border: 2px solid black;\">\n",
    "\n",
    "<font color='black'><span style=\"font-size: 18px;\"><strong>Respostas</strong></span></font>\n",
    "\n",
    "<hr style=\"border: 2px solid black;\">\n",
    "</div>"
   ]
  },
  {
   "cell_type": "markdown",
   "id": "08aa690c",
   "metadata": {},
   "source": [
    "#### Respostas do Exercício 1"
   ]
  },
  {
   "cell_type": "markdown",
   "id": "185ea011",
   "metadata": {},
   "source": [
    "<br><br><center> <img src=\"fig15_5.jpg\" alt=\"jpg_python\" width=\"300\" height=\"\"> </center>"
   ]
  },
  {
   "cell_type": "markdown",
   "id": "a9c59a82",
   "metadata": {},
   "source": [
    "#### Respostas do Exercício 2"
   ]
  },
  {
   "cell_type": "markdown",
   "id": "63314ca2",
   "metadata": {},
   "source": [
    "a) $2$, b) $1$, c) $2$, d) $5$"
   ]
  },
  {
   "cell_type": "markdown",
   "id": "0b772ed9",
   "metadata": {},
   "source": [
    "#### Respostas do Exercício 3"
   ]
  },
  {
   "cell_type": "markdown",
   "id": "ace85f4e",
   "metadata": {},
   "source": [
    "<br><br><center> <img src=\"fig15_6.jpg\" alt=\"jpg_python\" width=\"300\" height=\"\"> </center>"
   ]
  },
  {
   "cell_type": "markdown",
   "id": "cb2c06d6",
   "metadata": {},
   "source": [
    "#### Respostas do Exercício 4"
   ]
  },
  {
   "cell_type": "markdown",
   "id": "32f7d218",
   "metadata": {},
   "source": [
    "2"
   ]
  },
  {
   "cell_type": "markdown",
   "id": "d78595f9",
   "metadata": {},
   "source": [
    "#### Respostas do Exercício 5"
   ]
  },
  {
   "cell_type": "markdown",
   "id": "fdc25ed5",
   "metadata": {},
   "source": [
    "3"
   ]
  },
  {
   "cell_type": "markdown",
   "id": "77040c68",
   "metadata": {},
   "source": [
    "# <div style=\"margin-top: -20px;\">\n",
    "<hr style=\"border: 2px solid black;\">\n",
    "\n",
    "<font color='black'><span style=\"font-size: 22px;\"><strong>15.4 Vídeo Aulas</strong></span></font>\n",
    "\n",
    "<hr style=\"border: 2px solid black;\">\n",
    "</div>"
   ]
  },
  {
   "cell_type": "markdown",
   "id": "a22169bb",
   "metadata": {},
   "source": [
    "Clicando nos links a seguir você será redirecionado às aulas referentes a este capítulo.\n",
    "\n",
    "[Árvore de Busca Binária](https://youtu.be/RvrxiCDarIU)\n",
    "\n",
    "[Exemplo Envolvendo Inserção ou Localização de Um Elementos em Uma Árvore se Busca Binária](https://youtu.be/AQUmRmWeoHs)\n",
    "\n",
    "[Árvores de Decisão](https://youtu.be/W0qG4u6nrAs)\n",
    "\n",
    "[Exemplo Envolvendo Árvores de Decisão](https://youtu.be/JqvbL-pMWBQ)"
   ]
  },
  {
   "cell_type": "markdown",
   "id": "72581701",
   "metadata": {},
   "source": [
    "# <div style=\"margin-top: -20px;\">\n",
    "<hr style=\"border: 2px solid black;\">\n",
    "\n",
    "<font color='black'><span style=\"font-size: 22px;\"><strong>15.5 No Computador (Experimental)</strong></span></font>\n",
    "\n",
    "<hr style=\"border: 2px solid black;\">\n",
    "</div>"
   ]
  },
  {
   "cell_type": "markdown",
   "id": "ce6c8d08",
   "metadata": {},
   "source": [
    "As listas apresentadas a seguir sevem de base para os exemplos. A **lista1** cooresponde à mesma lista vista no **Exemplo 1**."
   ]
  },
  {
   "cell_type": "code",
   "execution_count": 1,
   "id": "52f3c2fc",
   "metadata": {},
   "outputs": [],
   "source": [
    "# Listas de palavras e inteiros\n",
    "lista1 = [\"maçã\", \"pêra\", \"melão\", \"goiaba\", \"uva\", \"ameixa\", \"tangerina\"]\n",
    "lista2 = [26, 23, 18, 25, 30, 27, 28, 32, 31, 34]\n",
    "lista3 = ['quem', 'entende', 'o', 'assunto', 'passa', 'se', 'não', 'estudar', 'pode', 'ter', 'que', 'repetir']"
   ]
  },
  {
   "cell_type": "markdown",
   "id": "f9bb03b6",
   "metadata": {},
   "source": [
    "##### Exemplo 1: Desenhando árvores binárias"
   ]
  },
  {
   "cell_type": "code",
   "execution_count": 2,
   "id": "93f07a37",
   "metadata": {},
   "outputs": [],
   "source": [
    "import networkx as nx\n",
    "import matplotlib.pyplot as plt\n",
    "\n",
    "# Função para desenhar uma árvore binária\n",
    "def desenha_arvore(lista):\n",
    "    def add_node(node, value):\n",
    "        #Adiciona um nó à árvore de busca binária.\n",
    "        if node is None:\n",
    "            return {'value': value, 'left': None, 'right': None}\n",
    "\n",
    "        if value < node['value']:\n",
    "            node['left'] = add_node(node['left'], value)\n",
    "        elif value > node['value']:\n",
    "            node['right'] = add_node(node['right'], value)\n",
    "\n",
    "        return node\n",
    "\n",
    "    def add_edges(node, G):\n",
    "        #Percorre a árvore de busca binária e adiciona as arestas ao grafo.\n",
    "        if node is not None:\n",
    "            if node['left']:\n",
    "                G.add_edge(node['value'], node['left']['value'])\n",
    "                add_edges(node['left'], G)\n",
    "            if node['right']:\n",
    "                G.add_edge(node['value'], node['right']['value'])\n",
    "                add_edges(node['right'], G)\n",
    "\n",
    "    def compute_pos(node, pos, x=0, y=0, layer=0.1):\n",
    "        #Calcula as posições dos nós.\n",
    "        pos[node['value']] = (x, y)\n",
    "        if node['left']:\n",
    "            l = x - 1/10**layer\n",
    "            compute_pos(node['left'], pos, x=l, y=y-0.1, layer=layer+0.1)\n",
    "        if node['right']:\n",
    "            r = x + 1/10**layer\n",
    "            compute_pos(node['right'], pos, x=r, y=y-0.1, layer=layer+0.1)\n",
    "        return pos\n",
    "\n",
    "    G = nx.Graph()\n",
    "\n",
    "    root = None\n",
    "    for value in lista: \n",
    "        root = add_node(root, value)\n",
    "\n",
    "    add_edges(root, G)\n",
    "\n",
    "    pos = compute_pos(root, {})\n",
    "\n",
    "    nx.draw(G, pos, with_labels=True, node_shape='o', node_size=200, font_size=10)\n",
    "\n",
    "\n",
    "    plt.show()\n"
   ]
  },
  {
   "cell_type": "code",
   "execution_count": 3,
   "id": "7368ddd1",
   "metadata": {},
   "outputs": [
    {
     "data": {
      "image/png": "[encoded data removed]",
      "text/plain": [
       "<Figure size 640x480 with 1 Axes>"
      ]
     },
     "metadata": {},
     "output_type": "display_data"
    }
   ],
   "source": [
    "# Chamando a função\n",
    "desenha_arvore(lista3) # Repasse para lista2"
   ]
  },
  {
   "cell_type": "markdown",
   "id": "efc48d91",
   "metadata": {},
   "source": [
    "##### Exemplo 2: Medindo a eficiência de busca"
   ]
  },
  {
   "cell_type": "code",
   "execution_count": 4,
   "id": "33fd7b8c",
   "metadata": {},
   "outputs": [],
   "source": [
    "# Módulos necessários\n",
    "import random\n",
    "import time"
   ]
  },
  {
   "cell_type": "markdown",
   "id": "e5423d4a",
   "metadata": {},
   "source": [
    "###### Gerando a lista aleatória"
   ]
  },
  {
   "cell_type": "code",
   "execution_count": 5,
   "id": "7b3e24b8",
   "metadata": {},
   "outputs": [],
   "source": [
    "def gerar_lista(tamanho=10**7, minimo=1, maximo=10**10):\n",
    "    # Gera uma lista de valores inteiros aleatórios.\"\n",
    "    return [random.randint(minimo, maximo) for _ in range(tamanho)]\n",
    "\n",
    "lista = gerar_lista()"
   ]
  },
  {
   "cell_type": "markdown",
   "id": "4db691c9",
   "metadata": {},
   "source": [
    "###### Gerando a árvore de busca (tempo estimado 90 segundos)"
   ]
  },
  {
   "cell_type": "markdown",
   "id": "d06a0dbb",
   "metadata": {},
   "source": [
    "Embora tenhamos medido o tempo de geração da árvore binária, é relevante destacar que a criação dessa árvore ocorre uma única vez, enquanto as buscas serão realizadas repetidamente. Assim, mesmo que o tempo de criação possa parecer significativo, sua relevância diminui ao considerar que a árvore será usada múltiplas vezes para buscas após sua formação."
   ]
  },
  {
   "cell_type": "code",
   "execution_count": 6,
   "id": "0a8853e4",
   "metadata": {},
   "outputs": [],
   "source": [
    "class Node:\n",
    "    def __init__(self, key):\n",
    "        self.left = None\n",
    "        self.right = None\n",
    "        self.val = key\n",
    "\n",
    "def inserir_na_arvore(root, key):\n",
    "    # Insere um valor em uma árvore binária de busca.\n",
    "    if root is None:\n",
    "        return Node(key)\n",
    "    else:\n",
    "        if root.val < key:\n",
    "            root.right = inserir_na_arvore(root.right, key)\n",
    "        else:\n",
    "            root.left = inserir_na_arvore(root.left, key)\n",
    "    return root\n",
    "\n",
    "def gerar_arvore(lista):\n",
    "    # Gera uma árvore binária de busca a partir de uma lista.\n",
    "    root = Node(lista[0])\n",
    "    for valor in lista[1:]:\n",
    "        inserir_na_arvore(root, valor)\n",
    "    return root"
   ]
  },
  {
   "cell_type": "code",
   "execution_count": 7,
   "id": "9fed511d",
   "metadata": {},
   "outputs": [
    {
     "name": "stdout",
     "output_type": "stream",
     "text": [
      "A árvore foi gerada em 93.55289030075073242188 segundos.\n"
     ]
    }
   ],
   "source": [
    "inicio = time.time()\n",
    "arvore = gerar_arvore(lista)\n",
    "fim = time.time()\n",
    "\n",
    "print(f\"A árvore foi gerada em {fim - inicio:.20f} segundos.\")"
   ]
  },
  {
   "cell_type": "markdown",
   "id": "f3fa2510",
   "metadata": {},
   "source": [
    "###### Sorteando o valor de busca"
   ]
  },
  {
   "cell_type": "markdown",
   "id": "4dede085",
   "metadata": {},
   "source": [
    "Caso queira, você pode inserir manualmente um valor para a busca repassando **random.choice(lista)** para o valor escolhido (entre $1$ e $10^{10}$). Neste caso, não é garantido que a chave esteja na árvore o que não é um problema."
   ]
  },
  {
   "cell_type": "code",
   "execution_count": 8,
   "id": "a40e5689",
   "metadata": {},
   "outputs": [
    {
     "name": "stdout",
     "output_type": "stream",
     "text": [
      "8374788390\n"
     ]
    }
   ],
   "source": [
    "# Sorteio de um valor para a busca\n",
    "valor_busca = random.choice(lista)\n",
    "print(valor_busca)"
   ]
  },
  {
   "cell_type": "markdown",
   "id": "26ec1a6f",
   "metadata": {},
   "source": [
    "###### Busca padrão"
   ]
  },
  {
   "cell_type": "code",
   "execution_count": 9,
   "id": "1f902c38",
   "metadata": {},
   "outputs": [
    {
     "name": "stdout",
     "output_type": "stream",
     "text": [
      "Busca linear encontrou a chave 8374788390 em 0.03792238235473632812 segundos com 2470496 comparações.\n"
     ]
    }
   ],
   "source": [
    "import time\n",
    "\n",
    "def busca_linear(lista, valor):\n",
    "    # Realiza uma busca linear em uma lista.\n",
    "    try:\n",
    "        return lista.index(valor)\n",
    "    except ValueError:\n",
    "        return -1\n",
    "\n",
    "# Medindo a eficiência da busca linear\n",
    "inicio = time.time()\n",
    "posicao = busca_linear(lista, valor_busca)\n",
    "fim = time.time()\n",
    "\n",
    "if posicao != -1:\n",
    "    print(f\"Busca linear encontrou a chave {valor_busca} em {fim - inicio:.20f} segundos com {posicao+1} comparações.\")\n",
    "else:\n",
    "    print(f\"Busca linear não encontrou a chave {valor_busca} em {fim - inicio:.20f} segundos.\")\n"
   ]
  },
  {
   "cell_type": "markdown",
   "id": "0bd3bf24",
   "metadata": {},
   "source": [
    "###### Busca Binária"
   ]
  },
  {
   "cell_type": "code",
   "execution_count": 10,
   "id": "837150b3",
   "metadata": {},
   "outputs": [
    {
     "name": "stdout",
     "output_type": "stream",
     "text": [
      "Busca binária encontrou a chave 8374788390 em 0.00000000000000000000 segundos com 25 comparações.\n"
     ]
    }
   ],
   "source": [
    "def busca_binaria(root, key):\n",
    "    # Realiza uma busca em uma árvore binária de busca.\n",
    "    \n",
    "    if root is None:\n",
    "        return None, 1  # Retorna None e 1 comparação\n",
    "    if root.val == key:\n",
    "        return root, 1  # Encontrou o valor com 1 comparação\n",
    "    if root.val < key:\n",
    "        nodo, comps = busca_binaria(root.right, key)\n",
    "    else:\n",
    "        nodo, comps = busca_binaria(root.left, key)\n",
    "    \n",
    "    return nodo, comps + 1  # Acrescenta 1 para a comparação atual\n",
    "\n",
    "# Medindo a eficiência da busca na árvore\n",
    "inicio = time.time()\n",
    "nodo, comps = busca_binaria(arvore, valor_busca)\n",
    "fim = time.time()\n",
    "\n",
    "if nodo:\n",
    "    print(f\"Busca binária encontrou a chave {valor_busca} em {fim - inicio:.20f} segundos com {comps} comparações.\")\n",
    "else:\n",
    "    print(f\"Busca binária não encontrou a chave {valor_busca} em {fim - inicio:.20f} segundos após {comps} comparações.\")\n"
   ]
  },
  {
   "cell_type": "markdown",
   "id": "b6035d96",
   "metadata": {},
   "source": [
    "Em particular, a árvore gerada tem altura calculada na célula a seguir:"
   ]
  },
  {
   "cell_type": "code",
   "execution_count": 11,
   "id": "ee553275",
   "metadata": {},
   "outputs": [
    {
     "name": "stdout",
     "output_type": "stream",
     "text": [
      "A árvore gerada tem altura 57. Isto é, uma chave é encontrada ou não com no máximo 58 comparações.\n"
     ]
    }
   ],
   "source": [
    "def altura(root):\n",
    "    \"\"\"Calcula a altura de uma árvore binária.\"\"\"\n",
    "    if root is None:\n",
    "        return -1\n",
    "    else:\n",
    "        return 1 + max(altura(root.left), altura(root.right))\n",
    "    \n",
    "altura = altura(arvore)\n",
    "\n",
    "print(f'A árvore gerada tem altura {altura}. Isto é, uma chave é encontrada ou não com no máximo {altura+1} comparações.')"
   ]
  }
 ],
 "metadata": {
  "kernelspec": {
   "display_name": "Python 3 (ipykernel)",
   "language": "python",
   "name": "python3"
  },
  "language_info": {
   "codemirror_mode": {
    "name": "ipython",
    "version": 3
   },
   "file_extension": ".py",
   "mimetype": "text/x-python",
   "name": "python",
   "nbconvert_exporter": "python",
   "pygments_lexer": "ipython3",
   "version": "3.11.5"
  },
  "varInspector": {
   "cols": {
    "lenName": 16,
    "lenType": 16,
    "lenVar": 40
   },
   "kernels_config": {
    "python": {
     "delete_cmd_postfix": "",
     "delete_cmd_prefix": "del ",
     "library": "var_list.py",
     "varRefreshCmd": "print(var_dic_list())"
    },
    "r": {
     "delete_cmd_postfix": ") ",
     "delete_cmd_prefix": "rm(",
     "library": "var_list.r",
     "varRefreshCmd": "cat(var_dic_list()) "
    }
   },
   "types_to_exclude": [
    "module",
    "function",
    "builtin_function_or_method",
    "instance",
    "_Feature"
   ],
   "window_display": false
  }
 },
 "nbformat": 4,
 "nbformat_minor": 5
}
