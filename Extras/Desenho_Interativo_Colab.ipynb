{
 "cells": [
  {
   "cell_type": "markdown",
   "id": "83cf96c6",
   "metadata": {},
   "source": [
    "<center> <img src=\"logo_ifba.jpg\" alt=\"jpg_python\" width=\"100\" height=\"200\"> </center>\n",
    "<br><br>\n",
    "<div align=\"center\"><span style=\"font-size: 26px;\"><strong>Matemática Discreta II<br></strong></span></div> <br>\n",
    "<center> <img src=\"python_gif.gif\" alt=\"gif_python\" width=\"80\"> </center>"
   ]
  },
  {
   "cell_type": "markdown",
   "id": "8aa8237c",
   "metadata": {},
   "source": [
    "<div style=\"border: 2px solid black; padding: 10px; width: 95%; background-color: lightgray; display: flex; align-items: center;\">\n",
    "    <h1 style=\"color: red; text-align: center; margin: auto;\">\n",
    "        Grafo Interativo - Versão Colab\n",
    "    </h1>\n",
    "</div>\n",
    "\n",
    "<font color='red'></font>\n",
    "<a href=\"\"></a>"
   ]
  },
  {
   "cell_type": "markdown",
   "id": "3513f258",
   "metadata": {},
   "source": [
    "Este material possibilita o desenho de grafos não rígidos (padrão da biblioteca networkx), além de permitir outras configurações, como cores e pesos das arestas, entre outras."
   ]
  },
  {
   "cell_type": "markdown",
   "id": "20ed2149",
   "metadata": {},
   "source": [
    "# Etapa 1: Instalando Bibliotecas Necessárias"
   ]
  },
  {
   "cell_type": "markdown",
   "id": "22164b45",
   "metadata": {},
   "source": [
    "Caso encontre algum erro ao executar o código a seguir no Jupyter Notebook, considere reiniciar o kernel. Para isso, acesse o menu do Jupyter, selecione 'Kernel' e clique em 'Restart'. Se o problema persistir, feche completamente o Jupyter Notebook e abra-o novamente. Este procedimento pode ajudar a resolver conflitos ou problemas na execução do código. A célula a seguir requer apenas uma execução. Portanto, ao utilizar este material novamente, você pode optar por pular esta etapa."
   ]
  },
  {
   "cell_type": "code",
   "execution_count": null,
   "id": "3cff7669",
   "metadata": {
    "ExecuteTime": {
     "end_time": "2024-02-08T00:51:35.760505Z",
     "start_time": "2024-02-08T00:51:07.451925Z"
    }
   },
   "outputs": [],
   "source": [
    "# Instalação de pacotes necessários\n",
    "!pip install --upgrade notebook ipywidgets\n",
    "!pip install ipycytoscape"
   ]
  },
  {
   "cell_type": "markdown",
   "id": "fa1245fa",
   "metadata": {},
   "source": [
    "# Etapa 2: Importando Módulos Necessários"
   ]
  },
  {
   "cell_type": "markdown",
   "id": "e154d3f8",
   "metadata": {},
   "source": [
    "A célula a seguir é responsável por importar as bibliotecas necessárias para o funcionamento do programa."
   ]
  },
  {
   "cell_type": "code",
   "execution_count": 1,
   "id": "68a1def9",
   "metadata": {
    "ExecuteTime": {
     "end_time": "2024-02-08T00:51:56.316089Z",
     "start_time": "2024-02-08T00:51:55.364607Z"
    }
   },
   "outputs": [],
   "source": [
    "# Bibliotecas\n",
    "import networkx as nx\n",
    "import ipycytoscape\n",
    "from ipywidgets import Output"
   ]
  },
  {
   "cell_type": "code",
   "execution_count": null,
   "id": "196f9dab",
   "metadata": {
    "ExecuteTime": {
     "end_time": "2024-02-08T00:50:37.057667Z",
     "start_time": "2024-02-08T00:50:36.048218Z"
    }
   },
   "outputs": [],
   "source": [
    "from google.colab import output\n",
    "output.enable_custom_widget_manager()"
   ]
  },
  {
   "cell_type": "markdown",
   "id": "86b83c45",
   "metadata": {},
   "source": [
    "# Etapa 3: Executando a Função Principal"
   ]
  },
  {
   "cell_type": "markdown",
   "id": "e07c11f8",
   "metadata": {},
   "source": [
    "A célula a seguir contém a função principal do nosso código. Edite-a apenas se tiver certeza do que está fazendo."
   ]
  },
  {
   "cell_type": "code",
   "execution_count": 2,
   "id": "1aaed791",
   "metadata": {
    "ExecuteTime": {
     "end_time": "2024-02-08T00:51:59.719551Z",
     "start_time": "2024-02-08T00:51:59.708874Z"
    }
   },
   "outputs": [],
   "source": [
    "def plota_grafo(data, config):\n",
    "    # Cria o grafo\n",
    "    G = nx.DiGraph() if config['directed'] else nx.Graph()\n",
    "    for node_id, label in data['nodes'].items():\n",
    "        G.add_node(node_id, label=label)\n",
    "    for edge in data['edges']:\n",
    "        G.add_edge(edge[0], edge[1], **edge[2])\n",
    "\n",
    "    # Converte para o ipycytoscape\n",
    "    cyto_graph = ipycytoscape.CytoscapeWidget()\n",
    "    cyto_graph.graph.add_graph_from_networkx(G, directed=config['directed'])\n",
    "\n",
    "    # Função para atualizar estilos e rótulos\n",
    "    def update_styles_and_labels(cyto_graph, data):\n",
    "        styles = [\n",
    "            {\n",
    "                'selector': 'node',\n",
    "                'css': {\n",
    "                    'content': 'data(label)',\n",
    "                    'text-valign': 'center',\n",
    "                    'font_color': config['font_color'],\n",
    "                    'font-family': config['font_family'],\n",
    "                    'text-outline-width': config['text_outline_width'],\n",
    "                    'text-outline-color': config['outline_color'],\n",
    "                    'background-color': config['vertex_color'],\n",
    "                    'color': config['vertex_font_color']\n",
    "                }\n",
    "            },\n",
    "            {\n",
    "                'selector': 'edge',\n",
    "                'css': {\n",
    "                    'target-arrow-shape': 'triangle' if config['directed'] else 'none',\n",
    "                    'width': config['edge_thickness'],\n",
    "                    'line-color': config['edge_color'],\n",
    "                    'color': config['edge_font_color']\n",
    "                }\n",
    "            }\n",
    "        ]\n",
    "        for edge in cyto_graph.graph.edges:\n",
    "            source, target = edge.data['source'], edge.data['target']\n",
    "            edge_label = \"\"\n",
    "            if config['show_labels'] and 'label' in edge.data:\n",
    "                edge_label = edge.data['label']\n",
    "            if config['show_weights'] and 'weight' in G[source][target]:\n",
    "                edge_label += f\" {G[source][target]['weight']}\"\n",
    "            edge.data['label'] = edge_label\n",
    "            styles.append({\n",
    "                'selector': f'edge[source=\"{source}\"][target=\"{target}\"]',\n",
    "                'css': {\n",
    "                    'content': 'data(label)'\n",
    "                }\n",
    "            })\n",
    "        cyto_graph.set_style(styles)\n",
    "\n",
    "    update_styles_and_labels(cyto_graph, data)\n",
    "\n",
    "    # Exibe o grafo em um widget\n",
    "    output = Output()\n",
    "    with output:\n",
    "        display(cyto_graph)\n",
    "    return output"
   ]
  },
  {
   "cell_type": "markdown",
   "id": "512d5541",
   "metadata": {},
   "source": [
    "# Etapa 4: Configurações do Grafo"
   ]
  },
  {
   "cell_type": "markdown",
   "id": "cc6df6e9",
   "metadata": {},
   "source": [
    "A célula a seguir apresenta as configurações do nosso grafo interativo. É possível editar cores dos vértices e arestas, pesos das arestas (ativar ou desativar) entre outras funcionalidades."
   ]
  },
  {
   "cell_type": "code",
   "execution_count": 3,
   "id": "7462042f",
   "metadata": {
    "ExecuteTime": {
     "end_time": "2024-02-08T00:52:00.712482Z",
     "start_time": "2024-02-08T00:52:00.707980Z"
    }
   },
   "outputs": [],
   "source": [
    "config = {\n",
    "    'show_weights': True, # Exibir os pesos das arestas\n",
    "    'show_labels': True, # Exibir os rótulos das arestas\n",
    "    'directed': True,  # Mude para True para fazer o grafo direcionado\n",
    "    'edge_color': 'red',  # Cor das arestas\n",
    "    'vertex_font_color': 'white',  # Cor da fonte dos vértices\n",
    "    'edge_font_color': 'blue',  # Cor da fonte das arestas\n",
    "    'vertex_color': 'blue', # Cor dos vértices\n",
    "    'font_color': 'red', # Cor da fonte\n",
    "    'font_family': 'Arial', # Definindo a fonte dos rótulos dos vértices\n",
    "    'outline_color': '', # Cor do contorno do texto\n",
    "    'text_outline_width': 0, # Largura do contorno do texto\n",
    "    'edge_thickness': 2 # Espessura das arestas\n",
    "}"
   ]
  },
  {
   "cell_type": "markdown",
   "id": "8f7e92b5",
   "metadata": {},
   "source": [
    "# Etapa 5: Dados do Grafo"
   ]
  },
  {
   "cell_type": "markdown",
   "id": "cb9536f6",
   "metadata": {},
   "source": [
    "Insira o grafo no formato de dicionário, conforme o exemplo a seguir:"
   ]
  },
  {
   "cell_type": "code",
   "execution_count": 4,
   "id": "b9a258bf",
   "metadata": {
    "ExecuteTime": {
     "end_time": "2024-02-08T00:52:01.945163Z",
     "start_time": "2024-02-08T00:52:01.939698Z"
    }
   },
   "outputs": [],
   "source": [
    "# Dados de entrada em formato de dicionário\n",
    "data = {\n",
    "    'nodes': {'1': 'A', '2': 'B', '3': 'C', '4': 'D', '5': 'E'},\n",
    "    'edges': [\n",
    "        ('1', '2', {'weight': 0, 'label': ''}),\n",
    "        ('1', '3', {'weight': 0, 'label': ''}),\n",
    "        ('3', '4', {'weight': 0, 'label': ''})]\n",
    "}"
   ]
  },
  {
   "cell_type": "markdown",
   "id": "f0b0be0d",
   "metadata": {
    "ExecuteTime": {
     "end_time": "2024-02-07T23:17:20.380066Z",
     "start_time": "2024-02-07T23:17:20.361518Z"
    }
   },
   "source": [
    "# Etapa 6: Desenhando o Grafo"
   ]
  },
  {
   "cell_type": "markdown",
   "id": "392693ff",
   "metadata": {},
   "source": [
    "Após compilar a célula a seguir, você obterá um grafo remodelável. Divirta-se!"
   ]
  },
  {
   "cell_type": "code",
   "execution_count": 5,
   "id": "fa296a3d",
   "metadata": {
    "ExecuteTime": {
     "end_time": "2024-02-08T00:52:04.432469Z",
     "start_time": "2024-02-08T00:52:04.403847Z"
    }
   },
   "outputs": [
    {
     "data": {
      "application/vnd.jupyter.widget-view+json": {
       "model_id": "3df86428b4d24bfb84c4fa7eba02d0b5",
       "version_major": 2,
       "version_minor": 0
      },
      "text/plain": [
       "Output()"
      ]
     },
     "execution_count": 5,
     "metadata": {},
     "output_type": "execute_result"
    }
   ],
   "source": [
    "plota_grafo(data,config)"
   ]
  },
  {
   "cell_type": "code",
   "execution_count": null,
   "id": "111a7fb4",
   "metadata": {},
   "outputs": [],
   "source": []
  }
 ],
 "metadata": {
  "kernelspec": {
   "display_name": "Python 3 (ipykernel)",
   "language": "python",
   "name": "python3"
  },
  "language_info": {
   "codemirror_mode": {
    "name": "ipython",
    "version": 3
   },
   "file_extension": ".py",
   "mimetype": "text/x-python",
   "name": "python",
   "nbconvert_exporter": "python",
   "pygments_lexer": "ipython3",
   "version": "3.11.5"
  }
 },
 "nbformat": 4,
 "nbformat_minor": 5
}
