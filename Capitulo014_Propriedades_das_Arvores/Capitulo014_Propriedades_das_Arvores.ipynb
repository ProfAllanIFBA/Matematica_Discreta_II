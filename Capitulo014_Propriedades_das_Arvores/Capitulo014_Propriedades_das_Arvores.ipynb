{
 "cells": [
  {
   "cell_type": "markdown",
   "id": "ce33096c",
   "metadata": {},
   "source": [
    "<center> <img src=\"logo_ifba.jpg\" alt=\"jpg_python\" width=\"100\" height=\"\"> </center>\n",
    "<br><br>\n",
    "<div align=\"center\"><span style=\"font-size: 26px;\"><strong>Matemática Discreta II <br></strong></span></div> <br>\n",
    "<center> <img src=\"python_gif.gif\" alt=\"gif_python\" width=\"80\"> </center>"
   ]
  },
  {
   "cell_type": "markdown",
   "id": "c5073180",
   "metadata": {},
   "source": [
    "<div style=\"border: 2px solid black; padding: 10px; width: 95%; background-color: lightgray; display: flex; align-items: center;\">\n",
    "    <h1 style=\"color: red; text-align: center; margin: auto;\">\n",
    "        Capítulo 14: Propridades das Árvores\n",
    "    </h1>\n",
    "</div>\n",
    "\n",
    "<font color='red'></font>\n",
    "<a href=\"\"></a>"
   ]
  },
  {
   "cell_type": "markdown",
   "id": "efb1d751",
   "metadata": {},
   "source": [
    "Veremos neste capítulo algumas propriedades relacionando as quantidades de vértices de folhas e de vértices internos."
   ]
  },
  {
   "cell_type": "markdown",
   "id": "80eccbaa",
   "metadata": {},
   "source": [
    "# <div style=\"margin-top: -20px;\">\n",
    "<hr style=\"border: 2px solid black;\">\n",
    "\n",
    "<font color='black'><span style=\"font-size: 22px;\"><strong>14.1 Propriedades Numéricas</strong></span></font>\n",
    "\n",
    "<hr style=\"border: 2px solid black;\">\n",
    "</div>"
   ]
  },
  {
   "cell_type": "markdown",
   "id": "83b0bb64",
   "metadata": {},
   "source": [
    "#### <font color='red'> Teorema 1 </font>"
   ]
  },
  {
   "cell_type": "markdown",
   "id": "a70376a5",
   "metadata": {},
   "source": [
    "<font color='red'> Uma árvore com $n$ vértices tem $n - 1$ arestas."
   ]
  },
  {
   "cell_type": "markdown",
   "id": "5d72c7d2",
   "metadata": {},
   "source": [
    "#### <font color='red'> Teorema 2 </font>"
   ]
  },
  {
   "cell_type": "markdown",
   "id": "c7bca786",
   "metadata": {},
   "source": [
    "<font color='red'> Uma árvore $m$-ária completa com $i$ vértices internos contém $n = mi + 1$ vértices."
   ]
  },
  {
   "cell_type": "markdown",
   "id": "b65c4de1",
   "metadata": {},
   "source": [
    "#### <font color='blue'> Exemplo 1 </font>"
   ]
  },
  {
   "cell_type": "markdown",
   "id": "c91f6b15",
   "metadata": {},
   "source": [
    "<font color='blue'> É possível existir uma árvore binária completa com $6$ vértices internos e $11$ arestas? Se sim, desenhe-a."
   ]
  },
  {
   "cell_type": "markdown",
   "id": "1d083746",
   "metadata": {},
   "source": [
    "##### <font color='blue'> Solução </font>"
   ]
  },
  {
   "cell_type": "markdown",
   "id": "65b62a80",
   "metadata": {},
   "source": [
    "<font color='blue'> Segundo o **Teorema 1** uma árvore com $11$ arestas possui $12$ vértices. Pelo **Teorema 2** temos que esta árvore deve possuir $i = \\frac{n-1}{m}$ vértices internos. Substituindo os valores $n = 12$ e $m=2$ (árvores binária) temos:<br><br>\n",
    " $$i = \\frac{12-1}{2} = \\frac{11}{2}$$<br>\n",
    " que não é uma divisão possível considerando que o número de vértices internos é inteiro. Logo, tal árvore não pode existir."
   ]
  },
  {
   "cell_type": "markdown",
   "id": "6172b6ac",
   "metadata": {},
   "source": [
    "#### <font color='red'> Teorema 3 </font>"
   ]
  },
  {
   "cell_type": "markdown",
   "id": "75c342a4",
   "metadata": {},
   "source": [
    "<font color='red'> Uma árvore $m$-ária completa com $n$ vértices tem $i = \\frac{n-1}{m}$ vértices internos e $l = \\frac{(m - 1) n + 1}{m}$ folhas."
   ]
  },
  {
   "cell_type": "markdown",
   "id": "8d1d2227",
   "metadata": {},
   "source": [
    "#### <font color='blue'> Exemplo 2 </font>"
   ]
  },
  {
   "cell_type": "markdown",
   "id": "53a70a80",
   "metadata": {},
   "source": [
    "<font color='blue'> Suponha que alguém comece uma carta em cadeia. Cada pessoa que recebe a carta é solicitada a enviar três cartas iguais para outras pessoas. Algumas pessoas fazem isso, mas outras não enviam cartas. Quantas pessoas viram a carta, incluindo a primeira pessoa, se ninguém receber mais de uma carta e se a carta-corrente termina depois de haver $91$ pessoas que a leram, mas não a enviaram? Quantas pessoas enviaram cartas?"
   ]
  },
  {
   "cell_type": "markdown",
   "id": "3f09d426",
   "metadata": {},
   "source": [
    "##### <font color='blue'> Solução </font>"
   ]
  },
  {
   "cell_type": "markdown",
   "id": "a77bbddb",
   "metadata": {},
   "source": [
    "<font color='blue'> A carta em cadeia pode ser representada usando uma árvore quaternária. Os vértices internos correspondem às pessoas que enviaram a carta, e as folhas correspondem a pessoas que não a enviaram. Como $91$ pessoas não enviaram a carta, o número de folhas nessa árvore enraizada é $l = 91$. Podemos usar o **Teorema 3** com $m=3$ e obtermos o valor de $n$. Pois bem,<br><br>\n",
    " $$l = \\frac{(m - 1) n + 1}{m} \\Rightarrow 91 = \\frac{(3 - 1) n + 1}{3} \\Rightarrow 273 = 2n+1 \\Rightarrow 2n = 272 \\Rightarrow n = \\frac{272}{2} \\Rightarrow n = 136.$$<br>\n",
    " Portanto, $136$ pessoas viram a carta. Novamente, usando o **Teorema 3**, temos<br><br>\n",
    " $$i = \\frac{n-1}{m} \\Rightarrow i = \\frac{136-1}{3} \\Rightarrow i = 45.$$<br>\n",
    " Assim, $45$ enviaram cartas."
   ]
  },
  {
   "cell_type": "markdown",
   "id": "70577856",
   "metadata": {},
   "source": [
    "#### <font color='blue'> Exemplo 3 </font>"
   ]
  },
  {
   "cell_type": "markdown",
   "id": "29747c6f",
   "metadata": {},
   "source": [
    "<font color='blue'> Mostre que em uma árvore $m$-ária completa com $l$ folhas temos $i = \\frac{l-1}{m-1}$ vértices internos."
   ]
  },
  {
   "cell_type": "markdown",
   "id": "7f97e53f",
   "metadata": {},
   "source": [
    "##### <font color='blue'> Solução </font>"
   ]
  },
  {
   "cell_type": "markdown",
   "id": "ec26eecd",
   "metadata": {},
   "source": [
    "<font color='blue'> Decorre do **Teorema 3** que o número total de folhas em uma árvore $m$-ária completa é dada por $l = \\frac{(m-1)n+1}{m}$ em que $n$ é o número total de vértices desta árvore. Além disso, o **Teorema 2** assegura que, para uma árvore $m$-ária qualquer, temos que o número total de vértices é dado por $n = mi + 1$. Substituindo esta última relação na primeira temos:<br><br>\n",
    " $$l = \\frac{(m-1)n+1}{m} = \\frac{(m-1)(mi + 1)+1}{m} = \\frac{m^{2}i + m - mi -1 + 1}{m} =$$\n",
    "$$= \\frac{m^{2}i + m - mi}{m} = \\frac{m(mi + 1 - i)}{m} = mi-i+1 = i(m-1)+1$$<br>\n",
    " Assim, obtemos a relação $l = i(m-1)+1$. Isolando $i$, temos o resultado desejado. De fato,<br><br>\n",
    " $$l = i(m-1)+1 \\Leftarrow i(m-1) = l-1 \\Leftarrow i = \\frac{l-1}{m-1}.$$"
   ]
  },
  {
   "cell_type": "markdown",
   "id": "ac8f8bbc",
   "metadata": {},
   "source": [
    "# <div style=\"margin-top: -20px;\">\n",
    "<hr style=\"border: 2px solid black;\">\n",
    "\n",
    "<font color='black'><span style=\"font-size: 22px;\"><strong>14.2 Árvores Balanceadas</strong></span></font>\n",
    "\n",
    "<hr style=\"border: 2px solid black;\">\n",
    "</div>"
   ]
  },
  {
   "cell_type": "markdown",
   "id": "6b4b7717",
   "metadata": {},
   "source": [
    "Geralmente, é desejável usar árvores com raiz que sejam **balanceadas** para que as subárvores em cada vértice contenham caminhos com aproximadamente o mesmo comprimento. Algumas definições tornarão esse conceito claro. O **nível de um vértice** $v$ em uma árvore com raiz é o comprimento do caminho único desde a raiz até este vértice. O nível da raiz é definido como zero. A **altura de uma árvore com raiz** é o máximo dos níveis de vértices. Em outras palavras, a altura de uma árvore com raiz é o comprimento do caminho mais longo desde a raiz até qualquer vértice"
   ]
  },
  {
   "cell_type": "markdown",
   "id": "eec9ef2b",
   "metadata": {},
   "source": [
    "#### <font color='blue'> Exemplo 4 </font>"
   ]
  },
  {
   "cell_type": "markdown",
   "id": "3e1e0dc9",
   "metadata": {},
   "source": [
    "<font color='blue'> Considere a árvore $T$ com raiz $a$  mostrada na figura a seguir:<br><br>\n",
    " <center> <img src=\"fig14_1.jpg\" alt=\"jpg_python\" width=\"220\" height=\"\"> </center><br>\n",
    " a) Determine os níveis dos vértices $e$, $f$ e $i$.<br><br>\n",
    " b) Determine a altura de $T$."
   ]
  },
  {
   "cell_type": "markdown",
   "id": "878051c9",
   "metadata": {},
   "source": [
    "##### <font color='blue'> Solução </font>"
   ]
  },
  {
   "cell_type": "markdown",
   "id": "52597c24",
   "metadata": {},
   "source": [
    "<font color='blue'> a) O nível de $e$ é igual a $2$ pois é necessário percorrer um caminho de comprimento $2$ até a chegar a este vértice passando pela raiz (arestas $\\{a,b\\}$ e $\\{b,e\\}$); o nível do $f$ é igual a $2$; o nível de $i$ é igual a $3$ b) A altura da árvore $T$ é igual a $4$."
   ]
  },
  {
   "cell_type": "markdown",
   "id": "e183f569",
   "metadata": {},
   "source": [
    "#### <font color='red'> Definição 1 </font>"
   ]
  },
  {
   "cell_type": "markdown",
   "id": "76273320",
   "metadata": {},
   "source": [
    "<font color='red'> Uma árvore $m$-ária da altura $h$ é dita **balanceada** se todas as folhas estiverem nos níveis $h$ ou $h - 1$."
   ]
  },
  {
   "cell_type": "markdown",
   "id": "66241c70",
   "metadata": {},
   "source": [
    "#### <font color='blue'> Exemplo 5 </font>"
   ]
  },
  {
   "cell_type": "markdown",
   "id": "43d61d72",
   "metadata": {},
   "source": [
    "<font color='blue'> Quais das árvores enraizadas mostradas na figura a seguir estão balanceadas?<br><br>\n",
    " <center> <img src=\"fig14_2.jpg\" alt=\"jpg_python\" width=\"800\" height=\"\"> </center><br>"
   ]
  },
  {
   "cell_type": "markdown",
   "id": "56a22b97",
   "metadata": {},
   "source": [
    "##### <font color='blue'> Solução </font>"
   ]
  },
  {
   "cell_type": "markdown",
   "id": "dcdff09d",
   "metadata": {},
   "source": [
    "<font color='blue'> $T_{1}$ é balanceada, pois todas as suas folhas estão nos níveis $2$ ou $3$. $T_{2}$ é balanceada, pois todas suas folhas estão no nível $2$. Finalmente, $T_{3}$ não é balanceada, existem folhas nos níveis $1$, $2$ e $3$ o que fere a **Definição 1**."
   ]
  },
  {
   "cell_type": "markdown",
   "id": "7f4e99b6",
   "metadata": {},
   "source": [
    "#### <font color='blue'> Exemplo 6 </font>"
   ]
  },
  {
   "cell_type": "markdown",
   "id": "f21a8dfa",
   "metadata": {},
   "source": [
    "<font color='blue'> A árvore $T$, dada no **Exemplo 4** é balanceada? Se não, pode-se-a mudar sua raiz de modo a torná-la balanceada?"
   ]
  },
  {
   "cell_type": "markdown",
   "id": "8f359ac4",
   "metadata": {},
   "source": [
    "##### <font color='blue'> Solução </font>"
   ]
  },
  {
   "cell_type": "markdown",
   "id": "a0c85687",
   "metadata": {},
   "source": [
    "<font color='blue'> Não, pois a altura de $T$ é igual a $4$ e nem todos suas folhas estão nos níveis $4$ ou $3(=4-1)$. Por exemplo, a folha $e$ que está no nível $2$. Note que podemos balanceá-la ao repassarmos a raiz para o vértice $d$. Neste caso, todas as folhas resultantes estarão no nível $3$ conforme podemos ver na figura a seguir:<br><br>\n",
    " <center> <img src=\"fig14_3.jpg\" alt=\"jpg_python\" width=\"280\" height=\"\"> </center><br>"
   ]
  },
  {
   "cell_type": "markdown",
   "id": "bea908ac",
   "metadata": {},
   "source": [
    "Outros dois resultados uteis relacionados à árvores são apresentados a seguir:"
   ]
  },
  {
   "cell_type": "markdown",
   "id": "633c0935",
   "metadata": {},
   "source": [
    "#### <font color='red'> Teorema 4 </font>"
   ]
  },
  {
   "cell_type": "markdown",
   "id": "9694dce6",
   "metadata": {},
   "source": [
    "<font color='red'> Existem no máximo $m^{h}$ folhas em uma árvore de grau $m$ e altura $h$."
   ]
  },
  {
   "cell_type": "markdown",
   "id": "40c9511b",
   "metadata": {},
   "source": [
    "#### <font color='red'> Corolario </font>"
   ]
  },
  {
   "cell_type": "markdown",
   "id": "8177b742",
   "metadata": {},
   "source": [
    "<font color='red'> Se uma árvore de grau $m$ e altura $h$ tem $l$ folhas, $h \\geq \\lceil log_{m} l\\rceil$. Se a árvore de grau $m$ é completa e balanceada, então $h = \\lceil log_{m} l\\rceil$."
   ]
  },
  {
   "cell_type": "markdown",
   "id": "882aac63",
   "metadata": {},
   "source": [
    "#### <font color='red'> Definição 2 </font>"
   ]
  },
  {
   "cell_type": "markdown",
   "id": "a65596ea",
   "metadata": {},
   "source": [
    "<font color='red'> A notação $\\lceil x \\rceil$ é usada para indicar o $\\textbf{menor inteiro maior ou igual a}$ $x$. Por exemplo, $\\lceil 1.2 \\rceil = 2$, $\\lceil 1.9 \\rceil = 2$ e $\\lceil 3 \\rceil = 3$."
   ]
  },
  {
   "cell_type": "markdown",
   "id": "3fa5f110",
   "metadata": {},
   "source": [
    "# <div style=\"margin-top: -20px;\">\n",
    "<hr style=\"border: 2px solid black;\">\n",
    "\n",
    "<font color='black'><span style=\"font-size: 22px;\"><strong>14.3 Exercícios</strong></span></font>\n",
    "\n",
    "<hr style=\"border: 2px solid black;\">\n",
    "</div>"
   ]
  },
  {
   "cell_type": "markdown",
   "id": "cefa3c75",
   "metadata": {},
   "source": [
    "#### Exercício 1"
   ]
  },
  {
   "cell_type": "markdown",
   "id": "f467d038",
   "metadata": {},
   "source": [
    "Quantas arestas tem uma árvore com $752$ vértices?"
   ]
  },
  {
   "cell_type": "markdown",
   "id": "68ce046d",
   "metadata": {},
   "source": [
    "#### Exercício 2"
   ]
  },
  {
   "cell_type": "markdown",
   "id": "1da5b469",
   "metadata": {},
   "source": [
    "Quantas arestas tem uma árvore binária completa com $300$ vértices internos?"
   ]
  },
  {
   "cell_type": "markdown",
   "id": "d7e051b9",
   "metadata": {},
   "source": [
    "#### Exercício 3"
   ]
  },
  {
   "cell_type": "markdown",
   "id": "7b73fd37",
   "metadata": {},
   "source": [
    "Suponha que $1000$ pessoas participem de um torneio de xadrez. Utilize um modelo de árvore enraizada para o torneio a fim de determinar quantas partidas devem ser jogadas para determinar um campeão. Nesse modelo, um jogador é eliminado após sofrer uma derrota, e as partidas continuam até que reste apenas um participante que não tenha perdido. (Suponha que não hajam empates.)"
   ]
  },
  {
   "cell_type": "markdown",
   "id": "021ba8b5",
   "metadata": {},
   "source": [
    "#### Exercício 4"
   ]
  },
  {
   "cell_type": "markdown",
   "id": "92136c1b",
   "metadata": {},
   "source": [
    "É possível desenhar uma árvore $m$-ária completa com $84$ folhas e altura $3$, onde $m$ é um inteiro positivo? Do contrário, mostre que não existe tal árvore."
   ]
  },
  {
   "cell_type": "markdown",
   "id": "d52ee48a",
   "metadata": {},
   "source": [
    "## <div style=\"margin-top: -20px;\">\n",
    "<hr style=\"border: 2px solid black;\">\n",
    "\n",
    "<font color='black'><span style=\"font-size: 18px;\"><strong>Respostas</strong></span></font>\n",
    "\n",
    "<hr style=\"border: 2px solid black;\">\n",
    "</div>"
   ]
  },
  {
   "cell_type": "markdown",
   "id": "08aa690c",
   "metadata": {},
   "source": [
    "#### Respostas do Exercício 1"
   ]
  },
  {
   "cell_type": "markdown",
   "id": "185ea011",
   "metadata": {},
   "source": [
    " $751$"
   ]
  },
  {
   "cell_type": "markdown",
   "id": "a9c59a82",
   "metadata": {},
   "source": [
    "#### Respostas do Exercício 2"
   ]
  },
  {
   "cell_type": "markdown",
   "id": "63314ca2",
   "metadata": {},
   "source": [
    "$600$"
   ]
  },
  {
   "cell_type": "markdown",
   "id": "0b772ed9",
   "metadata": {},
   "source": [
    "#### Respostas do Exercício 3"
   ]
  },
  {
   "cell_type": "markdown",
   "id": "ace85f4e",
   "metadata": {},
   "source": [
    "$999$"
   ]
  },
  {
   "cell_type": "markdown",
   "id": "cb2c06d6",
   "metadata": {},
   "source": [
    "#### Respostas do Exercício 4"
   ]
  },
  {
   "cell_type": "markdown",
   "id": "32f7d218",
   "metadata": {},
   "source": [
    "Não é possível existir tal árvore."
   ]
  },
  {
   "cell_type": "markdown",
   "id": "77040c68",
   "metadata": {},
   "source": [
    "# <div style=\"margin-top: -20px;\">\n",
    "<hr style=\"border: 2px solid black;\">\n",
    "\n",
    "<font color='black'><span style=\"font-size: 22px;\"><strong>14.4 Vídeo Aulas</strong></span></font>\n",
    "\n",
    "<hr style=\"border: 2px solid black;\">\n",
    "</div>"
   ]
  },
  {
   "cell_type": "markdown",
   "id": "a22169bb",
   "metadata": {},
   "source": [
    "Clicando nos links a seguir você será redirecionado às aulas referentes a este capítulo.\n",
    "\n",
    "[Propriedades das Árvores](https://youtu.be/rVSkliwFr0w)\n",
    "\n",
    "[Exemplo Envolvendo Propriedades das Árvores (Grafo)](https://youtu.be/2oy53fIgU7o)\n",
    "\n",
    "[Árvores Balanceadas](https://youtu.be/mWRjYYq6_fA)\n",
    "\n",
    "[Exemplo Envolvendo Árvores Balanceadas](https://youtu.be/buru9Y1mxgs)"
   ]
  },
  {
   "cell_type": "markdown",
   "id": "72581701",
   "metadata": {},
   "source": [
    "# <div style=\"margin-top: -20px;\">\n",
    "<hr style=\"border: 2px solid black;\">\n",
    "\n",
    "<font color='black'><span style=\"font-size: 22px;\"><strong>14.5 No Computador (Experimental)</strong></span></font>\n",
    "\n",
    "<hr style=\"border: 2px solid black;\">\n",
    "</div>"
   ]
  },
  {
   "cell_type": "markdown",
   "id": "7369e65d",
   "metadata": {},
   "source": [
    "***Observação**: Devido a alta demanda de trabalho nas últimas semanas não tive tempo suficiente para testar os códigos a seguir. Alguns deles podem apresentar saídas incorretas!*"
   ]
  },
  {
   "cell_type": "markdown",
   "id": "9f233b56",
   "metadata": {},
   "source": [
    "Para os exemplos a seguir utilizamos os grafos \"F\", \"G\" e \"H\" dados no **Exemplo 5**."
   ]
  },
  {
   "cell_type": "code",
   "execution_count": 1,
   "id": "019be255",
   "metadata": {
    "ExecuteTime": {
     "end_time": "2023-08-28T02:33:32.701776Z",
     "start_time": "2023-08-28T02:33:32.690781Z"
    }
   },
   "outputs": [],
   "source": [
    "# Considere inserir as arestas considerando (pai,filho)\n",
    "\n",
    "grafo_F = [('a','b'), ('a','c'), ('a','f'), ('b','d'), ('b','e'), ('c','g'), ('c','h'),\\\n",
    "           ('d','i'), ('d','j'), ('f','k'), ('f','l'), ('g','n'), ('g','o')]\n",
    "\n",
    "grafo_G = [('a','b'), ('a','c'), ('b','d'), ('b','e'), ('b','f'),\\\n",
    "           ('c','g'), ('c','h'), ('c','i')]\n",
    "\n",
    "grafo_H = [('a','b'), ('a','c'), ('b','d'), ('b','e'), ('d','f')]"
   ]
  },
  {
   "cell_type": "markdown",
   "id": "74964b50",
   "metadata": {},
   "source": [
    "Confira os desenhos dos grafos a seguir:"
   ]
  },
  {
   "cell_type": "code",
   "execution_count": 2,
   "id": "3ded7c31",
   "metadata": {},
   "outputs": [
    {
     "data": {
      "image/png": "[encoded data removed]",
      "text/plain": [
       "<Figure size 640x480 with 1 Axes>"
      ]
     },
     "metadata": {},
     "output_type": "display_data"
    }
   ],
   "source": [
    "import networkx as nx\n",
    "import matplotlib.pyplot as plt\n",
    "\n",
    "# Gerando o grafo\n",
    "G = nx.Graph()\n",
    "\n",
    "# Adicionando arestas ao grafo\n",
    "G.add_edges_from(grafo_F) # Repasse para os grafos grafo_G e grafo_I\n",
    "\n",
    "# Desenho do grafo\n",
    "pos = nx.spring_layout(G)  # Posicionamento dos vértices\n",
    "nx.draw(G, pos, with_labels=True, font_weight='bold', font_color='white')\n",
    "\n",
    "# Exibição do desenho\n",
    "plt.show()"
   ]
  },
  {
   "cell_type": "markdown",
   "id": "816d95d3",
   "metadata": {},
   "source": [
    "##### Determinando o nível de um vértice"
   ]
  },
  {
   "cell_type": "code",
   "execution_count": 3,
   "id": "9b9b17ab",
   "metadata": {},
   "outputs": [
    {
     "name": "stdout",
     "output_type": "stream",
     "text": [
      "O nível do vértice i é 3.\n"
     ]
    }
   ],
   "source": [
    "import networkx as nx\n",
    "\n",
    "# Crie um grafo de exemplo (uma árvore)\n",
    "G = nx.DiGraph()  # Usando DiGraph para criar uma árvore direcionada\n",
    "G.add_edges_from(grafo_F)\n",
    "\n",
    "# Função para determinar o nível de um vértice em uma árvore\n",
    "def vertex_level(tree, root, vertex):\n",
    "    return nx.shortest_path_length(tree, source=root, target=vertex)\n",
    "\n",
    "# Vértice de interesse\n",
    "vertex_of_interest = 'i'\n",
    "\n",
    "# Encontre o nível do vértice de interesse\n",
    "root = list(G.nodes())[0]  # Suponha que a raiz seja o primeiro nó\n",
    "level = vertex_level(G, root, vertex_of_interest)\n",
    "\n",
    "print(f\"O nível do vértice {vertex_of_interest} é {level}.\")\n"
   ]
  },
  {
   "cell_type": "markdown",
   "id": "15de90ca",
   "metadata": {},
   "source": [
    "##### Determinando a altura de uma árvore"
   ]
  },
  {
   "cell_type": "code",
   "execution_count": 4,
   "id": "c8f7fa0a",
   "metadata": {},
   "outputs": [
    {
     "name": "stdout",
     "output_type": "stream",
     "text": [
      "A altura da árvore é 3.\n"
     ]
    }
   ],
   "source": [
    "import networkx as nx\n",
    "\n",
    "G = nx.DiGraph()  # Usando DiGraph para criar uma árvore direcionada\n",
    "G.add_edges_from(grafo_F)\n",
    "\n",
    "# Calcule a altura da árvore\n",
    "height = nx.dag_longest_path_length(G)\n",
    "\n",
    "print(f\"A altura da árvore é {height}.\")"
   ]
  },
  {
   "cell_type": "markdown",
   "id": "489e7e7c",
   "metadata": {},
   "source": [
    "##### Verificando se uma árvore é balanceada"
   ]
  },
  {
   "cell_type": "code",
   "execution_count": 5,
   "id": "3393ee4b",
   "metadata": {},
   "outputs": [
    {
     "name": "stdout",
     "output_type": "stream",
     "text": [
      "A árvore é balanceada.\n"
     ]
    }
   ],
   "source": [
    "import networkx as nx\n",
    "\n",
    "# Crie um grafo de exemplo (uma árvore)\n",
    "G = nx.Graph()\n",
    "G.add_edges_from(grafo_F) # Repasse para os grafos grafo_G e grafo_I\n",
    "\n",
    "# Função para verificar se uma árvore é balanceada\n",
    "def is_balanced_tree(graph, node, parent=None):\n",
    "    subtree_sizes = []\n",
    "    for child in graph.neighbors(node):\n",
    "        if child != parent:\n",
    "            subtree_size = is_balanced_tree(graph, child, node)\n",
    "            subtree_sizes.append(subtree_size)\n",
    "    if len(subtree_sizes) > 0 and max(subtree_sizes) - min(subtree_sizes) > 1:\n",
    "        return -1  # Não é balanceada nesta subárvore\n",
    "    return 1 + max(subtree_sizes, default=0)\n",
    "\n",
    "# Comece a verificação da raiz\n",
    "root = list(G.nodes())[0]\n",
    "result = is_balanced_tree(G, root)\n",
    "\n",
    "if result != -1:\n",
    "    print(\"A árvore é balanceada.\")\n",
    "else:\n",
    "    print(\"A árvore não é balanceada.\")\n"
   ]
  }
 ],
 "metadata": {
  "kernelspec": {
   "display_name": "Python 3 (ipykernel)",
   "language": "python",
   "name": "python3"
  },
  "language_info": {
   "codemirror_mode": {
    "name": "ipython",
    "version": 3
   },
   "file_extension": ".py",
   "mimetype": "text/x-python",
   "name": "python",
   "nbconvert_exporter": "python",
   "pygments_lexer": "ipython3",
   "version": "3.11.5"
  },
  "varInspector": {
   "cols": {
    "lenName": 16,
    "lenType": 16,
    "lenVar": 40
   },
   "kernels_config": {
    "python": {
     "delete_cmd_postfix": "",
     "delete_cmd_prefix": "del ",
     "library": "var_list.py",
     "varRefreshCmd": "print(var_dic_list())"
    },
    "r": {
     "delete_cmd_postfix": ") ",
     "delete_cmd_prefix": "rm(",
     "library": "var_list.r",
     "varRefreshCmd": "cat(var_dic_list()) "
    }
   },
   "types_to_exclude": [
    "module",
    "function",
    "builtin_function_or_method",
    "instance",
    "_Feature"
   ],
   "window_display": false
  }
 },
 "nbformat": 4,
 "nbformat_minor": 5
}
