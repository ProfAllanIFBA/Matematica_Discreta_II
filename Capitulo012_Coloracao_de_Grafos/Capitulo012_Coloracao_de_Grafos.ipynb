{
 "cells": [
  {
   "cell_type": "markdown",
   "id": "ce33096c",
   "metadata": {},
   "source": [
    "<center> <img src=\"logo_ifba.jpg\" alt=\"jpg_python\" width=\"100\" height=\"\"> </center>\n",
    "<br><br>\n",
    "<div align=\"center\"><span style=\"font-size: 26px;\"><strong>Matemática Discreta II <br></strong></span></div> <br>\n",
    "<center> <img src=\"python_gif.gif\" alt=\"gif_python\" width=\"80\"> </center>"
   ]
  },
  {
   "cell_type": "markdown",
   "id": "c5073180",
   "metadata": {},
   "source": [
    "<div style=\"border: 2px solid black; padding: 10px; width: 95%; background-color: lightgray; display: flex; align-items: center;\">\n",
    "    <h1 style=\"color: red; text-align: center; margin: auto;\">\n",
    "        Capítulo 12: Coloração de Grafos\n",
    "    </h1>\n",
    "</div>\n",
    "\n",
    "<font color='red'></font>\n",
    "<a href=\"\"></a>"
   ]
  },
  {
   "cell_type": "markdown",
   "id": "efb1d751",
   "metadata": {},
   "source": [
    "Problemas relacionados à coloração de mapas de regiões, como mapas de partes do mundo, geraram muitos resultados na teoria dos grafos. Quando um mapa é colorido, duas regiões com uma borda comum, como regra, devem ter cores diferentes. Uma maneira de garantir que duas regiões adjacentes nunca tenham a mesma cor é usar uma cor diferente para cada região. No entanto, isso é ineficiente e em mapas com muitas regiões, seria difícil distinguir cores semelhantes. Em vez disso, busca-se a utilização do menor número de cores possíveis."
   ]
  },
  {
   "cell_type": "markdown",
   "id": "12d29994",
   "metadata": {},
   "source": [
    "# <div style=\"margin-top: -20px;\">\n",
    "<hr style=\"border: 2px solid black;\">\n",
    "\n",
    "<font color='black'><span style=\"font-size: 22px;\"><strong>12.1 Motivação Incial</strong></span></font>\n",
    "\n",
    "<hr style=\"border: 2px solid black;\">\n",
    "</div>"
   ]
  },
  {
   "cell_type": "markdown",
   "id": "be8270b7",
   "metadata": {},
   "source": [
    "Considere o problema de determinar o menor número de cores que podem ser usadas para colorir um mapa de modo que regiões adjacentes nunca tenham a mesma cor. Por exemplo, para o mapa mostrado na a seguir pode ser colorido com no mínimo quantas cores de modo que regiões adjacentes apresentem cores diferentes?<br><br>\n",
    "<center> <img src=\"fig12_1.jpg\" alt=\"jpg_python\" width=\"250\" height=\"\"> </center><br>\n",
    "O mada em questão pode ser representado por um grafo no qual cada região do mapa será representada por um vértice e regiões com fronteira comum terão uma aresta as ligando. Se duas regiões se tocarem em um só ponto (modelo real inviável) elas não serão consideradas adjacentes. Segue o grafo associado ao mapa:<br><br>\n",
    "<center> <img src=\"fig12_2.jpg\" alt=\"jpg_python\" width=\"250\" height=\"\"> </center><br>\n",
    "O problema de colorir as regiões de um mapa é equivalente ao problema de colorir os vértices do grafo associado, de modo que nenhum dos dois vértices adjacentes neste grafo tenham a mesma cor. Nós agora definimos uma coloração de grafos."
   ]
  },
  {
   "cell_type": "markdown",
   "id": "8ef67080",
   "metadata": {},
   "source": [
    "# <div style=\"margin-top: -20px;\">\n",
    "<hr style=\"border: 2px solid black;\">\n",
    "\n",
    "<font color='black'><span style=\"font-size: 22px;\"><strong>12.2 Coloração</strong></span></font>\n",
    "\n",
    "<hr style=\"border: 2px solid black;\">\n",
    "</div>"
   ]
  },
  {
   "cell_type": "markdown",
   "id": "88d3bd76",
   "metadata": {},
   "source": [
    "#### <font color='red'> Definição 1 </font>"
   ]
  },
  {
   "cell_type": "markdown",
   "id": "a64717c1",
   "metadata": {},
   "source": [
    "<font color='red'> Uma **coloração** de um grafo simples é a atribuição de uma cor a cada vértice do grafo, de modo que não haja dois vértices adjacentes atribuídos à mesma cor."
   ]
  },
  {
   "cell_type": "markdown",
   "id": "96760103",
   "metadata": {},
   "source": [
    "#### <font color='red'> Definição 2 </font>"
   ]
  },
  {
   "cell_type": "markdown",
   "id": "6d486905",
   "metadata": {},
   "source": [
    "<font color='red'> O **número cromático** de um grafo é o menor número de cores necessárias para uma coloração deste grafo. O número cromático de um grafo $G$ é denotado por $\\chi(G)$. (Aqui $\\chi$ é a letra grega chi.)"
   ]
  },
  {
   "cell_type": "markdown",
   "id": "5e6749dc",
   "metadata": {},
   "source": [
    "#### <font color='blue'> Exemplo 1 </font>"
   ]
  },
  {
   "cell_type": "markdown",
   "id": "dcd04f47",
   "metadata": {},
   "source": [
    "<font color='blue'> Determine o número mínimo de cores que se pode usar para colorirmos o mapa dado na motivação inicial deste capítulo."
   ]
  },
  {
   "cell_type": "markdown",
   "id": "e52d6f23",
   "metadata": {},
   "source": [
    "##### <font color='blue'> Solução </font>"
   ]
  },
  {
   "cell_type": "markdown",
   "id": "b3e5635c",
   "metadata": {},
   "source": [
    "<font color='blue'> Tal problema é equivalente a determinarmos o número cromático do grafo $G$ associado ao mapa em questão. Pois bem, comecemos atribuindo a cor azul ao vértice $A$. Como $B$ é adjacente a $A$(azul) devemos usar uma segunda cor, digamos a vermelha. Note que $C$ é adjacente tanto a $A$(azul) quanto a $B$(vermelho). Neste caso, necessitamos uma terceira cor, digamos verde. Prosseguindo, temos que $D$ é adjacente a $A$(azul) e a $C$(verde). Neste caso, não podemos usar as cores azul ou verde, mas podemos usar a cor vermelha. Lembre-se que estamos interessados no menor número de cores. O vértice $E$ é adjacente aos vértices $B$(vermelho) e $C$(verde) e portanto não podemos usar as cores tais cores, mas ainda podemos usar a cor azul. Por fim, o vértice $F$ é adjacente os vértices $C$(verde), $D$(vermelho) e $E$(azul) e, sendo assim, precisamos de uma quarta cor, digamos a cor cinza. Portanto, o número cromático do grafo $G$ é dado por $\\chi(G) = 4$. Acompanhe as cores na figura a seguir:<br><br>\n",
    "    <center> <img src=\"fig12_3.jpg\" alt=\"jpg_python\" width=\"250\" height=\"\"> </center><br>\n"
   ]
  },
  {
   "cell_type": "markdown",
   "id": "0febddea",
   "metadata": {},
   "source": [
    "#### <font color='red'> Teorema 1 </font>"
   ]
  },
  {
   "cell_type": "markdown",
   "id": "4872b39a",
   "metadata": {},
   "source": [
    "<font color='red'> O número cromático de um grafo planar não é maior que quatro."
   ]
  },
  {
   "cell_type": "markdown",
   "id": "21f98324",
   "metadata": {},
   "source": [
    "O **Teorema 1** estabelece uma cota superior para o número cromático de um grafo planar. Podemos então concluir que é possível pintar qualquer mapa de modo que regiões vizinhas não tenham a mesma cor com apenas $4$ cores, pois todo mapa admite uma representação planar (Consegue ver?). Além disso, temos uma ferramenta bastante útil para mostrarmos que um certo grafo $G$ não é planificável alem daquelas apresentadas no capítulo anterior. Basta observarmos se $\\chi(G) > 4$. *Novamente a contrapositiva!* Contudo, tome cuidado ao pensar o contrário. Nem todo grafo com número cromático menor ou igual a $4$ é planar. Lembre-se do grafo bipartido $K_{3,3}$ que não é planar mas $\\chi\\left(K_{3,3}\\right) = 2 < 4$."
   ]
  },
  {
   "cell_type": "markdown",
   "id": "0a1cf87a",
   "metadata": {},
   "source": [
    "#### <font color='blue'> Exemplo 2 </font>"
   ]
  },
  {
   "cell_type": "markdown",
   "id": "7022e4b4",
   "metadata": {},
   "source": [
    "<font color='blue'> Exiba o número cromático de um ciclo $C_{n}$."
   ]
  },
  {
   "cell_type": "markdown",
   "id": "b163572b",
   "metadata": {},
   "source": [
    "##### <font color='blue'> Solução </font>"
   ]
  },
  {
   "cell_type": "markdown",
   "id": "5f8c1d82",
   "metadata": {},
   "source": [
    "<font color='blue'> Caso $n$ seja par (começando a contagem de $1$), temos que apenas duas cores são necessárias. De fato, para $n$ par, temos que os vértices $v_{i}, \\, i = 1,3,5,\\cdots n-1$ serão pintados, digamos, com a cor azul, por exemplo. Os vértices $v_{i} = 2,4,6, \\cdots n-2,n$ serão pintados com a cor vermelha. Por outro lado, para $n$ ímpar, temos que os vértices $v_{i}, \\, i = 1,3,5, \\cdots n-2$ são pintados com, digamos, a cor azul. Os vértices $v_{i} = 0,2,4,\\cdots, n-1$ serão pintados com a cor vermelha. Note que o vértice $v_{n}$ é adjacente aos vértices $v_{1}$(azul) e $v_{n-1}$(vermelho) donde segue a necessidade de uma terceira cor. Assim, $\\chi(C_{n}) = 2$ se $n$ for par e $\\chi(C_{n}) = 3$ se $n$ for ímpar."
   ]
  },
  {
   "cell_type": "markdown",
   "id": "9baf71bb",
   "metadata": {},
   "source": [
    "#### <font color='blue'> Exemplo 3 </font>"
   ]
  },
  {
   "cell_type": "markdown",
   "id": "06f6f262",
   "metadata": {},
   "source": [
    "<font color='blue'> Exiba o número cromático de $K_{n}$."
   ]
  },
  {
   "cell_type": "markdown",
   "id": "5998175b",
   "metadata": {},
   "source": [
    "##### <font color='blue'> Solução </font>"
   ]
  },
  {
   "cell_type": "markdown",
   "id": "ff1fe90e",
   "metadata": {},
   "source": [
    "<font color='blue'> Uma coloração de $K_{n}$ pode ser construída usando $n$ cores, atribuindo uma cor diferente a cada vértice. Existe uma coloração usando menos cores? A resposta é não. Dois vértices não podem ser atribuídos a mesma cor, porque cada dois vértices desse grafo são adjacentes. Portanto, o número cromático de $K_{n}$ é $n$. Lembre-se que $K_{n}$ não é planar quando $n\\geq 5$ (**Teorema 1** observando o fato que $K_{n}$ é subgrafo de $K_{n+1}$), então este resultado não contradiz o teorema das quatro cores."
   ]
  },
  {
   "cell_type": "markdown",
   "id": "3087164c",
   "metadata": {},
   "source": [
    "#### <font color='blue'> Exemplo 4 </font>"
   ]
  },
  {
   "cell_type": "markdown",
   "id": "2b42e21e",
   "metadata": {},
   "source": [
    "<font color='blue'> Qual é o número cromático do grafo bipartido completo $K_{m, n}$, onde $m$ e $n$ são inteiros positivos?"
   ]
  },
  {
   "cell_type": "markdown",
   "id": "fb578d4c",
   "metadata": {},
   "source": [
    "##### <font color='blue'> Solução </font>"
   ]
  },
  {
   "cell_type": "markdown",
   "id": "ee4e5e51",
   "metadata": {},
   "source": [
    "<font color='blue'> $K_{m,n}$ \\'e bipartido. Logo, somente duas cores são necessárias."
   ]
  },
  {
   "cell_type": "markdown",
   "id": "5472db00",
   "metadata": {},
   "source": [
    "#### Observação 1"
   ]
  },
  {
   "cell_type": "markdown",
   "id": "ac40d879",
   "metadata": {},
   "source": [
    "Infelizmente, não existe um algoritmo eficiente disponível para colorir um grafo com um número mínimo de cores, pois o problema é conhecido como NP Completo. Existem algoritmos aproximados para resolver o problema. O que temos são **algoritmos gulosos**.\n",
    "\n",
    "*Um algoritmo guloso é qualquer algoritmo que segue a heurística de resolução de problemas de fazer a escolha localmente ideal em cada estágio. Em muitos problemas, uma estratégia gulosa não produz uma solução ótima, mas uma heurística gulosa pode produzir soluções localmente ótimas que se aproximam de uma solução globalmente ótima em um período de tempo razoável.*"
   ]
  },
  {
   "cell_type": "markdown",
   "id": "3fa5f110",
   "metadata": {},
   "source": [
    "# <div style=\"margin-top: -20px;\">\n",
    "<hr style=\"border: 2px solid black;\">\n",
    "\n",
    "<font color='black'><span style=\"font-size: 22px;\"><strong>12.3 Exercícios</strong></span></font>\n",
    "\n",
    "<hr style=\"border: 2px solid black;\">\n",
    "</div>"
   ]
  },
  {
   "cell_type": "markdown",
   "id": "cefa3c75",
   "metadata": {},
   "source": [
    "#### Exercício 1"
   ]
  },
  {
   "cell_type": "markdown",
   "id": "f467d038",
   "metadata": {},
   "source": [
    "Determine o número cromático de cada um dos grafos a seguir:<br><br>\n",
    "<center> <img src=\"fig12_4.jpg\" alt=\"jpg_python\" width=\"700\" height=\"\"> </center><br>"
   ]
  },
  {
   "cell_type": "markdown",
   "id": "68ce046d",
   "metadata": {},
   "source": [
    "#### Exercício 2"
   ]
  },
  {
   "cell_type": "markdown",
   "id": "1da5b469",
   "metadata": {},
   "source": [
    "Qual a coloração mínima para um grafo não planar?"
   ]
  },
  {
   "cell_type": "markdown",
   "id": "d7e051b9",
   "metadata": {},
   "source": [
    "#### Exercício 3"
   ]
  },
  {
   "cell_type": "markdown",
   "id": "7b73fd37",
   "metadata": {},
   "source": [
    "Caracterize os grafos que possuem número cromático igual a $1$."
   ]
  },
  {
   "cell_type": "markdown",
   "id": "021ba8b5",
   "metadata": {},
   "source": [
    "#### Exercício 4"
   ]
  },
  {
   "cell_type": "markdown",
   "id": "92136c1b",
   "metadata": {},
   "source": [
    " Qual o menor número de cores que se pode pintar cada uma das figuras a seguir de modo que nenhuma região tenha a mesma cor que outra com a qual faça fronteira?<br><br>\n",
    "<center> <img src=\"fig12_5.jpg\" alt=\"jpg_python\" width=\"500\" height=\"\"></center><br>"
   ]
  },
  {
   "cell_type": "markdown",
   "id": "11ed12fb",
   "metadata": {},
   "source": [
    "#### Exercício 5"
   ]
  },
  {
   "cell_type": "markdown",
   "id": "6e66bb37",
   "metadata": {},
   "source": [
    "Veja a definição a seguir:<br><br>\n",
    "<font color='red'> **Definição 3** Uma coloração de aresta de um grafo é uma atribuição de cores às arestas de forma que as arestas incidentes com um vértice comum sejam atribuídas com cores diferentes. O número cromático de aresta de um grafo é o menor número de cores que podem ser usadas em uma coloração de borda do grafo. O número cromático de aresta de um grafo G é denotado por $\\chi'(G)$. </font><br><br>\n",
    "Determine o número cromático de aresta dos grafos do **Exercício 1**."
   ]
  },
  {
   "cell_type": "markdown",
   "id": "d52ee48a",
   "metadata": {},
   "source": [
    "## <div style=\"margin-top: -20px;\">\n",
    "<hr style=\"border: 2px solid black;\">\n",
    "\n",
    "<font color='black'><span style=\"font-size: 18px;\"><strong>Respostas</strong></span></font>\n",
    "\n",
    "<hr style=\"border: 2px solid black;\">\n",
    "</div>"
   ]
  },
  {
   "cell_type": "markdown",
   "id": "08aa690c",
   "metadata": {},
   "source": [
    "#### Respostas do Exercício 1"
   ]
  },
  {
   "cell_type": "markdown",
   "id": "185ea011",
   "metadata": {},
   "source": [
    "a) $3$, b) $4$, c) $5$"
   ]
  },
  {
   "cell_type": "markdown",
   "id": "a9c59a82",
   "metadata": {},
   "source": [
    "#### Respostas do Exercício 2"
   ]
  },
  {
   "cell_type": "markdown",
   "id": "63314ca2",
   "metadata": {},
   "source": [
    "$2$"
   ]
  },
  {
   "cell_type": "markdown",
   "id": "0b772ed9",
   "metadata": {},
   "source": [
    "#### Respostas do Exercício 3"
   ]
  },
  {
   "cell_type": "markdown",
   "id": "ace85f4e",
   "metadata": {},
   "source": [
    "Grafo com $v \\geq 1$ e $e = 0$ ($v = $ número de vértices e $e = $ número de arestas)"
   ]
  },
  {
   "cell_type": "markdown",
   "id": "cb2c06d6",
   "metadata": {},
   "source": [
    "#### Respostas do Exercício 4"
   ]
  },
  {
   "cell_type": "markdown",
   "id": "32f7d218",
   "metadata": {},
   "source": [
    "a) $3$, b) $2$"
   ]
  },
  {
   "cell_type": "markdown",
   "id": "93aaa558",
   "metadata": {},
   "source": [
    "#### Respostas do Exercício 5"
   ]
  },
  {
   "cell_type": "markdown",
   "id": "bade6cb1",
   "metadata": {},
   "source": [
    "a) $3$, b) $4$, c) $6$"
   ]
  },
  {
   "cell_type": "markdown",
   "id": "77040c68",
   "metadata": {},
   "source": [
    "# <div style=\"margin-top: -20px;\">\n",
    "<hr style=\"border: 2px solid black;\">\n",
    "\n",
    "<font color='black'><span style=\"font-size: 22px;\"><strong>12.4 Vídeo Aulas</strong></span></font>\n",
    "\n",
    "<hr style=\"border: 2px solid black;\">\n",
    "</div>"
   ]
  },
  {
   "cell_type": "markdown",
   "id": "a22169bb",
   "metadata": {},
   "source": [
    "Clicando nos links a seguir você será redirecionado às aulas referentes a este capítulo.\n",
    "\n",
    "[Coloração de Grafos](https://youtu.be/Y2JB9opq028)\n",
    "\n",
    "[Exemplos e Resultados Sobre Coloração de Grafos](https://youtu.be/0_eKp3A0Peo)"
   ]
  },
  {
   "cell_type": "markdown",
   "id": "72581701",
   "metadata": {},
   "source": [
    "# <div style=\"margin-top: -20px;\">\n",
    "<hr style=\"border: 2px solid black;\">\n",
    "\n",
    "<font color='black'><span style=\"font-size: 22px;\"><strong>12.5 No Computador (Experimental)</strong></span></font>\n",
    "\n",
    "<hr style=\"border: 2px solid black;\">\n",
    "</div>"
   ]
  },
  {
   "cell_type": "markdown",
   "id": "9f233b56",
   "metadata": {},
   "source": [
    "Para os exemplos a seguir utilizamos os grafos \"a\" e \"b\"dados no **Exercício 1**."
   ]
  },
  {
   "cell_type": "code",
   "execution_count": null,
   "id": "019be255",
   "metadata": {
    "ExecuteTime": {
     "end_time": "2023-08-28T02:33:32.701776Z",
     "start_time": "2023-08-28T02:33:32.690781Z"
    }
   },
   "outputs": [],
   "source": [
    "grafo_G = [('a','b'), ('a','c'), ('a','e'), ('b','d'), ('c','d'), ('c','e')]\n",
    "\n",
    "grafo_H = [('a','b'), ('a','c'), ('a','d'), ('b','c'), ('b','d'), \\\n",
    "           ('b','e'), ('c','d'), ('c','f'), ('e','f')]"
   ]
  },
  {
   "cell_type": "markdown",
   "id": "3a171118",
   "metadata": {},
   "source": [
    "Lembre-se da **Observação 1**, isto é, não é assegurado que os algoritmos obtenham o melhor resultado possível."
   ]
  },
  {
   "cell_type": "markdown",
   "id": "72e30eab",
   "metadata": {},
   "source": [
    "##### Calculando o número cromático"
   ]
  },
  {
   "cell_type": "code",
   "execution_count": null,
   "id": "d8560534",
   "metadata": {},
   "outputs": [],
   "source": [
    "import networkx as nx\n",
    "\n",
    "G = nx.Graph()\n",
    "G.add_edges_from(grafo_G) # Repasse para o grafo grafo_H\n",
    "\n",
    "coloring = nx.greedy_color(G)\n",
    "num_colors = max(coloring.values()) + 1  # O número de cores é o valor máximo da coloração + 1\n",
    "\n",
    "print(\"Número cromático:\", num_colors)"
   ]
  },
  {
   "cell_type": "markdown",
   "id": "dbd9068c",
   "metadata": {},
   "source": [
    "##### Colorindo um grafo"
   ]
  },
  {
   "cell_type": "code",
   "execution_count": null,
   "id": "0fcb5a27",
   "metadata": {},
   "outputs": [],
   "source": [
    "import networkx as nx\n",
    "\n",
    "G = nx.Graph()\n",
    "G.add_edges_from(grafo_G) # Repasse para o grafo grafo_H\n",
    "\n",
    "coloring = nx.greedy_color(G)\n",
    "print(coloring)"
   ]
  },
  {
   "cell_type": "markdown",
   "id": "727d714a",
   "metadata": {},
   "source": [
    "##### Coloração e esboço"
   ]
  },
  {
   "cell_type": "code",
   "execution_count": null,
   "id": "54eca66f",
   "metadata": {
    "ExecuteTime": {
     "end_time": "2023-08-28T02:02:19.066308Z",
     "start_time": "2023-08-28T02:02:16.421378Z"
    }
   },
   "outputs": [],
   "source": [
    "import networkx as nx\n",
    "import matplotlib.pyplot as plt\n",
    "\n",
    "G = nx.Graph()\n",
    "G.add_edges_from(grafo_G) # Repasse para o grafo grafo_H\n",
    "\n",
    "coloring = nx.greedy_color(G)\n",
    "\n",
    "# Mapeamento de cores para valores numéricos para uso na plotagem\n",
    "color_map = [coloring[node] for node in G.nodes()]\n",
    "\n",
    "# Desenho do grafo\n",
    "pos = nx.spring_layout(G)  # Posicionamento dos vértices\n",
    "nx.draw(G, pos, node_color=color_map, with_labels=True, font_weight='bold', font_color='white')\n",
    "\n",
    "# Exibição do desenho\n",
    "plt.show()\n"
   ]
  }
 ],
 "metadata": {
  "kernelspec": {
   "display_name": "Python 3 (ipykernel)",
   "language": "python",
   "name": "python3"
  },
  "language_info": {
   "codemirror_mode": {
    "name": "ipython",
    "version": 3
   },
   "file_extension": ".py",
   "mimetype": "text/x-python",
   "name": "python",
   "nbconvert_exporter": "python",
   "pygments_lexer": "ipython3",
   "version": "3.11.5"
  },
  "varInspector": {
   "cols": {
    "lenName": 16,
    "lenType": 16,
    "lenVar": 40
   },
   "kernels_config": {
    "python": {
     "delete_cmd_postfix": "",
     "delete_cmd_prefix": "del ",
     "library": "var_list.py",
     "varRefreshCmd": "print(var_dic_list())"
    },
    "r": {
     "delete_cmd_postfix": ") ",
     "delete_cmd_prefix": "rm(",
     "library": "var_list.r",
     "varRefreshCmd": "cat(var_dic_list()) "
    }
   },
   "types_to_exclude": [
    "module",
    "function",
    "builtin_function_or_method",
    "instance",
    "_Feature"
   ],
   "window_display": false
  }
 },
 "nbformat": 4,
 "nbformat_minor": 5
}
