{
 "cells": [
  {
   "cell_type": "markdown",
   "id": "d4ea28a8",
   "metadata": {
    "slideshow": {
     "slide_type": "slide"
    }
   },
   "source": [
    "<center> <img src=\"logo_ifba.jpg\" alt=\"jpg_python\" width=\"100\" height=\"200\"> </center>\n",
    "<br><br>\n",
    "<div align=\"center\"><span style=\"font-size: 26px;\"><strong>Matemática Discreta II <br></strong></span></div> <br>\n",
    "<center> <img src=\"python_gif.gif\" alt=\"gif_python\" width=\"80\"> </center>"
   ]
  },
  {
   "cell_type": "markdown",
   "id": "d76184a7",
   "metadata": {
    "slideshow": {
     "slide_type": "slide"
    }
   },
   "source": [
    "<div style=\"border: 2px solid black; padding: 10px; width: 95%; background-color: lightgray; display: flex; align-items: center;\">\n",
    "    <h1 style=\"color: red; text-align: center; margin: auto;\">\n",
    "        Capítulo 2: Terminologia e Definições Básicas\n",
    "    </h1>\n",
    "</div>\n",
    "\n",
    "<font color='red'></font>\n",
    "<a href=\"\"></a>"
   ]
  },
  {
   "cell_type": "markdown",
   "id": "20189da1",
   "metadata": {
    "slideshow": {
     "slide_type": "slide"
    }
   },
   "source": [
    "# <div style=\"margin-top: -20px;\">\n",
    "<hr style=\"border: 2px solid black;\">\n",
    "\n",
    "<font color='black'><span style=\"font-size: 22px;\"><strong>2.1 Grafos Não Orientados</strong></span></font>\n",
    "\n",
    "<hr style=\"border: 2px solid black;\">\n",
    "</div>"
   ]
  },
  {
   "cell_type": "markdown",
   "id": "a1d5bec5",
   "metadata": {},
   "source": [
    "Apresentaremos nesta seção alguns importantes conceitos e resultados associadados a grafos não orientados. Eles servirão de base para tudo que estudaremos de agora em diante."
   ]
  },
  {
   "cell_type": "markdown",
   "id": "dd3882fd",
   "metadata": {},
   "source": [
    "#### <font color='red'> Definição 1 </font>"
   ]
  },
  {
   "cell_type": "markdown",
   "id": "d46d1f02",
   "metadata": {},
   "source": [
    "<font color='red'> Dois vértices $u$ e $v$ em um grafo não orientado $G$ são chamados **adjacentes** (ou **vizinhos**) em $G$ se $u$ e v são pontos finais de uma aresta $e$ de $G$. Tal aresta $e$ é chamada incidente com os vértices $u$ e $v$."
   ]
  },
  {
   "cell_type": "markdown",
   "id": "0f801060",
   "metadata": {},
   "source": [
    "#### <font color='blue'> Exemplo 1 </font>"
   ]
  },
  {
   "cell_type": "markdown",
   "id": "a3466734",
   "metadata": {},
   "source": [
    "<font color='blue'> Considere o grafo $G$ dado a seguir:<br><br>\n",
    " <center> <img src=\"fig2_1.jpg\" alt=\"jpg_python\" width=\"230\" height=\"\"> </center><br>\n",
    "Note que os vértices $a$ e $b$ são adjacentes, pois existe uma aresta incidente a ambos. Por outro lado, os vértices $b$ e $c$ não são adjacentes uma vez que não há qualquer aresta incidente a ambos simultaneamente. O vértice $e$, por exemplo, não apresenta vértices adjacentes. O vértice $c$ é adjacente a ele mesmo, pois existe um loop em $c$."
   ]
  },
  {
   "cell_type": "markdown",
   "id": "3775ebdb",
   "metadata": {},
   "source": [
    "#### <font color='red'> Definição 2 </font>"
   ]
  },
  {
   "cell_type": "markdown",
   "id": "7d8bb9cf",
   "metadata": {},
   "source": [
    "<font color='red'> O conjunto de todos os vizinhos de um vértice $v$ de $G = (V, E)$, denotado por $N(v)$, é chamado **vizinhança** de $v$. Se $A$ é um subconjunto de $V$, denotamos por $N(A)$ o conjunto de todos os vértices em $G$ que são adjacentes a pelo menos um vértice em $A$. Assim, $N (A) = \\cup_{v \\in A}N(v)$."
   ]
  },
  {
   "cell_type": "markdown",
   "id": "2dc5d238",
   "metadata": {},
   "source": [
    "#### <font color='blue'> Exemplo 2 </font>"
   ]
  },
  {
   "cell_type": "markdown",
   "id": "dee5e439",
   "metadata": {},
   "source": [
    "<font color='blue'> Determine a vizinhança de todos os vértices do grafo $G$ dado no **Exemplo 1**:"
   ]
  },
  {
   "cell_type": "markdown",
   "id": "e90f7245",
   "metadata": {},
   "source": [
    "<font color='blue'> **Solução**: Observando todas as adjacências de cada um dos vértices (de acordo com a **Definição 1**) temos: $N(a) = \\{b,c,d\\}$, $N(b) = \\{a,d\\}$, $N(c) = \\{a,c\\}$, $N(d) = \\{a,b\\}$ e $N(e) = \\emptyset$."
   ]
  },
  {
   "cell_type": "markdown",
   "id": "0fe26af8",
   "metadata": {},
   "source": [
    "#### <font color='red'> Definição 3 </font>"
   ]
  },
  {
   "cell_type": "markdown",
   "id": "7e0b99b2",
   "metadata": {},
   "source": [
    "<font color='red'> O **grau de um vértice** em um grafo não orientado é o número de arestas incidentes com ele, exceto que um loop em um vértice contribui duas vezes para o grau desse vértice. O grau do vértice $v$ é denotado por $deg(v)$."
   ]
  },
  {
   "cell_type": "markdown",
   "id": "242237e2",
   "metadata": {},
   "source": [
    "#### <font color='blue'> Exemplo 3 </font>"
   ]
  },
  {
   "cell_type": "markdown",
   "id": "db8d72b8",
   "metadata": {},
   "source": [
    "<font color='blue'> Determine o grau de todos os vértices do grafo $G$ dado no **Exemplo 1**."
   ]
  },
  {
   "cell_type": "markdown",
   "id": "4c1cdbe3",
   "metadata": {},
   "source": [
    "<font color='blue'> **Solução**: De acordo com a **Definição 3** temos que $deg(a) = 3$ (vértices $b$, $c$, $d$ com uma aresta cada um); $deg(b) = 3$ (vértices $a$, $d$ sendo o primeiro contribuindo com uma aresta incidente e o segundo com duas); $deg(c) = 3$ (vértices $a$, $c$, sendo o primeiro contribuindo com uma aresta e o segundo com um loop que vale $2$ para efeitos de cálculo de grau); $deg(d) = 3$ (vértices $a$, $b$ sendo o primeiro contribuindo com uma aresta incidente e o segundo com duas); $deg(e) = 0$, pois não há qualquer aresta incidente com este."
   ]
  },
  {
   "cell_type": "markdown",
   "id": "edd25f41",
   "metadata": {},
   "source": [
    "#### <font color='red'> Teorema 1</font>"
   ]
  },
  {
   "cell_type": "markdown",
   "id": "9b171845",
   "metadata": {},
   "source": [
    "<font color='red'> Seja $G=(V, E)$ um grafo não orientado com $m$ arestas. Então<br>  \n",
    "$$\\sum_{v\\in V} deg(v) = 2m.$$<br>\n",
    "(O presente resultado se aplica a todo tipo de grafo não orientado incluindo multigrafos e pseudografos.)"
   ]
  },
  {
   "cell_type": "markdown",
   "id": "15b79a12",
   "metadata": {},
   "source": [
    "#### <font color='blue'> Exemplo 4 </font>"
   ]
  },
  {
   "cell_type": "markdown",
   "id": "ce70fd1d",
   "metadata": {},
   "source": [
    "<font color='blue'> Quantas arestas existem em um grafo com $8$ vértices de grau seis cada um?"
   ]
  },
  {
   "cell_type": "markdown",
   "id": "f5029f61",
   "metadata": {},
   "source": [
    "<font color='blue'> **Solução**: Temos que a soma dos graus dos vértices é dada por\n",
    "$$6 + 6 + \\cdots + 6  = 6\\cdot 8 = 48$$\n",
    "donde segue, do **Teorema 1** que, $2m = 48$, em que $m$ é o número de arestas. Portanto, tal grafo contém $24$ arestas."
   ]
  },
  {
   "cell_type": "markdown",
   "id": "5c95b2c7",
   "metadata": {},
   "source": [
    "#### <font color='red'> Teorema 2</font>"
   ]
  },
  {
   "cell_type": "markdown",
   "id": "db8c6c44",
   "metadata": {},
   "source": [
    "<font color='red'> Um grafo não orientado possui um número par de vértices de grau ímpar."
   ]
  },
  {
   "cell_type": "markdown",
   "id": "60ff73b9",
   "metadata": {},
   "source": [
    "<font color='red'>**Demonstração**: Sejam $V_{1}$ e $V_{2}$ o conjunto de vértices de graus pares e o conjunto de vértices de graus ímpares, respectivamente, em um grafo não orientado $G = (V, E)$ com $m$ arestas. Então<br><br>\n",
    "$$2m = \\sum_{v \\in V} deg(v) = \\sum_{v \\in V_{1}} deg(v)  +  \\sum_{v \\in V_{2}} deg(v) \\Rightarrow 2m = 2k +  \\sum_{v \\in V_{2}} deg(v) \\Rightarrow  \\sum_{v \\in V_{2}} deg(v) = 2(m-k)$$<br>\n",
    "Logo, o grafo possui um número par de vértices de grau ímpar."
   ]
  },
  {
   "cell_type": "markdown",
   "id": "3e9674db",
   "metadata": {},
   "source": [
    "#### <font color='blue'> Exemplo 5 </font>"
   ]
  },
  {
   "cell_type": "markdown",
   "id": "4fb3c483",
   "metadata": {},
   "source": [
    "<font color='blue'> É possível desenhar um grafo contendo $5$ vértices sendo dois de grau $2$, um de grau $3$ e dois de grau $1$? Se sim desenhe-o."
   ]
  },
  {
   "cell_type": "markdown",
   "id": "33a3250d",
   "metadata": {},
   "source": [
    "<font color='blue'> **Solução**: De acordo com o **Teorema 2** não é possível pois temos três vértices de grau ímpar. *Espero que não tenha começado a desenhar algo que não existe!*"
   ]
  },
  {
   "cell_type": "markdown",
   "id": "149d65a8",
   "metadata": {},
   "source": [
    "# <div style=\"margin-top: -20px;\">\n",
    "<hr style=\"border: 2px solid black;\">\n",
    "\n",
    "<font color='black'><span style=\"font-size: 22px;\"><strong>2.2 Grafos Orientados</strong></span></font>\n",
    "\n",
    "<hr style=\"border: 2px solid black;\">\n",
    "</div>"
   ]
  },
  {
   "cell_type": "markdown",
   "id": "53312c24",
   "metadata": {},
   "source": [
    "A seguir serão apresentados algumas definições e teoremas semelhantes aos vistos na seção anterior, contudo restritos a grafos orientados."
   ]
  },
  {
   "cell_type": "markdown",
   "id": "c748bc98",
   "metadata": {},
   "source": [
    "#### <font color='red'> Definição 4</font>"
   ]
  },
  {
   "cell_type": "markdown",
   "id": "6123c182",
   "metadata": {},
   "source": [
    "<font color='red'>Quando $(u, v)$ é uma aresta do grafo orientado $G$ $u$ é\tdito ser **adjacente** a $v$ e $v$ é dito ser  adjacente a $u$. $u$ é chamado de vértice inicial de $(u, v)$, e $v$ é chamado de vértice terminal ou vértice final de $(u, v)$. O vértice inicial e o vértice terminal de um loop são os mesmos."
   ]
  },
  {
   "cell_type": "markdown",
   "id": "510cdda1",
   "metadata": {},
   "source": [
    "#### <font color='blue'> Exemplo 6 </font>"
   ]
  },
  {
   "cell_type": "markdown",
   "id": "b7562668",
   "metadata": {},
   "source": [
    "<font color='blue'>  Considere o grafo $G$ dado a seguir: <br><br>\n",
    " <center> <img src=\"fig2_2.jpg\" alt=\"jpg_python\" width=\"170\" height=\"\"> </center><br>\n",
    "Note que os vértices $a$ e $b$ são adjacentes com $a$ sendo o vértice inicial da aresta $(a,b)$ e $b$ sendo o vértice final. Os vértices $b$ e $d$ são adjacentes com $b$ sendo inicial e $d$ sendo final um do outro com relação à aresta $(b,d)$ e vice-versa com relação à aresta $(d,b)$. Note que $c$ é adjacente a ele mesmo devido ao loop existente nele e desta forma é ponto final e inicial da aresta $(c,c)$."
   ]
  },
  {
   "cell_type": "markdown",
   "id": "e957633e",
   "metadata": {},
   "source": [
    "#### <font color='red'> Definição 5</font>"
   ]
  },
  {
   "cell_type": "markdown",
   "id": "2a4af376",
   "metadata": {},
   "source": [
    "<font color='red'> Em um grafo com arestas orientadas, o **grau de entrada** de um vértice $v$, denotado por $deg^{-}(v)$, é o número \tde arestas cujo vértice terminal é $v$. O **grau de saída** de $v$, denotado por $deg^{+}(v)$, é o\tnúmero de arestas cujo vértice inicial é $v$. Um loop em um vértice contribui com $1$ para\ttanto o grau de entrada quanto o de saída desse vértice.)"
   ]
  },
  {
   "cell_type": "markdown",
   "id": "0a93fa54",
   "metadata": {},
   "source": [
    "#### <font color='blue'> Exemplo 7 </font>"
   ]
  },
  {
   "cell_type": "markdown",
   "id": "6ebf1392",
   "metadata": {},
   "source": [
    "<font color='blue'> Encontre o grau de entrada e saída de cada vértice no grafo orientado $G$ a seguir:<br><br>\n",
    " <center> <img src=\"fig2_3.jpg\" alt=\"jpg_python\" width=\"230\" height=\"\"> </center><br>"
   ]
  },
  {
   "cell_type": "markdown",
   "id": "6e686b48",
   "metadata": {},
   "source": [
    "<font color='blue'> **Solução**: Os graus de entrada em $G$ são $deg^{-}(a) = 0$, $deg^{-}(b) = 3$, $deg^{-}(c) = 2$, $deg^{-}(d) = 1$, $deg^{-}(e) = 0$ e $deg^{-}(f) = 2$. Os graus de sáida em $G$ são $deg^{+}(a) = 3$, $deg^{+}(b) = 1$, $deg^{+}(c) = 1$, $deg^{+}(d) = 3$, $deg^{+}(e) = 0$ e $deg^{+}(f) = 0$."
   ]
  },
  {
   "cell_type": "markdown",
   "id": "96c2504e",
   "metadata": {},
   "source": [
    "#### <font color='red'> Teorema 3</font>"
   ]
  },
  {
   "cell_type": "markdown",
   "id": "45d20653",
   "metadata": {},
   "source": [
    "<font color='red'> Seja $G = (V, E)$ um grafo orientado. Então<br><br>\n",
    "\t$$\\sum_{v \\in V} deg^{-}(v) = \\sum_{v \\in V} deg^{+}(v) = |E|.$$"
   ]
  },
  {
   "cell_type": "markdown",
   "id": "0486b01a",
   "metadata": {},
   "source": [
    "Note que o **Teorema 3** nos diz que a soma dos graus de entrada de todos os vértices é igual à soma dos graus de saída de todos os vértices de um grafo orientado.\n"
   ]
  },
  {
   "cell_type": "markdown",
   "id": "b15e983e",
   "metadata": {},
   "source": [
    "#### <font color='blue'> Exemplo 8 </font>"
   ]
  },
  {
   "cell_type": "markdown",
   "id": "d60f2fd7",
   "metadata": {},
   "source": [
    "<font color='blue'> Verifique o **Teorema 3** para o grafo $G$ dado no **Exemplo 7**."
   ]
  },
  {
   "cell_type": "markdown",
   "id": "6251c205",
   "metadata": {},
   "source": [
    "<font color='blue'> **Solução**: Temos que<br><br>\n",
    "$$\\sum_{v \\in V} deg^{-}(v) = deg^{-}(a) + deg^{-}(b) + deg^{-}(c) + deg^{-}(d) + deg^{-}(e) + deg^{-}(f) =  0 + 3 + 2 + 1 + 0 + 2 = 8$$<br>\n",
    "$$\\sum_{v \\in V} deg^{+}(v) = deg^{+}(a) + deg^{+}(b) + deg^{+}(c) + deg^{+}(d) + deg^{+}(e) + deg^{+}(f) =  3 + 1 + 1 + 3 + 0 + 0 = 8$$"
   ]
  },
  {
   "cell_type": "markdown",
   "id": "a34f014b",
   "metadata": {},
   "source": [
    "# <div style=\"margin-top: -20px;\">\n",
    "<hr style=\"border: 2px solid black;\">\n",
    "\n",
    "<font color='black'><span style=\"font-size: 22px;\"><strong>2.3 Exercícios</strong></span></font>\n",
    "\n",
    "<hr style=\"border: 2px solid black;\">\n",
    "</div>"
   ]
  },
  {
   "cell_type": "markdown",
   "id": "12c586d4",
   "metadata": {
    "ExecuteTime": {
     "end_time": "2023-07-04T13:19:14.383424Z",
     "start_time": "2023-07-04T13:19:14.380445Z"
    },
    "slideshow": {
     "slide_type": "slide"
    }
   },
   "source": [
    "#### Exercício 1"
   ]
  },
  {
   "cell_type": "markdown",
   "id": "c9b0d562",
   "metadata": {},
   "source": [
    "Considere o grafo não orientado $G$ mostrado a seguir: <br><br>\n",
    " <center> <img src=\"fig2_4.jpg\" alt=\"jpg_python\" width=\"170\" height=\"\"> </center>\n",
    " \n",
    "a) Determine o(s) vizinho(s) de cada um dos vértices $a$, $c$ e $f$.\n",
    "\n",
    "b) Determine a vizinhança de cada um dos conjuntos\t$A = \\{a,b\\}$ e $B =  \\{c,d\\}$\n",
    "\n",
    "c) O grau de cada um dos vértices $b$, $c$, $d$ e $e$."
   ]
  },
  {
   "cell_type": "markdown",
   "id": "cf9de701",
   "metadata": {},
   "source": [
    "#### Exercício 2"
   ]
  },
  {
   "cell_type": "markdown",
   "id": "39072fd9",
   "metadata": {},
   "source": [
    "Quantos vértices, todos de grau $5$, tem um grafo não orientado com $20$ arestas?"
   ]
  },
  {
   "cell_type": "markdown",
   "id": "0052842a",
   "metadata": {},
   "source": [
    "#### Exercício 3"
   ]
  },
  {
   "cell_type": "markdown",
   "id": "5f9cc633",
   "metadata": {},
   "source": [
    "Desenhe, se possível, grafos não orientados atendendo as condições solicitadas.\n",
    "\n",
    "a) grafo de $5$ vértices sendo quatro de grau $3$ e um de grau $2$.\n",
    "\n",
    "b) grafo de $6$ vértices sendo um de grau $1$, um de grau $2$, três de grau $3$ e um de grau $4$.\n",
    "\n",
    "c) grafo de $7$ vértices sendo três de grau $2$, dois de grau $3$, um de grau $4$ e um de grau $5$.\t"
   ]
  },
  {
   "cell_type": "markdown",
   "id": "1faf6b38",
   "metadata": {},
   "source": [
    "#### Exercício 4"
   ]
  },
  {
   "cell_type": "markdown",
   "id": "d10a53cd",
   "metadata": {},
   "source": [
    " Considere o grafo orientado $G$ mostrado a seguir: <br><br>\n",
    " <center> <img src=\"fig2_5.jpg\" alt=\"jpg_python\" width=\"220\" height=\"\"> </center>\n",
    "\n",
    "a) Determine o(s) vizinho(s) de cada um dos vértices $b$, $d$ e $g$.\n",
    "\n",
    "b) Determine a vizinhança de cada um dos conjuntos\t$A = \\{a,d\\}$ e $B =  \\{c,d,e\\}$\n",
    "\n",
    "c) O grau de entrada de cada um dos vértices $b$, $c$, $d$ e $e$.\n",
    "\n",
    "d) O grau de de saída de cada um dos vértices $a$, $b$, $d$, $e$ e $g$.\t"
   ]
  },
  {
   "cell_type": "markdown",
   "id": "298c7842",
   "metadata": {},
   "source": [
    "#### Exercício 5"
   ]
  },
  {
   "cell_type": "markdown",
   "id": "29c7f3b6",
   "metadata": {},
   "source": [
    "Construa um grafo orientado consistindo dos vértices $a$, $b$, $c$, $d$, $e$ tais que:\n",
    "\n",
    "$$deg^{+}(a) = deg^{-}(a) = deg^{+}(b) = deg^{-}(b) = deg^{-}(c) = deg^{+}(d) = deg^{-}(d) = deg^{-}(e) = 1,\\, \\, \\, \\, deg^{+}(c) = 2, \\, \\, \\, \\, deg^{+}(e) = 0$$"
   ]
  },
  {
   "cell_type": "markdown",
   "id": "0438bda0",
   "metadata": {},
   "source": [
    "#### Exercício 6"
   ]
  },
  {
   "cell_type": "markdown",
   "id": "27479b0b",
   "metadata": {},
   "source": [
    "Considere um grafo orientado indicando cada ser vivo e aqueles do qual se alimenta (a relação $a \\rightarrow b$ indica que o animal $a$ é alimento para o animal $b$)<br><br>\n",
    " <center> <img src=\"fig2_6.jpg\" alt=\"jpg_python\" width=\"450\" height=\"\"> </center>\n",
    " \n",
    "a) Determine o grau de entrada e o grau de saída dos seguintes participantes da cadeia alimentar: Cupim, Lagarto, Galinha e Onça.\n",
    "\n",
    "b) Como você relacionaria o grau de entrada e o de saída para determinar o ser superior e o ser inferior na cadeia alimentar? A resposta desta questão é pessoal e deve ser debatida.\n",
    "\n",
    "c) Removendo-se a aranha o que se esperaria que acontecesse com o restante da cadeia alimentar em um curto período de tempo? A resposta desta questão é pessoal e pode ser debatida."
   ]
  },
  {
   "cell_type": "markdown",
   "id": "b2aae4d5",
   "metadata": {
    "slideshow": {
     "slide_type": "slide"
    }
   },
   "source": [
    "## <div style=\"margin-top: -20px;\">\n",
    "<hr style=\"border: 2px solid black;\">\n",
    "\n",
    "<font color='black'><span style=\"font-size: 18px;\"><strong>Respostas</strong></span></font>\n",
    "\n",
    "<hr style=\"border: 2px solid black;\">\n",
    "</div>"
   ]
  },
  {
   "cell_type": "markdown",
   "id": "697dfdf4",
   "metadata": {
    "slideshow": {
     "slide_type": "slide"
    }
   },
   "source": [
    "#### Respostas do Exercício 1"
   ]
  },
  {
   "cell_type": "markdown",
   "id": "03065802",
   "metadata": {},
   "source": [
    "a) $N(a) = \\{b,d\\}$, $N(c) = \\{b,c,f\\}$ e $N(f) = \\{c,e\\}$; $\\ \\ $ b) $N(A) = \\{a,b,c,d,e\\}$, $N(B) = \\{a,b,c,d,f\\}$; $\\ \\ $ c) $deg(b) = 3$, $deg(c) = 4$, $deg(d) = 4$ e $deg(e) = 4$"
   ]
  },
  {
   "cell_type": "markdown",
   "id": "dfd362eb",
   "metadata": {},
   "source": [
    "#### Resposta do Exercício 2"
   ]
  },
  {
   "cell_type": "markdown",
   "id": "25f28114",
   "metadata": {},
   "source": [
    "$8$ vértices."
   ]
  },
  {
   "cell_type": "markdown",
   "id": "4953d2b9",
   "metadata": {},
   "source": [
    "#### Respostas do Exercício 3"
   ]
  },
  {
   "cell_type": "markdown",
   "id": "a0c1c48c",
   "metadata": {},
   "source": [
    "<center> <img src=\"fig2_7.jpg\" alt=\"jpg_python\" width=\"700\" height=\"\"> </center>"
   ]
  },
  {
   "cell_type": "markdown",
   "id": "0f8aacc3",
   "metadata": {},
   "source": [
    "#### Respostas do Exercício 4"
   ]
  },
  {
   "cell_type": "markdown",
   "id": "3fab35df",
   "metadata": {},
   "source": [
    "a) $N(b) = \\{a,c,e\\}$, $N(d) = \\{d, e, f\\}$, $N(g) = \\{c\\}$; $\\ \\ $ b) $N(A) = \\{b, d, e, f\\}$, $N(B) = \\{b, d, e, f, g\\}$; $\\ \\ $ c) $deg^{-}(b) = 1$, $deg^{-}(c) = 2$, $deg^{-}(d) = 4$ e $deg^{-}(e) = 1$; $\\ \\ $ d) $deg^{+}(a) = 1$, $deg^{+}(b) = 2$, $deg^{+}(d) = 1$, $deg^{+}(e) = 2$ e $deg^{+}(g) = 1$."
   ]
  },
  {
   "cell_type": "markdown",
   "id": "2f2af56d",
   "metadata": {},
   "source": [
    "#### Respostas do Exercício 5"
   ]
  },
  {
   "cell_type": "markdown",
   "id": "605e4e57",
   "metadata": {},
   "source": [
    "<center> <img src=\"fig2_8.jpg\" alt=\"jpg_python\" width=\"250\" height=\"\"> </center>"
   ]
  },
  {
   "cell_type": "markdown",
   "id": "217e1d67",
   "metadata": {},
   "source": [
    "#### Respostas do Exercício 6"
   ]
  },
  {
   "cell_type": "markdown",
   "id": "76d7db34",
   "metadata": {},
   "source": [
    "a) $deg^{-}(Cupim) = 1$, $deg^{-}(Lagarto) = 1$, $deg^{-}(Galinha) = 5$, $deg^{-}$({\\it{Onça}}) $= 2$, $deg^{+}(Cupim) = 4$, $deg^{+}(Lagarto) = 1$, $deg^{+}(Galinha) = 1$ e $deg^{+}$({\\it{Onça}}) $= 0$\n",
    "\n",
    "b) De modo geral, seres da base da cadeia alimentar possuem grau de entrada nulo e grau de saída positivo como é o caso da madeira, isto é, apenas servem de alimento. Por outro lado, seres do topo da cadeia alimentar possuem grau de saída nulo e grau de entrada positivo como é o caso da onça, isto é, apenas se alimentam. Outras análises podem ser feitas.\n",
    "\n",
    "c) O impacto a curto prazo seria um aumento de todos aqueles seres da cadeia que servem de alimento para a aranha como é o caso da abelha e do cupim e uma diminuição daqueles seres que se alimentam da aranha que é o caso da galinha, do sapo e do lagarto. Contudo, a longo prazo praticamente toda a cadeia será afetada tendo que adaptar-se procurando substitutivos ou tendo superpopulações ou decaimento na população de alguns participantes da cadeia."
   ]
  },
  {
   "cell_type": "markdown",
   "id": "bb844f24",
   "metadata": {},
   "source": [
    "# <div style=\"margin-top: -20px;\">\n",
    "<hr style=\"border: 2px solid black;\">\n",
    "\n",
    "<font color='black'><span style=\"font-size: 22px;\"><strong>2.4 Vídeo Aulas</strong></span></font>\n",
    "\n",
    "<hr style=\"border: 2px solid black;\">\n",
    "</div>"
   ]
  },
  {
   "cell_type": "markdown",
   "id": "61e875ea",
   "metadata": {},
   "source": [
    "Clicando nos links a seguir você será redirecionado às aulas referentes a este capítulo.\n",
    "\n",
    "[Adjacência e Vizinhança em Grafos Não Orientados](https://youtu.be/9QRaCuZ3OQY)\n",
    "\n",
    "[Grau de Um Vértice em Um Grafo Não Orientado - Parte 1](https://youtu.be/QIMyMrmrw1w)\n",
    "\n",
    "[Grau de Um Vértice em Um Grafo Não Orientado - Parte 2](https://youtu.be/J1Qw1lLqLKw)\n",
    "\n",
    "[Adjacência e Graus de Um Vértice em Um Grafo Orientado](https://youtu.be/LUz5_OpkjrI)\n",
    "\n",
    "[Relação Entre o Grau de Entrada e o Grau de Saída em Um Grafo Orientado](https://youtu.be/YqE63NdI_wo)"
   ]
  },
  {
   "cell_type": "markdown",
   "id": "1d92d667",
   "metadata": {},
   "source": [
    "# <div style=\"margin-top: -20px;\">\n",
    "<hr style=\"border: 2px solid black;\">\n",
    "\n",
    "<font color='black'><span style=\"font-size: 22px;\"><strong>2.5 No Computador (Experimental)</strong></span></font>\n",
    "\n",
    "<hr style=\"border: 2px solid black;\">\n",
    "</div>"
   ]
  },
  {
   "cell_type": "markdown",
   "id": "78cd83bf",
   "metadata": {},
   "source": [
    "## <div style=\"margin-top: -20px;\">\n",
    "<hr style=\"border: 2px solid black;\">\n",
    "\n",
    "<font color='black'><span style=\"font-size: 18px;\"><strong>2.5.1 Implementações Envolvendo Grafos Não-Orientados</strong></span></font>\n",
    "\n",
    "<hr style=\"border: 2px solid black;\">\n",
    "</div>"
   ]
  },
  {
   "cell_type": "markdown",
   "id": "54cf092f",
   "metadata": {},
   "source": [
    "Execute a próxima célula para carregar os grafos a serem chamados nos códigos a seguir:"
   ]
  },
  {
   "cell_type": "code",
   "execution_count": 10,
   "id": "79659a56",
   "metadata": {
    "ExecuteTime": {
     "end_time": "2023-08-09T14:54:05.512326Z",
     "start_time": "2023-08-09T14:54:05.505349Z"
    }
   },
   "outputs": [],
   "source": [
    "grafo_G = [(1, 4), (1, 5), (2, 4), (2, 6), (2, 7), \\\n",
    "           (3, 4), (3, 5), (4, 5), (4, 6), (4, 7)]\n",
    "grafo_H = [(1, 2), (1, 3), (1, 4), (2, 3), (2, 4), \\\n",
    "           (3, 4), (3, 5), (3, 6), (4, 5), (4, 8), \\\n",
    "           (5, 6), (5, 7), (5, 8), (6, 7), (7, 8)]\n",
    "grafo_I = [(1, 2), (1, 3), (2, 3), (2, 5), (6, 7), \\\n",
    "           (6, 8)]"
   ]
  },
  {
   "cell_type": "markdown",
   "id": "c02036a2",
   "metadata": {},
   "source": [
    "Caso queira ver os esboços execute a célula a seguir:"
   ]
  },
  {
   "cell_type": "code",
   "execution_count": 20,
   "id": "01d7958f",
   "metadata": {
    "ExecuteTime": {
     "end_time": "2023-08-09T15:00:01.325351Z",
     "start_time": "2023-08-09T15:00:00.865558Z"
    },
    "scrolled": true
   },
   "outputs": [
    {
     "data": {
      "image/png": "[encoded data removed]",
      "text/plain": [
       "<Figure size 1500x500 with 3 Axes>"
      ]
     },
     "metadata": {},
     "output_type": "display_data"
    }
   ],
   "source": [
    "import networkx as nx\n",
    "import matplotlib.pyplot as plt\n",
    "\n",
    "grafos = [grafo_G, grafo_H, grafo_I]\n",
    "nomes = ['Grafo G', 'Grafo H', 'Grafo I']\n",
    "\n",
    "fig, axes = plt.subplots(1, 3, figsize=(15, 5))  # Cria uma linha de 3 subplots\n",
    "\n",
    "for i, (grafo, nome) in enumerate(zip(grafos, nomes)):\n",
    "    G = nx.Graph()\n",
    "    G.add_edges_from(grafo)\n",
    "    \n",
    "    pos = nx.spring_layout(G)\n",
    "    nx.draw(G, pos, ax=axes[i], with_labels=True, node_size=1000, font_size=10, node_color='lightgray')\n",
    "    axes[i].set_title(nome)\n",
    "\n",
    "plt.tight_layout()\n",
    "plt.show()\n"
   ]
  },
  {
   "cell_type": "markdown",
   "id": "5093d57e",
   "metadata": {},
   "source": [
    "#### Obtendo os vizinhos de um vértice"
   ]
  },
  {
   "cell_type": "code",
   "execution_count": null,
   "id": "ebc3e8c9",
   "metadata": {
    "ExecuteTime": {
     "end_time": "2023-08-09T14:47:21.015725Z",
     "start_time": "2023-08-09T14:47:21.008743Z"
    }
   },
   "outputs": [],
   "source": [
    "import networkx as nx\n",
    "import csv\n",
    "from io import StringIO\n",
    "\n",
    "# Criar um grafo não orientado\n",
    "G = nx.Graph()  \n",
    "\n",
    "# Adicionar as arestas ao grafo\n",
    "G.add_edges_from(grafo_G) # Substitua 'grafo_G' por 'grafo_H' ou 'grafo_I'\n",
    "\n",
    "# Determinar a vizinhança de um vértice arbitrário\n",
    "vertex = 2 # Insira outro valor para pesquisar\n",
    "if vertex in G:\n",
    "    neighborhood = list(G.neighbors(vertex))\n",
    "    print(f\"Vizinhança de {vertex}: {neighborhood}\")\n",
    "else:\n",
    "    print(f\"O vértice {vertex} não está presente no grafo.\")\n"
   ]
  },
  {
   "cell_type": "markdown",
   "id": "db0ef274",
   "metadata": {
    "ExecuteTime": {
     "end_time": "2023-08-09T15:00:34.742425Z",
     "start_time": "2023-08-09T15:00:34.737434Z"
    }
   },
   "source": [
    "#### Obtendo os vizinhos de uma lista de vértices"
   ]
  },
  {
   "cell_type": "code",
   "execution_count": 24,
   "id": "6ce026d6",
   "metadata": {
    "ExecuteTime": {
     "end_time": "2023-08-09T15:03:53.111418Z",
     "start_time": "2023-08-09T15:03:53.105432Z"
    }
   },
   "outputs": [
    {
     "name": "stdout",
     "output_type": "stream",
     "text": [
      "Vizinhança global: {1, 2, 3, 4}\n"
     ]
    }
   ],
   "source": [
    "import networkx as nx\n",
    "\n",
    "# Criar um grafo não orientado\n",
    "G = nx.Graph()  \n",
    "\n",
    "# Adicionar as arestas ao grafo\n",
    "# Substitua esta linha pela forma como você constrói o grafo (grafo_G, grafo_H ou grafo_I)\n",
    "\n",
    "# Adicionando arestas\n",
    "G.add_edges_from(grafo_G) # Substitua 'grafo_G' por 'grafo_H' ou 'grafo_I'\n",
    "\n",
    "# Determinar a vizinhança de um conjunto de vértices\n",
    "vertices_to_check = [5, 6]  # Insira os valores a serem pesquisados\n",
    "\n",
    "global_neighborhood = set()  # Conjunto para armazenar a vizinhança global\n",
    "\n",
    "for vertex in vertices_to_check:\n",
    "    if vertex in G:\n",
    "        neighborhood = set(G.neighbors(vertex))\n",
    "        global_neighborhood.update(neighborhood)\n",
    "\n",
    "print(f\"Vizinhança global: {global_neighborhood}\")\n"
   ]
  },
  {
   "cell_type": "markdown",
   "id": "566fc651",
   "metadata": {},
   "source": [
    "#### Obtendo o grau de um vértice"
   ]
  },
  {
   "cell_type": "code",
   "execution_count": 28,
   "id": "8d17ed7a",
   "metadata": {
    "ExecuteTime": {
     "end_time": "2023-08-09T15:04:27.879432Z",
     "start_time": "2023-08-09T15:04:27.873440Z"
    }
   },
   "outputs": [
    {
     "name": "stdout",
     "output_type": "stream",
     "text": [
      "Grau do vértice 1: 2\n"
     ]
    }
   ],
   "source": [
    "import networkx as nx\n",
    "\n",
    "# Criar um grafo não orientado\n",
    "G = nx.Graph()  \n",
    "\n",
    "# Adicionar as arestas ao grafo\n",
    "G.add_edges_from(grafo_G) # Substitua 'grafo_G' por 'grafo_H' ou 'grafo_I'\n",
    "\n",
    "# Determinar o grau de um vértice arbitrário\n",
    "vertex = 1 # Modifique para consultar outro vértice\n",
    "degree = G.degree(vertex)\n",
    "print(f\"Grau do vértice {vertex}: {degree}\")"
   ]
  },
  {
   "cell_type": "markdown",
   "id": "15a24a55",
   "metadata": {},
   "source": [
    "#### Obtendo os graus de todos os vértices"
   ]
  },
  {
   "cell_type": "code",
   "execution_count": 29,
   "id": "5a3205cb",
   "metadata": {
    "ExecuteTime": {
     "end_time": "2023-08-09T15:08:20.479347Z",
     "start_time": "2023-08-09T15:08:20.473366Z"
    }
   },
   "outputs": [
    {
     "name": "stdout",
     "output_type": "stream",
     "text": [
      "Grau do vértice 1: 2\n",
      "Grau do vértice 4: 6\n",
      "Grau do vértice 5: 3\n",
      "Grau do vértice 2: 3\n",
      "Grau do vértice 6: 2\n",
      "Grau do vértice 7: 2\n",
      "Grau do vértice 3: 2\n"
     ]
    }
   ],
   "source": [
    "import networkx as nx\n",
    "\n",
    "# Criar um grafo não orientado\n",
    "G = nx.Graph()  \n",
    "\n",
    "# Adicionar as arestas ao grafo\n",
    "G.add_edges_from(grafo_G) # Substitua 'grafo_G' por 'grafo_H' ou 'grafo_I'\n",
    "\n",
    "# Determinar o grau de um vértice arbitrário\n",
    "vertex = 1 # Modifique\n",
    "\n",
    "# Imprimindo os graus de todos os vértices\n",
    "for vertex in G.nodes:\n",
    "    degree = G.degree(vertex)\n",
    "    print(f\"Grau do vértice {vertex}: {degree}\")"
   ]
  },
  {
   "cell_type": "markdown",
   "id": "fe24522c",
   "metadata": {},
   "source": [
    "## <div style=\"margin-top: -20px;\">\n",
    "<hr style=\"border: 2px solid black;\">\n",
    "\n",
    "<font color='black'><span style=\"font-size: 18px;\"><strong>2.5.2 Implementações Envolvendo Grafos Orientados</strong></span></font>\n",
    "\n",
    "<hr style=\"border: 2px solid black;\">\n",
    "</div>"
   ]
  },
  {
   "cell_type": "markdown",
   "id": "1ca35e34",
   "metadata": {},
   "source": [
    "Execute a próxima célula para carregar os grafos a serem chamados nos códigos a seguir:"
   ]
  },
  {
   "cell_type": "code",
   "execution_count": 44,
   "id": "a3210fa8",
   "metadata": {
    "ExecuteTime": {
     "end_time": "2023-08-09T15:23:02.576417Z",
     "start_time": "2023-08-09T15:23:02.570409Z"
    }
   },
   "outputs": [],
   "source": [
    "grafo_G = [(1, 4), (1, 5), (2, 4), (2, 7), (3, 4), \\\n",
    "           (5, 3), (5,4), (6,4)]\n",
    "grafo_H = [(1, 2), (1, 3), (1, 4), (2, 3), (2, 4), \\\n",
    "           (3, 4), (3, 5), (5, 3), (5,4), (8,4), \\\n",
    "           (5, 6), (5, 7), (5, 8), (6, 7), (7, 8)]\n",
    "grafo_I = [(1, 2), (2, 3), (3, 1), (5, 2), (6, 7), \\\n",
    "           (8, 6)]"
   ]
  },
  {
   "cell_type": "markdown",
   "id": "472a7720",
   "metadata": {},
   "source": [
    "Caso queira ver os esboços execute a célula a seguir:"
   ]
  },
  {
   "cell_type": "code",
   "execution_count": 48,
   "id": "231b6905",
   "metadata": {
    "ExecuteTime": {
     "end_time": "2023-08-09T15:23:52.456646Z",
     "start_time": "2023-08-09T15:23:51.929921Z"
    },
    "scrolled": true
   },
   "outputs": [
    {
     "data": {
      "image/png": "[encoded data removed]",
      "text/plain": [
       "<Figure size 1500x500 with 3 Axes>"
      ]
     },
     "metadata": {},
     "output_type": "display_data"
    }
   ],
   "source": [
    "import networkx as nx\n",
    "import matplotlib.pyplot as plt\n",
    "\n",
    "grafos = [grafo_G, grafo_H, grafo_I]\n",
    "nomes = ['Grafo G', 'Grafo H', 'Grafo I']\n",
    "\n",
    "fig, axes = plt.subplots(1, 3, figsize=(15, 5))  # Cria uma linha de 3 subplots\n",
    "\n",
    "for i, (grafo, nome) in enumerate(zip(grafos, nomes)):\n",
    "    G = nx.DiGraph()\n",
    "    G.add_edges_from(grafo)\n",
    "    \n",
    "    pos = nx.circular_layout(G)\n",
    "    nx.draw(G, pos, ax=axes[i], with_labels=True, node_size=500, font_size=10, node_color='lightgray')\n",
    "    axes[i].set_title(nome)\n",
    "\n",
    "plt.tight_layout()\n",
    "plt.show()\n"
   ]
  },
  {
   "cell_type": "markdown",
   "id": "1256a130",
   "metadata": {},
   "source": [
    "#### Consultando vizinhos de um vértice ou de uma lista de vértices (cuidado!!!)"
   ]
  },
  {
   "cell_type": "markdown",
   "id": "3fd74d27",
   "metadata": {},
   "source": [
    "Para a consulta de vizinhos de um vértice ou de uma lista de vértices recomenda-se usar os códigos anteriores referentes à grafos não orientados uma vez que a ideia de vizinhança não está necessariamente atrelada à direção de uma aresta, mas sim a existência de uma aresta ligando dois vértices. Sendo assim, evite usar, para esta tarefa, a linha de código: **G = nx.DiGraph()**. Do contrário, serão exibidos os **vizinhos alcançáveis**. Aqueles que se pode alcançar a partir do vértice em questão. Por exemplo, no grafo $G$ dado anteriormente o vértice $2$ não é um vizinho alcançável a partir do vértice $7$ o que resultará em uma lista vazia. Para ver isso execute a célula a seguir:"
   ]
  },
  {
   "cell_type": "code",
   "execution_count": 54,
   "id": "db7ff210",
   "metadata": {
    "ExecuteTime": {
     "end_time": "2023-08-09T15:27:47.424430Z",
     "start_time": "2023-08-09T15:27:47.417425Z"
    }
   },
   "outputs": [
    {
     "name": "stdout",
     "output_type": "stream",
     "text": [
      "Vizinhança de 7: []\n"
     ]
    }
   ],
   "source": [
    "import networkx as nx\n",
    "\n",
    "# Criar um grafo orientado\n",
    "G = nx.DiGraph() # Troque por nx.Graph() para funcionar como na teoria\n",
    "\n",
    "# Adicionar as arestas ao grafo\n",
    "G.add_edges_from(grafo_G) # Substitua 'grafo_G' por 'grafo_H' ou 'grafo_I'\n",
    "\n",
    "# Determinar a vizinhança de um vértice arbitrário\n",
    "vertex = 7 # Insira outro valor para pesquisar\n",
    "if vertex in G:\n",
    "    neighborhood = list(G.neighbors(vertex))\n",
    "    print(f\"Vizinhança de {vertex}: {neighborhood}\")\n",
    "else:\n",
    "    print(f\"O vértice {vertex} não está presente no grafo.\")"
   ]
  },
  {
   "cell_type": "markdown",
   "id": "28c03e04",
   "metadata": {},
   "source": [
    "#### Consultando os graus de entrada e de saída de um vértice"
   ]
  },
  {
   "cell_type": "code",
   "execution_count": 57,
   "id": "4287b3fd",
   "metadata": {
    "ExecuteTime": {
     "end_time": "2023-08-09T15:30:47.286800Z",
     "start_time": "2023-08-09T15:30:47.281808Z"
    }
   },
   "outputs": [
    {
     "name": "stdout",
     "output_type": "stream",
     "text": [
      "Grau de entrada do vértice 1: 0\n",
      "Grau de saída do vértice 1: 2\n"
     ]
    }
   ],
   "source": [
    "import networkx as nx\n",
    "\n",
    "# Criar um grafo orientado\n",
    "G = nx.DiGraph()\n",
    "\n",
    "# Adicionar as arestas ao grafo\n",
    "G.add_edges_from(grafo_G) # Substitua 'grafo_G' por 'grafo_H' ou 'grafo_I'\n",
    "\n",
    "# Exibir o grau de entrada e o grau de saída de um vértice \n",
    "vertex = 1 # Insira outro valor para pesquisar\n",
    "in_degree = G.in_degree(vertex)\n",
    "out_degree = G.out_degree(vertex)\n",
    "print(f\"Grau de entrada do vértice {vertex}: {in_degree}\")\n",
    "print(f\"Grau de saída do vértice {vertex}: {out_degree}\")"
   ]
  },
  {
   "cell_type": "markdown",
   "id": "b2dd90fa",
   "metadata": {},
   "source": [
    "#### Consultando os graus de entrada e de saída de todos os vértices"
   ]
  },
  {
   "cell_type": "code",
   "execution_count": 56,
   "id": "8390522e",
   "metadata": {
    "ExecuteTime": {
     "end_time": "2023-08-09T15:28:09.640390Z",
     "start_time": "2023-08-09T15:28:09.633434Z"
    }
   },
   "outputs": [
    {
     "name": "stdout",
     "output_type": "stream",
     "text": [
      "Grau de entrada do vértice 1: 0\n",
      "Grau de saída do vértice 1: 2\n",
      "Grau de entrada do vértice 4: 5\n",
      "Grau de saída do vértice 4: 0\n",
      "Grau de entrada do vértice 5: 1\n",
      "Grau de saída do vértice 5: 2\n",
      "Grau de entrada do vértice 2: 0\n",
      "Grau de saída do vértice 2: 2\n",
      "Grau de entrada do vértice 7: 1\n",
      "Grau de saída do vértice 7: 0\n",
      "Grau de entrada do vértice 3: 1\n",
      "Grau de saída do vértice 3: 1\n",
      "Grau de entrada do vértice 6: 0\n",
      "Grau de saída do vértice 6: 1\n"
     ]
    }
   ],
   "source": [
    "import networkx as nx\n",
    "\n",
    "# Criar um grafo orientado\n",
    "G = nx.DiGraph()\n",
    "\n",
    "# Adicionar as arestas ao grafo\n",
    "G.add_edges_from(grafo_G) # Substitua 'grafo_G' por 'grafo_H' ou 'grafo_I'\n",
    "\n",
    "# Exibir o grau de entrada e o grau de saída de todos os vértices\n",
    "for vertex in G.nodes():\n",
    "    in_degree = G.in_degree(vertex)\n",
    "    out_degree = G.out_degree(vertex)\n",
    "    print(f\"Grau de entrada do vértice {vertex}: {in_degree}\")\n",
    "    print(f\"Grau de saída do vértice {vertex}: {out_degree}\")\n"
   ]
  },
  {
   "cell_type": "markdown",
   "id": "22092785",
   "metadata": {},
   "source": [
    "## <div style=\"margin-top: -20px;\">\n",
    "<hr style=\"border: 2px solid black;\">\n",
    "\n",
    "<font color='black'><span style=\"font-size: 18px;\"><strong>2.5.3 Implementações Para Grafos em Formato CSV</strong></span></font>\n",
    "\n",
    "<hr style=\"border: 2px solid black;\">\n",
    "</div>"
   ]
  },
  {
   "cell_type": "markdown",
   "id": "6c68a084",
   "metadata": {
    "ExecuteTime": {
     "end_time": "2023-07-18T20:20:00.364028Z",
     "start_time": "2023-07-18T20:20:00.358040Z"
    }
   },
   "source": [
    "Apresentaremos a seguir algumas implementações básicas de conceitos vistos neste capítulo. A primeira parte da maioria dos códigos é semelhante pois trata-se da entrada de dados que pode ser direta no código ou externa por meio de um arquivo VCS ou TXT (com dados separados por vírgula).<br><br>\n",
    "<center> <img src=\"fig2_9.jpg\" alt=\"jpg_python\" width=\"900\" height=\"\"> </center>"
   ]
  },
  {
   "cell_type": "markdown",
   "id": "c9e8bc99",
   "metadata": {},
   "source": [
    "<font color='red'> Não se esqueça. Conforme visto no **Capítulo 1**, caso esteja utilizando o ambiente **Google Colab** pode ser necessário fazer upload do arquivo **dados2_1.csv**(mesmo que dados1_1.csv) para a pasta **content** do ambiente Colab (selecione e arraste!).<br><br>\n",
    " <center> <img src=\"fig1_12.jpg\" alt=\"jpg_python\" width=\"500\" height=\"\"> </center> </font>\n"
   ]
  },
  {
   "cell_type": "markdown",
   "id": "b989ed6e",
   "metadata": {},
   "source": [
    "A implementação de grafos necessita do módulo **networkx**. Para instalá-lo execute a célula a seguir:"
   ]
  },
  {
   "cell_type": "code",
   "execution_count": null,
   "id": "786ffcf6",
   "metadata": {
    "ExecuteTime": {
     "end_time": "2023-07-22T22:11:09.273511Z",
     "start_time": "2023-07-22T22:10:57.558808Z"
    }
   },
   "outputs": [],
   "source": [
    "# Instalando módulo necessário (pode ser que não precise)\n",
    "!pip install networkx"
   ]
  },
  {
   "cell_type": "markdown",
   "id": "be22c429",
   "metadata": {},
   "source": [
    "#### Determinando a vizinhança de um vértice"
   ]
  },
  {
   "cell_type": "markdown",
   "id": "f861119a",
   "metadata": {},
   "source": [
    "O código a seguir apresentará a visinhança de um vértice."
   ]
  },
  {
   "cell_type": "code",
   "execution_count": null,
   "id": "eb02f458",
   "metadata": {
    "ExecuteTime": {
     "end_time": "2023-07-22T22:11:18.590520Z",
     "start_time": "2023-07-22T22:11:09.275504Z"
    }
   },
   "outputs": [],
   "source": [
    "import networkx as nx\n",
    "import csv\n",
    "from io import StringIO\n",
    "\n",
    "# Dados das arestas em formato CSV\n",
    "csv_data = '''\n",
    "A,B\n",
    "A,C\n",
    "B,D\n",
    "C,D\n",
    "C,E\n",
    "E,D\n",
    "D,F\n",
    "'''\n",
    "\n",
    "# Carregar as arestas a partir da string CSV\n",
    "edges = []\n",
    "reader = csv.reader(StringIO(csv_data))\n",
    "for row in reader:\n",
    "    if len(row) != 2:\n",
    "        continue\n",
    "    edges.append((row[0], row[1]))\n",
    "\n",
    "# Criar um grafo não orientado\n",
    "G = nx.Graph()  \n",
    "\n",
    "# Adicionar as arestas ao grafo\n",
    "G.add_edges_from(edges)\n",
    "\n",
    "# Determinar a vizinhança de um vértice arbitrário\n",
    "vertex = input(\"Digite o vértice: \")\n",
    "if vertex in G:\n",
    "    neighborhood = list(G.neighbors(vertex))\n",
    "    print(f\"Vizinhança de {vertex}: {neighborhood}\")\n",
    "else:\n",
    "    print(f\"O vértice {vertex} não está presente no grafo.\")\n"
   ]
  },
  {
   "cell_type": "markdown",
   "id": "fc47704c",
   "metadata": {},
   "source": [
    "Podemos repassar o código acima para a leitura de um arquivo CSV externo."
   ]
  },
  {
   "cell_type": "code",
   "execution_count": null,
   "id": "3d391ea1",
   "metadata": {
    "ExecuteTime": {
     "end_time": "2023-07-22T22:11:21.565675Z",
     "start_time": "2023-07-22T22:11:18.592525Z"
    }
   },
   "outputs": [],
   "source": [
    "import networkx as nx\n",
    "import csv\n",
    "\n",
    "# Nome do arquivo CSV no mesmo diretório\n",
    "dados = \"dados2_1.csv\"  # Troque \".csv\" por \".txt\" caso necessário\n",
    "\n",
    "# Carregar as arestas a partir do arquivo CSV\n",
    "edges = []\n",
    "with open(dados, 'r') as file:\n",
    "    reader = csv.reader(file)\n",
    "    for row in reader:\n",
    "        if len(row) != 2:\n",
    "            continue\n",
    "        edges.append((row[0], row[1]))\n",
    "\n",
    "# Criar um grafo não orientado\n",
    "G = nx.Graph()  \n",
    "\n",
    "# Adicionar as arestas ao grafo\n",
    "G.add_edges_from(edges)\n",
    "\n",
    "# Determinar a vizinhança de um vértice arbitrário\n",
    "vertex = input(\"Digite o vértice: \")\n",
    "if vertex in G:\n",
    "    neighborhood = list(G.neighbors(vertex))\n",
    "    print(f\"Vizinhança de {vertex}: {neighborhood}\")\n",
    "else:\n",
    "    print(f\"O vértice {vertex} não está presente no grafo.\")\n"
   ]
  },
  {
   "cell_type": "markdown",
   "id": "41ed0de3",
   "metadata": {
    "ExecuteTime": {
     "end_time": "2023-07-18T20:34:18.887079Z",
     "start_time": "2023-07-18T20:34:18.883488Z"
    }
   },
   "source": [
    "#### Determinando o grau de um Vértice em um grafo simples não orientado"
   ]
  },
  {
   "cell_type": "code",
   "execution_count": null,
   "id": "79617a00",
   "metadata": {
    "ExecuteTime": {
     "end_time": "2023-07-22T22:11:23.748704Z",
     "start_time": "2023-07-22T22:11:21.568864Z"
    }
   },
   "outputs": [],
   "source": [
    "import networkx as nx\n",
    "import csv\n",
    "from io import StringIO\n",
    "\n",
    "# Dados das arestas em formato CSV\n",
    "csv_data = '''\n",
    "A,B\n",
    "A,C\n",
    "B,D\n",
    "C,D\n",
    "C,E\n",
    "E,D\n",
    "D,F\n",
    "'''\n",
    "\n",
    "# Carregar as arestas a partir da string CSV\n",
    "edges = []\n",
    "reader = csv.reader(StringIO(csv_data))\n",
    "for row in reader:\n",
    "    if len(row) != 2:\n",
    "        continue\n",
    "    edges.append((row[0], row[1]))\n",
    "\n",
    "# Criar um grafo não orientado\n",
    "G = nx.Graph()  \n",
    "\n",
    "# Adicionar as arestas ao grafo\n",
    "G.add_edges_from(edges)\n",
    "\n",
    "# Determinar o grau de um vértice arbitrário\n",
    "vertex = input(\"Digite o vértice: \")\n",
    "degree = G.degree(vertex)\n",
    "print(f\"Grau do vértice {vertex}: {degree}\")"
   ]
  },
  {
   "cell_type": "markdown",
   "id": "7b504ec1",
   "metadata": {},
   "source": [
    "Podemos repassar o código acima para a leitura de um arquivo CSV externo."
   ]
  },
  {
   "cell_type": "code",
   "execution_count": null,
   "id": "04a22121",
   "metadata": {
    "ExecuteTime": {
     "end_time": "2023-07-22T22:11:25.205596Z",
     "start_time": "2023-07-22T22:11:23.750698Z"
    }
   },
   "outputs": [],
   "source": [
    "import networkx as nx\n",
    "import csv\n",
    "\n",
    "# Nome do arquivo CSV no mesmo diretório\n",
    "dados = \"dados2_1.csv\"  # Troque \".csv\" por \".txt\" caso necessário\n",
    "\n",
    "# Carregar as arestas a partir do arquivo CSV\n",
    "edges = []\n",
    "with open(dados, 'r') as file:\n",
    "    reader = csv.reader(file)\n",
    "    for row in reader:\n",
    "        if len(row) != 2:\n",
    "            continue\n",
    "        edges.append((row[0], row[1]))\n",
    "\n",
    "# Criar um grafo não orientado\n",
    "G = nx.Graph()  \n",
    "\n",
    "# Adicionar as arestas ao grafo\n",
    "G.add_edges_from(edges)\n",
    "\n",
    "# Determinar o grau de um vértice arbitrário\n",
    "vertex = input(\"Digite o vértice: \")\n",
    "degree = G.degree(vertex)\n",
    "print(f\"Grau do vértice {vertex}: {degree}\")"
   ]
  },
  {
   "cell_type": "markdown",
   "id": "85021cef",
   "metadata": {
    "ExecuteTime": {
     "end_time": "2023-07-18T20:39:18.594998Z",
     "start_time": "2023-07-18T20:39:18.589989Z"
    }
   },
   "source": [
    "#### Determinando os graus de todos os vértices de um grafo simples não orientado"
   ]
  },
  {
   "cell_type": "code",
   "execution_count": null,
   "id": "12f32b41",
   "metadata": {
    "ExecuteTime": {
     "end_time": "2023-07-22T22:11:25.225152Z",
     "start_time": "2023-07-22T22:11:25.207682Z"
    }
   },
   "outputs": [],
   "source": [
    "import networkx as nx\n",
    "import csv\n",
    "from io import StringIO\n",
    "\n",
    "# Dados das arestas em formato CSV\n",
    "csv_data = '''\n",
    "A,B\n",
    "A,C\n",
    "B,D\n",
    "C,D\n",
    "C,E\n",
    "E,D\n",
    "D,F\n",
    "'''\n",
    "\n",
    "# Carregar as arestas a partir da string CSV\n",
    "edges = []\n",
    "reader = csv.reader(StringIO(csv_data))\n",
    "for row in reader:\n",
    "    if len(row) != 2:\n",
    "        continue\n",
    "    edges.append((row[0], row[1]))\n",
    "\n",
    "# Criar um grafo não orientado\n",
    "G = nx.Graph() \n",
    "\n",
    "# Adicionar as arestas ao grafo\n",
    "G.add_edges_from(edges)\n",
    "\n",
    "# Exibir o grau de todos os vértices\n",
    "for vertex in G.nodes():\n",
    "    degree = G.degree(vertex)\n",
    "    print(f\"Grau do vértice {vertex}: {degree}\")"
   ]
  },
  {
   "cell_type": "markdown",
   "id": "86739394",
   "metadata": {},
   "source": [
    "Podemos repassar o código acima para a leitura de um arquivo CSV externo."
   ]
  },
  {
   "cell_type": "code",
   "execution_count": null,
   "id": "3e0d01fa",
   "metadata": {
    "ExecuteTime": {
     "end_time": "2023-07-22T22:11:34.170989Z",
     "start_time": "2023-07-22T22:11:34.163723Z"
    }
   },
   "outputs": [],
   "source": [
    "import networkx as nx\n",
    "import csv\n",
    "\n",
    "# Nome do arquivo CSV no mesmo diretório\n",
    "dados = \"dados2_1.csv\"  # Troque \".csv\" por \".txt\" caso necessário\n",
    "\n",
    "# Carregar as arestas a partir do arquivo CSV\n",
    "edges = []\n",
    "with open(dados, 'r') as file:\n",
    "    reader = csv.reader(file)\n",
    "    for row in reader:\n",
    "        if len(row) != 2:\n",
    "            continue\n",
    "        edges.append((row[0], row[1]))\n",
    "\n",
    "# Criar um grafo não orientado\n",
    "G = nx.Graph()  \n",
    "\n",
    "# Adicionar as arestas ao grafo\n",
    "G.add_edges_from(edges)\n",
    "\n",
    "# Exibir o grau de todos os vértices\n",
    "for vertex in G.nodes():\n",
    "    degree = G.degree(vertex)\n",
    "    print(f\"Grau do vértice {vertex}: {degree}\")"
   ]
  },
  {
   "cell_type": "markdown",
   "id": "a2eae998",
   "metadata": {},
   "source": [
    "#### Determinando os graus de entrada e saída de um vértice em um grafo orientado"
   ]
  },
  {
   "cell_type": "code",
   "execution_count": null,
   "id": "be1a8752",
   "metadata": {
    "ExecuteTime": {
     "end_time": "2023-07-22T22:11:44.061914Z",
     "start_time": "2023-07-22T22:11:42.611814Z"
    }
   },
   "outputs": [],
   "source": [
    "import networkx as nx\n",
    "import csv\n",
    "from io import StringIO\n",
    "\n",
    "# Dados das arestas em formato CSV\n",
    "csv_data = '''\n",
    "A,B\n",
    "A,C\n",
    "B,D\n",
    "C,D\n",
    "C,E\n",
    "E,D\n",
    "D,F\n",
    "'''\n",
    "\n",
    "# Carregar as arestas a partir da string CSV\n",
    "edges = []\n",
    "reader = csv.reader(StringIO(csv_data))\n",
    "for row in reader:\n",
    "    if len(row) != 2:\n",
    "        continue\n",
    "    edges.append((row[0], row[1]))\n",
    "\n",
    "# Criar um grafo orientado\n",
    "G = nx.DiGraph()\n",
    "\n",
    "# Adicionar as arestas ao grafo\n",
    "G.add_edges_from(edges)\n",
    "\n",
    "# Determinar o grau de entrada e o grau de saída de um vértice arbitrário\n",
    "vertex = input(\"Digite o vértice: \")\n",
    "if vertex in G:\n",
    "    in_degree = G.in_degree(vertex)\n",
    "    out_degree = G.out_degree(vertex)\n",
    "    print(f\"Grau de entrada do vértice {vertex}: {in_degree}\")\n",
    "    print(f\"Grau de saída do vértice {vertex}: {out_degree}\")\n",
    "else:\n",
    "    print(f\"O vértice {vertex} não está presente no grafo.\")\n"
   ]
  },
  {
   "cell_type": "markdown",
   "id": "43df4aca",
   "metadata": {},
   "source": [
    "Podemos repassar o código acima para a leitura de um arquivo CSV externo."
   ]
  },
  {
   "cell_type": "code",
   "execution_count": null,
   "id": "b6cbed18",
   "metadata": {
    "ExecuteTime": {
     "end_time": "2023-07-22T22:11:48.075278Z",
     "start_time": "2023-07-22T22:11:46.348587Z"
    }
   },
   "outputs": [],
   "source": [
    "import networkx as nx\n",
    "import csv\n",
    "\n",
    "# Nome do arquivo CSV no mesmo diretório\n",
    "dados = \"dados2_1.csv\"  # Troque \".csv\" por \".txt\" caso necessário\n",
    "\n",
    "# Carregar as arestas a partir do arquivo CSV\n",
    "edges = []\n",
    "with open(dados, 'r') as file:\n",
    "    reader = csv.reader(file)\n",
    "    for row in reader:\n",
    "        if len(row) != 2:\n",
    "            continue\n",
    "        edges.append((row[0], row[1]))\n",
    "\n",
    "# Criar um grafo orientado\n",
    "G = nx.DiGraph()  \n",
    "\n",
    "# Adicionar as arestas ao grafo\n",
    "G.add_edges_from(edges)\n",
    "\n",
    "# Determinar o grau de entrada e o grau de saída de um vértice arbitrário\n",
    "vertex = input(\"Digite o vértice: \")\n",
    "if vertex in G:\n",
    "    in_degree = G.in_degree(vertex)\n",
    "    out_degree = G.out_degree(vertex)\n",
    "    print(f\"Grau de entrada do vértice {vertex}: {in_degree}\")\n",
    "    print(f\"Grau de saída do vértice {vertex}: {out_degree}\")\n",
    "else:\n",
    "    print(f\"O vértice {vertex} não está presente no grafo.\")"
   ]
  },
  {
   "cell_type": "markdown",
   "id": "a685e79a",
   "metadata": {},
   "source": [
    "#### Determinando os graus de entrada e saída de todos os vértices de um grafo orientado"
   ]
  },
  {
   "cell_type": "code",
   "execution_count": null,
   "id": "8d5c2a3e",
   "metadata": {
    "ExecuteTime": {
     "end_time": "2023-07-22T22:11:50.514140Z",
     "start_time": "2023-07-22T22:11:50.507136Z"
    }
   },
   "outputs": [],
   "source": [
    "import networkx as nx\n",
    "import csv\n",
    "from io import StringIO\n",
    "\n",
    "# Dados das arestas em formato CSV\n",
    "csv_data = '''\n",
    "A,B\n",
    "A,C\n",
    "B,D\n",
    "C,D\n",
    "C,E\n",
    "E,D\n",
    "D,F\n",
    "'''\n",
    "\n",
    "# Carregar as arestas a partir da string CSV\n",
    "edges = []\n",
    "reader = csv.reader(StringIO(csv_data))\n",
    "for row in reader:\n",
    "    if len(row) != 2:\n",
    "        continue\n",
    "    edges.append((row[0], row[1]))\n",
    "\n",
    "# Criar um grafo orientado\n",
    "G = nx.DiGraph()\n",
    "\n",
    "# Adicionar as arestas ao grafo\n",
    "G.add_edges_from(edges)\n",
    "\n",
    "# Exibir o grau de entrada e o grau de saída de todos os vértices\n",
    "for vertex in G.nodes():\n",
    "    in_degree = G.in_degree(vertex)\n",
    "    out_degree = G.out_degree(vertex)\n",
    "    print(f\"Grau de entrada do vértice {vertex}: {in_degree}\")\n",
    "    print(f\"Grau de saída do vértice {vertex}: {out_degree}\")\n"
   ]
  },
  {
   "cell_type": "markdown",
   "id": "66dcbd08",
   "metadata": {},
   "source": [
    "Podemos repassar o código acima para a leitura de um arquivo CSV externo."
   ]
  },
  {
   "cell_type": "code",
   "execution_count": null,
   "id": "ab5b6177",
   "metadata": {
    "ExecuteTime": {
     "end_time": "2023-07-22T22:11:52.922630Z",
     "start_time": "2023-07-22T22:11:52.915650Z"
    }
   },
   "outputs": [],
   "source": [
    "import networkx as nx\n",
    "import csv\n",
    "\n",
    "# Nome do arquivo CSV no mesmo diretório\n",
    "dados = \"dados2_1.csv\"  # Troque \".csv\" por \".txt\" caso necessário\n",
    "\n",
    "# Carregar as arestas a partir do arquivo CSV\n",
    "edges = []\n",
    "with open(dados, 'r') as file:\n",
    "    reader = csv.reader(file)\n",
    "    for row in reader:\n",
    "        if len(row) != 2:\n",
    "            continue\n",
    "        edges.append((row[0], row[1]))\n",
    "\n",
    "# Criar um grafo orientado\n",
    "G = nx.DiGraph()  \n",
    "\n",
    "# Adicionar as arestas ao grafo\n",
    "G.add_edges_from(edges)\n",
    "\n",
    "# Exibir o grau de entrada e o grau de saída de todos os vértices\n",
    "for vertex in G.nodes():\n",
    "    in_degree = G.in_degree(vertex)\n",
    "    out_degree = G.out_degree(vertex)\n",
    "    print(f\"Grau de entrada do vértice {vertex}: {in_degree}\")\n",
    "    print(f\"Grau de saída do vértice {vertex}: {out_degree}\")\n"
   ]
  },
  {
   "cell_type": "markdown",
   "id": "6e6c121b",
   "metadata": {},
   "source": [
    "#### Contando e destacando vizinhos de um vértice em um grafo simples não orientado"
   ]
  },
  {
   "cell_type": "markdown",
   "id": "e13ffed1",
   "metadata": {},
   "source": [
    "O código a seguir apresenta o desenho de um grafo simples não orientado explicitando os vizinhos de um vértice bem como seu grau."
   ]
  },
  {
   "cell_type": "code",
   "execution_count": null,
   "id": "2dd3ef6c",
   "metadata": {
    "ExecuteTime": {
     "end_time": "2023-07-22T22:11:57.364993Z",
     "start_time": "2023-07-22T22:11:55.523459Z"
    }
   },
   "outputs": [],
   "source": [
    "import networkx as nx\n",
    "import csv\n",
    "from io import StringIO\n",
    "import matplotlib.pyplot as plt\n",
    "\n",
    "# Dados das arestas em formato CSV\n",
    "csv_data = '''\n",
    "A,B\n",
    "A,C\n",
    "B,D\n",
    "C,D\n",
    "C,E\n",
    "E,D\n",
    "D,F\n",
    "'''\n",
    "\n",
    "# Carregar as arestas a partir da string CSV\n",
    "edges = csv_data.strip().split('\\n')\n",
    "edges = [tuple(row.split(',')) for row in edges]\n",
    "\n",
    "# Criar um grafo não orientado\n",
    "G = nx.Graph()\n",
    "\n",
    "# Adicionar as arestas ao grafo\n",
    "G.add_edges_from(edges)\n",
    "\n",
    "# Determinar o vértice de observação\n",
    "vertex = input(\"Digite o vértice de observação: \")\n",
    "if vertex in G:\n",
    "    neighbors = list(G.neighbors(vertex))\n",
    "    print(f\"Vizinhos de {vertex}: {neighbors}\")\n",
    "\n",
    "    # Configurações do grafo\n",
    "    node_colors = ['blue' if v == vertex else 'red' if v in neighbors else 'lightblue' for v in G.nodes()]\n",
    "\n",
    "    # Desenhar o grafo\n",
    "    nx.draw_networkx(G, with_labels=True, node_color=node_colors, font_color='white', font_weight='bold')\n",
    "\n",
    "    # Exibir o grafo\n",
    "    plt.axis('off')\n",
    "    plt.show()\n",
    "else:\n",
    "    print(f\"O vértice {vertex} não está presente no grafo.\")\n"
   ]
  },
  {
   "cell_type": "markdown",
   "id": "682aea6b",
   "metadata": {},
   "source": [
    "Podemos repassar o código acima para a leitura de um arquivo CSV externo."
   ]
  },
  {
   "cell_type": "code",
   "execution_count": null,
   "id": "5bcf5196",
   "metadata": {
    "ExecuteTime": {
     "end_time": "2023-07-22T22:12:00.211513Z",
     "start_time": "2023-07-22T22:11:58.891788Z"
    }
   },
   "outputs": [],
   "source": [
    "import networkx as nx\n",
    "import csv\n",
    "from io import StringIO\n",
    "import matplotlib.pyplot as plt\n",
    "\n",
    "# Nome do arquivo CSV no mesmo diretório\n",
    "dados = \"dados2_1.csv\"  # Troque \".csv\" por \".txt\" caso necessário\n",
    "\n",
    "# Carregar as arestas a partir do arquivo CSV\n",
    "edges = []\n",
    "with open(dados, 'r') as file:\n",
    "    reader = csv.reader(file)\n",
    "    for row in reader:\n",
    "        if len(row) != 2:\n",
    "            continue\n",
    "        edges.append((row[0], row[1]))\n",
    "\n",
    "# Criar um grafo não orientado\n",
    "G = nx.Graph()  \n",
    "\n",
    "# Adicionar as arestas ao grafo\n",
    "G.add_edges_from(edges)\n",
    "\n",
    "# Determinar o vértice de observação\n",
    "vertex = input(\"Digite o vértice de observação: \")\n",
    "if vertex in G:\n",
    "    neighbors = list(G.neighbors(vertex))\n",
    "    print(f\"Vizinhos de {vertex}: {neighbors}\")\n",
    "\n",
    "    # Configurações do grafo\n",
    "    node_colors = ['blue' if v == vertex else 'red' if v in neighbors else 'lightblue' for v in G.nodes()]\n",
    "\n",
    "    # Desenhar o grafo\n",
    "    nx.draw_networkx(G, with_labels=True, node_color=node_colors, font_color='white', font_weight='bold')\n",
    "\n",
    "    # Exibir o grafo\n",
    "    plt.axis('off')\n",
    "    plt.show()\n",
    "else:\n",
    "    print(f\"O vértice {vertex} não está presente no grafo.\")\n"
   ]
  }
 ],
 "metadata": {
  "kernelspec": {
   "display_name": "Python 3 (ipykernel)",
   "language": "python",
   "name": "python3"
  },
  "language_info": {
   "codemirror_mode": {
    "name": "ipython",
    "version": 3
   },
   "file_extension": ".py",
   "mimetype": "text/x-python",
   "name": "python",
   "nbconvert_exporter": "python",
   "pygments_lexer": "ipython3",
   "version": "3.11.5"
  },
  "varInspector": {
   "cols": {
    "lenName": 16,
    "lenType": 16,
    "lenVar": 40
   },
   "kernels_config": {
    "python": {
     "delete_cmd_postfix": "",
     "delete_cmd_prefix": "del ",
     "library": "var_list.py",
     "varRefreshCmd": "print(var_dic_list())"
    },
    "r": {
     "delete_cmd_postfix": ") ",
     "delete_cmd_prefix": "rm(",
     "library": "var_list.r",
     "varRefreshCmd": "cat(var_dic_list()) "
    }
   },
   "types_to_exclude": [
    "module",
    "function",
    "builtin_function_or_method",
    "instance",
    "_Feature"
   ],
   "window_display": false
  }
 },
 "nbformat": 4,
 "nbformat_minor": 5
}
