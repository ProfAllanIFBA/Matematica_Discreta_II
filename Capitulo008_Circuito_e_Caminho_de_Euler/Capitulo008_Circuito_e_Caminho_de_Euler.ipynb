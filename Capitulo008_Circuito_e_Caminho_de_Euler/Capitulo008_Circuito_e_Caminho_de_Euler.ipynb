{
 "cells": [
  {
   "cell_type": "markdown",
   "id": "ce33096c",
   "metadata": {},
   "source": [
    "<center> <img src=\"logo_ifba.jpg\" alt=\"jpg_python\" width=\"100\" height=\"200\"> </center>\n",
    "<br><br>\n",
    "<div align=\"center\"><span style=\"font-size: 26px;\"><strong>Matemática Discreta II <br></strong></span></div> <br>\n",
    "<center> <img src=\"python_gif.gif\" alt=\"gif_python\" width=\"80\"> </center>"
   ]
  },
  {
   "cell_type": "markdown",
   "id": "c5073180",
   "metadata": {},
   "source": [
    "<div style=\"border: 2px solid black; padding: 10px; width: 95%; background-color: lightgray; display: flex; align-items: center;\">\n",
    "    <h1 style=\"color: red; text-align: center; margin: auto;\">\n",
    "        Capítulo 8: Circuito e Caminho de Euler\n",
    "    </h1>\n",
    "</div>\n",
    "\n",
    "<font color='red'></font>\n",
    "<a href=\"\"></a>"
   ]
  },
  {
   "cell_type": "markdown",
   "id": "9e9c75ab",
   "metadata": {},
   "source": [
    "No âmago da teoria dos grafos reside uma questão intrigante: será possível trilhar as trilhas de arestas de um grafo, partindo de um vértice, de modo a retornar ao ponto de partida, enquanto percorremos cada aresta exatamente uma vez? Ou, em um cenário mais amplo, poderíamos ambicionar percorrer todas as arestas de tal grafo em um trajeto único, mesmo que este não se configure como um circuito fechado? Este capítulo se propõe a revelar as sutis condições subjacentes à existência de tais circuitos e caminhos, lançando luz sobre um dos aspectos mais cativantes e abstratos da teoria dos grafos."
   ]
  },
  {
   "cell_type": "markdown",
   "id": "b409060e",
   "metadata": {},
   "source": [
    "# <div style=\"margin-top: -20px;\">\n",
    "<hr style=\"border: 2px solid black;\">\n",
    "\n",
    "<font color='black'><span style=\"font-size: 22px;\"><strong>8.1 Contexto Histórico</strong></span></font>\n",
    "\n",
    "<hr style=\"border: 2px solid black;\">\n",
    "</div>"
   ]
  },
  {
   "cell_type": "markdown",
   "id": "43fe662c",
   "metadata": {},
   "source": [
    "A cidade de Konigsberg, na Prússia (agora chamada de Kaliningrado e parte da república russa), foi dividida em quatro seções pelos ramos do rio Pregel. Essas quatro seções incluíam as duas regiões nas margens do Pregel, na ilha de Kneiphof e na região entre os dois ramos do Pregel. No século XVIII, sete pontes conectaram essas regiões. A figura a seguir mostra essas regões e pontes:\n",
    "\n",
    "<center> <img src=\"fig8_1.jpg\" alt=\"jpg_python\" width=\"400\" height=\"\"> </center>"
   ]
  },
  {
   "cell_type": "markdown",
   "id": "2e643eec",
   "metadata": {},
   "source": [
    "#### Lenda ou realidade?"
   ]
  },
  {
   "cell_type": "markdown",
   "id": "802e486f",
   "metadata": {},
   "source": [
    "*Seria possível começar em algum lugar da cidade, atravessar todas as pontes uma única vez e voltar ao ponto de partida?*"
   ]
  },
  {
   "cell_type": "markdown",
   "id": "d50908d4",
   "metadata": {},
   "source": [
    "#### Resposta"
   ]
  },
  {
   "cell_type": "markdown",
   "id": "cc525665",
   "metadata": {},
   "source": [
    "No ano de $1736$ o matemático suíço Leonhard Euler resolveu esse problema. Sua solução é considerada o primeiro uso formal da teoria dos grafos. Euler estudou este problema usando o multigrafo obtido quando as quatro regiões são representadas por vértices e as pontes por arestas. Este multigrafo é mostrado a seguir:<br><br>\n",
    " <center> <img src=\"fig8_2.jpg\" alt=\"jpg_python\" width=\"175\" height=\"\"> </center>"
   ]
  },
  {
   "cell_type": "markdown",
   "id": "6c2ea386",
   "metadata": {},
   "source": [
    "# <div style=\"margin-top: -20px;\">\n",
    "<hr style=\"border: 2px solid black;\">\n",
    "\n",
    "<font color='black'><span style=\"font-size: 22px;\"><strong>8.2 Definição e Resultados Importantes</strong></span></font>\n",
    "\n",
    "<hr style=\"border: 2px solid black;\">\n",
    "</div>"
   ]
  },
  {
   "cell_type": "markdown",
   "id": "ae31019b",
   "metadata": {},
   "source": [
    "#### <font color='red'> Definição 1 </font>"
   ]
  },
  {
   "cell_type": "markdown",
   "id": "991ea1e4",
   "metadata": {},
   "source": [
    "<font color='red'> Um **circuito de Euler** em um grafo $G$ é um circuito simples que contém todas as arestas de $G$. Um **caminho de Euler** em $G$ é um caminho simples que contém todas as arestas de $G$."
   ]
  },
  {
   "cell_type": "markdown",
   "id": "ade2dcd3",
   "metadata": {},
   "source": [
    "#### <font color='blue'> Exemplo 1 </font>"
   ]
  },
  {
   "cell_type": "markdown",
   "id": "7b4063df",
   "metadata": {},
   "source": [
    "<font color='blue'> Quais dos grafos não orientados da figura a seguirr possuem um circuito Euler? Daqueles que não têm, quais têm um caminho de Euler?<br><br>\n",
    "    <center> <img src=\"fig8_3.jpg\" alt=\"jpg_python\" width=\"650\" height=\"\"> </center>"
   ]
  },
  {
   "cell_type": "markdown",
   "id": "56e2f879",
   "metadata": {},
   "source": [
    "##### <font color='blue'> Solução"
   ]
  },
  {
   "cell_type": "markdown",
   "id": "e018f24d",
   "metadata": {},
   "source": [
    "<font color='blue'> O grafo $F$ possui um caminho de Euler $e,b,a,d,c,f,e,d$; O grafo $G$ possui um circuito de Euler dado por $l,k,h,g,i,n,h,i,m,j,n,g,l$; O grafo $H$ não possui circuito ou caminho de Euler."
   ]
  },
  {
   "cell_type": "markdown",
   "id": "5d837ef6",
   "metadata": {},
   "source": [
    "#### <font color='blue'> Exemplo 2 </font>"
   ]
  },
  {
   "cell_type": "markdown",
   "id": "beb86bc3",
   "metadata": {},
   "source": [
    "<font color='blue'> Quais dos grafos orientados a seguir possuem um circuito Euler? Daqueles que não têm, quais têm um caminho de Euler?<br><br>\n",
    "    <center> <img src=\"fig8_4.jpg\" alt=\"jpg_python\" width=\"650\" height=\"\"> </center>"
   ]
  },
  {
   "cell_type": "markdown",
   "id": "2d8ec7a0",
   "metadata": {},
   "source": [
    "##### <font color='blue'> Solução"
   ]
  },
  {
   "cell_type": "markdown",
   "id": "a4001f5a",
   "metadata": {},
   "source": [
    "<font color='blue'> O grafo $F$ apresenta um circuito de Euler $a,b,e,f,c,d,a$; O grafo $G$ apresenta um caminho de Euler $m,g,h,j,k,i,l,m,i,l$; O grafo $H$ não possui circuito ou caminho de Euler."
   ]
  },
  {
   "cell_type": "markdown",
   "id": "1dc9e9e4",
   "metadata": {},
   "source": [
    "#### <font color='green'> Palavras dos Mestres </font>"
   ]
  },
  {
   "cell_type": "markdown",
   "id": "b7a0cd95",
   "metadata": {},
   "source": [
    "<font color='green'> Observe, no **Exemplo 1**, que não parece ser tarefa muito fácil encontrar um circuito ou caminho de Euler. Além disso, como procurar algo se nem se quer sabemos que existe. Isto não é matemática. Em muitos casos a matemática se atém em mostrar a existência de certo objeto antes de procurá-lo. Imagine procurar um circuito ou caminho de Euler em um grafo algumas dezenas de vértices sem ao menos saber se tais objetos existem. Para a nossa felicidade temos teoremas que asseguram a existencia de tais objetos quando atendidas algumas condições. *Antes de procurar uma agulha no palheiro seria bom saber se há uma agulha no palheiro!*"
   ]
  },
  {
   "cell_type": "markdown",
   "id": "9fe7a8fa",
   "metadata": {},
   "source": [
    "#### <font color='red'> Teorema 1 </font>"
   ]
  },
  {
   "cell_type": "markdown",
   "id": "52b6a061",
   "metadata": {},
   "source": [
    "<font color='red'> Um multigrafo conexo com pelo menos dois vértices tem um circuito de Euler se, e somente se, cada um de seus vértices tiver um grau par."
   ]
  },
  {
   "cell_type": "markdown",
   "id": "6e29cc0e",
   "metadata": {},
   "source": [
    "#### <font color='red'> Teorema 2 </font>"
   ]
  },
  {
   "cell_type": "markdown",
   "id": "7ac8ec20",
   "metadata": {},
   "source": [
    "<font color='red'> Um multigrafo conexo possui um caminho de Euler, mas não um circuito de Euler, se e somente se, tiver exatamente dois vértices de grau ímpar."
   ]
  },
  {
   "cell_type": "markdown",
   "id": "991dd977",
   "metadata": {},
   "source": [
    "#### <font color='blue'> Exemplo 3 </font>"
   ]
  },
  {
   "cell_type": "markdown",
   "id": "ed892365",
   "metadata": {},
   "source": [
    "<font color='blue'> Voltando ao **Exemplo 1** temos que os graus de todos os vértices do grafo $G$ tem grau par e portanto, o **Teorema 1** assegura existência de um circuito de Euler. Por outro lado, temos no grafo $F$ exatamente dois vértices de grau ímpar, $d$ e $e$. Neste caso, o **Teorema 2** assegura a existência de um caminho de Euler. Por fim, o grafo $H$ não atende aos requisitos de nenhum dos **Teoremas 1** e **2** e, portanto não pode comportar um circuito ou caminho de Euler."
   ]
  },
  {
   "cell_type": "markdown",
   "id": "8791df36",
   "metadata": {},
   "source": [
    "#### <font color='red'> Teorema 3 </font>"
   ]
  },
  {
   "cell_type": "markdown",
   "id": "dd568228",
   "metadata": {},
   "source": [
    "<font color='red'> Um multigrafo orientado sem vértices isolados tem um circuito de Euler se, e somente se, o grafo estiver fracamente conexo e o grau de entrada e saída de cada vértice forem iguais."
   ]
  },
  {
   "cell_type": "markdown",
   "id": "8cc6fd58",
   "metadata": {},
   "source": [
    "#### <font color='red'> Teorema 4 </font>"
   ]
  },
  {
   "cell_type": "markdown",
   "id": "629fa2b7",
   "metadata": {},
   "source": [
    "<font color='red'> Um multigrafo orientado sem vértices isolados tem um caminho de Euler mas não um circuito de Euler se, e somente se, o grafo estiver fracamente conexo e o grau de entrada e saída de cada vértice forem iguais para todos, exceto dois vértices $u$ e $v$, um que $deg^{+}(u) = deg^{-}(u) + 1$ e $deg^{+}(v) + 1 = deg^{-}(v)$ (ou vice versa)."
   ]
  },
  {
   "cell_type": "markdown",
   "id": "93bba300",
   "metadata": {},
   "source": [
    "#### <font color='blue'> Exemplo 4 </font>"
   ]
  },
  {
   "cell_type": "markdown",
   "id": "0b1b4fc5",
   "metadata": {},
   "source": [
    "<font color='blue'> Voltando ao **Exemplo 2** temos que todos os vértices do grafo $F$ tem graus de entrada e saída iguais a $1$ e portanto o **Teorema 3** assegura a existência de um circuito de Euler. Por outro lado, o grafo $G$ é tal que todos os seus vértices exceto dois, $m$ e $j$ são iguais a $1$ sendo que os citados são tais que $deg^{+}(m) = deg^{-}(m) + 1$ e $deg^{+}(j) + 1 = deg^{-}(j)$ e portanto o **Teorema 4** assegura a existência de um caminho de Euler. Por fim, o grafo $H$ não atende aos requisitos de nenhum dos **Teoremas 3** e **4** e, portanto não pode comportar um circuito ou caminho de Euler."
   ]
  },
  {
   "cell_type": "markdown",
   "id": "01aa30aa",
   "metadata": {},
   "source": [
    "#### <font color='darkblue'> Algoritmo 1:  Construção de Ciclos Eulerianos"
   ]
  },
  {
   "cell_type": "markdown",
   "id": "6dbcea93",
   "metadata": {},
   "source": [
    "<font color='darkblue'> procedure Euler(G: multigrafo conexo com todos os vértices de grau par)<br><br>\n",
    "$\\ \\ \\ $ ciclo := um ciclo em G começando em um vértice escolhido arbitrariamente. Adicione arestas sucessivamente até formar um caminho que retorne a este vértice.<br><br>\n",
    "$\\ \\ \\ $    H := G menos as arestas do ciclo formado<br><br>\n",
    "$\\ \\ \\ $    while H possuir arestas do<br><br>\n",
    "$\\ \\ \\ \\ \\ \\ $        subciclo := um ciclo em H que comece em um vértice de H que também seja extremidade de uma aresta do ciclo<br><br>\n",
    "$\\ \\ \\ $    H := H menos as arestas do subciclo e todos os vértices isolados<br><br>\n",
    "$\\ \\ \\ $    Insira subciclo no ciclo no vértice apropriado<br><br>\n",
    "$\\ \\ \\ $    end<br><br>\n",
    "$\\ \\ \\ $    {Ao final, \"ciclo\" é um ciclo Euleriano de G}<br><br>\n",
    "end procedure\n"
   ]
  },
  {
   "cell_type": "markdown",
   "id": "a05aee56",
   "metadata": {},
   "source": [
    "#### <font color='blue'> Exemplo 5 </font>"
   ]
  },
  {
   "cell_type": "markdown",
   "id": "b47e6d28",
   "metadata": {},
   "source": [
    "<font color='blue'> Aplique o algoritmo anterior ao grafo $G$ do **Exemplo 1**.<br><br>\n",
    "     <center> <img src=\"fig8_5.jpg\" alt=\"jpg_python\" width=\"225\" height=\"\"> </center>\n"
   ]
  },
  {
   "cell_type": "markdown",
   "id": "fc0d4b0d",
   "metadata": {},
   "source": [
    "##### <font color='blue'> Solução"
   ]
  },
  {
   "cell_type": "markdown",
   "id": "39fe2acd",
   "metadata": {},
   "source": [
    "<font color='blue'> Primeiro, formamos o ciclo $g,n,j,m,i,h,g$ formamos o subgrafo $H$ excluindo todas as arestas deste ciclo e todos os vértices que se tornaram isolados quando essas arestas foram removidas. A seguir, formamos o ciclo $l,k,h,n,i,g,l$. Acompanhe os passos na figura a seguir:<br><br>\n",
    " <center> <img src=\"fig8_6.jpg\" alt=\"jpg_python\" width=\"800\" height=\"\"> </center><br><br>\n",
    " <center> <img src=\"fig8_7.jpg\" alt=\"jpg_python\" width=\"800\" height=\"\"> </center><br><br>\n",
    " Para finalizar devemos formar o ciclo Euleriano. Note que entre os ciclos a ao menos um vértice comum (por quê?). Observe que o vértice $g$ está em ambos e, sendo este o \"começo\" de um dos ciclos podemos usá-lo como ponto de ligação entre os dois ciclos, isto é<br><br>\n",
    " $$\\underset{(1)}{l,k,h,n,i}\\leftrightarrow \\underset{(2)}{g,n,j,m,i,h,g} \\leftrightarrow \\underset{(3)}{l}$$<br>\n",
    " o que resulta no seguinte ciclo Euleriano $l,k,h,n,i,g,n,j,m,i,h,g, l$.<br><br>\n",
    " \\boxed{$(1)$ Parte \"inicial\" do segundo ciclo;<br>\n",
    " $(2)$ Primeiro ciclo; <br>\n",
    " $(3)$ Parte \"final\" do segundo ciclo."
   ]
  },
  {
   "cell_type": "markdown",
   "id": "3fa5f110",
   "metadata": {},
   "source": [
    "# <div style=\"margin-top: -20px;\">\n",
    "<hr style=\"border: 2px solid black;\">\n",
    "\n",
    "<font color='black'><span style=\"font-size: 22px;\"><strong>8.3 Exercícios</strong></span></font>\n",
    "\n",
    "<hr style=\"border: 2px solid black;\">\n",
    "</div>"
   ]
  },
  {
   "cell_type": "markdown",
   "id": "cefa3c75",
   "metadata": {},
   "source": [
    "#### Exercício 1"
   ]
  },
  {
   "cell_type": "markdown",
   "id": "e43627cb",
   "metadata": {},
   "source": [
    "Para cada um dos grafos a seguir, primeiro determine a existência ou não de um circuito ou caminho de Euler. Se existir um exiba-o. (*Menino de $5^{\\underline{a}}$ série vai logo cobrindo o desenho!*)<br><br>\n",
    " <center> <img src=\"fig8_8.jpg\" alt=\"jpg_python\" width=\"700\" height=\"\"> </center><br><br>\n",
    " <center> <img src=\"fig8_9.jpg\" alt=\"jpg_python\" width=\"700\" height=\"\"> </center><br><br>"
   ]
  },
  {
   "cell_type": "markdown",
   "id": "57058344",
   "metadata": {},
   "source": [
    "#### Exercício 2"
   ]
  },
  {
   "cell_type": "markdown",
   "id": "b5ae42bd",
   "metadata": {},
   "source": [
    "Utilize o **Algoritmo 1** para determinar ciclos Eulerianos dos grafos (Eulerianos) contidos no **Exercício 1**."
   ]
  },
  {
   "cell_type": "markdown",
   "id": "d52ee48a",
   "metadata": {},
   "source": [
    "## <div style=\"margin-top: -20px;\">\n",
    "<hr style=\"border: 2px solid black;\">\n",
    "\n",
    "<font color='black'><span style=\"font-size: 18px;\"><strong>Respostas</strong></span></font>\n",
    "\n",
    "<hr style=\"border: 2px solid black;\">\n",
    "</div>"
   ]
  },
  {
   "cell_type": "markdown",
   "id": "08aa690c",
   "metadata": {},
   "source": [
    "#### Respostas do Exercício 1"
   ]
  },
  {
   "cell_type": "markdown",
   "id": "185ea011",
   "metadata": {},
   "source": [
    "a) Existe um circuito de Euler $a,b,c,d,e,f,g,a,c,e,a$, b) Existe um caminho de Euler $i,j,k,h,i,m,h,l,j,m,l,i,k$, c) Não existe circuito ou caminho de Euler, d) Não existe circuito ou caminho de Euler, e) Existe um circuito de Euler $g,h,i,k,j,g,i,l,m,g$, f) Existe um caminho de Euler $o,p,q,o,r$."
   ]
  },
  {
   "cell_type": "markdown",
   "id": "b70811e6",
   "metadata": {},
   "source": [
    "#### Respostas do Exercício 2"
   ]
  },
  {
   "cell_type": "markdown",
   "id": "744f2ab7",
   "metadata": {},
   "source": [
    "Grafo $F$: Ciclo $1$: $a,b,c,d,e,a$, Ciclo $2$: $f,g,a,c,e,f$, Ciclo Euleriano: $f,g,/a,b,c,d,e,a,/c,e,f$; Grafo $J$: {\\it{Pode aplicar? Acreditamos que sim pois os graus de entrada e de saída são pares.}} Ciclo $1$: $m,g,h,i,l,m$, Ciclo $2$: $g,i,k,j,g$, Ciclo Euleriano: $m,/g,i,k,j,g,/h,i,l,m$"
   ]
  },
  {
   "cell_type": "markdown",
   "id": "77040c68",
   "metadata": {},
   "source": [
    "# <div style=\"margin-top: -20px;\">\n",
    "<hr style=\"border: 2px solid black;\">\n",
    "\n",
    "<font color='black'><span style=\"font-size: 22px;\"><strong>8.4 Vídeo Aulas</strong></span></font>\n",
    "\n",
    "<hr style=\"border: 2px solid black;\">\n",
    "</div>"
   ]
  },
  {
   "cell_type": "markdown",
   "id": "a22169bb",
   "metadata": {},
   "source": [
    "Clicando nos links a seguir você será redirecionado às aulas referentes a este capítulo.\n",
    "\n",
    "[Circuito e Caminho de Euler](https://youtu.be/CwRwn0zl4ds)\n",
    "\n",
    "[Teoremas Sobre Caminhos e Circuitos de Euler em Grafos Não Orientados](https://youtu.be/ZvzL-dBJcgM)\n",
    "\n",
    "[Teoremas Sobre Caminhos e Circuitos de Euler em Grafos Orientados](https://youtu.be/QFgiY8V4lSM)\n",
    "\n",
    "[Teoremas de Ciclos Eulerianos Usando o Algoritmo de Fleury](https://youtu.be/ip45_vB7Uh4)"
   ]
  },
  {
   "cell_type": "markdown",
   "id": "72581701",
   "metadata": {},
   "source": [
    "# <div style=\"margin-top: -20px;\">\n",
    "<hr style=\"border: 2px solid black;\">\n",
    "\n",
    "<font color='black'><span style=\"font-size: 22px;\"><strong>8.5 No Computador (Experimental)</strong></span></font>\n",
    "\n",
    "<hr style=\"border: 2px solid black;\">\n",
    "</div>"
   ]
  },
  {
   "cell_type": "markdown",
   "id": "bd939cfb",
   "metadata": {},
   "source": [
    "Para os exemplos a seguir utilizamos os grafos $F$, $G$ e $H$ dados no **Exemplo 1**."
   ]
  },
  {
   "cell_type": "code",
   "execution_count": 2,
   "id": "57fc45ee",
   "metadata": {
    "ExecuteTime": {
     "end_time": "2023-08-23T12:27:06.143727Z",
     "start_time": "2023-08-23T12:27:06.132758Z"
    }
   },
   "outputs": [],
   "source": [
    "grafo_F = [('a','b'), ('a','d'), ('b','e'), ('c','d'), ('c','f'),('d','e'),('e','f')]\n",
    "grafo_G = [('g','h'), ('g','i'), ('g','l'), ('g','n'), \\\n",
    "                  ('h','i'), ('h','k'), ('h','n'), ('i','m'), \\\n",
    "                  ('i','n'), ('j','n'), ('j','m'), ('k','l')]\n",
    "grafo_H = [('o','p'), ('o','q'), ('o','r'), ('p','q'), ('p','r'), ('q','r')]"
   ]
  },
  {
   "cell_type": "markdown",
   "id": "d49001d9",
   "metadata": {},
   "source": [
    "##### Classificando um grafo em euleriano, semi-euleriano ou nenhum dos dois casos"
   ]
  },
  {
   "cell_type": "markdown",
   "id": "591edd56",
   "metadata": {},
   "source": [
    "As funções **is_eulerian()** e **is_semieulerian()** verificam, respectivamente, se um grafo possui um circuito de Euler ou um caminho de Euler."
   ]
  },
  {
   "cell_type": "code",
   "execution_count": 3,
   "id": "d41de49c",
   "metadata": {
    "ExecuteTime": {
     "end_time": "2023-08-23T12:27:06.414033Z",
     "start_time": "2023-08-23T12:27:06.145722Z"
    }
   },
   "outputs": [
    {
     "name": "stdout",
     "output_type": "stream",
     "text": [
      "O grafo dado possui um caminho de Euler.\n"
     ]
    }
   ],
   "source": [
    "import networkx as nx\n",
    "\n",
    "G = nx.Graph()\n",
    "G.add_edges_from(grafo_F) # Repasse para os grafos grafo_G e grafo_H\n",
    "\n",
    "if nx.is_eulerian(G) == True:\n",
    "    print('O grafo dado possui um circuito de Euler.')\n",
    "elif nx.is_semieulerian(G) == True:\n",
    "    print('O grafo dado possui um caminho de Euler.')\n",
    "else:\n",
    "    print('O grafo dado não possui nem um caminho nem um circuito de Euler.')"
   ]
  },
  {
   "cell_type": "markdown",
   "id": "74a501bd",
   "metadata": {},
   "source": [
    "##### Exibindo um caminho ou circuito de euler ou mensagem no caso não euleriano"
   ]
  },
  {
   "cell_type": "markdown",
   "id": "d5c7e0bf",
   "metadata": {},
   "source": [
    "As funções **eulerian_circuit** e **eulerian_path** juntamente com a palavra chave **list** retornam, respectivamente, um circuito ou um caminho de euler caso existam."
   ]
  },
  {
   "cell_type": "code",
   "execution_count": 3,
   "id": "9eb1c3b2",
   "metadata": {
    "ExecuteTime": {
     "end_time": "2023-08-23T12:27:06.422982Z",
     "start_time": "2023-08-23T12:27:06.416001Z"
    }
   },
   "outputs": [
    {
     "name": "stdout",
     "output_type": "stream",
     "text": [
      "O grafo dado possui um caminho de Euler: [('d', 'a'), ('a', 'b'), ('b', 'e'), ('e', 'd'), ('d', 'c'), ('c', 'f'), ('f', 'e')]\n"
     ]
    }
   ],
   "source": [
    "import networkx as nx\n",
    "\n",
    "G = nx.Graph()\n",
    "G.add_edges_from(grafo_F) # Repasse para os grafos grafo_G e grafo_H\n",
    "\n",
    "if nx.is_eulerian(G) == True:\n",
    "    circuito = nx.eulerian_circuit(G)\n",
    "    print(f'O grafo dado possui um circuito de Euler: {list(circuito)}')\n",
    "elif nx.is_semieulerian(G) == True:\n",
    "    caminho = nx.eulerian_path(G)\n",
    "    print(f'O grafo dado possui um caminho de Euler: {list(caminho)}')\n",
    "else:\n",
    "    print('O grafo dado não possui nem um caminho nem um circuito de Euler.')"
   ]
  },
  {
   "cell_type": "markdown",
   "id": "e1a4593c",
   "metadata": {},
   "source": [
    "Todos os códigos acima podem ser repassados para grafos orientados repassando **G = nx.Graph()** para **G = nx.DiGraph()**."
   ]
  },
  {
   "cell_type": "markdown",
   "id": "976e276b",
   "metadata": {
    "ExecuteTime": {
     "end_time": "2023-08-23T12:26:26.230911Z",
     "start_time": "2023-08-23T12:26:26.225925Z"
    }
   },
   "source": [
    "### Aprofundando"
   ]
  },
  {
   "cell_type": "markdown",
   "id": "4e1e53c1",
   "metadata": {},
   "source": [
    "Consulte o código completo das funções executando a célula a seguir:"
   ]
  },
  {
   "cell_type": "code",
   "execution_count": 4,
   "id": "1e1c7b1d",
   "metadata": {
    "ExecuteTime": {
     "end_time": "2023-08-23T12:27:06.446591Z",
     "start_time": "2023-08-23T12:27:06.426972Z"
    }
   },
   "outputs": [
    {
     "name": "stdout",
     "output_type": "stream",
     "text": [
      "def is_eulerian(G):\n",
      "    \"\"\"Returns True if and only if `G` is Eulerian.\n",
      "\n",
      "    A graph is *Eulerian* if it has an Eulerian circuit. An *Eulerian\n",
      "    circuit* is a closed walk that includes each edge of a graph exactly\n",
      "    once.\n",
      "\n",
      "    Graphs with isolated vertices (i.e. vertices with zero degree) are not\n",
      "    considered to have Eulerian circuits. Therefore, if the graph is not\n",
      "    connected (or not strongly connected, for directed graphs), this function\n",
      "    returns False.\n",
      "\n",
      "    Parameters\n",
      "    ----------\n",
      "    G : NetworkX graph\n",
      "       A graph, either directed or undirected.\n",
      "\n",
      "    Examples\n",
      "    --------\n",
      "    >>> nx.is_eulerian(nx.DiGraph({0: [3], 1: [2], 2: [3], 3: [0, 1]}))\n",
      "    True\n",
      "    >>> nx.is_eulerian(nx.complete_graph(5))\n",
      "    True\n",
      "    >>> nx.is_eulerian(nx.petersen_graph())\n",
      "    False\n",
      "\n",
      "    If you prefer to allow graphs with isolated vertices to have Eulerian circuits,\n",
      "    you can first remove such vertices and then call `is_eulerian` as below example shows.\n",
      "\n",
      "    >>> G = nx.Graph([(0, 1), (1, 2), (0, 2)])\n",
      "    >>> G.add_node(3)\n",
      "    >>> nx.is_eulerian(G)\n",
      "    False\n",
      "\n",
      "    >>> G.remove_nodes_from(list(nx.isolates(G)))\n",
      "    >>> nx.is_eulerian(G)\n",
      "    True\n",
      "\n",
      "\n",
      "    \"\"\"\n",
      "    if G.is_directed():\n",
      "        # Every node must have equal in degree and out degree and the\n",
      "        # graph must be strongly connected\n",
      "        return all(\n",
      "            G.in_degree(n) == G.out_degree(n) for n in G\n",
      "        ) and nx.is_strongly_connected(G)\n",
      "    # An undirected Eulerian graph has no vertices of odd degree and\n",
      "    # must be connected.\n",
      "    return all(d % 2 == 0 for v, d in G.degree()) and nx.is_connected(G)\n",
      "\n"
     ]
    }
   ],
   "source": [
    "import inspect\n",
    "import networkx as nx\n",
    "\n",
    "\n",
    "code = inspect.getsource(nx.is_eulerian) # Substitua por nx.is_semieulerian, nx.eulerian_circuit\n",
    "\n",
    "print(code)"
   ]
  }
 ],
 "metadata": {
  "kernelspec": {
   "display_name": "Python 3 (ipykernel)",
   "language": "python",
   "name": "python3"
  },
  "language_info": {
   "codemirror_mode": {
    "name": "ipython",
    "version": 3
   },
   "file_extension": ".py",
   "mimetype": "text/x-python",
   "name": "python",
   "nbconvert_exporter": "python",
   "pygments_lexer": "ipython3",
   "version": "3.11.5"
  },
  "varInspector": {
   "cols": {
    "lenName": 16,
    "lenType": 16,
    "lenVar": 40
   },
   "kernels_config": {
    "python": {
     "delete_cmd_postfix": "",
     "delete_cmd_prefix": "del ",
     "library": "var_list.py",
     "varRefreshCmd": "print(var_dic_list())"
    },
    "r": {
     "delete_cmd_postfix": ") ",
     "delete_cmd_prefix": "rm(",
     "library": "var_list.r",
     "varRefreshCmd": "cat(var_dic_list()) "
    }
   },
   "types_to_exclude": [
    "module",
    "function",
    "builtin_function_or_method",
    "instance",
    "_Feature"
   ],
   "window_display": false
  }
 },
 "nbformat": 4,
 "nbformat_minor": 5
}
