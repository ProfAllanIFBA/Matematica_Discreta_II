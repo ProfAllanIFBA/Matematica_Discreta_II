{
 "cells": [
  {
   "cell_type": "markdown",
   "id": "ce33096c",
   "metadata": {},
   "source": [
    "<center> <img src=\"logo_ifba.jpg\" alt=\"jpg_python\" width=\"100\" height=\"200\"> </center>\n",
    "<br><br>\n",
    "<div align=\"center\"><span style=\"font-size: 26px;\"><strong>Matemática Discreta II <br></strong></span></div> <br>\n",
    "\n",
    "<center> <img src=\"python_gif.gif\" alt=\"gif_python\" width=\"80\"> </center>"
   ]
  },
  {
   "cell_type": "markdown",
   "id": "c5073180",
   "metadata": {},
   "source": [
    "<div style=\"border: 2px solid black; padding: 10px; width: 95%; background-color: lightgray; display: flex; align-items: center;\">\n",
    "    <h1 style=\"color: red; text-align: center; margin: auto;\">\n",
    "        Capítulo 4: Representação de Grafos\n",
    "    </h1>\n",
    "</div>\n",
    "\n",
    "<font color='red'></font>\n",
    "<a href=\"\"></a>"
   ]
  },
  {
   "cell_type": "markdown",
   "id": "9e9c75ab",
   "metadata": {},
   "source": [
    "Neste capítulo, apresentaremos algumas formas de representar um grafo. Essas representações serão extremamente úteis à medida que avançamos na teoria. Ao representar um grafo de forma não necessariamente geométrica, teremos a vantagem de utilizar tanto ferramentas matemáticas como computacionais. Isso ocorre porque a máquina é capaz de compreender mais facilmente uma matriz (usada em algumas representações) do que um desenho gráfico. A diversidade de representações nos permitirá explorar diferentes abordagens e facilitará a solução de problemas reais através de métodos analíticos e algoritmos computacionais."
   ]
  },
  {
   "cell_type": "markdown",
   "id": "b409060e",
   "metadata": {},
   "source": [
    "# <div style=\"margin-top: -20px;\">\n",
    "<hr style=\"border: 2px solid black;\">\n",
    "\n",
    "<font color='black'><span style=\"font-size: 22px;\"><strong>4.1 Representação Por Listas de Adjacência</strong></span></font>\n",
    "\n",
    "<hr style=\"border: 2px solid black;\">\n",
    "</div>"
   ]
  },
  {
   "cell_type": "markdown",
   "id": "c1d0b62d",
   "metadata": {},
   "source": [
    "A primeira forma de se representar grafos que apresentaremos são as chamadas **listas de adjacências**. Tais listas especificam quais vértices são adjacentes a cada vértice de um grafo simples não orientado. Para o caso de um grafo orientado especificaremos os vértices finais e iniciais."
   ]
  },
  {
   "cell_type": "markdown",
   "id": "3b5e17a9",
   "metadata": {},
   "source": [
    "#### <font color='blue'> Exemplo 1 </font>"
   ]
  },
  {
   "cell_type": "markdown",
   "id": "afcb5dba",
   "metadata": {},
   "source": [
    "<font color='blue'> Construa uma lista de adjacência para representar o grafo a seguir:<br><br>\n",
    "<center> <img src=\"fig4_1.jpg\" alt=\"jpg_python\" width=\"170\" height=\"\"> </center>"
   ]
  },
  {
   "cell_type": "markdown",
   "id": "3b735397",
   "metadata": {},
   "source": [
    "<font color='blue'> **Solução**: A tabela a seguir apresenta a lista de adjacência referente ao grafo dado:\n",
    "    <center>  \n",
    "$\\begin{array}{|c|c|} \\hline\n",
    "Vertice\t&  Vertices \\, Adjacentes \\\\ \\hline\n",
    "a\t&  b,d \\\\ \\hline\n",
    "b\t&  a,c \\\\ \\hline\n",
    "c\t&  b,d,e \\\\ \\hline\n",
    "d\t&  a,c,e \\\\ \\hline\n",
    "e\t&  c,d \\\\ \\hline\n",
    "\\end{array}$\n",
    " </center>"
   ]
  },
  {
   "cell_type": "markdown",
   "id": "26e5b6b8",
   "metadata": {},
   "source": [
    "#### <font color='blue'> Exemplo 2 </font>"
   ]
  },
  {
   "cell_type": "markdown",
   "id": "cc5890a8",
   "metadata": {},
   "source": [
    "<font color='blue'> Represente o grafo orientado mostrado na figura a seguir listando todos os vértices que são o vértices terminais de arestas começando em cada vértice do grafo:\n",
    "    <center> <img src=\"fig4_2.jpg\" alt=\"jpg_python\" width=\"150\" height=\"\"> </center>\n"
   ]
  },
  {
   "cell_type": "markdown",
   "id": "fc7ac5c5",
   "metadata": {},
   "source": [
    "<font color='blue'> **Solução**: A tabela a seguir apresenta a lista de adjacência referente ao grafo dado:<br><br>\n",
    "    <center>\n",
    "$\\begin{array}{|c|c|} \\hline\n",
    "Vertice \\, Inicial\t&  Vertices \\, Finais \\\\ \\hline\n",
    "a\t&  b,c,e \\\\ \\hline\n",
    "b\t&  - \\\\ \\hline\n",
    "c\t&  a,d \\\\ \\hline\n",
    "d\t&  e \\\\ \\hline\n",
    "e\t&  e \\\\ \\hline\n",
    "\\end{array}$\n",
    "    </center>"
   ]
  },
  {
   "cell_type": "markdown",
   "id": "d106553e",
   "metadata": {},
   "source": [
    "# <div style=\"margin-top: -20px;\">\n",
    "<hr style=\"border: 2px solid black;\">\n",
    "\n",
    "<font color='black'><span style=\"font-size: 22px;\"><strong>4.2 Representações Matriciais</strong></span></font>\n",
    "\n",
    "<hr style=\"border: 2px solid black;\">\n",
    "</div>"
   ]
  },
  {
   "cell_type": "markdown",
   "id": "7eefcb6b",
   "metadata": {},
   "source": [
    "A utilização de matrizes é um ponto de partida fundamental na introdução à programação computacional para representar grafos. Através dessa abordagem, torna-se possível implementar várias rotinas computacionais relacionadas ao grafo. As matrizes oferecem uma estrutura organizada que facilita o acesso e manipulação dos dados, permitindo o desenvolvimento de algoritmos eficientes para análise, busca, e outras operações em grafos. Essa representação é amplamente utilizada em diversas aplicações, tornando-se uma ferramenta valiosa no estudo de algoritmos e solução de problemas práticos relacionados a grafos."
   ]
  },
  {
   "cell_type": "markdown",
   "id": "52283e56",
   "metadata": {},
   "source": [
    "## <div style=\"margin-top: -20px;\">\n",
    "<hr style=\"border: 2px solid black;\">\n",
    "\n",
    "<font color='black'><span style=\"font-size: 18px;\"><strong>4.2.1 Matrizes de Adjacência</strong></span></font>\n",
    "\n",
    "<hr style=\"border: 2px solid black;\">\n",
    "</div>"
   ]
  },
  {
   "cell_type": "markdown",
   "id": "ed702183",
   "metadata": {},
   "source": [
    "#### <font color='red'> Definição 1 </font>"
   ]
  },
  {
   "cell_type": "markdown",
   "id": "bd835e6b",
   "metadata": {},
   "source": [
    "<font color='red'> Suponha que $G = (V, E)$ seja um grafo simples onde $|V| = n$. Suponha que os vértices de\n",
    "$G$ são listados arbitrariamente como $v_{1}, v_{2},..., v_{n}$. A **matriz de adjacência** $A$ (ou $AG$) de $G$, com respeito para esta listagem dos vértices, é a matriz $n \\times n$ $zero-um$ com $1$ como sua $(i, j)-esima$ entrada quando $v_{i}$ e $v_{j}$ são adjacentes e $0$ como sua entrada $(i, j)$-ésima entrada quando não são adjacentes. Em outras palavras, se matriz de adjac\\^encia é $A = [a_{ij}]$, então<br><br>\n",
    "  <center>  $$a_{ij} = \\left\\{ \\begin{array}{}\n",
    "1, \\ se \\ v_{ij} \\ é \\ uma \\ aresta \\ de G \\\\\n",
    "0, \\ se \\ v_{ij} \\ não \\ é \\ uma \\ aresta \\ de G \\\\\n",
    "\\end{array} \\right.$$  <center>"
   ]
  },
  {
   "cell_type": "markdown",
   "id": "4b38b588",
   "metadata": {},
   "source": [
    "#### <font color='blue'> Exemplo 3 </font>"
   ]
  },
  {
   "cell_type": "markdown",
   "id": "508eff81",
   "metadata": {},
   "source": [
    "<font color='blue'> Use uma matriz de adjacência para representar o grafo mostrado a seguir:<br><br>\n",
    "<center> <img src=\"fig4_3.jpg\" alt=\"jpg_python\" width=\"230\" height=\"\"> </center>"
   ]
  },
  {
   "cell_type": "markdown",
   "id": "6c463655",
   "metadata": {},
   "source": [
    "<font color='blue'> **Solução**: Temos a seguinte matriz de adjacência referente ao grafo dado: <br><br>\n",
    "    <center>\n",
    "  $$G = \\left(\\begin{array}{}\n",
    "0 & 1 & 0 & 0 & 1 & 1\\\\\n",
    "1 & 0 & 0 & 1 & 1 & 0\\\\\n",
    "0 & 0 & 0 & 1 & 1 & 0\\\\\n",
    "0 & 1 & 1 & 0 & 1 & 1\\\\\n",
    "1 & 1 & 1 & 1 & 0 & 0\\\\\n",
    "1 & 0 & 0 & 1 & 0 & 0\\\\\n",
    "\\end{array}\\right) \\ \\ \\ \\ \\ \\Leftrightarrow \\ \\ \\ \\ \\\n",
    "  \\begin{array}{c|cccccc}\n",
    "  & a & b & c & d & e & f \\\\\n",
    "\\hline\n",
    "a & 0 & 1 & 0 & 0 & 1 & 1 \\\\\n",
    "b & 1 & 0 & 0 & 1 & 1 & 0 \\\\\n",
    "c & 0 & 0 & 0 & 1 & 1 & 0 \\\\\n",
    "d & 0 & 1 & 1 & 0 & 1 & 1 \\\\\n",
    "e & 1 & 1 & 1 & 1 & 0 & 0 \\\\\n",
    "f & 1 & 0 & 0 & 1 & 0 & 0 \\\\\n",
    "\\end{array}$$\n",
    "    </center>"
   ]
  },
  {
   "cell_type": "markdown",
   "id": "e72dfac3",
   "metadata": {},
   "source": [
    "A utilização de matrizes de adjacência comporta grafos contendo múltiplas arestas. Neste caso, repassa-se o valor $1$ para a quantidade de arestas entre os vértices em questão. Grafos com loops também são comportados utilizando-se $1$ na posição $a_{ii}$ para cada laço existente em um dado vértice."
   ]
  },
  {
   "cell_type": "markdown",
   "id": "ea454af9",
   "metadata": {},
   "source": [
    "#### <font color='blue'> Exemplo 4 </font>"
   ]
  },
  {
   "cell_type": "markdown",
   "id": "f9d1415c",
   "metadata": {},
   "source": [
    "<font color='blue'> Use uma matriz de adjacência para representar o grafo mostrado a seguir:<br><br>\n",
    "    <center> <img src=\"fig4_3.jpg\" alt=\"jpg_python\" width=\"230\" height=\"\"> </center>\n"
   ]
  },
  {
   "cell_type": "markdown",
   "id": "be31bf77",
   "metadata": {},
   "source": [
    "<font color='blue'> **Solução**: Temos a seguinte matriz de adjacência referente ao grafo dado:<br><br>\n",
    "  <center> $$\\left(\\begin{array}{ccccc}\n",
    "0 & 0 & 1 & 2 & 1\\\\\n",
    "0 & 1 & 0 & 0 & 1\\\\\n",
    "1 & 0 & 0 & 0 & 0\\\\\n",
    "2 & 0 & 0 & 0 & 2\\\\\n",
    "1 & 1 & 0 & 2 & 0\\\\\n",
    "\\end{array} \\right)\\ \\ \\ \\ \\ \\Leftrightarrow \\ \\ \\ \\ \\\n",
    "  \\begin{array}{c|cccccc}\n",
    "  & a & b & c & d & e \\\\\n",
    "\\hline\n",
    "a & 0 & 0 & 1 & 2 & 1\\\\\n",
    "b & 0 & 1 & 0 & 0 & 1\\\\\n",
    "c & 1 & 0 & 0 & 0 & 0\\\\\n",
    "d & 2 & 0 & 0 & 0 & 2\\\\\n",
    "e & 1 & 1 & 0 & 2 & 0\\\\\n",
    "\\end{array}$$\n",
    "  </center>"
   ]
  },
  {
   "cell_type": "markdown",
   "id": "52618768",
   "metadata": {},
   "source": [
    "## <div style=\"margin-top: -20px;\">\n",
    "<hr style=\"border: 2px solid black;\">\n",
    "\n",
    "<font color='black'><span style=\"font-size: 18px;\"><strong>4.2.2 Matrizes de Incidência</strong></span></font>\n",
    "\n",
    "<hr style=\"border: 2px solid black;\">\n",
    "</div>"
   ]
  },
  {
   "cell_type": "markdown",
   "id": "5fb3647e",
   "metadata": {},
   "source": [
    "#### <font color='red'> Definição 2 </font>"
   ]
  },
  {
   "cell_type": "markdown",
   "id": "a2d669ad",
   "metadata": {},
   "source": [
    "<font color='red'> Seja $G = (V, E)$ um grafo não orientado. Suponha que $v_{1}, v_{2}, \\cdots, v_{n}$ são os vértices e $e_{1}, e_{2}, \\cdots, e_{m}$ sejam as arestas de $G$. Então a **matriz de incidência** com respeito à ordenação de $V$ e $E$ é a matriz $n \\times m$ $M = [m_{ij}]$, em que<br><br>\n",
    "   <center>\n",
    "$$a_{ij} = \\left\\{ \\begin{array}{cc}\n",
    "1,\t&  quando \\ a \\ aresta \\ e_{j} \\  incide \\ sobre \\ v_{i}\\\\\n",
    "0,\t&  do \\ contrário\\\\\n",
    "\\end{array}\\right.$$\n",
    "    </center>"
   ]
  },
  {
   "cell_type": "markdown",
   "id": "2cc71068",
   "metadata": {},
   "source": [
    "#### <font color='blue'> Exemplo 5 </font>"
   ]
  },
  {
   "cell_type": "markdown",
   "id": "9d583774",
   "metadata": {},
   "source": [
    "<font color='blue'> Exiba a matriz de incidência do grafo mostrado a seguir:<br><br>\n",
    "    <center> <img src=\"fig4_5.jpg\" alt=\"jpg_python\" width=\"180\" height=\"\"> </center>"
   ]
  },
  {
   "cell_type": "markdown",
   "id": "4c95f89f",
   "metadata": {},
   "source": [
    "<font color='blue'> **Solução**: Temos a seguinte matriz de incidência referente ao grafo dado:<br><br>\n",
    " <center>\n",
    "     $$M_{G} = \\left(\\begin{array}{ccccccc}\n",
    "1  & 1  & 1  & 0  & 0  \\\\\n",
    "0  & 0  & 0  & 1  & 0  \\\\\n",
    "1  & 0  & 0  & 0  & 0  \\\\\n",
    "0  & 0  & 0  & 1  & 1  \\\\\n",
    "0  & 0  & 1  & 1  & 1  \\\\\n",
    "\\end{array} \\right) \\ \\ \\ \\ \\ \\Leftrightarrow \\ \\ \\ \\ \\\n",
    "  \\begin{array}{c|cccccc}\n",
    "  & e_{1} & e_{2} & e_{3} & e_{4} & e_{5} \\\\\n",
    "\\hline\n",
    "a & 1  & 1  & 1  & 0  & 0  \\\\\n",
    "b & 0  & 0  & 0  & 1  & 0  \\\\\n",
    "c & 1  & 0  & 0  & 0  & 0  \\\\\n",
    "d & 0  & 0  & 0  & 1  & 1  \\\\\n",
    "e & 0  & 0  & 1  & 1  & 1  \\\\\n",
    "\\end{array}$$\n",
    "    </center>\n",
    "   "
   ]
  },
  {
   "cell_type": "markdown",
   "id": "7688b3e5",
   "metadata": {},
   "source": [
    "#### <font color='green'> Palavras dos Mestres </font>"
   ]
  },
  {
   "cell_type": "markdown",
   "id": "9b752c14",
   "metadata": {},
   "source": [
    "<font color='green'> Observe, no Exemplo 5, que a enumeração das arestas foi feita usando-se a ordem lexicográfica. Isso significa que as arestas $e_{1}$, $e_{2}$, $e_{3}$, $e_{4}$ e $e_{5}$ estão ligadas às seguintes arestas $ac$, $ad$, $ae$, $be$ e $de$, respectivamente. Essa abordagem torna mais fácil compreender como o computador processará cada dado de forma organizada. Ao fazermos manualmente, a escolha pode ser arbitrária (você escolhe como quiser), contudo, isso poderá dificultar na hora da programação. No caso de múltiplas arestas $xy$, realizamos a enumeração da seguinte forma: $xy_{1} = e_{i}$, $xy_{2} = e_{i+1}$ e assim sucessivamente até que todas as múltiplas arestas $xy$ sejam enumeradas. Veja o Exemplo 6 para mais detalhes. <br><br> \n",
    "  De modo geral, o computador atribui uma chave a cada vértice na ordem em que o mesmo foi lido. Ou seja, o primeiro vértice lido recebe a chave $1$ (ou $0$), o segundo vértice lido recebe a chave $2$, o terceiro vértice lido recebe a chave $3$, e assim sucessivamente. Isso garante que, em casos com muitas possibilidades, o computador recorra à ordenação de entrada para garantir consistência e padronização. Esses detalhes são essenciais para que algoritmos e estruturas de dados funcionem corretamente, especialmente quando lidamos com grafos e grandes conjuntos de dados."
   ]
  },
  {
   "cell_type": "markdown",
   "id": "98853d22",
   "metadata": {},
   "source": [
    "#### <font color='blue'> Exemplo 6 </font>"
   ]
  },
  {
   "cell_type": "markdown",
   "id": "8e34cd63",
   "metadata": {},
   "source": [
    "<font color='blue'> Exiba a matriz de incidência do grafo mostrado a seguir:<br><br>\n",
    "    <center> <img src=\"fig4_6.jpg\" alt=\"jpg_python\" width=\"250\" height=\"\"> </center>"
   ]
  },
  {
   "cell_type": "markdown",
   "id": "077a7bf5",
   "metadata": {},
   "source": [
    "<font color='blue'> **Solução**: Temos a seguinte matriz de incidência referente ao grafo dado:<br><br>\n",
    " <center>\n",
    " $$M_{G} = \\left(\\begin{array}{cccccccc}\n",
    "1  & 1  & 1  & 1  & 0  &  0  & 0  \\\\\n",
    "0  & 0  & 0  & 0  & 1  &  0  & 0  \\\\\n",
    "1  & 0  & 0  & 0  & 0  &  0  & 0  \\\\\n",
    "0  & 1  & 1  & 0  & 0  &  1  & 0  \\\\\n",
    "0  & 0  & 0  & 1  & 1  &  1  & 1   \\\\\n",
    "\\end{array} \\right) \\ \\ \\ \\ \\ \\Leftrightarrow \\ \\ \\ \\ \\ \n",
    " \\begin{array}{c|ccccccc}\n",
    "& e_{1} & e_{2} & e_{3} & e_{4} & e_{5} & e_{6} & e_{7}\\\\\n",
    " \\hline\n",
    "a & 1  & 1  & 1  & 1  & 0  &  0  & 0  \\\\\n",
    "b & 0  & 0  & 0  & 0  & 1  &  0  & 0  \\\\\n",
    "c & 1  & 0  & 0  & 0  & 0  &  0  & 0  \\\\\n",
    "d & 0  & 1  & 1  & 0  & 0  &  1  & 0  \\\\\n",
    "e & 0  & 0  & 0  & 1  & 1  & 1  & 1   \\\\\n",
    "\\end{array}$$"
   ]
  },
  {
   "cell_type": "markdown",
   "id": "3fa5f110",
   "metadata": {},
   "source": [
    "# <div style=\"margin-top: -20px;\">\n",
    "<hr style=\"border: 2px solid black;\">\n",
    "\n",
    "<font color='black'><span style=\"font-size: 22px;\"><strong>4.3 Exercícios</strong></span></font>\n",
    "\n",
    "<hr style=\"border: 2px solid black;\">\n",
    "</div>"
   ]
  },
  {
   "cell_type": "markdown",
   "id": "c19d7f01",
   "metadata": {},
   "source": [
    "#### Exercício 1"
   ]
  },
  {
   "cell_type": "markdown",
   "id": "28143524",
   "metadata": {},
   "source": [
    " Apresente listas de adjacências para representar os grafos dados:<br><br>\n",
    "<img src=\"fig4_7.jpg\" alt=\"jpg_python\" width=\"600\" height=\"\">"
   ]
  },
  {
   "cell_type": "markdown",
   "id": "ae9fd516",
   "metadata": {},
   "source": [
    "#### Exercício 2"
   ]
  },
  {
   "cell_type": "markdown",
   "id": "fc822cf1",
   "metadata": {},
   "source": [
    "Apresente matrizes de adjacências para representar os grafos dados:<br><br>\n",
    "<img src=\"fig4_8.jpg\" alt=\"jpg_python\" width=\"500\" height=\"\">"
   ]
  },
  {
   "cell_type": "markdown",
   "id": "a62e86d8",
   "metadata": {},
   "source": [
    "#### Exercício 3"
   ]
  },
  {
   "cell_type": "markdown",
   "id": "dced3c0e",
   "metadata": {},
   "source": [
    "Construa grafos cujas matrizes de adjacência são dadas a seguir:<br><br>\n",
    "a) $\\left(\\begin{array}{cccccc}\n",
    "0 & 1 & 0 & 0 & 0 & 1 \\\\\n",
    "1 & 0 & 1 & 0 & 1 & 0 \\\\\n",
    "0 & 1 & 0 & 1 & 0 & 0 \\\\\n",
    "0 & 0 & 1 & 0 & 1 & 0 \\\\\n",
    "0 & 1 & 0 & 1 & 0 & 1 \\\\\n",
    "1 & 0 & 0 & 0 & 1 & 0\\\\\n",
    "\\end{array} \\right) \\ \\ \\ \\ \\ \\ \\ \\ \\ \\ \\ \\ \\ \\ \\ \\ \\ \\ \\ \\ \\ \\ \\ \\ \\ \\ \\ \\ \\ \\ $\n",
    "b) $\\left(\\begin{array}{cccc}\n",
    "0 & 1 & 0 & 2 \\\\\n",
    "1 & 1 & 2 & 0 \\\\\n",
    "0 & 2 & 0 & 1 \\\\\n",
    "2 & 0 & 1 & 0 \\\\\n",
    "\\end{array} \\right)$"
   ]
  },
  {
   "cell_type": "markdown",
   "id": "03d63f73",
   "metadata": {},
   "source": [
    "#### Exercício 4"
   ]
  },
  {
   "cell_type": "markdown",
   "id": "ec44acd1",
   "metadata": {},
   "source": [
    "Apresenta a matriz de incidência de cada um dos grafos a seguir (Siga a ordem lexicográfica para a enumeração das arestas, isto é, $ab = e_{1}$, $ac = e_{2}$ etc):<br><br>\n",
    "<img src=\"fig4_8.jpg\" alt=\"jpg_python\" width=\"500\" height=\"\">"
   ]
  },
  {
   "cell_type": "markdown",
   "id": "d52ee48a",
   "metadata": {},
   "source": [
    "## <div style=\"margin-top: -20px;\">\n",
    "<hr style=\"border: 2px solid black;\">\n",
    "\n",
    "<font color='black'><span style=\"font-size: 18px;\"><strong>Respostas</strong></span></font>\n",
    "\n",
    "<hr style=\"border: 2px solid black;\">\n",
    "</div>"
   ]
  },
  {
   "cell_type": "markdown",
   "id": "a0d787c4",
   "metadata": {},
   "source": [
    "#### Respostas do Exercício 1"
   ]
  },
  {
   "cell_type": "markdown",
   "id": "5c3e066e",
   "metadata": {},
   "source": [
    "As listas de adjacência associadas aos grafos $F$, $G$ e $H$ são dadas a seguir:<br><br>\n",
    "$F_{l} = \\begin{array}{|c|c|} \\hline\n",
    "Vértice\t&  Vértices Adjacentes \\\\ \\hline\n",
    "a\t&  b,d,e \\\\ \\hline\n",
    "b\t&  a,c   \\\\ \\hline\n",
    "c\t&  b,e   \\\\ \\hline\n",
    "d\t&  a,e   \\\\ \\hline\n",
    "e\t&  a,c,d \\\\ \\hline\n",
    "\\end{array}, \\ \\\n",
    "G_{l} = \\begin{array}{|c|c|} \\hline\n",
    "Vértice\t&  Vértices Adjacentes \\\\ \\hline\n",
    "a\t&  b,d   \\\\ \\hline\n",
    "b\t&  a,b,c \\\\ \\hline\n",
    "c\t&  b,d   \\\\ \\hline\n",
    "d\t&  a,d,c \\\\ \\hline\n",
    "\\end{array}, \\ \\ \n",
    "H_{l} = \\begin{array}{|c|c|} \\hline\n",
    "Vértice Inicial\t&  Vértices Finais \\\\ \\hline\n",
    "a\t&  b,d,e \\\\ \\hline\n",
    "b\t&  b     \\\\ \\hline\n",
    "c\t&   -    \\\\ \\hline\n",
    "d\t&  a,c   \\\\ \\hline\n",
    "d\t&  d     \\\\ \\hline\n",
    "\\end{array}$"
   ]
  },
  {
   "cell_type": "markdown",
   "id": "ffb8f9ef",
   "metadata": {},
   "source": [
    "#### Respostas do Exercício 2"
   ]
  },
  {
   "cell_type": "markdown",
   "id": "2dd04fe4",
   "metadata": {},
   "source": [
    "As matrizes de adjacência dos grafos $G$ e $H$ são dadas a seguir:<br><br>\n",
    "a) $G = \\left(\\begin{array}{ccccc}\n",
    "1 & 1 & 0 & 1 & 1 \\\\\n",
    "1 & 0 & 1 & 0 & 0 \\\\\n",
    "0 & 1 & 0 & 0 & 1 \\\\\n",
    "1 & 0 & 0 & 0 & 1\\\\\n",
    "1 & 0 & 1 & 1 & 0\\\\\n",
    "\\end{array} \\right) \\ \\ \\ \\  \\Leftrightarrow \\ \\ \\ \\  \n",
    " \\begin{array}{c|cccc}\n",
    "  & a & b & c & d & e\\\\\n",
    "  \\hline\n",
    "a & 1 & 1 & 0 & 1 & 1 \\\\\n",
    "b & 1 & 0 & 1 & 0 & 0 \\\\\n",
    "c & 0 & 1 & 0 & 0 & 1 \\\\\n",
    "d & 1 & 0 & 0 & 0 & 1\\\\\n",
    "e & 1 & 0 & 1 & 1 & 0\\\\\n",
    "\\end{array}$\n",
    "\n",
    "b) $H = \\left(\\begin{array}{cccc}\n",
    "0 & 1 & 1 & 1 \\\\\n",
    "1 & 1 & 1 & 0 \\\\\n",
    "1 & 1 & 0 & 2 \\\\\n",
    "1 & 0 & 2 & 0 \\\\\n",
    "\\end{array} \\right) \\ \\ \\ \\ \\Leftrightarrow \\ \\ \\ \\ \\begin{array}{c|cccc}\n",
    "  & a & b & c & d\\\\\n",
    "  \\hline\n",
    "a & 0 & 1 & 1 & 1 \\\\\n",
    "b & 1 & 1 & 1 & 0 \\\\\n",
    "c & 1 & 1 & 0 & 2 \\\\\n",
    "d & 1 & 0 & 2 & 0 \\\\\n",
    "\\end{array}$\n"
   ]
  },
  {
   "cell_type": "markdown",
   "id": "7c37ce87",
   "metadata": {},
   "source": [
    "#### Respostas do Exercício 3"
   ]
  },
  {
   "cell_type": "markdown",
   "id": "24ae9fbf",
   "metadata": {},
   "source": [
    "<img src=\"fig4_10.jpg\" alt=\"jpg_python\" width=\"450\" height=\"\">"
   ]
  },
  {
   "cell_type": "markdown",
   "id": "df5cc66a",
   "metadata": {},
   "source": [
    "#### Respostas do Exercício 4"
   ]
  },
  {
   "cell_type": "markdown",
   "id": "5005e2cb",
   "metadata": {},
   "source": [
    " a) Considerando a escolha das arestas em ordem lexicográfica, temos: $ab = e_{1}$, $ad = e_{2}$, $bc = e_{3}$, $cd = e_{4}$, $ce = e_{5}$ e $de = e_{6}$, donde segue:<br>\n",
    "$\\left(\\begin{array}{cccccc}\n",
    "1 & 1 & 0 & 0 & 0 & 0 \\\\\n",
    "1 & 0 & 1 & 0 & 0 & 0 \\\\\n",
    "0 & 0 & 1 & 1 & 1 & 0 \\\\\n",
    "0 & 1 & 0 & 1 & 0 & 1 \\\\\n",
    "0 & 0 & 0 & 0 & 1 & 1 \\\\\n",
    "\\end{array} \\right) \\ \\ \\ \\ \\Leftrightarrow \\ \\ \\ \\ \n",
    "\\begin{array}{c|ccccc}\n",
    "  & e_{1} & e_{2} & e_{3} & e_{4} & e_{5} & e_{6}   \\\\\n",
    "  \\hline\n",
    "a & 1 & 1 & 0 & 0 & 0 & 0 \\\\\n",
    "b & 1 & 0 & 1 & 0 & 0 & 0 \\\\\n",
    "c & 0 & 0 & 1 & 1 & 1 & 0 \\\\\n",
    "d & 0 & 1 & 0 & 1 & 0 & 1 \\\\\n",
    "e & 0 & 0 & 0 & 0 & 1 & 1 \\\\\n",
    "\\end{array}$\n",
    "\n",
    "b) Considerando a escolha das arestas em ordem lexicográfica, temos: $ab = e_{1}$, $ad_{1} = e_{2}$, $ad_{2} = e_{3}$, $bb = e_{4}$, $bc_{1} = e_{5}$, $bc_{2} = e_{6}$, $cd = e_{7}$, donde segue:<br>\n",
    "$\\left(\\begin{array}{ccccccc}\n",
    "1 & 1 & 1 & 0 & 0 & 0 & 0 \\\\\n",
    "1 & 0 & 0 & 1 & 1 & 1 & 0 \\\\\n",
    "0 & 0 & 0 & 0 & 1 & 1 & 1 \\\\\n",
    "0 & 1 & 1 & 0 & 0 & 0 & 1 \\\\\n",
    "\\end{array} \\right) \\ \\ \\ \\ \\Leftrightarrow \\ \\ \\ \\ \n",
    "\\begin{array}{c|cccccc}\n",
    " & e_{1} & e_{2} & e_{3} & e_{4} & e_{5} & e_{6} & e_{7}\\\\ \n",
    " \\hline\n",
    "a & 1 & 1 & 1 & 0 & 0 & 0 & 0 \\\\\n",
    "b & 1 & 0 & 0 & 1 & 1 & 1 & 0 \\\\\n",
    "c & 0 & 0 & 0 & 0 & 1 & 1 & 1 \\\\\n",
    "d & 0 & 1 & 1 & 0 & 0 & 0 & 1 \\\\\n",
    "\\end{array}$\n"
   ]
  },
  {
   "cell_type": "markdown",
   "id": "77040c68",
   "metadata": {},
   "source": [
    "# <div style=\"margin-top: -20px;\">\n",
    "<hr style=\"border: 2px solid black;\">\n",
    "\n",
    "<font color='black'><span style=\"font-size: 22px;\"><strong>4.4 Vídeo Aulas</strong></span></font>\n",
    "\n",
    "<hr style=\"border: 2px solid black;\">\n",
    "</div>"
   ]
  },
  {
   "cell_type": "markdown",
   "id": "a22169bb",
   "metadata": {},
   "source": [
    "Clicando nos links a seguir você será redirecionado às aulas referentes a este capítulo.\n",
    "\n",
    "[Representação de Um Grafo Por Lista de Adjacências](https://youtu.be/n-iQWEcvNuU)\n",
    "\n",
    "[Matrizes de Adjacência](https://youtu.be/l6I3vw6njxY)\n",
    "\n",
    "[Matrizes de Incidência](https://youtu.be/aL_dbEFotPQ)"
   ]
  },
  {
   "cell_type": "markdown",
   "id": "72581701",
   "metadata": {},
   "source": [
    "# <div style=\"margin-top: -20px;\">\n",
    "<hr style=\"border: 2px solid black;\">\n",
    "\n",
    "<font color='black'><span style=\"font-size: 22px;\"><strong>4.5 No Computador (Experimental)</strong></span></font>\n",
    "\n",
    "<hr style=\"border: 2px solid black;\">\n",
    "</div>"
   ]
  },
  {
   "cell_type": "markdown",
   "id": "cbf471e2",
   "metadata": {},
   "source": [
    "Os progrmas a seguir consideram somente grafos simples não orientados. Contudo, pequenas modificações podem ser feitas para grafos orientados."
   ]
  },
  {
   "cell_type": "markdown",
   "id": "3b81a30f",
   "metadata": {},
   "source": [
    "Os exemplos a seguir utilizam o grafo dado no **Exemplo 1** com chaves repassadas para $1$, $2$, $3$, $4$ e $5$ no lugar de $a$, $b$, $c$, $d$ e $e$. Por padrão, é comum que as chaves sejam valores inteiros, como $1$, $2$, $3$, etc., pois isso permite uma conversão mais direta e eficiente para manipulação dos dados. No entanto, para tornar o código mais legível e facilitar a interpretação dos resultados, é recomendável utilizar uma legenda separada para cada chave, associando-a a um número ou a um significado específico. Por exemplo, no contexto de uma representação de cidades, como Guanambi, Jequié, Vitória da Conquista, etc., é possível converter esses nomes em valores inteiros, como $1$, $2$, $3$, e assim por diante, para obter códigos mais curtos e facilitar o processamento dos dados. A utilização de legendas é comumente empregada em grafos que possuem rótulos de vértices significativos, como cidades, pessoas, objetos, entre outros, visando manter a eficiência da representação e, ao mesmo tempo, proporcionar uma compreensão mais clara do significado dos vértices. Ao adotar essa abordagem, torna-se possível realizar análises e manipulações do grafo de forma mais intuitiva e amigável ao usuário.<br><br>\n",
    "\n",
    "<center> <img src=\"fig4_1.jpg\" alt=\"jpg_python\" width=\"170\" height=\"\"> </center>\n",
    "\n",
    "Ademais, para os dados lidos, estipula-se que o primeiro dado será associado à chave de valor 1, o segundo à chave de valor 2, o terceiro à chave de valor 3, e assim sucessivamente. Levando em consideração o grafo apresentado no Exemplo 1, cuja matriz de adjacência é: <br><br>\n",
    "$$\\begin{array}{|c|c|} \\hline\n",
    "Vértice & Vértices \\, Adjacentes \\\\ \\hline\n",
    "a & b, d \\\\ \\hline\n",
    "b & a, c \\\\ \\hline\n",
    "c & b, d, e \\\\ \\hline\n",
    "d & a, c, e \\\\ \\hline\n",
    "e & c, d \\\\ \\hline\n",
    "\\end{array} \\ \\ \\ \\ \\ \\Leftrightarrow \\ \\ \\ \\ \\ \n",
    "\\begin{array}{|c|c|} \\hline\n",
    "Vértice & Vértices \\, Adjacentes \\\\ \\hline\n",
    "1 & 2, 4 \\\\ \\hline\n",
    "2 & 1, 3 \\\\ \\hline\n",
    "3 & 2, 4, 5 \\\\ \\hline\n",
    "4 & 1, 3, 5 \\\\ \\hline\n",
    "5 & 3, 4 \\\\ \\hline\n",
    "\\end{array}\n",
    "$$<br>\n",
    "Observamos que o vértice $d$ será lido antes do vértice $c$. Desta forma, na ordem estabelecida, $d$ será associado à chave $3$ e $c$ à chave $4$ para fins computacionais. Nos códigos a seguir, \"corrigimos\" essa discrepância ao custo de uma certa perda de eficiência. Porém, em contrapartida, ganhamos em compreensibilidade. Em termos simples, quando um algoritmo está lendo dados para criar um grafo, um vértice é gerado (ou, mais precisamente, é adicionado ao grafo) assim que ele é lido. Isso é verdade para a maioria dos algoritmos que criam grafos a partir de dados, embora existam exceções dependendo do algoritmo específico e do formato dos dados."
   ]
  },
  {
   "cell_type": "markdown",
   "id": "64319c1a",
   "metadata": {},
   "source": [
    "<font color='red'> Os códigos a seguir necessitam que certos arquivos (a serem chamados) estejam na pasta deste arquivo principal. <u>Se executados na ordem, os códigos a seguir geram todos os arquivos a serem usados</u>. Caso necessite em usar renomeie os arquivos de entrada (e, caso queira os de saída ao seu gosto)."
   ]
  },
  {
   "cell_type": "markdown",
   "id": "655a6cde",
   "metadata": {},
   "source": [
    "## <div style=\"margin-top: -20px;\">\n",
    "<hr style=\"border: 2px solid black;\">\n",
    "\n",
    "<font color='black'><span style=\"font-size:18px;\"><strong>4.5.1 Convertendo listas de adjacência em outros tipos</strong></span></font>\n",
    "\n",
    "<hr style=\"border: 2px solid black;\">\n",
    "</div>"
   ]
  },
  {
   "cell_type": "markdown",
   "id": "d7faa6f8",
   "metadata": {
    "heading_collapsed": true
   },
   "source": [
    "#### Gerando uma lista de adjacência em formato TXT"
   ]
  },
  {
   "cell_type": "markdown",
   "id": "00c22dce",
   "metadata": {
    "hidden": true
   },
   "source": [
    "Após rodar o código a seguir vá até o diretório principal (deste aquivo) e abra o arquivo criado **lista_adj4_1.txt**. Faça o mesmo para todos os outros arquivos criados nos códigos a seguir."
   ]
  },
  {
   "cell_type": "code",
   "execution_count": 1,
   "id": "4e715bb6",
   "metadata": {
    "ExecuteTime": {
     "end_time": "2023-07-30T18:44:10.128372Z",
     "start_time": "2023-07-30T18:44:10.114411Z"
    },
    "hidden": true
   },
   "outputs": [],
   "source": [
    "adjacency_list = {\n",
    "    '1': ['2', '4'],\n",
    "    '2': ['1', '3'],\n",
    "    '3': ['2', '4', '5'],\n",
    "    '4': ['1', '3', '5'],\n",
    "    '5': ['3', '4']\n",
    "}\n",
    "\n",
    "file_name = 'lista_adj4_1.txt' # Arquivo de saída\n",
    "\n",
    "with open(file_name, 'w') as file:\n",
    "    for key, values in adjacency_list.items():\n",
    "        values_str = ', '.join(values)\n",
    "        line = f\"{key}: {values_str}\\n\"\n",
    "        file.write(line)"
   ]
  },
  {
   "cell_type": "markdown",
   "id": "0a200845",
   "metadata": {
    "heading_collapsed": true
   },
   "source": [
    "#### Gerando dados CSV em um TXT"
   ]
  },
  {
   "cell_type": "code",
   "execution_count": 2,
   "id": "e0261aa0",
   "metadata": {
    "ExecuteTime": {
     "end_time": "2023-07-30T18:44:10.168293Z",
     "start_time": "2023-07-30T18:44:10.130367Z"
    },
    "hidden": true
   },
   "outputs": [],
   "source": [
    "import csv\n",
    "\n",
    "# Exemplo de lista de adjacência\n",
    "adjacency_list = {\n",
    "    '1': ['2', '4'],\n",
    "    '2': ['1', '3'],\n",
    "    '3': ['2', '4', '5'],\n",
    "    '4': ['1', '3', '5'],\n",
    "    '5': ['3', '4']\n",
    "}\n",
    "\n",
    "# Nome do arquivo CSV para as arestas\n",
    "file_name_csv = \"dados_csv4_1.txt\" # Arquivo de saída\n",
    "\n",
    "# Função para obter as arestas únicas do grafo em ordem lexicográfica\n",
    "def get_unique_edges(adj_list):\n",
    "    edges = set()\n",
    "    for vertex, neighbors in adj_list.items():\n",
    "        for neighbor in neighbors:\n",
    "            if vertex < neighbor:\n",
    "                edges.add((vertex, neighbor))\n",
    "            else:\n",
    "                edges.add((neighbor, vertex))\n",
    "    return sorted(edges)\n",
    "\n",
    "# Obter as arestas únicas do grafo em ordem lexicográfica\n",
    "edges = get_unique_edges(adjacency_list)\n",
    "\n",
    "# Escrever as arestas no arquivo CSV\n",
    "with open(file_name_csv, 'w', newline='') as file:\n",
    "    writer = csv.writer(file)\n",
    "    for vertex1, vertex2 in edges:\n",
    "        writer.writerow([vertex1, vertex2])\n"
   ]
  },
  {
   "cell_type": "markdown",
   "id": "cedcf1d1",
   "metadata": {
    "heading_collapsed": true
   },
   "source": [
    "#### Conversão de uma lista de adjacência para matriz de adjacência"
   ]
  },
  {
   "cell_type": "code",
   "execution_count": 3,
   "id": "719c896f",
   "metadata": {
    "ExecuteTime": {
     "end_time": "2023-07-30T18:44:10.178262Z",
     "start_time": "2023-07-30T18:44:10.170261Z"
    },
    "hidden": true
   },
   "outputs": [
    {
     "name": "stdout",
     "output_type": "stream",
     "text": [
      "[0, 1, 0, 1, 0]\n",
      "[1, 0, 1, 0, 0]\n",
      "[0, 1, 0, 1, 1]\n",
      "[1, 0, 1, 0, 1]\n",
      "[0, 0, 1, 1, 0]\n"
     ]
    }
   ],
   "source": [
    "def convert_adjacency_list_to_adjacency_matrix(adj_list):\n",
    "    vertices = sorted(adj_list.keys())  # Ordena os vértices em ordem alfabética\n",
    "    num_vertices = len(vertices)\n",
    "    \n",
    "    # Cria uma matriz de adjacência preenchida com zeros\n",
    "    adjacency_matrix = [[0 for _ in range(num_vertices)] for _ in range(num_vertices)]\n",
    "    \n",
    "    # Preenche a matriz de adjacência com as conexões dos vértices\n",
    "    for i, vertex in enumerate(vertices):\n",
    "        for neighbor in adj_list[vertex]:\n",
    "            j = vertices.index(neighbor)\n",
    "            adjacency_matrix[i][j] = 1\n",
    "\n",
    "    return adjacency_matrix\n",
    "\n",
    "# Exemplo de lista de adjacência\n",
    "adjacency_list = {\n",
    "    '1': ['2', '4'],\n",
    "    '2': ['1', '3'],\n",
    "    '3': ['2', '4', '5'],\n",
    "    '4': ['1', '3', '5'],\n",
    "    '5': ['3', '4']\n",
    "}\n",
    "\n",
    "# Convertendo para matriz de adjacência\n",
    "adjacency_matrix = convert_adjacency_list_to_adjacency_matrix(adjacency_list)\n",
    "\n",
    "# Imprimindo a matriz de adjacência\n",
    "for row in adjacency_matrix:\n",
    "    print(row)"
   ]
  },
  {
   "cell_type": "markdown",
   "id": "4b92abe7",
   "metadata": {
    "heading_collapsed": true
   },
   "source": [
    "#### Conversão lista de adjacência para matriz de incidência"
   ]
  },
  {
   "cell_type": "code",
   "execution_count": 4,
   "id": "5ba9054c",
   "metadata": {
    "ExecuteTime": {
     "end_time": "2023-07-30T18:44:10.189234Z",
     "start_time": "2023-07-30T18:44:10.180234Z"
    },
    "hidden": true
   },
   "outputs": [
    {
     "name": "stdout",
     "output_type": "stream",
     "text": [
      "[1, 1, 0, 0, 0, 0]\n",
      "[1, 0, 1, 0, 0, 0]\n",
      "[0, 0, 1, 1, 1, 0]\n",
      "[0, 1, 0, 1, 0, 1]\n",
      "[0, 0, 0, 0, 1, 1]\n"
     ]
    }
   ],
   "source": [
    "def convert_adjacency_list_to_incidence_matrix(adj_list):\n",
    "    vertices = sorted(adj_list.keys())\n",
    "    num_vertices = len(vertices)\n",
    "    num_edges = sum(len(neighbors) for neighbors in adj_list.values()) // 2\n",
    "\n",
    "    # Cria uma matriz de incidência preenchida com zeros\n",
    "    incidence_matrix = [[0 for _ in range(num_edges)] for _ in range(num_vertices)]\n",
    "\n",
    "    edge_index = 0\n",
    "    for vertex, neighbors in adj_list.items():\n",
    "        for neighbor in neighbors:\n",
    "            if vertex < neighbor:\n",
    "                incidence_matrix[vertices.index(vertex)][edge_index] = 1\n",
    "                incidence_matrix[vertices.index(neighbor)][edge_index] = 1\n",
    "                edge_index += 1\n",
    "\n",
    "    return incidence_matrix\n",
    "\n",
    "# Exemplo de lista de adjacência\n",
    "adjacency_list = {\n",
    "    '1': ['2', '4'],\n",
    "    '2': ['1', '3'],\n",
    "    '3': ['2', '4', '5'],\n",
    "    '4': ['1', '3', '5'],\n",
    "    '5': ['3', '4']\n",
    "}\n",
    "\n",
    "# Convertendo para matriz de incidência\n",
    "incidence_matrix = convert_adjacency_list_to_incidence_matrix(adjacency_list)\n",
    "\n",
    "# Imprimindo a matriz de incidência\n",
    "for row in incidence_matrix:\n",
    "    print(row)"
   ]
  },
  {
   "cell_type": "markdown",
   "id": "14d28ef5",
   "metadata": {
    "hidden": true
   },
   "source": [
    "Na saída acima as arestas foram ordenadas lexicograficamente da seguinte maneira:\n",
    "\n",
    "- e_1 = 12 (vértices 1 e 2 conectados)\n",
    "- e_2 = 14 (vértices 1 e 4 conectados)\n",
    "- e_3 = 23 (vértices 2 e 3 conectados)\n",
    "- e_4 = 34 (vértices 3 e 4 conectados)\n",
    "- e_5 = 35 (vértices 3 e 5 conectados)\n",
    "- e_6 = 45 (vértices 4 e 5 conectados)\n",
    "\n",
    "Em particular, note que $e_{1}$ vem antes de $e_{2}$ e $12 < 14$, $e_{3}$ vem antes de $e_{5}$ e $23<35$,..."
   ]
  },
  {
   "cell_type": "markdown",
   "id": "908bf92b",
   "metadata": {
    "heading_collapsed": true
   },
   "source": [
    "#### Conversão de lista de adjacência em TXT para matriz de adjacência em TXT"
   ]
  },
  {
   "cell_type": "code",
   "execution_count": 5,
   "id": "440c64cd",
   "metadata": {
    "ExecuteTime": {
     "end_time": "2023-07-30T18:44:10.202200Z",
     "start_time": "2023-07-30T18:44:10.191205Z"
    },
    "hidden": true
   },
   "outputs": [],
   "source": [
    "def convert_adjacency_list_to_matrix(adj_list):\n",
    "    vertices = sorted(adj_list.keys())  # Ordena os vértices em ordem alfabética\n",
    "    num_vertices = len(vertices)\n",
    "    \n",
    "    # Cria uma matriz de adjacência preenchida com zeros\n",
    "    adjacency_matrix = [[0 for _ in range(num_vertices)] for _ in range(num_vertices)]\n",
    "    \n",
    "    # Preenche a matriz de adjacência com as conexões dos vértices\n",
    "    for i, vertex in enumerate(vertices):\n",
    "        for neighbor in adj_list[vertex]:\n",
    "            j = vertices.index(neighbor.strip())  # Remove os espaços em branco extras\n",
    "            adjacency_matrix[i][j] = 1\n",
    "\n",
    "    return adjacency_matrix\n",
    "\n",
    "# Nome do arquivo de texto com a lista de adjacência\n",
    "file_name_adj_list = \"lista_adj4_1.txt\" # Arquivo de entrada\n",
    "\n",
    "# Carregar a lista de adjacência a partir do arquivo de texto\n",
    "adjacency_list = {}\n",
    "with open(file_name_adj_list, 'r') as file:\n",
    "    for line in file:\n",
    "        vertex, neighbors = line.strip().split(\": \")\n",
    "        neighbors = neighbors.split(\",\")\n",
    "        adjacency_list[vertex] = [neighbor.strip() for neighbor in neighbors]  # Remove os espaços em branco extras\n",
    "\n",
    "# Convertendo a lista de adjacência para matriz de adjacência\n",
    "adjacency_matrix = convert_adjacency_list_to_matrix(adjacency_list)\n",
    "\n",
    "# Nome do arquivo de texto para a matriz de adjacência\n",
    "file_name_adj_matrix = \"matriz_adj4_1.txt\" # Arquivo de saída\n",
    "\n",
    "# Escrever a matriz de adjacência no arquivo de texto\n",
    "with open(file_name_adj_matrix, 'w') as file:\n",
    "    for row in adjacency_matrix:\n",
    "        row_str = ' '.join(map(str, row))\n",
    "        file.write(f\"{row_str}\\n\")\n"
   ]
  },
  {
   "cell_type": "markdown",
   "id": "60a70a4a",
   "metadata": {
    "ExecuteTime": {
     "end_time": "2023-07-23T23:52:17.676463Z",
     "start_time": "2023-07-23T23:52:17.671454Z"
    },
    "heading_collapsed": true
   },
   "source": [
    "#### Conversão de lista de adjacência em TXT para matriz de incidência TXT"
   ]
  },
  {
   "cell_type": "code",
   "execution_count": 6,
   "id": "91d8f5d6",
   "metadata": {
    "ExecuteTime": {
     "end_time": "2023-07-30T18:44:10.216162Z",
     "start_time": "2023-07-30T18:44:10.204197Z"
    },
    "hidden": true
   },
   "outputs": [],
   "source": [
    "# Função para converter a lista de adjacência em matriz de incidência\n",
    "def convert_adjacency_list_to_incidence_matrix(adj_list):\n",
    "    vertices = sorted(adj_list.keys())  # Ordena os vértices em ordem alfabética\n",
    "    num_vertices = len(vertices)\n",
    "    num_edges = sum(len(neighbors) for neighbors in adj_list.values()) // 2  # Conta o número de arestas (dividido por 2, pois é um grafo não orientado)\n",
    "\n",
    "    # Cria uma matriz de incidência preenchida com zeros\n",
    "    incidence_matrix = [[0 for _ in range(num_edges)] for _ in range(num_vertices)]\n",
    "    \n",
    "    # Preenche a matriz de incidência com as arestas dos vértices\n",
    "    edge_index = 0\n",
    "    for i, vertex in enumerate(vertices):\n",
    "        for neighbor in adj_list[vertex]:\n",
    "            j = vertices.index(neighbor.strip()) # Remove os espaços em branco extras\n",
    "            if i < j:  # Para evitar repetição de arestas na matriz de incidência, verificamos se i < j\n",
    "                incidence_matrix[i][edge_index] = 1\n",
    "                incidence_matrix[j][edge_index] = 1\n",
    "                edge_index += 1\n",
    "\n",
    "    return incidence_matrix\n",
    "\n",
    "# Nome do arquivo de texto com a lista de adjacência\n",
    "file_name_adj_list = \"lista_adj4_1.txt\" # Arquivo de entrada\n",
    "\n",
    "# Carregar a lista de adjacência a partir do arquivo de texto\n",
    "adjacency_list = {}\n",
    "with open(file_name_adj_list, 'r') as file:\n",
    "    for line in file:\n",
    "        vertex, neighbors = line.strip().split(\": \")\n",
    "        neighbors = neighbors.split(\",\")\n",
    "        adjacency_list[vertex] = neighbors\n",
    "\n",
    "# Convertendo a lista de adjacência para matriz de incidência\n",
    "incidence_matrix = convert_adjacency_list_to_incidence_matrix(adjacency_list)\n",
    "\n",
    "# Nome do arquivo de texto para a matriz de incidência\n",
    "file_name_inc_matrix = \"matriz_inc4_1.txt\" # Arquivo de saída\n",
    "\n",
    "# Escrever a matriz de incidência no arquivo de texto\n",
    "with open(file_name_inc_matrix, 'w') as file:\n",
    "    for row in incidence_matrix:\n",
    "        row_str = ' '.join(map(str, row))\n",
    "        file.write(f\"{row_str}\\n\")\n"
   ]
  },
  {
   "cell_type": "markdown",
   "id": "a949d80c",
   "metadata": {
    "heading_collapsed": true
   },
   "source": [
    "#### Conversão de lista de adjacência em TXT para dados CSV $(v_{i},v_{j})$"
   ]
  },
  {
   "cell_type": "code",
   "execution_count": 7,
   "id": "9ec5350c",
   "metadata": {
    "ExecuteTime": {
     "end_time": "2023-07-30T18:44:10.236108Z",
     "start_time": "2023-07-30T18:44:10.218133Z"
    },
    "hidden": true
   },
   "outputs": [],
   "source": [
    "import csv\n",
    "\n",
    "def convert_adjacency_list_to_matrix(adj_list):\n",
    "    vertices = sorted(adj_list.keys())  \n",
    "    num_vertices = len(vertices)\n",
    "    \n",
    "    adjacency_matrix = [[0 for _ in range(num_vertices)] for _ in range(num_vertices)]\n",
    "    \n",
    "    for i, vertex in enumerate(vertices):\n",
    "        for neighbor in adj_list[vertex]:\n",
    "            j = vertices.index(neighbor.strip()) # Remove os espaços em branco extras\n",
    "            adjacency_matrix[i][j] = 1\n",
    "\n",
    "    return adjacency_matrix\n",
    "\n",
    "file_name_adj_list = \"lista_adj4_1.txt\"\n",
    "\n",
    "adjacency_list = {}\n",
    "with open(file_name_adj_list, 'r') as file:\n",
    "    for line in file:\n",
    "        vertex, neighbors = line.strip().split(\": \")\n",
    "        neighbors = neighbors.split(\",\")\n",
    "        adjacency_list[vertex] = [neighbor.strip() for neighbor in neighbors] # Remove os espaços em branco extras\n",
    "\n",
    "adjacency_matrix = convert_adjacency_list_to_matrix(adjacency_list)\n",
    "\n",
    "file_name_csv = \"dados_csv4_1.csv\"\n",
    "\n",
    "# Mantenha um conjunto de arestas já adicionadas\n",
    "added_edges = set()\n",
    "\n",
    "with open(file_name_csv, 'w', newline='') as file:\n",
    "    writer = csv.writer(file)\n",
    "    for vertex, neighbors in adjacency_list.items():\n",
    "        for neighbor in neighbors:\n",
    "            # Represente a aresta como um conjunto de vértices\n",
    "            edge = frozenset({vertex, neighbor})\n",
    "\n",
    "            # Se a aresta não foi adicionada antes, adicione-a ao arquivo\n",
    "            if edge not in added_edges:\n",
    "                writer.writerow([vertex, neighbor])\n",
    "                added_edges.add(edge)\n"
   ]
  },
  {
   "cell_type": "markdown",
   "id": "5a048545",
   "metadata": {
    "heading_collapsed": true
   },
   "source": [
    "## <div style=\"margin-top: -20px;\">\n",
    "<hr style=\"border: 2px solid black;\">\n",
    "\n",
    "<font color='black'><span style=\"font-size:18px;\"><strong>4.5.2 Convertendo matrizes de adjacência em outros tipos</strong></span></font>\n",
    "\n",
    "<hr style=\"border: 2px solid black;\">\n",
    "</div>"
   ]
  },
  {
   "cell_type": "markdown",
   "id": "4ecb8d24",
   "metadata": {
    "heading_collapsed": true,
    "hidden": true
   },
   "source": [
    "#### Gerando uma matriz de adjacência em formato TXT"
   ]
  },
  {
   "cell_type": "code",
   "execution_count": 8,
   "id": "6ddb6339",
   "metadata": {
    "ExecuteTime": {
     "end_time": "2023-07-30T18:44:10.250047Z",
     "start_time": "2023-07-30T18:44:10.238092Z"
    },
    "hidden": true
   },
   "outputs": [],
   "source": [
    "# Matriz de adjacência de exemplo\n",
    "adjacency_matrix = [\n",
    "    [0, 1, 0, 1, 0],\n",
    "    [1, 0, 1, 0, 0],\n",
    "    [0, 1, 0, 1, 1],\n",
    "    [1, 0, 1, 0, 1],\n",
    "    [0, 0, 1, 1, 0]\n",
    "]\n",
    "\n",
    "# Nome do arquivo de texto para a saída da matriz de adjacência\n",
    "file_name_output = \"matriz_adj4_2.txt\"\n",
    "\n",
    "# Escrever a matriz de adjacência em um novo arquivo de texto\n",
    "with open(file_name_output, 'w') as file:\n",
    "    for row in adjacency_matrix:\n",
    "        row_str = ' '.join(map(str, row))\n",
    "        file.write(f\"{row_str}\\n\")"
   ]
  },
  {
   "cell_type": "markdown",
   "id": "590aa54a",
   "metadata": {
    "heading_collapsed": true,
    "hidden": true
   },
   "source": [
    "#### Convertendo uma matriz de adjacência em uma lista de adjacência"
   ]
  },
  {
   "cell_type": "code",
   "execution_count": 9,
   "id": "8eb4f884",
   "metadata": {
    "ExecuteTime": {
     "end_time": "2023-07-30T18:44:10.260020Z",
     "start_time": "2023-07-30T18:44:10.252042Z"
    },
    "hidden": true
   },
   "outputs": [
    {
     "name": "stdout",
     "output_type": "stream",
     "text": [
      "1: ['2', '4']\n",
      "2: ['1', '3']\n",
      "3: ['2', '4', '5']\n",
      "4: ['1', '3', '5']\n",
      "5: ['3', '4']\n"
     ]
    }
   ],
   "source": [
    "def convert_adjacency_matrix_to_adjacency_list(adjacency_matrix):\n",
    "    adjacency_list = {}\n",
    "\n",
    "    num_vertices = len(adjacency_matrix)\n",
    "\n",
    "    for i in range(num_vertices):\n",
    "        neighbors = []\n",
    "        for j in range(num_vertices):\n",
    "            if adjacency_matrix[i][j] == 1:\n",
    "                neighbors.append(str(j + 1))  # Adiciona o vértice j+1 à lista de vizinhos\n",
    "        vertex = str(i + 1)  # O vértice atual é o i+1\n",
    "        adjacency_list[vertex] = neighbors\n",
    "\n",
    "    return adjacency_list\n",
    "\n",
    "# Matriz de adjacência de exemplo\n",
    "adjacency_matrix = [\n",
    "    [0, 1, 0, 1, 0],\n",
    "    [1, 0, 1, 0, 0],\n",
    "    [0, 1, 0, 1, 1],\n",
    "    [1, 0, 1, 0, 1],\n",
    "    [0, 0, 1, 1, 0]\n",
    "]\n",
    "\n",
    "# Convertendo a matriz de adjacência para lista de adjacência\n",
    "adjacency_list = convert_adjacency_matrix_to_adjacency_list(adjacency_matrix)\n",
    "\n",
    "# Imprimindo a lista de adjacência\n",
    "for vertex, neighbors in adjacency_list.items():\n",
    "    print(f\"{vertex}: {neighbors}\")\n"
   ]
  },
  {
   "cell_type": "markdown",
   "id": "ec97e350",
   "metadata": {
    "heading_collapsed": true,
    "hidden": true
   },
   "source": [
    "#### Convertendo uma matriz de adjacência em uma matriz de incidência"
   ]
  },
  {
   "cell_type": "code",
   "execution_count": 10,
   "id": "701694aa",
   "metadata": {
    "ExecuteTime": {
     "end_time": "2023-07-30T18:44:10.273987Z",
     "start_time": "2023-07-30T18:44:10.264011Z"
    },
    "hidden": true
   },
   "outputs": [
    {
     "name": "stdout",
     "output_type": "stream",
     "text": [
      "[1, 1, 0, 0, 0, 0]\n",
      "[1, 0, 1, 0, 0, 0]\n",
      "[0, 0, 1, 1, 1, 0]\n",
      "[0, 1, 0, 1, 0, 1]\n",
      "[0, 0, 0, 0, 1, 1]\n"
     ]
    }
   ],
   "source": [
    "def convert_adjacency_matrix_to_incidence_matrix(adjacency_matrix):\n",
    "    num_vertices = len(adjacency_matrix)\n",
    "    num_edges = sum(sum(row) for row in adjacency_matrix) // 2\n",
    "\n",
    "    incidence_matrix = [[0 for _ in range(num_edges)] for _ in range(num_vertices)]\n",
    "\n",
    "    edge_index = 0\n",
    "    for i in range(num_vertices):\n",
    "        for j in range(i + 1, num_vertices):\n",
    "            if adjacency_matrix[i][j] == 1:\n",
    "                incidence_matrix[i][edge_index] = 1\n",
    "                incidence_matrix[j][edge_index] = 1\n",
    "                edge_index += 1\n",
    "\n",
    "    return incidence_matrix\n",
    "\n",
    "# Matriz de adjacência de exemplo\n",
    "adjacency_matrix = [\n",
    "    [0, 1, 0, 1, 0],\n",
    "    [1, 0, 1, 0, 0],\n",
    "    [0, 1, 0, 1, 1],\n",
    "    [1, 0, 1, 0, 1],\n",
    "    [0, 0, 1, 1, 0]\n",
    "]\n",
    "\n",
    "# Convertendo a matriz de adjacência para matriz de incidência\n",
    "incidence_matrix = convert_adjacency_matrix_to_incidence_matrix(adjacency_matrix)\n",
    "\n",
    "# Imprimindo a matriz de incidência\n",
    "for row in incidence_matrix:\n",
    "    print(row)\n"
   ]
  },
  {
   "cell_type": "markdown",
   "id": "50a6b90b",
   "metadata": {
    "heading_collapsed": true,
    "hidden": true
   },
   "source": [
    "#### Convertendo uma matriz de adjacência em formato TXT para uma lista de adjacência em TXT"
   ]
  },
  {
   "cell_type": "code",
   "execution_count": 11,
   "id": "fa0ac914",
   "metadata": {
    "ExecuteTime": {
     "end_time": "2023-07-30T18:44:10.287946Z",
     "start_time": "2023-07-30T18:44:10.276976Z"
    },
    "hidden": true
   },
   "outputs": [],
   "source": [
    "# Nome do arquivo de texto com a matriz de adjacência\n",
    "file_name_txt = \"matriz_adj4_1.txt\"\n",
    "\n",
    "# Lista para armazenar a lista de adjacência\n",
    "adjacency_list = {}\n",
    "\n",
    "# Carregar a matriz de adjacência a partir do arquivo de texto e obter o tamanho da matriz\n",
    "matrix_size = 0\n",
    "with open(file_name_txt, 'r') as file:\n",
    "    for line in file:\n",
    "        row = [int(value) for value in line.strip().split()]\n",
    "        matrix_size = len(row)\n",
    "\n",
    "# Lista de vértices representados por números sequenciais (1, 2, 3, ...)\n",
    "vertices = [i for i in range(1, matrix_size + 1)]\n",
    "\n",
    "# Reiniciar a leitura do arquivo para carregar a matriz de adjacência e criar a lista de adjacência\n",
    "with open(file_name_txt, 'r') as file:\n",
    "    for i, line in enumerate(file):\n",
    "        row = [int(value) for value in line.strip().split()]\n",
    "        neighbors = [str(vertices[j]) for j, value in enumerate(row) if value == 1]\n",
    "        vertex = str(vertices[i])\n",
    "        adjacency_list[vertex] = neighbors\n",
    "\n",
    "# Nome do arquivo de texto para a lista de adjacência\n",
    "file_name_output = \"lista_adj4_2.txt\"\n",
    "\n",
    "# Escrever a lista de adjacência no arquivo de texto\n",
    "with open(file_name_output, 'w') as file:\n",
    "    for vertex, neighbors in adjacency_list.items():\n",
    "        neighbors_str = ', '.join(neighbors)\n",
    "        line = f\"{vertex}: {neighbors_str}\\n\"\n",
    "        file.write(line)\n",
    "\n"
   ]
  },
  {
   "cell_type": "markdown",
   "id": "86a64a6d",
   "metadata": {
    "heading_collapsed": true,
    "hidden": true
   },
   "source": [
    "#### Convertendo uma matriz de adjacência em formato TXT para uma matriz de incidência em TXT"
   ]
  },
  {
   "cell_type": "code",
   "execution_count": 12,
   "id": "022debef",
   "metadata": {
    "ExecuteTime": {
     "end_time": "2023-07-30T18:44:10.300911Z",
     "start_time": "2023-07-30T18:44:10.289940Z"
    },
    "hidden": true
   },
   "outputs": [],
   "source": [
    "# Função para converter uma matriz de adjacência em uma matriz de incidência\n",
    "def convert_adjacency_matrix_to_incidence_matrix(adjacency_matrix):\n",
    "    num_vertices = len(adjacency_matrix)\n",
    "    num_edges = sum(sum(row) for row in adjacency_matrix) // 2\n",
    "\n",
    "    incidence_matrix = [[0 for _ in range(num_edges)] for _ in range(num_vertices)]\n",
    "\n",
    "    edge_index = 0\n",
    "    for i in range(num_vertices):\n",
    "        for j in range(i + 1, num_vertices):\n",
    "            if adjacency_matrix[i][j] == 1:\n",
    "                incidence_matrix[i][edge_index] = 1\n",
    "                incidence_matrix[j][edge_index] = 1\n",
    "                edge_index += 1\n",
    "\n",
    "    return incidence_matrix\n",
    "\n",
    "# Nome do arquivo de texto com a matriz de adjacência\n",
    "file_name_adj_matrix_txt = \"matriz_adj4_1.txt\"\n",
    "\n",
    "# Carregar a matriz de adjacência a partir do arquivo de texto\n",
    "adjacency_matrix = []\n",
    "with open(file_name_adj_matrix_txt, 'r') as file:\n",
    "    for line in file:\n",
    "        row = [int(value) for value in line.strip().split()]\n",
    "        adjacency_matrix.append(row)\n",
    "\n",
    "# Convertendo a matriz de adjacência para matriz de incidência\n",
    "incidence_matrix = convert_adjacency_matrix_to_incidence_matrix(adjacency_matrix)\n",
    "\n",
    "# Nome do arquivo de texto para a matriz de incidência\n",
    "file_name_inc_matrix_txt = \"matriz_inc4_2.txt\"\n",
    "\n",
    "# Escrever a matriz de incidência no arquivo de texto\n",
    "with open(file_name_inc_matrix_txt, 'w') as file:\n",
    "    for row in incidence_matrix:\n",
    "        row_str = ' '.join(map(str, row))\n",
    "        file.write(f\"{row_str}\\n\")\n"
   ]
  },
  {
   "cell_type": "markdown",
   "id": "630f69da",
   "metadata": {
    "heading_collapsed": true,
    "hidden": true
   },
   "source": [
    "#### Convertendo uma matriz de adjacência em TXT para um arquivo CSV $(v_{i},v_{j})$"
   ]
  },
  {
   "cell_type": "code",
   "execution_count": 13,
   "id": "62fab1af",
   "metadata": {
    "ExecuteTime": {
     "end_time": "2023-07-30T18:44:10.311882Z",
     "start_time": "2023-07-30T18:44:10.301908Z"
    },
    "hidden": true
   },
   "outputs": [],
   "source": [
    "import csv\n",
    "\n",
    "# Nome do arquivo de texto com a matriz de adjacência\n",
    "file_name_txt = \"matriz_adj4_1.txt\"\n",
    "\n",
    "# Lista para armazenar a matriz de adjacência\n",
    "adjacency_matrix = []\n",
    "\n",
    "# Carregar a matriz de adjacência a partir do arquivo de texto\n",
    "with open(file_name_txt, 'r') as file:\n",
    "    for line in file:\n",
    "        row = [int(value) for value in line.strip().split()]\n",
    "        adjacency_matrix.append(row)\n",
    "\n",
    "# Nome do arquivo CSV para os pares de vértices\n",
    "file_name_csv = \"dados_csv4_2.csv\"\n",
    "\n",
    "# Escrever os pares de vértices no arquivo CSV\n",
    "with open(file_name_csv, 'w', newline='') as file:\n",
    "    writer = csv.writer(file)\n",
    "    num_vertices = len(adjacency_matrix)\n",
    "    for i in range(num_vertices):\n",
    "        for j in range(i + 1, num_vertices):\n",
    "            if adjacency_matrix[i][j] == 1:\n",
    "                writer.writerow([i + 1, j + 1])"
   ]
  },
  {
   "cell_type": "markdown",
   "id": "af778b0c",
   "metadata": {
    "heading_collapsed": true
   },
   "source": [
    "## <div style=\"margin-top: -20px;\">\n",
    "<hr style=\"border: 2px solid black;\">\n",
    "\n",
    "<font color='black'><span style=\"font-size:18px;\"><strong>4.5.3 Convertendo matrizes de incidência em outros tipos</strong></span></font>\n",
    "\n",
    "<hr style=\"border: 2px solid black;\">\n",
    "</div> "
   ]
  },
  {
   "cell_type": "markdown",
   "id": "8e614d52",
   "metadata": {
    "heading_collapsed": true,
    "hidden": true
   },
   "source": [
    "#### Gerando uma matrix de incidência em formato TXT"
   ]
  },
  {
   "cell_type": "code",
   "execution_count": 14,
   "id": "eea842fe",
   "metadata": {
    "ExecuteTime": {
     "end_time": "2023-07-30T18:44:10.323850Z",
     "start_time": "2023-07-30T18:44:10.313877Z"
    },
    "hidden": true
   },
   "outputs": [],
   "source": [
    "# Função para converter uma matriz de incidência em uma matriz de adjacência\n",
    "def convert_incidence_to_adjacency(incidence_matrix):\n",
    "    num_vertices = len(incidence_matrix)\n",
    "    num_edges = len(incidence_matrix[0])\n",
    "\n",
    "    adjacency_matrix = [[0 for _ in range(num_vertices)] for _ in range(num_vertices)]\n",
    "\n",
    "    for edge_index in range(num_edges):\n",
    "        connected_vertices = []\n",
    "        for vertex_index in range(num_vertices):\n",
    "            if incidence_matrix[vertex_index][edge_index] == 1:\n",
    "                connected_vertices.append(vertex_index)\n",
    "\n",
    "        if len(connected_vertices) == 2:\n",
    "            vertex1, vertex2 = connected_vertices\n",
    "            adjacency_matrix[vertex1][vertex2] = 1\n",
    "            adjacency_matrix[vertex2][vertex1] = 1\n",
    "\n",
    "    return adjacency_matrix\n",
    "\n",
    "# Matriz de incidência\n",
    "incidence_matrix = [\n",
    "    [1, 1, 0, 0, 0, 0],\n",
    "    [1, 0, 1, 0, 0, 0],\n",
    "    [0, 0, 1, 1, 1, 0],\n",
    "    [0, 1, 0, 1, 0, 1],\n",
    "    [0, 0, 0, 0, 1, 1]\n",
    "]\n",
    "\n",
    "\n",
    "# Salvar a matriz de adjacência em um arquivo de texto\n",
    "with open(\"matriz_inc4_3.txt\", \"w\") as file:\n",
    "    for row in incidence_matrix:\n",
    "        row_str = ' '.join(map(str, row))\n",
    "        file.write(f\"{row_str}\\n\")\n"
   ]
  },
  {
   "cell_type": "markdown",
   "id": "bb4a5215",
   "metadata": {
    "heading_collapsed": true,
    "hidden": true
   },
   "source": [
    "#### Convertendo uma matriz de incidência em uma lista de adjacência"
   ]
  },
  {
   "cell_type": "code",
   "execution_count": 15,
   "id": "69a38e91",
   "metadata": {
    "ExecuteTime": {
     "end_time": "2023-07-30T18:44:10.333824Z",
     "start_time": "2023-07-30T18:44:10.325844Z"
    },
    "hidden": true
   },
   "outputs": [
    {
     "name": "stdout",
     "output_type": "stream",
     "text": [
      "1: ['2', '4']\n",
      "2: ['1', '3']\n",
      "3: ['2', '4', '5']\n",
      "4: ['1', '3', '5']\n",
      "5: ['3', '4']\n"
     ]
    }
   ],
   "source": [
    "def convert_incidence_matrix_to_adjacency_list(incidence_matrix):\n",
    "    num_vertices = len(incidence_matrix)\n",
    "    num_edges = len(incidence_matrix[0])\n",
    "    adjacency_list = {str(i + 1): [] for i in range(num_vertices)}\n",
    "\n",
    "    for edge_index in range(num_edges):\n",
    "        neighbors = [str(i + 1) for i in range(num_vertices) if incidence_matrix[i][edge_index] == 1]\n",
    "        if len(neighbors) == 2:\n",
    "            adjacency_list[neighbors[0]].append(neighbors[1])\n",
    "            adjacency_list[neighbors[1]].append(neighbors[0])\n",
    "\n",
    "    return adjacency_list\n",
    "\n",
    "# Exemplo de matriz de incidência\n",
    "incidence_matrix = [\n",
    "    [1, 1, 0, 0, 0, 0],\n",
    "    [1, 0, 1, 0, 0, 0],\n",
    "    [0, 0, 1, 1, 1, 0],\n",
    "    [0, 1, 0, 1, 0, 1],\n",
    "    [0, 0, 0, 0, 1, 1]\n",
    "]\n",
    "\n",
    "# Convertendo para lista de adjacência\n",
    "adjacency_list = convert_incidence_matrix_to_adjacency_list(incidence_matrix)\n",
    "\n",
    "# Imprimindo a lista de adjacência\n",
    "for vertex, neighbors in adjacency_list.items():\n",
    "    print(f\"{vertex}: {neighbors}\")\n"
   ]
  },
  {
   "cell_type": "markdown",
   "id": "2c6af0d2",
   "metadata": {
    "heading_collapsed": true,
    "hidden": true
   },
   "source": [
    "#### Convertendo uma matriz de incidência em uma matriz de adjacência"
   ]
  },
  {
   "cell_type": "code",
   "execution_count": 16,
   "id": "c3d7ba31",
   "metadata": {
    "ExecuteTime": {
     "end_time": "2023-07-30T18:44:10.343796Z",
     "start_time": "2023-07-30T18:44:10.335818Z"
    },
    "hidden": true
   },
   "outputs": [
    {
     "name": "stdout",
     "output_type": "stream",
     "text": [
      "[0, 1, 0, 1, 0]\n",
      "[1, 0, 1, 0, 0]\n",
      "[0, 1, 0, 1, 1]\n",
      "[1, 0, 1, 0, 1]\n",
      "[0, 0, 1, 1, 0]\n"
     ]
    }
   ],
   "source": [
    "# Função para converter uma matriz de incidência em uma matriz de adjacência\n",
    "def convert_incidence_to_adjacency(incidence_matrix):\n",
    "    num_vertices = len(incidence_matrix)\n",
    "    num_edges = len(incidence_matrix[0])\n",
    "\n",
    "    adjacency_matrix = [[0 for _ in range(num_vertices)] for _ in range(num_vertices)]\n",
    "\n",
    "    for edge_index in range(num_edges):\n",
    "        connected_vertices = []\n",
    "        for vertex_index in range(num_vertices):\n",
    "            if incidence_matrix[vertex_index][edge_index] == 1:\n",
    "                connected_vertices.append(vertex_index)\n",
    "\n",
    "        if len(connected_vertices) == 2:\n",
    "            vertex1, vertex2 = connected_vertices\n",
    "            adjacency_matrix[vertex1][vertex2] = 1\n",
    "            adjacency_matrix[vertex2][vertex1] = 1\n",
    "\n",
    "    return adjacency_matrix\n",
    "\n",
    "# Matriz de incidência\n",
    "incidence_matrix = [\n",
    "    [1, 1, 0, 0, 0, 0],\n",
    "    [1, 0, 1, 0, 0, 0],\n",
    "    [0, 0, 1, 1, 1, 0],\n",
    "    [0, 1, 0, 1, 0, 1],\n",
    "    [0, 0, 0, 0, 1, 1]\n",
    "]\n",
    "\n",
    "# Convertendo a matriz de incidência para matriz de adjacência\n",
    "adjacency_matrix = convert_incidence_to_adjacency(incidence_matrix)\n",
    "\n",
    "# Imprimindo a matriz de adjacência\n",
    "for row in adjacency_matrix:\n",
    "    print(row)"
   ]
  },
  {
   "cell_type": "markdown",
   "id": "cf34a632",
   "metadata": {
    "heading_collapsed": true,
    "hidden": true
   },
   "source": [
    "#### Convertendo uma matriz de incidência em formato TXT para uma lista de adjacência em TXT"
   ]
  },
  {
   "cell_type": "code",
   "execution_count": 17,
   "id": "6dc0c623",
   "metadata": {
    "ExecuteTime": {
     "end_time": "2023-07-30T18:44:10.357783Z",
     "start_time": "2023-07-30T18:44:10.345791Z"
    },
    "hidden": true
   },
   "outputs": [],
   "source": [
    "# Função para converter a matriz de incidência em lista de adjacência\n",
    "def convert_incidence_to_adjacency(incidence_matrix):\n",
    "    num_vertices = len(incidence_matrix)\n",
    "    num_edges = len(incidence_matrix[0])\n",
    "\n",
    "    adjacency_list = {}\n",
    "\n",
    "    for edge_index in range(num_edges):\n",
    "        connected_vertices = []\n",
    "        for vertex_index in range(num_vertices):\n",
    "            if incidence_matrix[vertex_index][edge_index] == 1:\n",
    "                connected_vertices.append(str(vertex_index + 1))\n",
    "\n",
    "        if len(connected_vertices) == 2:\n",
    "            vertex1, vertex2 = connected_vertices\n",
    "            if vertex1 in adjacency_list:\n",
    "                adjacency_list[vertex1].append(vertex2)\n",
    "            else:\n",
    "                adjacency_list[vertex1] = [vertex2]\n",
    "\n",
    "            if vertex2 in adjacency_list:\n",
    "                adjacency_list[vertex2].append(vertex1)\n",
    "            else:\n",
    "                adjacency_list[vertex2] = [vertex1]\n",
    "\n",
    "    return adjacency_list\n",
    "\n",
    "# Carregar a matriz de incidência a partir do arquivo de texto\n",
    "file_name_incidence = \"matriz_inc4_1.txt\"\n",
    "\n",
    "incidence_matrix = []\n",
    "with open(file_name_incidence, 'r') as file:\n",
    "    for line in file:\n",
    "        row = [int(value) for value in line.strip().split()]\n",
    "        incidence_matrix.append(row)\n",
    "\n",
    "# Convertendo a matriz de incidência para lista de adjacência\n",
    "adjacency_list = convert_incidence_to_adjacency(incidence_matrix)\n",
    "\n",
    "# Nome do arquivo de texto para a lista de adjacência\n",
    "file_name_adj_list = \"lista_adj4_3.txt\"\n",
    "\n",
    "# Ordenando as chaves da lista\n",
    "sorted_adjacency_list = dict(sorted(adjacency_list.items()))\n",
    "\n",
    "# Escrever a lista de adjacência no arquivo de texto\n",
    "with open(file_name_adj_list, 'w') as file:\n",
    "    for vertex, neighbors in sorted_adjacency_list.items():\n",
    "        neighbors_str = ', '.join(neighbors)\n",
    "        line = f\"{vertex}: {neighbors_str}\\n\"\n",
    "        file.write(line)\n"
   ]
  },
  {
   "cell_type": "markdown",
   "id": "7a0ee6c4",
   "metadata": {
    "ExecuteTime": {
     "end_time": "2023-07-24T01:08:55.382047Z",
     "start_time": "2023-07-24T01:08:55.378056Z"
    },
    "heading_collapsed": true,
    "hidden": true
   },
   "source": [
    "#### Convertendo uma matriz de incidência em formato TXT para uma matriz de adjacência em TXT"
   ]
  },
  {
   "cell_type": "code",
   "execution_count": 18,
   "id": "879a6340",
   "metadata": {
    "ExecuteTime": {
     "end_time": "2023-07-30T18:44:10.369791Z",
     "start_time": "2023-07-30T18:44:10.358785Z"
    },
    "hidden": true
   },
   "outputs": [],
   "source": [
    "# Função para converter a matriz de incidência em matriz de adjacência\n",
    "def convert_incidence_to_adjacency(incidence_matrix):\n",
    "    num_vertices = len(incidence_matrix)\n",
    "    num_edges = len(incidence_matrix[0])\n",
    "\n",
    "    adjacency_matrix = [[0 for _ in range(num_vertices)] for _ in range(num_vertices)]\n",
    "\n",
    "    for edge_index in range(num_edges):\n",
    "        connected_vertices = []\n",
    "        for vertex_index in range(num_vertices):\n",
    "            if incidence_matrix[vertex_index][edge_index] == 1:\n",
    "                connected_vertices.append(vertex_index)\n",
    "\n",
    "        if len(connected_vertices) == 2:\n",
    "            vertex1, vertex2 = connected_vertices\n",
    "            adjacency_matrix[vertex1][vertex2] = 1\n",
    "            adjacency_matrix[vertex2][vertex1] = 1\n",
    "\n",
    "    return adjacency_matrix\n",
    "\n",
    "# Carregar a matriz de incidência a partir do arquivo de texto\n",
    "file_name_incidence = \"matriz_inc4_1.txt\"\n",
    "\n",
    "incidence_matrix = []\n",
    "with open(file_name_incidence, 'r') as file:\n",
    "    for line in file:\n",
    "        row = [int(value) for value in line.strip().split()]\n",
    "        incidence_matrix.append(row)\n",
    "\n",
    "# Convertendo a matriz de incidência para matriz de adjacência\n",
    "adjacency_matrix = convert_incidence_to_adjacency(incidence_matrix)\n",
    "\n",
    "# Nome do arquivo de texto para a matriz de adjacência\n",
    "file_name_adj_matrix = \"matriz_adj4_3.txt\"\n",
    "\n",
    "# Escrever a matriz de adjacência no arquivo de texto\n",
    "with open(file_name_adj_matrix, 'w') as file:\n",
    "    for row in adjacency_matrix:\n",
    "        row_str = ' '.join(map(str, row))\n",
    "        file.write(f\"{row_str}\\n\")\n"
   ]
  },
  {
   "cell_type": "markdown",
   "id": "cef1d9dc",
   "metadata": {
    "ExecuteTime": {
     "end_time": "2023-07-24T01:13:15.085138Z",
     "start_time": "2023-07-24T01:13:15.081150Z"
    },
    "heading_collapsed": true,
    "hidden": true
   },
   "source": [
    "#### Convertendo uma matriz de incidência em formato TXT para um arquivo CSV $(v_{i},v_{j})$"
   ]
  },
  {
   "cell_type": "code",
   "execution_count": 19,
   "id": "75516afc",
   "metadata": {
    "ExecuteTime": {
     "end_time": "2023-07-30T18:44:10.381745Z",
     "start_time": "2023-07-30T18:44:10.371749Z"
    },
    "hidden": true
   },
   "outputs": [],
   "source": [
    "import csv\n",
    "\n",
    "# Função para converter a matriz de incidência em lista de arestas\n",
    "def convert_incidence_to_edges(incidence_matrix):\n",
    "    edges = []\n",
    "    num_vertices = len(incidence_matrix)\n",
    "    num_edges = len(incidence_matrix[0])\n",
    "\n",
    "    for edge_index in range(num_edges):\n",
    "        connected_vertices = []\n",
    "        for vertex_index in range(num_vertices):\n",
    "            if incidence_matrix[vertex_index][edge_index] == 1:\n",
    "                connected_vertices.append(vertex_index)\n",
    "\n",
    "        if len(connected_vertices) == 2:\n",
    "            vertex1, vertex2 = connected_vertices\n",
    "            edges.append((vertex1 + 1, vertex2 + 1))\n",
    "\n",
    "    return edges\n",
    "\n",
    "# Carregar a matriz de incidência a partir do arquivo de texto\n",
    "file_name_incidence = \"matriz_inc4_1.txt\"\n",
    "\n",
    "incidence_matrix = []\n",
    "with open(file_name_incidence, 'r') as file:\n",
    "    for line in file:\n",
    "        row = [int(value) for value in line.strip().split()]\n",
    "        incidence_matrix.append(row)\n",
    "\n",
    "# Convertendo a matriz de incidência para lista de arestas\n",
    "edges = convert_incidence_to_edges(incidence_matrix)\n",
    "\n",
    "# Nome do arquivo CSV para as arestas\n",
    "file_name_csv = \"dados_csv4_3.csv\"\n",
    "\n",
    "# Escrever as arestas no arquivo CSV\n",
    "with open(file_name_csv, 'w', newline='') as file:\n",
    "    writer = csv.writer(file)\n",
    "    for edge in edges:\n",
    "        writer.writerow(edge)\n"
   ]
  },
  {
   "cell_type": "markdown",
   "id": "66031a1d",
   "metadata": {
    "heading_collapsed": true
   },
   "source": [
    "## <div style=\"margin-top: -20px;\">\n",
    "<hr style=\"border: 2px solid black;\">\n",
    "\n",
    "<font color='black'><span style=\"font-size:18px;\"><strong>4.5.4 Convertendo dados em formato CSV para outros tipos</strong></span></font>\n",
    "\n",
    "<hr style=\"border: 2px solid black;\">\n",
    "</div>  "
   ]
  },
  {
   "cell_type": "markdown",
   "id": "c5976877",
   "metadata": {
    "heading_collapsed": true,
    "hidden": true
   },
   "source": [
    "#### Conversão de dados em formato CSV para lista de adjacências"
   ]
  },
  {
   "cell_type": "code",
   "execution_count": 20,
   "id": "9d734656",
   "metadata": {
    "ExecuteTime": {
     "end_time": "2023-07-30T18:44:10.390698Z",
     "start_time": "2023-07-30T18:44:10.382720Z"
    },
    "hidden": true
   },
   "outputs": [
    {
     "name": "stdout",
     "output_type": "stream",
     "text": [
      "1: 2, 4\n",
      "2: 1, 3\n",
      "3: 2, 4, 5\n",
      "4: 1, 3, 5\n",
      "5: 3, 4\n"
     ]
    }
   ],
   "source": [
    "import csv\n",
    "\n",
    "# Função para converter os dados CSV em lista de adjacências\n",
    "def convert_csv_to_adjacency_list(csv_file):\n",
    "    adjacency_list = {}\n",
    "    with open(csv_file, 'r') as file:\n",
    "        reader = csv.reader(file)\n",
    "        for row in reader:\n",
    "            if len(row) != 2:\n",
    "                continue\n",
    "            vertex1, vertex2 = row\n",
    "            adjacency_list.setdefault(vertex1, set()).add(vertex2)\n",
    "            adjacency_list.setdefault(vertex2, set()).add(vertex1)  # Grafo não orientado, então adicionamos a aresta nos dois sentidos\n",
    "    return adjacency_list\n",
    "\n",
    "# Nome do arquivo CSV com as arestas\n",
    "csv_file = \"dados_csv4_1.csv\"  # Insira o nome do arquivo CSV aqui\n",
    "\n",
    "# Obter a lista de adjacências a partir do arquivo CSV\n",
    "adjacency_list = convert_csv_to_adjacency_list(csv_file)\n",
    "\n",
    "# Ordenando as chaves da lista\n",
    "sorted_adjacency_list = dict(sorted(adjacency_list.items()))\n",
    "\n",
    "# Ordena os valores para cada chave\n",
    "for key, values in sorted_adjacency_list.items():\n",
    "    sorted_adjacency_list[key] = sorted(values)\n",
    "    \n",
    "# Imprimir a lista de adjacências\n",
    "for vertex, neighbors in sorted_adjacency_list.items():\n",
    "    neighbors_str = ', '.join(neighbors)\n",
    "    print(f\"{vertex}: {neighbors_str}\")\n"
   ]
  },
  {
   "cell_type": "markdown",
   "id": "7bb0c6c9",
   "metadata": {
    "heading_collapsed": true,
    "hidden": true
   },
   "source": [
    "#### Conversão de dados em formato CSV para matriz de adjacência"
   ]
  },
  {
   "cell_type": "code",
   "execution_count": 21,
   "id": "d9f0d3de",
   "metadata": {
    "ExecuteTime": {
     "end_time": "2023-07-30T18:44:10.399674Z",
     "start_time": "2023-07-30T18:44:10.391696Z"
    },
    "hidden": true
   },
   "outputs": [
    {
     "name": "stdout",
     "output_type": "stream",
     "text": [
      "[0, 1, 0, 1, 0]\n",
      "[1, 0, 1, 0, 0]\n",
      "[0, 1, 0, 1, 1]\n",
      "[1, 0, 1, 0, 1]\n",
      "[0, 0, 1, 1, 0]\n"
     ]
    }
   ],
   "source": [
    "import csv\n",
    "\n",
    "# Função para criar uma matriz de adjacência vazia\n",
    "def create_empty_adjacency_matrix(num_vertices):\n",
    "    return [[0 for _ in range(num_vertices)] for _ in range(num_vertices)]\n",
    "\n",
    "# Nome do arquivo CSV externo contendo as arestas no formato vi,vj\n",
    "file_name_csv = \"dados_csv4_1.csv\"\n",
    "\n",
    "# Ler as arestas do arquivo CSV e criar um conjunto de vértices\n",
    "edges = set()\n",
    "with open(file_name_csv, 'r') as file:\n",
    "    reader = csv.reader(file)\n",
    "    for row in reader:\n",
    "        vertex1, vertex2 = map(int, row)\n",
    "        edges.add((vertex1, vertex2))\n",
    "\n",
    "# Obter o número total de vértices do grafo\n",
    "num_vertices = max(max(edge) for edge in edges)\n",
    "\n",
    "# Criar a matriz de adjacência\n",
    "adjacency_matrix = create_empty_adjacency_matrix(num_vertices)\n",
    "\n",
    "# Preencher a matriz de adjacência com as arestas\n",
    "for vertex1, vertex2 in edges:\n",
    "    adjacency_matrix[vertex1 - 1][vertex2 - 1] = 1\n",
    "    adjacency_matrix[vertex2 - 1][vertex1 - 1] = 1\n",
    "\n",
    "# Imprimir a matriz de adjacência\n",
    "for row in adjacency_matrix:\n",
    "    print(row)"
   ]
  },
  {
   "cell_type": "markdown",
   "id": "b578435e",
   "metadata": {
    "heading_collapsed": true,
    "hidden": true
   },
   "source": [
    "#### Conversão de dados em formato CSV para matriz de incidência"
   ]
  },
  {
   "cell_type": "code",
   "execution_count": 22,
   "id": "f72385e9",
   "metadata": {
    "ExecuteTime": {
     "end_time": "2023-07-30T18:44:10.409647Z",
     "start_time": "2023-07-30T18:44:10.400672Z"
    },
    "hidden": true
   },
   "outputs": [
    {
     "name": "stdout",
     "output_type": "stream",
     "text": [
      "[1, 1, 0, 0, 0, 0]\n",
      "[1, 0, 1, 0, 0, 0]\n",
      "[0, 0, 1, 1, 1, 0]\n",
      "[0, 1, 0, 1, 0, 1]\n",
      "[0, 0, 0, 0, 1, 1]\n"
     ]
    }
   ],
   "source": [
    "import csv\n",
    "\n",
    "# Função para criar um dicionário vazio para representar a matriz de incidência\n",
    "def create_empty_incidence_dict(vertices, edges):\n",
    "    incidence_dict = {}\n",
    "    for vertex in vertices:\n",
    "        incidence_dict[vertex] = [0] * len(edges)\n",
    "    return incidence_dict\n",
    "\n",
    "# Nome do arquivo CSV contendo as arestas no formato vi,vj\n",
    "file_name_csv = \"dados_csv4_1.csv\"\n",
    "\n",
    "# Ler as arestas do arquivo CSV e criar um conjunto de vértices\n",
    "edges = []\n",
    "vertices = set()\n",
    "with open(file_name_csv, 'r') as file:\n",
    "    reader = csv.reader(file)\n",
    "    for row in reader:\n",
    "        vertex1, vertex2 = map(int, row)\n",
    "        edge = (vertex1, vertex2)\n",
    "        if edge not in edges:  # Adicione esta linha\n",
    "            edges.append(edge)\n",
    "        vertices.add(vertex1)\n",
    "        vertices.add(vertex2)\n",
    "\n",
    "# Obter o número total de vértices e arestas do grafo\n",
    "num_vertices = len(vertices)\n",
    "num_edges = len(edges)\n",
    "\n",
    "# Criar o dicionário de incidência\n",
    "incidence_dict = create_empty_incidence_dict(vertices, edges)\n",
    "\n",
    "# Preencher o dicionário de incidência com as arestas\n",
    "for vertex, incidence_list in incidence_dict.items():\n",
    "    for edge_index, (vertex1, vertex2) in enumerate(edges):\n",
    "        if vertex == vertex1 or vertex == vertex2:\n",
    "            incidence_list[edge_index] = 1\n",
    "\n",
    "# Imprimir a matriz de incidência\n",
    "for vertex, incidence_list in sorted(incidence_dict.items()):\n",
    "    print(f\"{incidence_list}\")\n"
   ]
  },
  {
   "cell_type": "markdown",
   "id": "f6d91935",
   "metadata": {
    "heading_collapsed": true,
    "hidden": true
   },
   "source": [
    "#### Conversão de dados em formato CSV para lista de adjacências em TXT"
   ]
  },
  {
   "cell_type": "code",
   "execution_count": 23,
   "id": "baaf9453",
   "metadata": {
    "ExecuteTime": {
     "end_time": "2023-07-30T18:44:10.421617Z",
     "start_time": "2023-07-30T18:44:10.410645Z"
    },
    "hidden": true
   },
   "outputs": [],
   "source": [
    "# Função para converter os dados CSV em lista de adjacências\n",
    "def convert_csv_to_adjacency_list(csv_file):\n",
    "    adjacency_list = {}\n",
    "    with open(csv_file, 'r') as file:\n",
    "        reader = csv.reader(file)\n",
    "        for row in reader:\n",
    "            if len(row) != 2:\n",
    "                continue\n",
    "            vertex1, vertex2 = row\n",
    "            adjacency_list.setdefault(vertex1, set()).add(vertex2)\n",
    "            adjacency_list.setdefault(vertex2, set()).add(vertex1)  # Grafo não orientado, então adicionamos a aresta nos dois sentidos\n",
    "    return adjacency_list\n",
    "\n",
    "# Nome do arquivo CSV com as arestas\n",
    "csv_file = \"dados_csv4_1.csv\"  # Insira o nome do arquivo CSV aqui\n",
    "\n",
    "# Obter a lista de adjacências a partir do arquivo CSV\n",
    "adjacency_list = convert_csv_to_adjacency_list(csv_file)\n",
    "\n",
    "# Nome do arquivo de texto para salvar a lista de adjacências\n",
    "txt_output_file = \"lista_adj4_3.txt\"  # Insira o nome do arquivo de texto de saída aqui\n",
    "\n",
    "# Ordenando as chaves da lista\n",
    "sorted_adjacency_list = dict(sorted(adjacency_list.items()))\n",
    "\n",
    "# Ordena os valores para cada chave\n",
    "for key, values in sorted_adjacency_list.items():\n",
    "    sorted_adjacency_list[key] = sorted(values)\n",
    "\n",
    "# Escrever a lista de adjacências no arquivo de texto\n",
    "with open(txt_output_file, 'w') as file:\n",
    "    for vertex, neighbors in adjacency_list.items():\n",
    "        neighbors_list = list(neighbors)\n",
    "        neighbors_list.sort()  # Ordena os vizinhos para uma ordem consistente\n",
    "        line = f\"{vertex}: {', '.join(neighbors_list)}\\n\"\n",
    "        file.write(line)\n"
   ]
  },
  {
   "cell_type": "markdown",
   "id": "3c9dbe08",
   "metadata": {
    "heading_collapsed": true,
    "hidden": true
   },
   "source": [
    "#### Conversão de arquivo em formato CSV para matriz de adjacência em TXT"
   ]
  },
  {
   "cell_type": "code",
   "execution_count": 24,
   "id": "5b3aaf76",
   "metadata": {
    "ExecuteTime": {
     "end_time": "2023-07-30T18:44:10.434686Z",
     "start_time": "2023-07-30T18:44:10.422612Z"
    },
    "hidden": true
   },
   "outputs": [],
   "source": [
    "import csv\n",
    "\n",
    "def convert_csv_to_adjacency_matrix(csv_file):\n",
    "    vertices = set()\n",
    "    edges = []\n",
    "\n",
    "    with open(csv_file, 'r') as file:\n",
    "        reader = csv.reader(file)\n",
    "        for row in reader:\n",
    "            if len(row) != 2:\n",
    "                continue\n",
    "            vertex1, vertex2 = map(int, row)\n",
    "            vertices.add(vertex1)\n",
    "            vertices.add(vertex2)\n",
    "            edges.append((vertex1, vertex2))\n",
    "\n",
    "    vertex_to_index = {vertex: index for index, vertex in enumerate(sorted(vertices))}\n",
    "    num_vertices = len(vertex_to_index)\n",
    "    adjacency_matrix = [[0 for _ in range(num_vertices)] for _ in range(num_vertices)]\n",
    "\n",
    "    for vertex1, vertex2 in edges:\n",
    "        index1 = vertex_to_index[vertex1]\n",
    "        index2 = vertex_to_index[vertex2]\n",
    "        adjacency_matrix[index1][index2] = 1\n",
    "        adjacency_matrix[index2][index1] = 1\n",
    "\n",
    "    return adjacency_matrix\n",
    "\n",
    "csv_file = \"dados_csv4_1.csv\"\n",
    "\n",
    "adjacency_matrix = convert_csv_to_adjacency_matrix(csv_file)\n",
    "\n",
    "txt_file = \"matriz_adj4_3.txt\"\n",
    "\n",
    "with open(txt_file, 'w') as file:\n",
    "    for row in adjacency_matrix:\n",
    "        row_str = ' '.join(map(str, row))\n",
    "        file.write(f\"{row_str}\\n\")\n"
   ]
  },
  {
   "cell_type": "markdown",
   "id": "05069cfe",
   "metadata": {
    "heading_collapsed": true,
    "hidden": true
   },
   "source": [
    "#### Conversão de arquivo em formato CSV para matriz de incidência em TXT"
   ]
  },
  {
   "cell_type": "code",
   "execution_count": 25,
   "id": "7f1e08b2",
   "metadata": {
    "ExecuteTime": {
     "end_time": "2023-07-30T18:44:10.448678Z",
     "start_time": "2023-07-30T18:44:10.435686Z"
    },
    "hidden": true
   },
   "outputs": [
    {
     "name": "stdout",
     "output_type": "stream",
     "text": [
      "[[1, 1, 0, 0, 0, 0], [1, 0, 1, 0, 0, 0], [0, 0, 1, 1, 1, 0], [0, 1, 0, 1, 0, 1], [0, 0, 0, 0, 1, 1]]\n"
     ]
    }
   ],
   "source": [
    "import csv\n",
    "\n",
    "def convert_csv_to_incidence_matrix(csv_file):\n",
    "    vertex_to_index = {}\n",
    "    edge_to_index = {}\n",
    "    unique_vertices = set()\n",
    "\n",
    "    # Primeira varredura: coletar todos os vértices únicos\n",
    "    with open(csv_file, 'r') as file:\n",
    "        reader = csv.reader(file)\n",
    "        for row in reader:\n",
    "            vertex1, vertex2 = map(int, row)\n",
    "\n",
    "            # Adicionar os vértices ao conjunto de vértices únicos\n",
    "            unique_vertices.update([vertex1, vertex2])\n",
    "\n",
    "    # Criar um dicionário para mapear cada vértice ao seu índice na matriz de incidência\n",
    "    for i, vertex in enumerate(sorted(list(unique_vertices))):\n",
    "        vertex_to_index[vertex] = i\n",
    "\n",
    "    incidence_matrix = []\n",
    "\n",
    "    # Segunda varredura: coletar todas as arestas e preencher a matriz de incidência\n",
    "    with open(csv_file, 'r') as file:\n",
    "        reader = csv.reader(file)\n",
    "        for row in reader:\n",
    "            vertex1, vertex2 = map(int, row)\n",
    "            edge = frozenset({vertex1, vertex2})\n",
    "\n",
    "            # Adicionar a aresta, caso ela ainda não esteja presente\n",
    "            if edge not in edge_to_index:\n",
    "                edge_to_index[edge] = len(edge_to_index)\n",
    "                for i in range(len(vertex_to_index)):\n",
    "                    if len(incidence_matrix) <= i:\n",
    "                        incidence_matrix.append([])\n",
    "                    incidence_matrix[i].append(0)\n",
    "\n",
    "            # Atribuir valor 1 para os vértices que estão ligados pela aresta\n",
    "            index1 = vertex_to_index[vertex1]\n",
    "            index2 = vertex_to_index[vertex2]\n",
    "            edge_index = edge_to_index[edge]\n",
    "            incidence_matrix[index1][edge_index] = 1\n",
    "            incidence_matrix[index2][edge_index] = 1\n",
    "\n",
    "    return incidence_matrix\n",
    "\n",
    "# Nome do arquivo CSV com as arestas\n",
    "csv_file = \"dados_csv4_3.csv\"\n",
    "\n",
    "# Convertendo o CSV para uma matriz de incidência\n",
    "incidence_matrix = convert_csv_to_incidence_matrix(csv_file)\n",
    "\n",
    "# Nome do arquivo de texto para a matriz de incidência\n",
    "txt_file = \"matriz_inc4_4.txt\"\n",
    "\n",
    "# Escrevendo a matriz de incidência no arquivo de texto\n",
    "with open(txt_file, 'w') as file:\n",
    "    for row in incidence_matrix:\n",
    "        row_str = ' '.join(map(str, row))\n",
    "        file.write(f\"{row_str}\\n\")\n",
    "print(incidence_matrix)"
   ]
  },
  {
   "cell_type": "markdown",
   "id": "51ad77a9",
   "metadata": {
    "heading_collapsed": true,
    "hidden": true
   },
   "source": [
    "#### Conversão dados em formato CSV para matriz de adjacência em TXT + Gráfico"
   ]
  },
  {
   "cell_type": "code",
   "execution_count": 26,
   "id": "3b113bc1",
   "metadata": {
    "ExecuteTime": {
     "end_time": "2023-07-30T18:44:11.475904Z",
     "start_time": "2023-07-30T18:44:10.449652Z"
    },
    "hidden": true
   },
   "outputs": [
    {
     "name": "stdout",
     "output_type": "stream",
     "text": [
      "Matriz de Adjacência:\n",
      "\n",
      "[0, 1, 0, 1, 0]\n",
      "[1, 0, 1, 0, 0]\n",
      "[0, 1, 0, 1, 1]\n",
      "[1, 0, 1, 0, 1]\n",
      "[0, 0, 1, 1, 0]\n"
     ]
    },
    {
     "data": {
      "image/png": "[encoded data removed]",
      "text/plain": [
       "<Figure size 640x480 with 1 Axes>"
      ]
     },
     "metadata": {},
     "output_type": "display_data"
    }
   ],
   "source": [
    "import networkx as nx\n",
    "import csv\n",
    "import matplotlib.pyplot as plt\n",
    "\n",
    "# Função para converter a lista de adjacência em matriz de adjacência\n",
    "def convert_adjacency_list_to_matrix(adj_list):\n",
    "    vertices = sorted(adj_list.keys())  # Ordena os vértices em ordem alfabética\n",
    "    num_vertices = len(vertices)\n",
    "    \n",
    "    # Cria uma matriz de adjacência preenchida com zeros\n",
    "    adjacency_matrix = [[0 for _ in range(num_vertices)] for _ in range(num_vertices)]\n",
    "    \n",
    "    # Preenche a matriz de adjacência com as conexões dos vértices\n",
    "    for i, vertex in enumerate(vertices):\n",
    "        for neighbor in adj_list[vertex]:\n",
    "            j = vertices.index(neighbor)\n",
    "            adjacency_matrix[i][j] = 1\n",
    "\n",
    "    return adjacency_matrix\n",
    "\n",
    "# Nome do arquivo CSV no mesmo diretório\n",
    "dados = \"dados_csv4_1.csv\"  # Troque \".csv\" por \".txt\" caso necessário\n",
    "\n",
    "# Carregar as arestas a partir do arquivo CSV\n",
    "edges = []\n",
    "with open(dados, 'r') as file:\n",
    "    reader = csv.reader(file)\n",
    "    for row in reader:\n",
    "        if len(row) != 2:\n",
    "            continue\n",
    "        edges.append((row[0], row[1]))\n",
    "\n",
    "# Criar um grafo não orientado\n",
    "G = nx.Graph()\n",
    "\n",
    "# Adicionar as arestas ao grafo\n",
    "G.add_edges_from(edges)\n",
    "\n",
    "# Obter a lista de adjacência do grafo\n",
    "adjacency_list = G.adj\n",
    "\n",
    "# Convertendo a lista de adjacência para matriz de adjacência\n",
    "adjacency_matrix = convert_adjacency_list_to_matrix(adjacency_list)\n",
    "\n",
    "# Imprimir a matriz de adjacência\n",
    "print(\"Matriz de Adjacência:\\n\")\n",
    "for row in adjacency_matrix:\n",
    "    print(row)\n",
    "\n",
    "# Desenhar o grafo\n",
    "pos = nx.spring_layout(G, seed=42)  # Posição dos nós utilizando layout de mola\n",
    "nx.draw(G, pos, with_labels=True, node_color='skyblue', font_weight='bold')\n",
    "\n",
    "# Exibir o grafo\n",
    "plt.title(\"Esboço Gráfico do Grafo\")\n",
    "plt.show()\n"
   ]
  }
 ],
 "metadata": {
  "kernelspec": {
   "display_name": "Python 3 (ipykernel)",
   "language": "python",
   "name": "python3"
  },
  "language_info": {
   "codemirror_mode": {
    "name": "ipython",
    "version": 3
   },
   "file_extension": ".py",
   "mimetype": "text/x-python",
   "name": "python",
   "nbconvert_exporter": "python",
   "pygments_lexer": "ipython3",
   "version": "3.11.5"
  },
  "varInspector": {
   "cols": {
    "lenName": 16,
    "lenType": 16,
    "lenVar": 40
   },
   "kernels_config": {
    "python": {
     "delete_cmd_postfix": "",
     "delete_cmd_prefix": "del ",
     "library": "var_list.py",
     "varRefreshCmd": "print(var_dic_list())"
    },
    "r": {
     "delete_cmd_postfix": ") ",
     "delete_cmd_prefix": "rm(",
     "library": "var_list.r",
     "varRefreshCmd": "cat(var_dic_list()) "
    }
   },
   "types_to_exclude": [
    "module",
    "function",
    "builtin_function_or_method",
    "instance",
    "_Feature"
   ],
   "window_display": false
  }
 },
 "nbformat": 4,
 "nbformat_minor": 5
}
