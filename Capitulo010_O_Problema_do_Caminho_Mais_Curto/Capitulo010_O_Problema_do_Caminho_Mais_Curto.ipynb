{
 "cells": [
  {
   "cell_type": "markdown",
   "id": "ce33096c",
   "metadata": {},
   "source": [
    "<center> <img src=\"logo_ifba.jpg\" alt=\"jpg_python\" width=\"100\" height=\"200\"> </center>\n",
    "<br><br>\n",
    "<div align=\"center\"><span style=\"font-size: 26px;\"><strong>Matemática Discreta II <br></strong></span></div> <br>\n",
    "<center> <img src=\"python_gif.gif\" alt=\"gif_python\" width=\"80\"> </center>"
   ]
  },
  {
   "cell_type": "markdown",
   "id": "c5073180",
   "metadata": {},
   "source": [
    "<div style=\"border: 2px solid black; padding: 10px; width: 95%; background-color: lightgray; display: flex; align-items: center;\">\n",
    "    <h1 style=\"color: red; text-align: center; margin: auto;\">\n",
    "        Capítulo 10: O Problema do Caminho Mais Curto\n",
    "    </h1>\n",
    "</div>\n",
    "\n",
    "<font color='red'></font>\n",
    "<a href=\"\"></a>"
   ]
  },
  {
   "cell_type": "markdown",
   "id": "9e9c75ab",
   "metadata": {},
   "source": [
    "O \"Problema do Caminho Mais Curto\" é uma questão fundamental em teoria dos grafos e ciência da computação, focando na determinação da menor distância ou caminho entre dois pontos em um grafo ponderado. Este capítulo abordará o algoritmo de Dijkstra, uma solução eficiente para esse problema, detalhando seu funcionamento, implementação e aplicações práticas."
   ]
  },
  {
   "cell_type": "markdown",
   "id": "b409060e",
   "metadata": {},
   "source": [
    "# <div style=\"margin-top: -20px;\">\n",
    "<hr style=\"border: 2px solid black;\">\n",
    "\n",
    "<font color='black'><span style=\"font-size: 22px;\"><strong>10.1 Introdução</strong></span></font>\n",
    "\n",
    "<hr style=\"border: 2px solid black;\">\n",
    "</div>"
   ]
  },
  {
   "cell_type": "markdown",
   "id": "6956ad26",
   "metadata": {},
   "source": [
    "#### <font color='blue'> Exemplo 1 </font>"
   ]
  },
  {
   "cell_type": "markdown",
   "id": "6c762c95",
   "metadata": {},
   "source": [
    "<font color='blue'> Considere um sistema de linhas frete de mercadorias terrestres em certa região composta por $8$ cidades. Foi montado um modelo via grafos representando cidades por vértices e as tarifas aplicadas (em $R\\$/ton$) entre elas como sendo o peso das arestas conforme ilustrado na figura a seguir:<br><br>\n",
    " <center> <img src=\"fig10_1.jpg\" alt=\"jpg_python\" width=\"450\" height=\"\"> </center><br>\n",
    " Note que há diversas opções de trajetos entre duas cidades quaisquer. Uma empresa que atue nesta região poderia facilmente tabelar o valor de frete entre quaisquer duas cidades, são poucas. Contudo, isto poderia se tornar inviável em situações nas quais o número de cidades pode ser maior."
   ]
  },
  {
   "cell_type": "markdown",
   "id": "d9b4549b",
   "metadata": {},
   "source": [
    "# <div style=\"margin-top: -20px;\">\n",
    "<hr style=\"border: 2px solid black;\">\n",
    "\n",
    "<font color='black'><span style=\"font-size: 22px;\"><strong>10.2 Algoritmo Para a Determinação do Caminho Mais Curto</strong></span></font>\n",
    "\n",
    "<hr style=\"border: 2px solid black;\">\n",
    "</div>"
   ]
  },
  {
   "cell_type": "markdown",
   "id": "9f8167a1",
   "metadata": {},
   "source": [
    "A seguir apresentaremos um exemplo no qual são colocados os princípios gerais para a utilização do **algoritmo de Dijkstra**. O algoritmo de Dijkstra inicialmente encontra o comprimento de um caminho mais curto de $v_{0}$ a um segundo vértice, depois o comprimento mais curto de $v_{0}$ até um segundo vértice, e assim por diante, até que o caminho de menor comprimento de $v_{0}$ até que o vértice objetivo $v_{f}$ seja encontrado. Acompanhe o próximo exemplo."
   ]
  },
  {
   "cell_type": "markdown",
   "id": "ee2ce639",
   "metadata": {},
   "source": [
    "#### <font color='blue'> Exemplo 2 </font>"
   ]
  },
  {
   "cell_type": "markdown",
   "id": "4b897c36",
   "metadata": {},
   "source": [
    "<font color='blue'> Qual é o caminho de comprimento mais curto entre $a$ e $f$ no grafo ponderado mostrado na figura a seguir:<br><br>\n",
    " <center> <img src=\"fig10_2.jpg\" alt=\"jpg_python\" width=\"220\" height=\"\"> </center><br>"
   ]
  },
  {
   "cell_type": "markdown",
   "id": "9b237077",
   "metadata": {},
   "source": [
    "##### <font color='blue'> Solução </font>"
   ]
  },
  {
   "cell_type": "markdown",
   "id": "c90612a3",
   "metadata": {},
   "source": [
    "<font color='blue'> Embora o caminho mais curto seja facilmente encontrado por inspeção (neste caso!), desenvolveremos algumas ideias úteis. Nós resolveremos esse problema encontrando o comprimento mais curto de um vértice para vértices sucessivos, até que $f$ seja alcançado.  Inicialmente escolhemos o vértice de partida como sendo $a$. Neste caso, os vértices $b$ e $c$ são adjacentes a este. Cada um deles contribui para a formação de duas trajetórias $C_{1}: a,b \\rightarrow 6$ e $C_{2}: a,c \\rightarrow 4$. Neste caso, a trajetória $C_{2}$ nos parece mais atrativa que a trajetória $C_{1}$ para atualizarmos (menor custo entre ambas). Neste caso, a única adjacência do vértice $c$ (final da trajetória $C_{2}$) é dado pelo vértice $e$. Assim, temos a trajetória $C_{3}: a,c,e \\rightarrow 9$ que atualiza $C_{2}$. Note que temos duas trajetórias a analisar para continuar $C_{1}$ e $C_{3}$. Neste caso, optemos por aquela de menor custo, isto é, $C_{1}$. Note que $e$ e $d$ pertencem à adjacência do vértice $b$ (vértice final de $C_{1}$). Assim, temos as trajetórias $C_{4}: a,b,d \\rightarrow 11$ e $C_{5}: a,b,e \\rightarrow 11$. Note que esta última, $C_{5}$ tem o vértice final coincidente com o vértice final de $C_{3}$. Neste caso, optamos por manter $C_{3}$ pois tem comprimento menor que $C_{5}$. Após esta etapa, temos dois caminhos a analisar uma possível atualização $C_{4}$ e $C_{3}$. Neste caso, optamos por $C_{3}$ pois tem comprimento menor. Note que $C_{3}$ possui duas adjacências não pertencentes a ele $b$ e $f$. Isto nos fornece as trajetórias $C_{6}:a,c,e,b \\rightarrow 14$ que é descartada por conta de $C_{1}$ e a trajetória $C_{7}:a,c,e,f \\rightarrow 12$. Nos restam dois caminhos a analisar uma possível atualização $C_{4}$ e $C_{7}$ (se bem que esse já terminou!). Note que $C_{4}$ tem comprimento menor e portanto deve ser atualizado. A única adjacência possível para $C_{4}$ é o vértice $f$ o que nos fornece o caminho $C_{8}:a,b,d,f \\rightarrow 15$. Por fim, temos uma disputa entre os caminhos $C_{7}$ e $C_{8}$ o qual optaremos por $C_{7}$ que possui comprimento menor. Assim, temos obtido o trajeto mínimo entre $a$ e $f$ ao custo de $12$ por meio do caminho $C_{7}: a,c,e,f$. A figura a seguir apresenta a ordem das escolhas feitas:<br><br>\n",
    " <center> <img src=\"fig10_3.jpg\" alt=\"jpg_python\" width=\"400\" height=\"\"> </center><br>\n",
    " Por fim, a seguinte tabela nos ajuda a entender o processo de forma mais prática.<br><br>\n",
    " \\begin{array}{|ccccc|}\n",
    "\t\\hline\n",
    " Caminho\t& vértices & comprimento & Atualização & Cancelamento \\\\\n",
    "\t\\hline\n",
    "C_{1}\t& a,b & 6 & AT(2) :C_{1} \\rightarrow C_{4} ou C_{1} \\rightarrow C_{5} & Não \\\\\n",
    "C_{2}\t& a,c & 4 & AT(1) : C_{2} \\rightarrow C_{3} & Não\\\\\n",
    "C_{3}\t& a,c,e & 9 & AT(3) : C_{3} \\rightarrow C_{6} ou C_{3} \\rightarrow C_{7} & Não\\\\\n",
    "C_{4}\t& a,b,d & 11 & AT(4) : C_{4} \\rightarrow C_{8} & Não \\\\\n",
    "C_{5}\t& a,b,e & 11 & - & Sim, para C_{3}\\\\\n",
    "C_{6}\t& a,c,e,b & 14 & - & Sim, para C_{1}\\\\\n",
    "C_{7}\t& a,c,e,\\underline{f} & 12 & Trajetória mínima & Não\\\\\n",
    "C_{8}   & a,b,d,\\underline{f} & 15 & - & Sim, para C_{7}\\\\\n",
    "\t\\hline\n",
    " \\end{array}\n"
   ]
  },
  {
   "cell_type": "markdown",
   "id": "5ae45d11",
   "metadata": {},
   "source": [
    "#### <font color='darkblue'> Algoritmo:  Obtenção do Caminho Mais Curto"
   ]
  },
  {
   "cell_type": "markdown",
   "id": "acd981e5",
   "metadata": {},
   "source": [
    "<font color='darkblue'> procedure (G: grafo simples conexo com todos os pesos positivos)\n",
    "<br><br>\n",
    " $\\ \\ \\ $ G tem vértices $v_{0}, v_{1}, \\cdots v_{n}$, ... e pesos $w(v_{i},v_{j})$ em que $w(v_{i},v_{j}) = \\infty$ se $(v_{i},v_{j})$ não for uma aresta de G<br><br>\n",
    " $\\ \\ \\ $ <b>for</b> $i := 1$ <b>to</b> $n$<br><br>\n",
    " $\\ \\ \\ \\ \\ \\ $ $L(v_{i}) :=\\infty$<br><br>\n",
    " $\\ \\ \\ $ $L(a) = 0$<br><br>\n",
    " $\\ \\ \\ $ $S:= \\emptyset$<br><br>\n",
    " $\\ \\ \\ $ {os rótulos agora são inicializados de modo que o rótulo de a seja $0$ e todos os outros sejam $\\infty$, e $S$ seja o conjunto vazio}<br><br>\n",
    " $\\ \\ \\ $ <b>while</b> $v_{n} \\notin S$<br><br>\n",
    " $\\ \\ \\ \\ \\ \\ $ <b>begin</b><br><br>\n",
    " $\\ \\ \\ \\ \\ \\ \\ \\ \\ \\ $ $u:=$ um vértice que não está em $S$, com $L(u)$ mínimo<br><br>\n",
    " $\\ \\ \\ \\ \\ \\ \\ \\ \\ \\ $ $S:=S \\cup \\{u\\}$<br><br>\n",
    " $\\ \\ \\ \\ \\ \\ \\ \\ \\ \\ $ <b>for</b> todos os vértices $v$ que não estão em $S$<br><br>\n",
    " $\\ \\ \\ \\ \\ \\ \\ \\ \\ \\ \\ \\ \\ \\ $ <b>if</b> $L(u) + w(u,v) < L(v)$ <b>then</b> $L(v) := L(u) + w(u,v)$ <br><br>\n",
    " $\\ \\ \\ \\ \\ \\ \\ \\ \\ \\ \\ \\ \\ \\ $ $\\{$isso adiciona um vértice $S$ com rótulo mínimo e atualiza os rótulos dos vértices que estão em $S$$\\}$<br><br>\n",
    " $\\ \\ \\ \\ \\ \\ $ <b>end</b> $\\{$L(v_{n}) = comprimento de um caminho mais curto de $v_{0}$ para $v_{n}$$\\}$<br><br>\n",
    " end procedure\n",
    "</font>"
   ]
  },
  {
   "cell_type": "markdown",
   "id": "b64c08d5",
   "metadata": {},
   "source": [
    "#### <font color='blue'> Exemplo 3 </font>"
   ]
  },
  {
   "cell_type": "markdown",
   "id": "a4946455",
   "metadata": {},
   "source": [
    "<font color='blue'> Qual é o caminho de comprimento mais curto entre $a$ e $f$ no grafo ponderado mostrado na figura a seguir?<br><br>\n",
    " <center> <img src=\"fig10_4.jpg\" alt=\"jpg_python\" width=\"250\" height=\"\"> </center><br>"
   ]
  },
  {
   "cell_type": "markdown",
   "id": "fd268379",
   "metadata": {},
   "source": [
    "##### <font color='blue'> Solução </font>"
   ]
  },
  {
   "cell_type": "markdown",
   "id": "2432cb18",
   "metadata": {},
   "source": [
    "<font color='blue'> A ordem de escolha dos caminhos está exposta na figura a seguir:<br><br>\n",
    " <center> <img src=\"fig10_5.jpg\" alt=\"jpg_python\" width=\"500\" height=\"\"> </center><br>\n",
    " A tabela a seguir nos ajudará a compreender o que ocorreu em cada passo:<br><br>\n",
    " \\begin{array}{|ccccc|}\n",
    "\\hline\n",
    "Caminho\t& vértices & comprimento & Atualização & Cancelamento \\\\\n",
    "\\hline\n",
    "C_{1}\t& a,b & 6 & - & Sim, para \\ C_{3} \\\\\n",
    "C_{2}\t& a,c & 4 & AT(1) :C_{1} \\rightarrow C_{3} \\ ou \\ C_{1} \\rightarrow C_{4} \\ ou \\ C_{1} \\rightarrow C_{5}   & Não\\\\\n",
    "C_{3}\t& a,c,b & 5 & AT(2) :C_{3} \\rightarrow C_{6} & Não\\\\\n",
    "C_{4}\t& a,c,d & 12 & - & Sim, para \\ C_{6} \\\\\n",
    "C_{5}\t& a,c,e & 15 & - & Sim, para \\ C_{7}\\\\\n",
    "C_{6}\t& a,c,b,d & 10 & AT(3) :C_{6} \\rightarrow C_{7} \\ ou \\ C_{6} \\rightarrow C_{8} & Não\\\\\n",
    "C_{7}\t& a,c,b,d,e & 13 & AT(4) :C_{7} \\rightarrow C_{9} & Não\\\\\n",
    "C_{8}\t& a,c,b,d,\\underline{f} & 16 & - & Sim, para \\ C_{9}\\\\\n",
    "C_{9}\t& a,c,b,d,e,\\underline{f} & 15 & Trajetória \\ mínima & Não\\\\\n",
    "\\hline\n",
    " \\end{array}"
   ]
  },
  {
   "cell_type": "markdown",
   "id": "3fa5f110",
   "metadata": {},
   "source": [
    "# <div style=\"margin-top: -20px;\">\n",
    "<hr style=\"border: 2px solid black;\">\n",
    "\n",
    "<font color='black'><span style=\"font-size: 22px;\"><strong>10.3 Exercícios</strong></span></font>\n",
    "\n",
    "<hr style=\"border: 2px solid black;\">\n",
    "</div>"
   ]
  },
  {
   "cell_type": "markdown",
   "id": "cefa3c75",
   "metadata": {},
   "source": [
    "#### Exercício 1"
   ]
  },
  {
   "cell_type": "markdown",
   "id": "f467d038",
   "metadata": {},
   "source": [
    "Aplique o algoritmo de Dijkstra para obter o caminho de menor soma dos pesos entre os vértices $a$ e $f$ no grafo ponderado fornecido.<br><br>\n",
    " <center> <img src=\"fig10_6.jpg\" alt=\"jpg_python\" width=\"250\" height=\"\"> </center><br>"
   ]
  },
  {
   "cell_type": "markdown",
   "id": "8c17a186",
   "metadata": {},
   "source": [
    "#### Exercício 2"
   ]
  },
  {
   "cell_type": "markdown",
   "id": "c839df96",
   "metadata": {},
   "source": [
    "Aplique o algoritmo de Dijkstra para obter o caminho de menor soma dos pesos entre os vértices $a$ e $h$ no grafo ponderado fornecido.<br><br>\n",
    " <center> <img src=\"fig10_7.jpg\" alt=\"jpg_python\" width=\"300\" height=\"\"> </center><br>\n"
   ]
  },
  {
   "cell_type": "markdown",
   "id": "d52ee48a",
   "metadata": {},
   "source": [
    "## <div style=\"margin-top: -20px;\">\n",
    "<hr style=\"border: 2px solid black;\">\n",
    "\n",
    "<font color='black'><span style=\"font-size: 18px;\"><strong>Respostas</strong></span></font>\n",
    "\n",
    "<hr style=\"border: 2px solid black;\">\n",
    "</div>"
   ]
  },
  {
   "cell_type": "markdown",
   "id": "08aa690c",
   "metadata": {},
   "source": [
    "#### Respostas do Exercício 1"
   ]
  },
  {
   "cell_type": "markdown",
   "id": "185ea011",
   "metadata": {},
   "source": [
    "Caminho $a,d,e,f$ com soma dos pesos $5$."
   ]
  },
  {
   "cell_type": "markdown",
   "id": "a9c59a82",
   "metadata": {},
   "source": [
    "#### Respostas do Exercício 2"
   ]
  },
  {
   "cell_type": "markdown",
   "id": "63314ca2",
   "metadata": {},
   "source": [
    "Caminho $a,c,d,e,g,h$ com soma dos pesos $16$."
   ]
  },
  {
   "cell_type": "markdown",
   "id": "77040c68",
   "metadata": {},
   "source": [
    "# <div style=\"margin-top: -20px;\">\n",
    "<hr style=\"border: 2px solid black;\">\n",
    "\n",
    "<font color='black'><span style=\"font-size: 22px;\"><strong>10.4 Vídeo Aulas</strong></span></font>\n",
    "\n",
    "<hr style=\"border: 2px solid black;\">\n",
    "</div>"
   ]
  },
  {
   "cell_type": "markdown",
   "id": "a22169bb",
   "metadata": {},
   "source": [
    "Clicando nos links a seguir você será redirecionado às aulas referentes a este capítulo.\n",
    "\n",
    "[O Problema do Caminho Mais Curto](https://youtu.be/HkXGCtLk9K0)\n",
    "\n",
    "[Algoritmo de Dijkstra](https://youtu.be/rWog_1BaF5U)\n",
    "\n",
    "[Exemplo Envolvendo o Algoritmo de Djikstra](https://youtu.be/mkxQzpQNp1U)"
   ]
  },
  {
   "cell_type": "markdown",
   "id": "72581701",
   "metadata": {},
   "source": [
    "# <div style=\"margin-top: -20px;\">\n",
    "<hr style=\"border: 2px solid black;\">\n",
    "\n",
    "<font color='black'><span style=\"font-size: 22px;\"><strong>10.5 No Computador (Experimental)</strong></span></font>\n",
    "\n",
    "<hr style=\"border: 2px solid black;\">\n",
    "</div>"
   ]
  },
  {
   "cell_type": "markdown",
   "id": "9f233b56",
   "metadata": {},
   "source": [
    "Para o exemplo a seguir utilizamos o grafo dado no **Exemplo 2**."
   ]
  },
  {
   "cell_type": "code",
   "execution_count": 62,
   "id": "019be255",
   "metadata": {
    "ExecuteTime": {
     "end_time": "2023-08-28T02:33:32.701776Z",
     "start_time": "2023-08-28T02:33:32.690781Z"
    }
   },
   "outputs": [],
   "source": [
    "grafo_G = [('a','b', {'weight': 6}), ('a','c', {'weight': 4}), \\\n",
    "           ('b','d', {'weight': 5}), ('b','e', {'weight': 5}), \\\n",
    "           ('c','e', {'weight': 3}), ('d','f', {'weight': 4}), \\\n",
    "           ('e','f', {'weight': 3})]"
   ]
  },
  {
   "cell_type": "markdown",
   "id": "727d714a",
   "metadata": {},
   "source": [
    "##### Exibindo o caminho de menor custo e o custo mínimo"
   ]
  },
  {
   "cell_type": "code",
   "execution_count": 23,
   "id": "54eca66f",
   "metadata": {
    "ExecuteTime": {
     "end_time": "2023-08-28T02:02:19.066308Z",
     "start_time": "2023-08-28T02:02:16.421378Z"
    }
   },
   "outputs": [
    {
     "name": "stdout",
     "output_type": "stream",
     "text": [
      "Caminho mais curto entre a e f é: ['a', 'c', 'e', 'f']\n",
      "O custo mínimo entre a e f é: 10\n"
     ]
    }
   ],
   "source": [
    "import networkx as nx\n",
    "\n",
    "G = nx.Graph()\n",
    "G.add_edges_from(grafo_G)\n",
    "\n",
    "v_i = 'a'\n",
    "v_f = 'f'\n",
    "\n",
    "# Retorna o caminho mais curto\n",
    "shortest_path = nx.dijkstra_path(G, source=v_i, target=v_f, weight='weight')\n",
    "\n",
    "# Retorna o custo do caminho mais curto\n",
    "shortest_path_length = nx.dijkstra_path_length(G, source='a', target='f', weight='weight')\n",
    "\n",
    "print(f\"Caminho mais curto entre {v_i} e {v_f} é:\", shortest_path)\n",
    "print(f\"O custo mínimo entre {v_i} e {v_f} é:\", shortest_path_length)\n"
   ]
  },
  {
   "cell_type": "markdown",
   "id": "dbd9068c",
   "metadata": {},
   "source": [
    "##### Exibindo o caminho de menor custo, o custo mínimo e o esboço gráfico"
   ]
  },
  {
   "cell_type": "code",
   "execution_count": 63,
   "id": "0fcb5a27",
   "metadata": {},
   "outputs": [
    {
     "name": "stdout",
     "output_type": "stream",
     "text": [
      "Caminho mais curto entre b e c é: ['b', 'e', 'c']\n",
      "O custo mínimo entre b e c é: 8\n"
     ]
    },
    {
     "data": {
      "image/png": "[encoded data removed]",
      "text/plain": [
       "<Figure size 432x288 with 1 Axes>"
      ]
     },
     "metadata": {},
     "output_type": "display_data"
    }
   ],
   "source": [
    "import networkx as nx\n",
    "import matplotlib.pyplot as plt\n",
    "\n",
    "G = nx.Graph()\n",
    "G.add_edges_from(grafo_G)\n",
    "\n",
    "v_i = 'b'\n",
    "v_f = 'c'\n",
    "\n",
    "shortest_path = nx.dijkstra_path(G, source=v_i, target=v_f, weight='weight')\n",
    "shortest_path_length = nx.dijkstra_path_length(G, source=v_i, target=v_f, weight='weight')\n",
    "\n",
    "# Cria um dicionário de posições dos nós para facilitar o desenho\n",
    "pos = nx.spring_layout(G)\n",
    "\n",
    "# Desenha os nós\n",
    "nx.draw(G, pos, with_labels=True, node_size=1000, font_size=10, font_color='white', node_color='blue')\n",
    "\n",
    "# Desenha as arestas com os pesos\n",
    "edge_labels = {(u, v): d['weight'] for u, v, d in G.edges(data=True)}\n",
    "nx.draw_networkx_edge_labels(G, pos, edge_labels=edge_labels, font_size=8)\n",
    "\n",
    "# Desenha o caminho mais curto em destaque\n",
    "edges = [(shortest_path[i], shortest_path[i+1]) for i in range(len(shortest_path)-1)]\n",
    "nx.draw_networkx_edges(G, pos, edgelist=edges, edge_color='r', width=2)\n",
    "\n",
    "print(f\"Caminho mais curto entre {v_i} e {v_f} é:\", shortest_path)\n",
    "print(f\"O custo mínimo entre {v_i} e {v_f} é:\", shortest_path_length)\n",
    "\n",
    "plt.show()\n"
   ]
  },
  {
   "cell_type": "markdown",
   "id": "e3c9981e",
   "metadata": {},
   "source": [
    "##### Exibindo custo mínimo entre um vértice e os demais vértices de um grafo"
   ]
  },
  {
   "cell_type": "code",
   "execution_count": 27,
   "id": "6b94b8cf",
   "metadata": {},
   "outputs": [
    {
     "name": "stdout",
     "output_type": "stream",
     "text": [
      "Dicionário de predecessores:\n",
      "{'a': [], 'b': ['a'], 'c': ['a'], 'e': ['c'], 'd': ['b'], 'f': ['e']}\n",
      "Dicionário de distâncias:\n",
      "{'a': 0, 'c': 4, 'b': 6, 'e': 7, 'f': 10, 'd': 11}\n"
     ]
    }
   ],
   "source": [
    "import networkx as nx\n",
    "\n",
    "G = nx.Graph()\n",
    "G.add_edges_from(grafo_G)\n",
    "\n",
    "v_i = 'a'\n",
    "    \n",
    "# Retorna um dicionário de predecessores e um dicionário de distâncias do nó v_i para todos os outros nós\n",
    "predecessors, distances = nx.dijkstra_predecessor_and_distance(G, source=v_i, weight='weight')\n",
    "\n",
    "print(\"Dicionário de predecessores:\")\n",
    "print(predecessors)\n",
    "\n",
    "print(\"Dicionário de distâncias:\")\n",
    "print(distances)\n"
   ]
  },
  {
   "cell_type": "markdown",
   "id": "0fcce7ee",
   "metadata": {},
   "source": [
    "##### Exibindo custo mínimo entre um conjunto de vértices e um vértice específico"
   ]
  },
  {
   "cell_type": "markdown",
   "id": "fdc4220d",
   "metadata": {},
   "source": [
    "Neste caso selecionase o caminho mais curto entre os vértices presentes na lista \"suorces\" e o vértice da lista \"target\"."
   ]
  },
  {
   "cell_type": "code",
   "execution_count": 69,
   "id": "7020760c",
   "metadata": {},
   "outputs": [
    {
     "name": "stdout",
     "output_type": "stream",
     "text": [
      "Distances: 8\n",
      "Paths: ['b', 'e', 'f']\n"
     ]
    }
   ],
   "source": [
    "import networkx as nx\n",
    "\n",
    "G = nx.Graph()\n",
    "G.add_edges_from(grafo_G)\n",
    "sources = ['a', 'b'] # Conjunto de vértices\n",
    "target = 'f' # Vértice objetivo\n",
    "distances, paths = nx.multi_source_dijkstra(G, sources, target, weight='weight')\n",
    "print(\"Distances:\", distances)\n",
    "print(\"Paths:\", paths)\n"
   ]
  }
 ],
 "metadata": {
  "kernelspec": {
   "display_name": "Python 3 (ipykernel)",
   "language": "python",
   "name": "python3"
  },
  "language_info": {
   "codemirror_mode": {
    "name": "ipython",
    "version": 3
   },
   "file_extension": ".py",
   "mimetype": "text/x-python",
   "name": "python",
   "nbconvert_exporter": "python",
   "pygments_lexer": "ipython3",
   "version": "3.11.5"
  },
  "varInspector": {
   "cols": {
    "lenName": 16,
    "lenType": 16,
    "lenVar": 40
   },
   "kernels_config": {
    "python": {
     "delete_cmd_postfix": "",
     "delete_cmd_prefix": "del ",
     "library": "var_list.py",
     "varRefreshCmd": "print(var_dic_list())"
    },
    "r": {
     "delete_cmd_postfix": ") ",
     "delete_cmd_prefix": "rm(",
     "library": "var_list.r",
     "varRefreshCmd": "cat(var_dic_list()) "
    }
   },
   "types_to_exclude": [
    "module",
    "function",
    "builtin_function_or_method",
    "instance",
    "_Feature"
   ],
   "window_display": false
  }
 },
 "nbformat": 4,
 "nbformat_minor": 5
}
