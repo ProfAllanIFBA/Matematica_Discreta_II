{
 "cells": [
  {
   "cell_type": "markdown",
   "id": "ce33096c",
   "metadata": {},
   "source": [
    "<center> <img src=\"logo_ifba.jpg\" alt=\"jpg_python\" width=\"100\" height=\"\"> </center>\n",
    "<br><br>\n",
    "<div align=\"center\"><span style=\"font-size: 26px;\"><strong>Matemática Discreta II <br></strong></span></div> <br>\n",
    "<center> <img src=\"python_gif.gif\" alt=\"gif_python\" width=\"80\"> </center>"
   ]
  },
  {
   "cell_type": "markdown",
   "id": "c5073180",
   "metadata": {},
   "source": [
    "<div style=\"border: 2px solid black; padding: 10px; width: 95%; background-color: lightgray; display: flex; align-items: center;\">\n",
    "    <h1 style=\"color: red; text-align: center; margin: auto;\">\n",
    "        Capítulo 11: Grafos Planares\n",
    "    </h1>\n",
    "</div>\n",
    "\n",
    "<font color='red'></font>\n",
    "<a href=\"\"></a>"
   ]
  },
  {
   "cell_type": "markdown",
   "id": "efb1d751",
   "metadata": {},
   "source": [
    "Nesta seção, estudaremos a questão: \"Como saber se um dado grafo pode ser desenhado no plano sem cruzar as arestas?''. Há sempre muitas maneiras de representar um grafo. Quando é possível encontrar pelo menos uma maneira de representar este grafo em um plano sem nenhuma borda cruzando?"
   ]
  },
  {
   "cell_type": "markdown",
   "id": "f47eed5d",
   "metadata": {},
   "source": [
    "# <div style=\"margin-top: -20px;\">\n",
    "<hr style=\"border: 2px solid black;\">\n",
    "\n",
    "<font color='black'><span style=\"font-size: 22px;\"><strong>11.1 Motivação Incial</strong></span></font>\n",
    "\n",
    "<hr style=\"border: 2px solid black;\">\n",
    "</div>"
   ]
  },
  {
   "cell_type": "markdown",
   "id": "9e9c75ab",
   "metadata": {},
   "source": [
    "Considere o problema de unir três casas a cada um dos três utilitários separados, água, gás e eletricidade, como mostra a figura a seguir.<br><br>\t\n",
    "<center> <img src=\"fig11_1.jpg\" alt=\"jpg_python\" width=\"250\" height=\"\"> </center><br>\n",
    "É possível unir, de forma \"plana\", essas casas e utilitários para que nenhuma das conexões seja cruzada? Este problema pode ser modelado usando o grafo bipartido completo $K_{3,3}$. A questão original pode ser reformulada como: O $K_{3,3}$ pode ser desenhado no plano de modo que não haja duas de suas bordas cruzadas."
   ]
  },
  {
   "cell_type": "markdown",
   "id": "b478b5e6",
   "metadata": {},
   "source": [
    "# <div style=\"margin-top: -20px;\">\n",
    "<hr style=\"border: 2px solid black;\">\n",
    "\n",
    "<font color='black'><span style=\"font-size: 22px;\"><strong>11.2 Definição e Resultados</strong></span></font>\n",
    "\n",
    "<hr style=\"border: 2px solid black;\">\n",
    "</div>"
   ]
  },
  {
   "cell_type": "markdown",
   "id": "62c5b8e2",
   "metadata": {},
   "source": [
    "#### <font color='red'> Definição 1 </font>"
   ]
  },
  {
   "cell_type": "markdown",
   "id": "a49727a4",
   "metadata": {},
   "source": [
    "<font color='red'> Um grafo é chamado **planar** se puder ser desenhado no plano sem nenhuma aresta cruzando (onde um cruzamento de arestas é a interseção das linhas ou arcos que os representam em um ponto diferente de seu ponto final comum). Esse desenho é chamado de representação planar do grafo."
   ]
  },
  {
   "cell_type": "markdown",
   "id": "50704772",
   "metadata": {},
   "source": [
    "#### <font color='blue'> Exemplo 1 </font>"
   ]
  },
  {
   "cell_type": "markdown",
   "id": "8cf06f05",
   "metadata": {},
   "source": [
    "<font color='blue'> Note que $K_{4}$ é planar.<br><br>\n",
    "<center> <img src=\"fig11_2.jpg\" alt=\"jpg_python\" width=\"330\" height=\"\"> </center>"
   ]
  },
  {
   "cell_type": "markdown",
   "id": "5806d971",
   "metadata": {},
   "source": [
    "#### Aplicação"
   ]
  },
  {
   "cell_type": "markdown",
   "id": "4c4d05c9",
   "metadata": {},
   "source": [
    "A planaridade dos grafos também é útil no projeto de redes rodoviárias. Suponha que queremos conectar um grupo de cidades por estradas. Podemos modelar uma rede viária conectando essas cidades usando um grafo simples com vértices representando as cidades e as arestas representando as rodovias que as conectam. Podemos construir essa rede rodoviária sem usar passagens subterrâneas ou viadutos caso o grafo resultante seja plano. *Qual o custo de construção e manutenção de cada $300 \\ km$ de túnel, ou de viaduto? Bem mais caro que de uma estrada comum de alguns quilômetros, não?*"
   ]
  },
  {
   "cell_type": "markdown",
   "id": "8c6a5d4e",
   "metadata": {},
   "source": [
    "# <div style=\"margin-top: -20px;\">\n",
    "<hr style=\"border: 2px solid black;\">\n",
    "\n",
    "<font color='black'><span style=\"font-size: 22px;\"><strong>11.2.1 Condições de Planaridade</strong></span></font>\n",
    "\n",
    "<hr style=\"border: 2px solid black;\">\n",
    "</div>"
   ]
  },
  {
   "cell_type": "markdown",
   "id": "28b9af20",
   "metadata": {},
   "source": [
    "Uma representação planar de um grafo divide o plano em regiões, incluindo uma região não limitada. Euler mostrou que todas as representações planares de um grafo dividem o plano no mesmo número de regiões. Ele conseguiu isso encontrando uma relação entre o número de regiões, o número de vértices e o número de arestas de um grafo planar. Este resultado é expresso no teorema a seguir."
   ]
  },
  {
   "cell_type": "markdown",
   "id": "97079dfe",
   "metadata": {},
   "source": [
    "#### <font color='red'> Teorema 1 </font>"
   ]
  },
  {
   "cell_type": "markdown",
   "id": "dbcfa55c",
   "metadata": {},
   "source": [
    "<font color='red'> Seja $G$ um grafo simples planar conexo com  $e$ bordas e $v$ vértices. Seja $r$ o número de regiões em uma representação planar de $G$. Então $r = e - v + 2$."
   ]
  },
  {
   "cell_type": "markdown",
   "id": "2cfd329e",
   "metadata": {},
   "source": [
    "#### <font color='blue'> Exemplo 2 </font>"
   ]
  },
  {
   "cell_type": "markdown",
   "id": "5c3ca7f3",
   "metadata": {},
   "source": [
    "<font color='blue'> Uma representação planar do grafo $G$ mostrado na figura a seguir divide o plano em seis regiões (a parte externa ao grafo também conta!).<br><br>\n",
    " <center> <img src=\"fig11_3.jpg\" alt=\"jpg_python\" width=\"500\" height=\"\"> </center><br>\n",
    " Note que o grafo $G$ conta com $8 (v)$ vértices e $12 (e)$ arestas. Por fim,<br><br>\n",
    "    $$6 = 12 - 8 + 2,$$<br>\n",
    " exatamente como esperado."
   ]
  },
  {
   "cell_type": "markdown",
   "id": "53bf91ba",
   "metadata": {},
   "source": [
    "#### <font color='blue'> Exemplo 3 </font>"
   ]
  },
  {
   "cell_type": "markdown",
   "id": "b49803e0",
   "metadata": {},
   "source": [
    "<font color='blue'> Suponha que um grafo simples planar conexo tenha $6$ vértices, cada um de grau $4$. Em quantas regiões uma representação deste grafo planar divide o plano?"
   ]
  },
  {
   "cell_type": "markdown",
   "id": "88532223",
   "metadata": {},
   "source": [
    "##### <font color='blue'> Solução </font>"
   ]
  },
  {
   "cell_type": "markdown",
   "id": "06b5dda6",
   "metadata": {},
   "source": [
    "<font color='blue'> Como a soma dos graus dos vértices é igual a duas vezes o número de arestas (Teorema \\ref{teo2-1} repassando $m$ para $e$), temos que<br><br>\n",
    "$$4\\cdot6 = 2e \\Leftrightarrow e = \\frac{24}{2} = 12.$$<br>\n",
    " Consequentemente, da fórmula de Euler (**Teorema 1**), o número de regiões é $r = e - v + 2 = 12 - 6 + 2 = 8$."
   ]
  },
  {
   "cell_type": "markdown",
   "id": "3700bb1e",
   "metadata": {},
   "source": [
    "#### <font color='red'> Corolário 1 </font>"
   ]
  },
  {
   "cell_type": "markdown",
   "id": "59b1cdb3",
   "metadata": {},
   "source": [
    "<font color='red'> Se $G$ é um grafo simples planar conectado com $e$ arestas e $v$ vértices, onde $v \\geq 3$, então $e \\leq 3v - 6$."
   ]
  },
  {
   "cell_type": "markdown",
   "id": "0b23aa78",
   "metadata": {},
   "source": [
    "#### <font color='blue'> Exemplo 4 </font>"
   ]
  },
  {
   "cell_type": "markdown",
   "id": "97575360",
   "metadata": {},
   "source": [
    "<font color='blue'> Mostre que $K_{5}$ não é plano usando o **Corolário 1**.\n"
   ]
  },
  {
   "cell_type": "markdown",
   "id": "acac5bc4",
   "metadata": {},
   "source": [
    "##### <font color='blue'> Solução </font>"
   ]
  },
  {
   "cell_type": "markdown",
   "id": "32d83e20",
   "metadata": {},
   "source": [
    "<font color='blue'> O grafo $K_{5}$ tem cinco vértices e dez arestas. No entanto, a desigualdade $e \\leq 3v - 6$ não é satisfeita para este grafo porque $e = 10$ e $3v - 6 = 9$. Portanto, $K_{5}$ não é planar."
   ]
  },
  {
   "cell_type": "markdown",
   "id": "e9dee66e",
   "metadata": {},
   "source": [
    "#### <font color='purple'> Revisando </font>"
   ]
  },
  {
   "cell_type": "markdown",
   "id": "f68f6891",
   "metadata": {},
   "source": [
    "<font color='purple'> A contrapositiva de uma proposição (teorema, corolário ou lema) da forma $P \\Rightarrow Q$ é a proposição da forma $\\neg Q \\Rightarrow \\neg P$ e tem valor logicamente equivalente à primeira."
   ]
  },
  {
   "cell_type": "markdown",
   "id": "405544f1",
   "metadata": {},
   "source": [
    "#### <font color='green'> Palavras dos Mestres </font>"
   ]
  },
  {
   "cell_type": "markdown",
   "id": "cd162539",
   "metadata": {},
   "source": [
    "<font color='green'> Note que, no **Exemplo 4**, usamos a contrapositiva do **Corolário 1**. De modo geral usaremos este corolário para mostrar que um grafo não é planar. O mesmo se dará com os dois corolários seguintes! Para exemplificar, vejamos a contrapositiva do **Corolário 1**: \"Se $G$ é um grafo com $e$ arestas e $v$ vértices tais que $e > 3v - 6$, então $G$ não é simples ou não é planar ou não é conexo.\" No **Exemplo 4** sabiamos que $K_{5}$ era simples e conexo além de conhecermos o número de vértices e arestas. Portanto só restava a ele não ser planar (ou não). Destrinchando, o **Corolário 1** pode ser visto simbolicamente como $P \\wedge Q \\wedge R \\Rightarrow S$ com $P$: $G$ é um grafo simples, $Q$: $G$ é um grafo conexo, $R$: $G$ é um grafo planar e $S$: $e \\leq 3v-6$. Portanto, tomando a contrapositiva, temos:<br><br>\n",
    "$$\\neg S \\Rightarrow \\neg (P \\wedge Q \\wedge R) \\equiv \\neg S \\Rightarrow \\neg P \\vee \\neg Q \\vee \\neg R $$<br>\n",
    "Como dito, $\\neg P$ é falsa pelo enunciado ($G$ é simples), $\\neg Q$ é falsa pelo enunciado ($G$ é conexo) e portanto $\\neg R$ tem que ser verdadeira, isto é, $G$ não será planar."
   ]
  },
  {
   "cell_type": "markdown",
   "id": "ce25914b",
   "metadata": {},
   "source": [
    "#### <font color='red'> Corolário 2 </font>"
   ]
  },
  {
   "cell_type": "markdown",
   "id": "ea12279b",
   "metadata": {},
   "source": [
    "<font color='red'> Se um grafo simples planar conectado tiver $e$ arestas e $v$ vértices com $v \\geq 3$ e nenhum circuito de comprimento três, então $e \\leq 2v - 4$."
   ]
  },
  {
   "cell_type": "markdown",
   "id": "58415bc8",
   "metadata": {},
   "source": [
    "#### <font color='blue'> Exemplo 5 </font>"
   ]
  },
  {
   "cell_type": "markdown",
   "id": "1f9f244e",
   "metadata": {},
   "source": [
    "<font color='blue'> Use o **Corolário 2** para mostrar que $K_{3,3}$ não é plano."
   ]
  },
  {
   "cell_type": "markdown",
   "id": "a6d13d51",
   "metadata": {},
   "source": [
    "##### <font color='blue'> Solução"
   ]
  },
  {
   "cell_type": "markdown",
   "id": "4debb9d1",
   "metadata": {},
   "source": [
    "<font color='blue'> Como $K_{3,3}$ não possui circuitos de comprimento três (isso é fácil de ver pois é bipartido), o **Corolário 2** pode ser usado. $K_{3,3}$ tem seis vértices e nove arestas. Como $e = 9$ e $2v - 4 = 8$, o **Corolário 2** mostra que $K_{3,3}$ é não plano."
   ]
  },
  {
   "cell_type": "markdown",
   "id": "0e699198",
   "metadata": {},
   "source": [
    "#### <font color='red'> Corolário 3 </font>"
   ]
  },
  {
   "cell_type": "markdown",
   "id": "26ab1bd1",
   "metadata": {},
   "source": [
    "<font color='red'> Se $G$ é um grafo simples planar conectado, então $G$ tem um vértice de grau que não excede cinco."
   ]
  },
  {
   "cell_type": "markdown",
   "id": "51d08333",
   "metadata": {},
   "source": [
    "A utilização do **Corolário 3** segue a mesma linha dos corolários anteriores nos quais são consideradas suas contrapositivas. Assim, um grafo cujos vértices apresentem graus superiores a cinco seja simples e conexo, este não poderá ser planar. Caso seja planar e conexo este não poderá ser simples e, por fim, caso seja simples e planar este não poderá ser conexo. Note que a \"simplicidade\" e a conexidade de um grafo podem ser trivialmente verificadas de tal sorte que o primeiro caso é o que nos interessa."
   ]
  },
  {
   "cell_type": "markdown",
   "id": "407301f2",
   "metadata": {},
   "source": [
    "#### <font color='red'> Teorema 3 </font>"
   ]
  },
  {
   "cell_type": "markdown",
   "id": "20a476d0",
   "metadata": {},
   "source": [
    "<font color='red'> Um grafo não é plano se, e somente se, contiver um subgrafo homeomórfico para $K_{3,3}$ ou $K_{5}$."
   ]
  },
  {
   "cell_type": "markdown",
   "id": "58fac717",
   "metadata": {},
   "source": [
    "#### <font color='purple'> Revisando </font>"
   ]
  },
  {
   "cell_type": "markdown",
   "id": "a00a8799",
   "metadata": {},
   "source": [
    "<font color='purple'> A grosso modo, um hoemomorfismo é uma transformação que preserva a forma topológica. As Figuras a seguir ilustram<br><br>\n",
    " i) o homeomorfismo existente entre um toro (câmara de ar de um pneu) e uma xícara.<br>\n",
    " ii) Outros homeomorfismo clássicos como o de um quadrado e uma circunferência e o triplo homeomorfismo existente entre um cilindro, uma esfera e um cone. <br><br>\n",
    "  <center> <img src=\"fig11_4.jpg\" alt=\"jpg_python\" width=\"500\" height=\"\"> </center><br>\n",
    "    <center> <img src=\"fig11_5.jpg\" alt=\"jpg_python\" width=\"500\" height=\"\"> </center><br>\n",
    "    Formalmente, um homeomorfismo é definido como:<br><br>\n",
    "  <font color='red'> Dois espaços topológicos dizem-se homeomorfos se existir uma aplicação entre esses espaços que seja contínua, invertível e a sua inversa seja contínua.</font><br><br>\n",
    "  Homeomorfismos preservam número de divisões do plano/espaço."
   ]
  },
  {
   "cell_type": "markdown",
   "id": "08d465ef",
   "metadata": {},
   "source": [
    "#### <font color='blue'> Exemplo 6 </font>"
   ]
  },
  {
   "cell_type": "markdown",
   "id": "58ffa341",
   "metadata": {},
   "source": [
    "<font color='blue'> Determine se o grafo $G$ mostrado na figura a seguir é plano.<br><br>\t\n",
    "<center> <img src=\"fig11_6.jpg\" alt=\"jpg_python\" width=\"250\" height=\"\"> </center>\n"
   ]
  },
  {
   "cell_type": "markdown",
   "id": "310597c9",
   "metadata": {},
   "source": [
    "##### <font color='blue'> Solução"
   ]
  },
  {
   "cell_type": "markdown",
   "id": "b7574eab",
   "metadata": {},
   "source": [
    "<font color='blue'> $G$ tem um subgrafo $H$ homeomórfico a $K_{5}$. $H$ é obtido excluindo $b$ e $h$e todas as arestas incidentes com esses vértices juntamente com uma das arestas que ligam os vértices $i$ e $c$. $H$ é homeomórfico a $K_{5}$ como pode ser visto na figura a seguir.<br><br>\n",
    "<center> <img src=\"fig11_7.jpg\" alt=\"jpg_python\" width=\"700\" height=\"\"> </center>"
   ]
  },
  {
   "cell_type": "markdown",
   "id": "3fa5f110",
   "metadata": {},
   "source": [
    "# <div style=\"margin-top: -20px;\">\n",
    "<hr style=\"border: 2px solid black;\">\n",
    "\n",
    "<font color='black'><span style=\"font-size: 22px;\"><strong>11.3 Exercícios</strong></span></font>\n",
    "\n",
    "<hr style=\"border: 2px solid black;\">\n",
    "</div>"
   ]
  },
  {
   "cell_type": "markdown",
   "id": "cefa3c75",
   "metadata": {},
   "source": [
    "#### Exercício 1"
   ]
  },
  {
   "cell_type": "markdown",
   "id": "f467d038",
   "metadata": {},
   "source": [
    "Cinco casas podem ser conectadas a dois utilitários (água e luz, por exemplo) sem conexões cruzadas?"
   ]
  },
  {
   "cell_type": "markdown",
   "id": "68ce046d",
   "metadata": {},
   "source": [
    "#### Exercício 2"
   ]
  },
  {
   "cell_type": "markdown",
   "id": "1da5b469",
   "metadata": {},
   "source": [
    "Desenhe, se possível, o grafo a seguir sem que suas arestas se cruzem.<br><br>\n",
    "<center> <img src=\"fig11_8.jpg\" alt=\"jpg_python\" width=\"200\" height=\"\"> </center>"
   ]
  },
  {
   "cell_type": "markdown",
   "id": "d7e051b9",
   "metadata": {},
   "source": [
    "#### Exercício 3"
   ]
  },
  {
   "cell_type": "markdown",
   "id": "7b73fd37",
   "metadata": {},
   "source": [
    "Determine se cada um dos grafos a seguir é planar. Em caso afirmativo, desenhe-o de modo que nenhuma aresta se cruze.<br><br>\n",
    "<center> <img src=\"fig11_9.jpg\" alt=\"jpg_python\" width=\"650\" height=\"\"> </center>\n",
    "<center> <img src=\"fig11_10.jpg\" alt=\"jpg_python\" width=\"650\" height=\"\"> </center>"
   ]
  },
  {
   "cell_type": "markdown",
   "id": "d52ee48a",
   "metadata": {},
   "source": [
    "## <div style=\"margin-top: -20px;\">\n",
    "<hr style=\"border: 2px solid black;\">\n",
    "\n",
    "<font color='black'><span style=\"font-size: 18px;\"><strong>Respostas</strong></span></font>\n",
    "\n",
    "<hr style=\"border: 2px solid black;\">\n",
    "</div>"
   ]
  },
  {
   "cell_type": "markdown",
   "id": "08aa690c",
   "metadata": {},
   "source": [
    "#### Respostas do Exercício 1"
   ]
  },
  {
   "cell_type": "markdown",
   "id": "185ea011",
   "metadata": {},
   "source": [
    "Sim."
   ]
  },
  {
   "cell_type": "markdown",
   "id": "a9c59a82",
   "metadata": {},
   "source": [
    "#### Respostas do Exercício 2"
   ]
  },
  {
   "cell_type": "markdown",
   "id": "63314ca2",
   "metadata": {},
   "source": [
    "<center> <img src=\"fig11_12.jpg\" alt=\"jpg_python\" width=\"200\" height=\"\"> </center>"
   ]
  },
  {
   "cell_type": "markdown",
   "id": "0b772ed9",
   "metadata": {},
   "source": [
    "#### Respostas do Exercício 3"
   ]
  },
  {
   "cell_type": "markdown",
   "id": "ace85f4e",
   "metadata": {},
   "source": [
    "a) Não, b) Sim, c) Não, d) Sim, e) Não. As planificações dos grafos dados nos itens b) e d) são dadas a seguir:<br><br>\n",
    "<center> <img src=\"fig11_13.jpg\" alt=\"jpg_python\" width=\"650\" height=\"\"> </center> "
   ]
  },
  {
   "cell_type": "markdown",
   "id": "77040c68",
   "metadata": {},
   "source": [
    "# <div style=\"margin-top: -20px;\">\n",
    "<hr style=\"border: 2px solid black;\">\n",
    "\n",
    "<font color='black'><span style=\"font-size: 22px;\"><strong>11.4 Vídeo Aulas</strong></span></font>\n",
    "\n",
    "<hr style=\"border: 2px solid black;\">\n",
    "</div>"
   ]
  },
  {
   "cell_type": "markdown",
   "id": "a22169bb",
   "metadata": {},
   "source": [
    "Clicando nos links a seguir você será redirecionado às aulas referentes a este capítulo.\n",
    "\n",
    "[Introdução ao Estudo dos Grafos Planares](https://youtu.be/LPYILv7qu_o)\n",
    "\n",
    "[Número de Regiões em Uma Representação Planar](https://youtu.be/pVUWWf3p6ew)\n",
    "\n",
    "[Resultados Sobre Grafos Planares - Parte 1](https://youtu.be/SgmCR3XCCS8)\n",
    "\n",
    "[Resultados Sobre Grafos Planares - Parte 2](https://youtu.be/e4divlqeLdY)"
   ]
  },
  {
   "cell_type": "markdown",
   "id": "72581701",
   "metadata": {},
   "source": [
    "# <div style=\"margin-top: -20px;\">\n",
    "<hr style=\"border: 2px solid black;\">\n",
    "\n",
    "<font color='black'><span style=\"font-size: 22px;\"><strong>11.5 No Computador (Experimental)</strong></span></font>\n",
    "\n",
    "<hr style=\"border: 2px solid black;\">\n",
    "</div>"
   ]
  },
  {
   "cell_type": "markdown",
   "id": "9f233b56",
   "metadata": {},
   "source": [
    "Para o exemplo a seguir utilizamos os grafos \"a\" e \"b\"dados no **Exercício 3**."
   ]
  },
  {
   "cell_type": "code",
   "execution_count": 5,
   "id": "019be255",
   "metadata": {
    "ExecuteTime": {
     "end_time": "2023-08-28T02:33:32.701776Z",
     "start_time": "2023-08-28T02:33:32.690781Z"
    }
   },
   "outputs": [],
   "source": [
    "grafo_G = [('a','b'), ('a','d'), ('a','f'), ('b','c'), ('b','e'), \\\n",
    "           ('c','d'), ('c','f'), ('d','e'), ('e','f')]\n",
    "\n",
    "grafo_H = [('a','c'), ('a','d'), ('a','e'), ('a','f'), ('b','c'), ('b','d'), \\\n",
    "           ('b','f'), ('c','d'), ('c','e'), ('c','f'), ('d','f'), ('d','e')]"
   ]
  },
  {
   "cell_type": "markdown",
   "id": "dbd9068c",
   "metadata": {},
   "source": [
    "##### Verifica se um grafo é planar"
   ]
  },
  {
   "cell_type": "code",
   "execution_count": 13,
   "id": "0fcb5a27",
   "metadata": {},
   "outputs": [
    {
     "name": "stdout",
     "output_type": "stream",
     "text": [
      "O grafo é planar.\n"
     ]
    }
   ],
   "source": [
    "import networkx as nx\n",
    "\n",
    "G = nx.Graph()\n",
    "G.add_edges_from(grafo_H)\n",
    "\n",
    "is_planar = nx.is_planar(G)\n",
    "\n",
    "if is_planar == True:\n",
    "    print(\"O grafo é planar.\")\n",
    "else:\n",
    "    print(\"O grafo não é planar.\")"
   ]
  },
  {
   "cell_type": "markdown",
   "id": "727d714a",
   "metadata": {},
   "source": [
    "##### Desenhando um grafo planar"
   ]
  },
  {
   "cell_type": "code",
   "execution_count": 8,
   "id": "54eca66f",
   "metadata": {
    "ExecuteTime": {
     "end_time": "2023-08-28T02:02:19.066308Z",
     "start_time": "2023-08-28T02:02:16.421378Z"
    }
   },
   "outputs": [
    {
     "data": {
      "image/png": "[encoded data removed]",
      "text/plain": [
       "<Figure size 640x480 with 1 Axes>"
      ]
     },
     "metadata": {},
     "output_type": "display_data"
    }
   ],
   "source": [
    "import networkx as nx\n",
    "import matplotlib.pyplot as plt\n",
    "\n",
    "G = nx.Graph()\n",
    "G.add_edges_from(grafo_H) # Repasse paga o grafo G >>> Saída com erro (G é não planar)\n",
    "\n",
    "# Desenha o grafo planar usando o layout de Schnyder\n",
    "nx.draw_planar(G, with_labels=True)\n",
    "plt.show()"
   ]
  },
  {
   "cell_type": "markdown",
   "id": "069bca2b",
   "metadata": {},
   "source": [
    "##### Verificação de planaridade em conjunto com desenho quando for o caso (Schnyder)"
   ]
  },
  {
   "cell_type": "code",
   "execution_count": 15,
   "id": "d80480f4",
   "metadata": {},
   "outputs": [
    {
     "name": "stdout",
     "output_type": "stream",
     "text": [
      "O grafo não é planar.\n"
     ]
    }
   ],
   "source": [
    "import networkx as nx\n",
    "import matplotlib.pyplot as plt\n",
    "\n",
    "G = nx.Graph()\n",
    "G.add_edges_from(grafo_G)\n",
    "\n",
    "is_planar = nx.is_planar(G)\n",
    "\n",
    "if is_planar == True:\n",
    "    # Desenha o grafo planar usando o layout de Schnyder\n",
    "    nx.draw_planar(G, with_labels=True)\n",
    "    plt.show()\n",
    "else:\n",
    "    print(\"O grafo não é planar.\")"
   ]
  }
 ],
 "metadata": {
  "kernelspec": {
   "display_name": "Python 3 (ipykernel)",
   "language": "python",
   "name": "python3"
  },
  "language_info": {
   "codemirror_mode": {
    "name": "ipython",
    "version": 3
   },
   "file_extension": ".py",
   "mimetype": "text/x-python",
   "name": "python",
   "nbconvert_exporter": "python",
   "pygments_lexer": "ipython3",
   "version": "3.11.5"
  },
  "varInspector": {
   "cols": {
    "lenName": 16,
    "lenType": 16,
    "lenVar": 40
   },
   "kernels_config": {
    "python": {
     "delete_cmd_postfix": "",
     "delete_cmd_prefix": "del ",
     "library": "var_list.py",
     "varRefreshCmd": "print(var_dic_list())"
    },
    "r": {
     "delete_cmd_postfix": ") ",
     "delete_cmd_prefix": "rm(",
     "library": "var_list.r",
     "varRefreshCmd": "cat(var_dic_list()) "
    }
   },
   "types_to_exclude": [
    "module",
    "function",
    "builtin_function_or_method",
    "instance",
    "_Feature"
   ],
   "window_display": false
  }
 },
 "nbformat": 4,
 "nbformat_minor": 5
}
