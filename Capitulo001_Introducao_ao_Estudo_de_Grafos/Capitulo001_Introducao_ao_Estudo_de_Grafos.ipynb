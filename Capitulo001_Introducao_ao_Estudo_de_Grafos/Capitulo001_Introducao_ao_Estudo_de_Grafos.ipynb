{
 "cells": [
  {
   "cell_type": "markdown",
   "id": "d4ea28a8",
   "metadata": {
    "slideshow": {
     "slide_type": "slide"
    }
   },
   "source": [
    "<center> <img src=\"logo_ifba.jpg\" alt=\"jpg_python\" width=\"100\" height=\"200\"> </center>\n",
    "<br><br>\n",
    "<div align=\"center\"><span style=\"font-size: 26px;\"><strong>Matemática Discreta II <br></strong></span></div> <br>\n",
    "<center> <img src=\"python_gif.gif\" alt=\"gif_python\" width=\"80\"> </center>"
   ]
  },
  {
   "cell_type": "markdown",
   "id": "d76184a7",
   "metadata": {
    "slideshow": {
     "slide_type": "slide"
    }
   },
   "source": [
    "<div style=\"border: 2px solid black; padding: 10px; width: 95%; background-color: lightgray; display: flex; align-items: center;\">\n",
    "    <h1 style=\"color: red; text-align: center; margin: auto;\">\n",
    "        Capítulo 1: Introdução ao Estudo de Grafos\n",
    "    </h1>\n",
    "</div>\n",
    "\n",
    "<font color='red'></font>\n",
    "<a href=\"\"></a>"
   ]
  },
  {
   "cell_type": "markdown",
   "id": "7142d16f",
   "metadata": {},
   "source": [
    "Os grafos são estruturas matemáticas poderosas e versáteis que desempenham um papel fundamental em várias áreas, como ciência da computação, matemática aplicada e engenharia. Um grafo consiste em um conjunto de nós (também chamados de vértices) conectados por arestas. Essas conexões representam relacionamentos ou interações entre os nós. Os grafos fornecem uma representação visual e abstrata de problemas complexos, permitindo análises, modelagens e soluções eficientes. A teoria dos grafos é um campo fascinante e essencial para a compreensão de redes sociais, roteamento de redes de computadores, otimização de trajetórias e muitos outros problemas do mundo real."
   ]
  },
  {
   "cell_type": "markdown",
   "id": "20189da1",
   "metadata": {
    "slideshow": {
     "slide_type": "slide"
    }
   },
   "source": [
    "# <div style=\"margin-top: -20px;\">\n",
    "<hr style=\"border: 2px solid black;\">\n",
    "\n",
    "<font color='black'><span style=\"font-size: 22px;\"><strong>1.1 Grafos Não Orientados</strong></span></font>\n",
    "\n",
    "<hr style=\"border: 2px solid black;\">\n",
    "</div>"
   ]
  },
  {
   "cell_type": "markdown",
   "id": "dd3882fd",
   "metadata": {},
   "source": [
    "#### <font color='red'> Definição 1 </font>"
   ]
  },
  {
   "cell_type": "markdown",
   "id": "d46d1f02",
   "metadata": {},
   "source": [
    "<font color='red'> Um grafo $G = (V, E)$ consiste  de um conjunto não vazio de **vértices** $V$ e um conjunto de **arestas** $E$. Cada aresta liga um ou dois vértices chamados pontos finais um do outro."
   ]
  },
  {
   "cell_type": "markdown",
   "id": "0f801060",
   "metadata": {},
   "source": [
    "#### <font color='blue'> Exemplo 1 </font>"
   ]
  },
  {
   "cell_type": "markdown",
   "id": "a3466734",
   "metadata": {},
   "source": [
    "<font color='blue'> A figura a seguir apresenta dois grafos $G$ e $H$ como redes hipotéticas entre centrais de dados de algumas cidades.<br><br>\n",
    " <center> <img src=\"fig1_1.jpg\" alt=\"jpg_python\" width=\"600\" height=\"\"> </center><br>\n",
    "Note que $G$ representa uma rede com link único entre centrais. Por outro lado $H$ admite múltiplos links entre algumas de suas centrais de dados. *A rede representada por $H$ me parece mais segura contra falhas!*"
   ]
  },
  {
   "cell_type": "markdown",
   "id": "d4eae12a",
   "metadata": {},
   "source": [
    "#### Primeiras Aplicações"
   ]
  },
  {
   "cell_type": "markdown",
   "id": "a339bf2b",
   "metadata": {},
   "source": [
    "A teoria dos grafos nos permite detalhar bastante algumas situações por meio de desenhos. Nesta primeira parte apresentaremos alguns exemplos para nos motivar a estudar a teoria. Em capítulos futuros apresentaremos algumas ferramentas extremamente úteis que podem ser facilmente aplicadas em diversas situações. Entre algumas situações interessantes temos, por exemplo: Como o Uber escolhe a trajetória de melhor custo benefício para ambos os lados, motorista e usuário? Como as rotas de uma empresa de logística podem ser modeladas de modo a apresentarem um menor custo em suas viagens? "
   ]
  },
  {
   "cell_type": "markdown",
   "id": "7e370662",
   "metadata": {},
   "source": [
    "#### <font color='blue'> Exemplo 2 </font>"
   ]
  },
  {
   "cell_type": "markdown",
   "id": "8d565f3f",
   "metadata": {},
   "source": [
    "<font color='blue'> Poderíamos adicionar links de backup a algumas das centrais de dados no grafo $H$ do **Exemplo 1** conforme mostrado na figura a seguir:<br><br>\n",
    " <center> <img src=\"fig1_2.jpg\" alt=\"jpg_python\" width=\"350\" height=\"\"> </center><br>\n",
    "Arestas que ligam um vértice a ele próprio são chamadas de **loops**. No exemplo atual temos loops nos vértices Goiás e Salvador representando pontos de backup. *Bom salvar dados importante em um pendrive!*"
   ]
  },
  {
   "cell_type": "markdown",
   "id": "c7adafa0",
   "metadata": {},
   "source": [
    "#### Grafos Simples e Grafos Múltiplos"
   ]
  },
  {
   "cell_type": "markdown",
   "id": "08755275",
   "metadata": {},
   "source": [
    "Se só existir, para cada par de vértices, uma única arestas os conectando, e o for dessa forma para todos os vértices de um grafo ele será chamado **grafo simples** (Grafo $G$ na **Figura 1**). Do contrário, se existirem vértices conexos por mais que uma aresta dizemos tratar-se de um **grafo múltiplo** ou **multigrafo** (Grafo $H$ na **Figura 1**)."
   ]
  },
  {
   "cell_type": "markdown",
   "id": "cd2635ab",
   "metadata": {},
   "source": [
    "# <div style=\"margin-top: -20px;\">\n",
    "<hr style=\"border: 2px solid black;\">\n",
    "\n",
    "<font color='black'><span style=\"font-size: 22px;\"><strong>1.2 Grafos Orientados</strong></span></font>\n",
    "\n",
    "<hr style=\"border: 2px solid black;\">\n",
    "</div>"
   ]
  },
  {
   "cell_type": "markdown",
   "id": "7531fc7a",
   "metadata": {
    "heading_collapsed": true
   },
   "source": [
    "#### <font color='red'> Definição 2 </font>"
   ]
  },
  {
   "cell_type": "markdown",
   "id": "2e490666",
   "metadata": {
    "hidden": true
   },
   "source": [
    "<font color='red'> Um **grafo orientado** (ou digrafo) $(V,E)$ consiste de um conjunto não vazio de vértices $V$ e um conjunto de arestas orientadas (ou arcos) $E$. A aresta orientada associada ao par $(u,v)$ é dita começar em $u$ e terminar em $v$"
   ]
  },
  {
   "cell_type": "markdown",
   "id": "611a271e",
   "metadata": {
    "heading_collapsed": true
   },
   "source": [
    "#### <font color='blue'> Exemplo 3 </font>"
   ]
  },
  {
   "cell_type": "markdown",
   "id": "e4c56a4b",
   "metadata": {
    "hidden": true
   },
   "source": [
    "<font color='blue'> Podemos ainda impor orientações às arestas de um grafo. Neste caso, nossa rede  entre centrais de dados poderia ter a seguinte configuração conforme a figura a seguir:<br><br>\n",
    " <center> <img src=\"fig1_2.jpg\" alt=\"jpg_python\" width=\"350\" height=\"\"> </center><br>\n",
    "Podemos imaginar que uma seta com orientação que parte de uma cidade $a$ para uma cidade $b$ signifique que $a$ cidade $a$ envie dados para a cidade $b$. Por exemplo, a cidade de Belo Horizonte pode enviar diretamente dados para a cidade de São Paulo mas não o inverso. Contudo, a informação poderia seguir um caminho, digamos São Paulo, Salvador, Rio de Janeiro e por fim chegar a Belo Horizonte. Considerando o grafo $G_{1}$, Goiânia não pode receber dados de nenhuma das demais cidades (direta ou indiretamente). *Seria bom alguém ver isso!*."
   ]
  },
  {
   "cell_type": "markdown",
   "id": "cd0f5978",
   "metadata": {
    "heading_collapsed": true
   },
   "source": [
    "#### <font color='blue'> Exemplo 4 </font>"
   ]
  },
  {
   "cell_type": "markdown",
   "id": "0dd9d320",
   "metadata": {
    "hidden": true
   },
   "source": [
    "<font color='blue'> Ainda com base nos exemplos precedentes poderíamos ter um multigrafo com arestas orientadas (grafo $G_{2}$) ou até mesmo um multigrafo contendo pontos de backup (grafo $H_{2}$):<br><br>\n",
    " <center> <img src=\"fig1_4.jpg\" alt=\"jpg_python\" width=\"650\" height=\"\"> </center><br>\n",
    "Observe que, em ambos grafos $G_{2}$ e $H_{2}$ uma informação pode, a partir de uma cidade qualquer, atingir uma outra cidade qualquer dentre as participantes da rede de centrais de dados."
   ]
  },
  {
   "cell_type": "markdown",
   "id": "2ff8b914",
   "metadata": {},
   "source": [
    "#### Foco"
   ]
  },
  {
   "cell_type": "markdown",
   "id": "6ce9babc",
   "metadata": {},
   "source": [
    "Nossa abordagem, em grande parte, se restringirá aos grafos simples com ou sem arestas orientadas. Neste caso, pouco ou quase nada abordaremos a respeito de grafos com múltiplas arestas ou com loops. Isto não quer dizer que a teoria não se encaixe. Com alguns ajustes situações em que não se tenha um grafo simples podem ser tratadas com a teoria apresentada."
   ]
  },
  {
   "cell_type": "markdown",
   "id": "7ea705ce",
   "metadata": {},
   "source": [
    "A tabela a seguir apresenta um resumo para que possamos facilmente identificar um grafo quanto à sua tipologia assim que o virmos.<br><br>\n",
    "<center>\n",
    "\\begin{array}{|c|c|c|c|} \\hline\n",
    "Tipo\t&  Arestas & Múltiplas Arestas? & Loops? \\\\ \\hline\n",
    "Grafo \\ Simples\t            & Não \\ Orientado &  Não  & Não  \\\\ \n",
    "Grafo \\ Múltiplo\t    & Não \\ Orientado &  Sim  & Não \\\\\n",
    "Pseudografo\t                    & Não \\ Orientado & Sim   & Sim \\\\\n",
    "Grafo \\ Simples \\ Orientado\t& Orientado         & Não   & Não \\\\\n",
    "Grafo \\ Múltiplo \\ Orientado\t& Orientado        & Sim   & Sim \\\\ \n",
    "Grafo \\ Misto                  & Orientado \\ e \\ Não \\ Orientado                                       & Sim & Sim  \\\\ \\hline\n",
    "\\end{array}\n",
    "</center>"
   ]
  },
  {
   "cell_type": "markdown",
   "id": "f726c374",
   "metadata": {},
   "source": [
    "# <div style=\"margin-top: -20px;\">\n",
    "<hr style=\"border: 2px solid black;\">\n",
    "\n",
    "<font color='black'><span style=\"font-size: 22px;\"><strong>1.3 Modelos</strong></span></font>\n",
    "\n",
    "<hr style=\"border: 2px solid black;\">\n",
    "</div>"
   ]
  },
  {
   "cell_type": "markdown",
   "id": "f279aa22",
   "metadata": {},
   "source": [
    "Vejamos a seguir alguns modelos para situações práticas da vida real. Ao final dos exemplos apresentados nesta seção você irá notar que a quantidade de situações que se pode modelar por meio da teoria dos grafos é enormemente assustadora. Aconselhamos ao leitor buscar mais destas situações em livros, internet e até mesmo ensaiar algumas."
   ]
  },
  {
   "cell_type": "markdown",
   "id": "44b65efa",
   "metadata": {},
   "source": [
    "#### <font color='blue'> Grafos de Amizade e Relacionamento"
   ]
  },
  {
   "cell_type": "markdown",
   "id": "0dd3fcd1",
   "metadata": {},
   "source": [
    "<font color='blue'> Podemos usar um grafo para representar se duas pessoas se conhecem, isto é, se estão familiarizadas ou se são amigas. Cada pessoa em um grupo particular de pessoas é representada por um vértice. Uma aresta não orientada é usada para conectar duas pessoas quando essas pessoas se conhecem ou se são amigos. Não são utilizadas múltiplas arestas ou loops. A a figura a seguir apresenta ilustra uma rede de relacionamentos:<br><br>\n",
    " <center> <img src=\"fig1_5.jpg\" alt=\"jpg_python\" width=\"400\" height=\"\"> </center><br>"
   ]
  },
  {
   "cell_type": "markdown",
   "id": "ccd456e3",
   "metadata": {},
   "source": [
    "#### <font color='blue'> Redes de Influência"
   ]
  },
  {
   "cell_type": "markdown",
   "id": "34941942",
   "metadata": {},
   "source": [
    "<font color='blue'> Em certo grupo de funcionários de uma empresa foi observado que algumas sofrem influências de certos colegas e são influenciadoras de outros. Assumamos que uma seta $a \\rightarrow b$ indica que a pessoa $a$ exerce influência sobre a pessoa $b$. A figura a seguir ilustra tal situação:<br><br>\n",
    " <center> <img src=\"fig1_6.jpg\" alt=\"jpg_python\" width=\"350\" height=\"\"> </center><br>\n",
    "Observe como uma simples figura nos permite observar quem é o mais influenciador (Amanda), quem é o mais influenciável (Pedro), indivíduos com relações de influência mútuas (Pedro-Thiago e Thiago-Ana). *Em Amanda ninguém manda!*"
   ]
  },
  {
   "cell_type": "markdown",
   "id": "0a7708b6",
   "metadata": {
    "ExecuteTime": {
     "end_time": "2023-07-18T13:07:13.510899Z",
     "start_time": "2023-07-18T13:07:13.506909Z"
    }
   },
   "source": [
    "#### <font color='blue'> A Rede Mundial de Computadores"
   ]
  },
  {
   "cell_type": "markdown",
   "id": "9baf5bc1",
   "metadata": {},
   "source": [
    "<font color='blue'> <center> <img src=\"fig1_7.jpg\" alt=\"jpg_python\" width=\"350\" height=\"\"> </center><br>\n",
    "A imagem dispensa qualquer comentário, contudo faremos um. A rede mundial de computadores é considerado um gigantesco grafo cuja complexidade se dá não somente pela quantidade de máquias conectadas mas também pela modificabilidade da rede com páginas sendo criadas e outras deletadas a cada momento. De modo sucinto podemos pensar da seguinte forma. Cada página é representada por um vértice e uma aresta começa na página da Web A e termina na página da Web B se houver um link para B. Observe que não é o mesmo link que liga duas páginas A e B, um serve para ir de $A$ para $B$ e o outro para ir de $B$ até $A$."
   ]
  },
  {
   "cell_type": "markdown",
   "id": "67020a9a",
   "metadata": {},
   "source": [
    "#### <font color='blue'> Torneio de Eliminação Simples (Mata-Mata)"
   ]
  },
  {
   "cell_type": "markdown",
   "id": "4cc131db",
   "metadata": {},
   "source": [
    "<font color='blue'> Trata-se de um campeonato onde cada competidor é eliminado após um confronto de uma ou mais partidas contra um adversário. Nós podemos modelar tal torneio usando um vértice para representar cada confronto e uma borda direcionada para conectar um adversário para o próximo confronto em que o vencedor deste confronto jogou. O figura a seguir representa os confrontos disputados por $16$ equipes finais da libertadores $2019$ nas qual o mengão foi campeão: <br><br>\n",
    " <center> <img src=\"fig1_8.jpg\" alt=\"jpg_python\" width=\"500\" height=\"\"> </center><br>"
   ]
  },
  {
   "cell_type": "markdown",
   "id": "98061c21",
   "metadata": {},
   "source": [
    "#### <font color='green'> Palavras dos Mestres</font>"
   ]
  },
  {
   "cell_type": "markdown",
   "id": "e63f984d",
   "metadata": {},
   "source": [
    "<font color='green'> A plataforma [Graph Onlines](https://graphonline.ru/pt/) é uma ótima ferramente no esboço de grafos entre outras ferramentas bastante úteis para esta disciplina. Praticamente todos os grafos dispostos neste material foram construídos nela. Na Seção 1.6 apresentaremos alguns códigos para o esboço de grafos."
   ]
  },
  {
   "cell_type": "markdown",
   "id": "a34f014b",
   "metadata": {},
   "source": [
    "# <div style=\"margin-top: -20px;\">\n",
    "<hr style=\"border: 2px solid black;\">\n",
    "\n",
    "<font color='black'><span style=\"font-size: 22px;\"><strong>1.4 Exercícios</strong></span></font>\n",
    "\n",
    "<hr style=\"border: 2px solid black;\">\n",
    "</div>"
   ]
  },
  {
   "cell_type": "markdown",
   "id": "12c586d4",
   "metadata": {
    "ExecuteTime": {
     "end_time": "2023-07-04T13:19:14.383424Z",
     "start_time": "2023-07-04T13:19:14.380445Z"
    },
    "slideshow": {
     "slide_type": "slide"
    }
   },
   "source": [
    "#### Exercício 1"
   ]
  },
  {
   "cell_type": "markdown",
   "id": "55f80397",
   "metadata": {},
   "source": [
    "Desenhe modelos de grafos, indicando o tipo de grafo usado para representar rotas de uma empresa de aviação onde todos os dias há três voos de Rio de Janeiro para São Paulo, dois voos de São Paulo a Rio de Janeiro, um voo de São Paulo para Recife, dois voos de Recife para São Paulo, um voo de São Paulo para Manaus, um voo de Manaus para São Paulo, dois voos de São Paulo para Porto Alegre, um voo de Porto Alegre para São Paulo e um voo de Porto Alegre para Recife, com:\n",
    "\n",
    "a) uma aresta entre os vértices representando as cidades com voos entre elas (em qualquer direção).\n",
    "\n",
    "b) uma aresta entre vértices caso haja um voo entre elas indicando a cidade de onde o voo parte e a cidade onde o voo termina.\n",
    "\n",
    "c) uma aresta para cada voo a partir de um vértice representando cidade de onde o voo parte para o vértice representando a cidade onde o voo termina."
   ]
  },
  {
   "cell_type": "markdown",
   "id": "dd965a0f",
   "metadata": {},
   "source": [
    "#### Exercício 2"
   ]
  },
  {
   "cell_type": "markdown",
   "id": "a62dc9ee",
   "metadata": {},
   "source": [
    "O grafo de interseção de uma coleção de conjuntos é o grafo que tem um vértice para cada um desses conjuntos e tem uma borda (única) conectando os vértices que representam dois conjuntos se esses conjuntos tiverem uma interseção não vazia. Construir o grafo de interseção dessas coleções de conjuntos.\n",
    "\n",
    "a) $ A = \\{0, 2, 4, 6 \\} $, $ \\ B = \\{1, 2, 3, 4 \\} $, $ \\ C = \\{1, 3, 5, 7, 9 \\} $, $ \\ D = \\{5, 7, 8, 9 \\} $, $ \\ E = \\{0, 1, 8, 9 \\} $\n",
    "\n",
    "b) $ A = \\{\\cdots, -4, -3, -2, -1, 0 \\} $, $ \\ B = \\{\\cdots, -2, -1, 0, 1 , 2, \\cdots \\} $, $ \\ C = \\{\\cdots, -6, -4, -2, 0, 2,4, 6, \\cdots \\} \\ $ e $ \\ D = \\{\\cdots, -5, -3, -1, 1, 3, 5, \\cdots \\}$."
   ]
  },
  {
   "cell_type": "markdown",
   "id": "415ad9a2",
   "metadata": {},
   "source": [
    "#### Exercício 3"
   ]
  },
  {
   "cell_type": "markdown",
   "id": "51a1d8f6",
   "metadata": {},
   "source": [
    "Determine se cada um dos grafos 1-3 dados seguir possui\tarestas direcionadas ou não direcionadas, se tem arestas múltiplas ou não e se apresentam loops ou não. Ao final use suas respostas para determinar o tipo de grafo: <br><br>\n",
    " <center> <img src=\"fig1_9.jpg\" alt=\"jpg_python\" width=\"650\" height=\"\"> </center><br>\n"
   ]
  },
  {
   "cell_type": "markdown",
   "id": "b2aae4d5",
   "metadata": {
    "slideshow": {
     "slide_type": "slide"
    }
   },
   "source": [
    "## <div style=\"margin-top: -20px;\">\n",
    "<hr style=\"border: 2px solid black;\">\n",
    "\n",
    "<font color='black'><span style=\"font-size: 18px;\"><strong>Respostas</strong></span></font>\n",
    "\n",
    "<hr style=\"border: 2px solid black;\">\n",
    "</div>"
   ]
  },
  {
   "cell_type": "markdown",
   "id": "697dfdf4",
   "metadata": {
    "slideshow": {
     "slide_type": "slide"
    }
   },
   "source": [
    "#### Respostas do Exercício 1"
   ]
  },
  {
   "cell_type": "markdown",
   "id": "e2fe8bd4",
   "metadata": {},
   "source": [
    " <center> <img src=\"fig1_10.jpg\" alt=\"jpg_python\" width=\"800\" height=\"\"> </center>"
   ]
  },
  {
   "cell_type": "markdown",
   "id": "de6019b6",
   "metadata": {},
   "source": [
    "#### Respostas do Exercício 2"
   ]
  },
  {
   "cell_type": "markdown",
   "id": "3994668c",
   "metadata": {},
   "source": [
    " <center> <img src=\"fig1_11.jpg\" alt=\"jpg_python\" width=\"900\" height=\"\"> </center>"
   ]
  },
  {
   "cell_type": "markdown",
   "id": "6a06c049",
   "metadata": {},
   "source": [
    "#### Respostas do Exercício 3"
   ]
  },
  {
   "cell_type": "markdown",
   "id": "d9a26dda",
   "metadata": {},
   "source": [
    "1. Simples; 1. Pseudografo; 3. Multigrafo Orientado."
   ]
  },
  {
   "cell_type": "markdown",
   "id": "bb844f24",
   "metadata": {},
   "source": [
    "# <div style=\"margin-top: -20px;\">\n",
    "<hr style=\"border: 2px solid black;\">\n",
    "\n",
    "<font color='black'><span style=\"font-size: 22px;\"><strong>1.5 Vídeo Aulas</strong></span></font>\n",
    "\n",
    "<hr style=\"border: 2px solid black;\">\n",
    "</div>"
   ]
  },
  {
   "cell_type": "markdown",
   "id": "4062851d",
   "metadata": {},
   "source": [
    "Clicando nos links a seguir você será redirecionado às aulas referentes a este capítulo.\n",
    "\n",
    "[Introdução ao Estudo de Grafos](https://youtu.be/WzemdVGP5x0)\n",
    "\n",
    "[Grafo Orientado](https://youtu.be/79AzJ4bsEMI)\n",
    "\n",
    "[Classificação de Um Grafo](https://youtu.be/ISH03MNar3w)\n",
    "\n",
    "[Modelos Gráficos: Grafos de Amizades e Relacionamento e Redes de Influência](https://youtu.be/2M-Ti12pomE)"
   ]
  },
  {
   "cell_type": "markdown",
   "id": "1d92d667",
   "metadata": {},
   "source": [
    "# <div style=\"margin-top: -20px;\">\n",
    "<hr style=\"border: 2px solid black;\">\n",
    "\n",
    "<font color='black'><span style=\"font-size: 22px;\"><strong>1.6 No Computador (Experimental)</strong></span></font>\n",
    "\n",
    "<hr style=\"border: 2px solid black;\">\n",
    "</div>"
   ]
  },
  {
   "cell_type": "markdown",
   "id": "962367c4",
   "metadata": {
    "slideshow": {
     "slide_type": "slide"
    }
   },
   "source": [
    "### **É possível aprender programação sem ter um conhecimento aprofundado de matemática?** "
   ]
  },
  {
   "cell_type": "markdown",
   "id": "d7a2dc65",
   "metadata": {},
   "source": [
    "A resposta é sim, é possível iniciar na programação sem um amplo domínio matemático. No entanto, é importante destacar que o aprendizado nesse poderá ser limitado a certas áreas.\n",
    "\n",
    "A matemática desempenha um papel fundamental na programação, especialmente em áreas como algoritmos, lógica computacional e análise de dados. Ter uma base sólida em matemática pode proporcionar uma compreensão mais profunda dos princípios subjacentes à programação e abrir portas para projetos mais complexos e desafiadores.\n",
    "\n",
    "Ao aprender a programar sem um conhecimento matemático avançado, é provável que o foco esteja em tarefas básicas, como a criação de scripts simples, automatização de tarefas ou desenvolvimento de pequenas aplicações. Essas atividades podem ser úteis e até mesmo divertidas, mas podem não abordar o potencial completo da programação.\n",
    "\n",
    "Além disso, é importante destacar que, mesmo sem um conhecimento matemático aprofundado, entender o funcionamento das estruturas de programação é essencial. Saber como as estruturas condicionais, loops e estruturas de dados operam é fundamental para construir programas eficientes e compreender o fluxo lógico do código.\n",
    "\n",
    "Portanto, embora seja possível iniciar na programação sem um conhecimento matemático extenso, é altamente recomendável que os aspirantes a programadores busquem adquirir habilidades matemáticas relevantes ao longo do tempo. Isso abrirá oportunidades para enfrentar desafios mais avançados e permitirá uma compreensão mais completa da lógica e dos conceitos fundamentais por trás da programação."
   ]
  },
  {
   "cell_type": "markdown",
   "id": "71141766",
   "metadata": {
    "slideshow": {
     "slide_type": "-"
    }
   },
   "source": [
    "### <font color='red'> Atenção </font>"
   ]
  },
  {
   "cell_type": "markdown",
   "id": "1062f5e7",
   "metadata": {
    "slideshow": {
     "slide_type": "-"
    }
   },
   "source": [
    "<font color='red'>A seguir, apresentaremos alguns exemplos de códigos capazes de executar os cálculos mencionados nesta seção. Gostaria de ressaltar que, como professor de matemática, minha intenção não é ensinar programação, mas sim demonstrar a aplicabilidade de alguns conceitos. Como sou um entusiasta da programação em linguagem Python, compartilharei alguns códigos relacionados ao capítulo. A final, na **Seção 1.7: Curso Python Com Jupyter Notebook** compartilho um material de minha autoria sobre a linguagem Python.</font>"
   ]
  },
  {
   "cell_type": "markdown",
   "id": "4b25387b",
   "metadata": {},
   "source": [
    "A implementação de grafos necessita de duas bibliotecas a **matplotlib** e a **networkx**. Para instalar tais bibliotecas execute a célula a seguir."
   ]
  },
  {
   "cell_type": "code",
   "execution_count": 1,
   "id": "1c4ce9c4",
   "metadata": {
    "ExecuteTime": {
     "end_time": "2023-07-18T15:06:11.465050Z",
     "start_time": "2023-07-18T15:06:00.203533Z"
    }
   },
   "outputs": [
    {
     "name": "stdout",
     "output_type": "stream",
     "text": [
      "Requirement already satisfied: matplotlib in d:\\ananconda\\lib\\site-packages (3.7.2)\n",
      "Requirement already satisfied: cycler>=0.10 in d:\\ananconda\\lib\\site-packages (from matplotlib) (0.11.0)\n",
      "Requirement already satisfied: pyparsing<3.1,>=2.3.1 in d:\\ananconda\\lib\\site-packages (from matplotlib) (3.0.9)\n",
      "Requirement already satisfied: packaging>=20.0 in d:\\ananconda\\lib\\site-packages (from matplotlib) (22.0)\n",
      "Requirement already satisfied: numpy>=1.20 in d:\\ananconda\\lib\\site-packages (from matplotlib) (1.23.5)\n",
      "Requirement already satisfied: kiwisolver>=1.0.1 in d:\\ananconda\\lib\\site-packages (from matplotlib) (1.4.4)\n",
      "Requirement already satisfied: pillow>=6.2.0 in d:\\ananconda\\lib\\site-packages (from matplotlib) (9.4.0)\n",
      "Requirement already satisfied: python-dateutil>=2.7 in d:\\ananconda\\lib\\site-packages (from matplotlib) (2.8.2)\n",
      "Requirement already satisfied: contourpy>=1.0.1 in d:\\ananconda\\lib\\site-packages (from matplotlib) (1.0.5)\n",
      "Requirement already satisfied: fonttools>=4.22.0 in d:\\ananconda\\lib\\site-packages (from matplotlib) (4.25.0)\n",
      "Requirement already satisfied: six>=1.5 in d:\\ananconda\\lib\\site-packages (from python-dateutil>=2.7->matplotlib) (1.16.0)\n",
      "Requirement already satisfied: networkx in d:\\ananconda\\lib\\site-packages (3.1)\n"
     ]
    }
   ],
   "source": [
    "# Instalando biblioteca e módulo necessários (pode ser que não precise)\n",
    "!pip install matplotlib\n",
    "!pip install networkx"
   ]
  },
  {
   "cell_type": "markdown",
   "id": "718c4655",
   "metadata": {},
   "source": [
    "## <div style=\"margin-top: -20px;\">\n",
    "<hr style=\"border: 2px solid black;\">\n",
    "\n",
    "<font color='black'><span style=\"font-size: 18px;\"><strong>1.6.1 Esboçando Um Grafo</strong></span></font>\n",
    "\n",
    "<hr style=\"border: 2px solid black;\">\n",
    "</div>"
   ]
  },
  {
   "cell_type": "markdown",
   "id": "3d45543e",
   "metadata": {
    "ExecuteTime": {
     "end_time": "2023-07-18T13:56:32.041957Z",
     "start_time": "2023-07-18T13:56:32.026350Z"
    }
   },
   "source": [
    "#### Desenhando Um Grafo Não Orientado Simples"
   ]
  },
  {
   "cell_type": "markdown",
   "id": "69f4b4ac",
   "metadata": {},
   "source": [
    "O código a seguir esboça um grafo simples com arestas não orientadas. É possível se adicionar loops repetindo os vértices em uma aresta."
   ]
  },
  {
   "cell_type": "code",
   "execution_count": 7,
   "id": "f1c68f2d",
   "metadata": {
    "ExecuteTime": {
     "end_time": "2023-07-18T19:13:27.155304Z",
     "start_time": "2023-07-18T19:13:26.982580Z"
    }
   },
   "outputs": [
    {
     "data": {
      "image/png": "[encoded data removed]",
      "text/plain": [
       "<Figure size 640x480 with 1 Axes>"
      ]
     },
     "metadata": {},
     "output_type": "display_data"
    }
   ],
   "source": [
    "import networkx as nx\n",
    "import matplotlib.pyplot as plt\n",
    "\n",
    "# Lista de arestas. Cada aresta é composta por um par de vértices\n",
    "edges = [('A', 'B'), ('A', 'C'), ('B', 'D'), ('C', 'D'), ('C', 'E'), ('E', 'D'), ('D','F')]\n",
    "\n",
    "# Criando um grafo não orientado\n",
    "G = nx.Graph()\n",
    "\n",
    "# Adicione arestas ao grafo.\n",
    "G.add_edges_from(edges)\n",
    "\n",
    "# Desenhe o grafo.\n",
    "pos = nx.spring_layout(G)  # Defina a posição dos nós.\n",
    "\n",
    "# Configurações do grafo\n",
    "nx.draw_networkx_nodes(G, pos, node_color='blue')  # Desenhe os nós.\n",
    "nx.draw_networkx_edges(G, pos)  # Desenhe as arestas.\n",
    "nx.draw_networkx_labels(G, pos, font_color='white', font_weight='bold')  # Desenhe os rótulos dos nós.\n",
    "\n",
    "# Exibindo o grafo\n",
    "plt.show()\n"
   ]
  },
  {
   "cell_type": "markdown",
   "id": "6b2e39c8",
   "metadata": {},
   "source": [
    "#### Layout"
   ]
  },
  {
   "cell_type": "markdown",
   "id": "48a0cbdb",
   "metadata": {},
   "source": [
    "Existem várias alternativas para definir a posição dos nós em um grafo ao usar a biblioteca NetworkX. Experimente mudar a linha \"pos = nx.spring_layout(G)\" por \"pos = nx.arf_layout(G)\", \"pos = nx.circular_layout(G)\" ou qualquer um dos layouts descritos a seguir (*alguns podem não funcionar e nem todos estão listados*).\n",
    "\n",
    "* **arf_layout**: Este layout é baseado no algoritmo de resolução de força atrativa-repulsiva (ARF), que simula a interação física entre as arestas e os nós do grafo.\n",
    "\n",
    "* **bipartite_layout**: Esse layout é projetado especificamente para <u>grafos bipartidos</u>, onde os nós são divididos em dois conjuntos distintos. Ele posiciona os nós de forma a maximizar a clareza da estrutura bipartida do grafo.\n",
    "\n",
    "* **circular_layout**: Posiciona os nós em um arranjo circular. É útil quando a ordem dos nós é significativa ou quando se deseja visualizar um grafo como um diagrama de radar.\n",
    "\n",
    "* **fruchterman_reingold_layout**: Utiliza o algoritmo de Fruchterman-Reingold para posicionar os nós. Ele simula um sistema físico onde as arestas são molas e os nós se afastam ou se aproximam até alcançar um estado de equilíbrio.\n",
    "\n",
    "* **kamada_kawai_layout**: Este layout é baseado no algoritmo de Kamada-Kawai, que posiciona os nós de forma a minimizar a soma das energias elásticas e repulsivas no grafo.\n",
    "\n",
    "* **planar_layout**: Posiciona os nós de um grafo planar de forma que as arestas não se cruzem.\n",
    "\n",
    "* **random_layout**: Posiciona os nós aleatoriamente no plano.\n",
    "\n",
    "* **shell_layout**: Posiciona os nós em arranjos concêntricos de círculos ou arcos.\n",
    "\n",
    "* **spectral_layout**: Posiciona os nós com base nos componentes principais da matriz de Laplaciano do grafo.\n",
    "\n",
    "* **spiral_layout**: Posiciona os nós em uma espiral, aumentando o raio a cada volta.\n",
    "\n",
    "* **spring_layout**: Utiliza um algoritmo de simulação física para posicionar os nós, onde as arestas são tratadas como molas e os nós se movem em busca de um estado de equilíbrio."
   ]
  },
  {
   "cell_type": "markdown",
   "id": "9f542805",
   "metadata": {
    "ExecuteTime": {
     "end_time": "2023-07-18T13:59:24.296737Z",
     "start_time": "2023-07-18T13:59:24.291753Z"
    }
   },
   "source": [
    "#### Desenhando Grafo Orientado Simples"
   ]
  },
  {
   "cell_type": "markdown",
   "id": "cfff231f",
   "metadata": {},
   "source": [
    "O código a seguir é obtido por meio de uma leve alteração no código anterior. Basta tomar o vértice"
   ]
  },
  {
   "cell_type": "code",
   "execution_count": 4,
   "id": "24447eff",
   "metadata": {
    "ExecuteTime": {
     "end_time": "2023-07-18T15:12:56.097509Z",
     "start_time": "2023-07-18T15:12:55.898565Z"
    }
   },
   "outputs": [
    {
     "data": {
      "image/png": "[encoded data removed]",
      "text/plain": [
       "<Figure size 640x480 with 1 Axes>"
      ]
     },
     "metadata": {},
     "output_type": "display_data"
    }
   ],
   "source": [
    "import networkx as nx\n",
    "import matplotlib.pyplot as plt\n",
    "\n",
    "# Lista de arestas. Cada aresta é composta por um vértice final e um vértice inicial\n",
    "edges = [('A', 'B'), ('A', 'C'), ('B', 'D'), ('C', 'D'), ('C', 'E'), ('E', 'D'), ('D','F')]\n",
    "\n",
    "# Criando um grafo orientado\n",
    "G = nx.DiGraph()\n",
    "\n",
    "# Adicione arestas ao grafo.\n",
    "G.add_edges_from(edges)\n",
    "\n",
    "# Desenhe o grafo.\n",
    "pos = nx.spring_layout(G)  # Defina a posição dos nós.\n",
    "nx.draw_networkx_nodes(G, pos, node_color='blue')  # Desenhe os nós.\n",
    "nx.draw_networkx_edges(G, pos)  # Desenhe as arestas.\n",
    "nx.draw_networkx_labels(G, pos, font_color='white', font_weight='bold')  # Desenhe os rótulos dos nós.\n",
    "plt.show()\n"
   ]
  },
  {
   "cell_type": "markdown",
   "id": "18694821",
   "metadata": {
    "ExecuteTime": {
     "end_time": "2023-08-09T14:30:27.884360Z",
     "start_time": "2023-08-09T14:30:27.873411Z"
    }
   },
   "source": [
    "## <div style=\"margin-top: -20px;\">\n",
    "<hr style=\"border: 2px solid black;\">\n",
    "\n",
    "<font color='black'><span style=\"font-size: 18px;\"><strong>1.6.2 Implementações em CSV</strong></span></font>\n",
    "\n",
    "<hr style=\"border: 2px solid black;\">\n",
    "</div>"
   ]
  },
  {
   "cell_type": "markdown",
   "id": "26726d00",
   "metadata": {},
   "source": [
    "A seguir, apresentaremos versões dos programas relacionados a grafos que suportam um formato de entrada de dados comumente utilizado: **CSV** (**Comma-Separated Values**). O CSV é um formato de arquivo amplamente utilizado para armazenar dados tabulares de forma simples e legível. Neste formato os dados são organizados em linhas, onde cada linha representa uma entrada de dados. Os valores de cada entrada são separados por vírgulas (ou outro delimitador, como ponto e vírgula) e podem ser interpretados como colunas.\n",
    "\n",
    "No contexto de grafos, o CSV pode ser usado para representar as arestas do grafo. Cada linha no arquivo CSV pode conter um par de vértices que representam uma aresta. Essa abordagem é particularmente útil quando o grafo possui muitas arestas ou quando as arestas são obtidas de fontes externas, como bancos de dados ou aplicativos.\n",
    "\n",
    "Ao utilizar o formato CSV como entrada de dados para programas relacionados a grafos, você tem a flexibilidade de editar ou gerar os dados das arestas em um editor de planilhas ou até mesmo por meio de programação, permitindo uma fácil manipulação e modificação dos dados do grafo."
   ]
  },
  {
   "cell_type": "markdown",
   "id": "375668b7",
   "metadata": {
    "ExecuteTime": {
     "end_time": "2023-07-18T14:36:34.115847Z",
     "start_time": "2023-07-18T14:36:34.110899Z"
    }
   },
   "source": [
    "#### Desenhando Um Grafo a Partir de Dados em Formato CSV"
   ]
  },
  {
   "cell_type": "markdown",
   "id": "2f458340",
   "metadata": {},
   "source": [
    "O código a seguir apresenta o esboço de um grafo simples e não orientado, semelhante ao utilizado anteriormente, mas com dados em formato CSV incorporados no próprio código. Se você desejar trabalhar com um grafo orientado, basta substituir a linha **G = nx.Graph()** por **G = nx.DiGraph()**."
   ]
  },
  {
   "cell_type": "code",
   "execution_count": 5,
   "id": "f3f37f5c",
   "metadata": {
    "ExecuteTime": {
     "end_time": "2023-07-18T15:12:58.945268Z",
     "start_time": "2023-07-18T15:12:58.777575Z"
    }
   },
   "outputs": [
    {
     "data": {
      "image/png": "[encoded data removed]",
      "text/plain": [
       "<Figure size 640x480 with 1 Axes>"
      ]
     },
     "metadata": {},
     "output_type": "display_data"
    }
   ],
   "source": [
    "import networkx as nx\n",
    "import matplotlib.pyplot as plt\n",
    "import csv\n",
    "from io import StringIO\n",
    "\n",
    "# Definir as arestas em formato CSV\n",
    "csv_data = '''\n",
    "A,B\n",
    "A,C\n",
    "B,D\n",
    "C,D\n",
    "C,E\n",
    "E,D\n",
    "D,F\n",
    "'''\n",
    "\n",
    "# Carregar as arestas a partir da string CSV\n",
    "edges = []\n",
    "reader = csv.reader(StringIO(csv_data))\n",
    "for row in reader:\n",
    "    if len(row) != 2:\n",
    "        continue\n",
    "    edges.append((row[0], row[1]))\n",
    "\n",
    "# Criar um grafo não orientado\n",
    "G = nx.Graph()\n",
    "\n",
    "# Adicionar as arestas ao grafo\n",
    "G.add_edges_from(edges)\n",
    "\n",
    "# Desenhar o grafo\n",
    "pos = nx.spring_layout(G)\n",
    "\n",
    "# Configurações do grafo\n",
    "nx.draw_networkx_nodes(G, pos, node_color='blue')\n",
    "nx.draw_networkx_edges(G, pos)\n",
    "nx.draw_networkx_labels(G, pos, font_color='white', font_weight='bold')\n",
    "\n",
    "# Exibir o grafo\n",
    "plt.show()"
   ]
  },
  {
   "cell_type": "markdown",
   "id": "5423e06c",
   "metadata": {},
   "source": [
    "O código a seguir funciona de maneira semelhante ao anterior, no entanto, em vez de incorporar as informações diretamente no código, ele lê as informações de um arquivo externo chamado **dados1_1.csv**. O arquivo **dados1_1.csv** encontra-se no mesmo local que esta arquivo **Capitulo001_Introducao_ao_Estudo_de_Grafos** está. Foi colocado também um arquivo de igual conteúdo chamado de **dados1_1.txt**. Para acessá-lo basta mudar **with open('dados1_1.csv', 'r') as file:** para **with open('dados1_1.txt', 'r') as file:**.\n",
    "\n",
    "\n",
    "<font color='red'> Caso esteja utilizando o ambiente **Google Colab** pode ser necessário fazer upload do arquivo **dados1_1.csv** para a pasta **content** do ambiente Colab (selecione e arraste!).<br><br>\n",
    " <center> <img src=\"fig1_12.jpg\" alt=\"jpg_python\" width=\"600\" height=\"\"> </center> </font>\n",
    "\n"
   ]
  },
  {
   "cell_type": "code",
   "execution_count": 1,
   "id": "a2dee4ef",
   "metadata": {
    "ExecuteTime": {
     "end_time": "2023-07-22T21:49:26.092076Z",
     "start_time": "2023-07-22T21:49:25.056248Z"
    }
   },
   "outputs": [
    {
     "data": {
      "image/png": "[encoded data removed]",
      "text/plain": [
       "<Figure size 640x480 with 1 Axes>"
      ]
     },
     "metadata": {},
     "output_type": "display_data"
    }
   ],
   "source": [
    "import networkx as nx\n",
    "import matplotlib.pyplot as plt\n",
    "import csv\n",
    "\n",
    "\n",
    "# Nome do arquivo CSV no mesmo diretório\n",
    "dados = \"dados1_1.csv\"  # Troque \".csv\" por \".txt\" caso necessário\n",
    "\n",
    "# Carregar arestas de um arquivo CSV\n",
    "edges = []\n",
    "with open(dados, 'r') as file: \n",
    "    reader = csv.reader(file)        \n",
    "    for row in reader:\n",
    "        edges.append((row[0], row[1]))\n",
    "\n",
    "# Criando um grafo não orientado\n",
    "G = nx.Graph()\n",
    "\n",
    "# Adicionar arestas ao grafo\n",
    "G.add_edges_from(edges)\n",
    "\n",
    "# Desenhe o grafo\n",
    "pos = nx.spring_layout(G)  # Defina a posição dos nós.\n",
    "\n",
    "# Configurações do grafo\n",
    "nx.draw_networkx_nodes(G, pos, node_color='blue')  # Desenhe os nós.\n",
    "nx.draw_networkx_edges(G, pos)  # Desenhe as arestas.\n",
    "nx.draw_networkx_labels(G, pos, font_color='white', font_weight='bold')  # Desenhe os rótulos dos nós.\n",
    "\n",
    "# Exibindo o grafo\n",
    "plt.show()"
   ]
  },
  {
   "cell_type": "markdown",
   "id": "37b29a11",
   "metadata": {},
   "source": [
    "Caso esteja utilizando o ambiente **Google Colab** pode ser necessário fazer upload do arquivo **dados1_1.csv** para a pasta **content** do ambiente Colab."
   ]
  },
  {
   "cell_type": "markdown",
   "id": "56f72bd1",
   "metadata": {},
   "source": [
    "### Aprofundado no módulo networkx"
   ]
  },
  {
   "cell_type": "markdown",
   "id": "b204e2d1",
   "metadata": {},
   "source": [
    "Caso se interesse em aprofundar na utilização do módulo networkx pode-se recorrer aos comandos **dir()** e **help()**."
   ]
  },
  {
   "cell_type": "markdown",
   "id": "feec4c68",
   "metadata": {},
   "source": [
    "#### dir(networkx)"
   ]
  },
  {
   "cell_type": "markdown",
   "id": "9cb3885b",
   "metadata": {},
   "source": [
    "Retorna uma lista de nomes (variáveis, módulos, funções, classes etc.) definidos no módulo networkx."
   ]
  },
  {
   "cell_type": "code",
   "execution_count": null,
   "id": "4e3495cc",
   "metadata": {
    "ExecuteTime": {
     "end_time": "2023-07-18T14:10:31.423501Z",
     "start_time": "2023-07-18T14:10:31.394306Z"
    }
   },
   "outputs": [],
   "source": [
    "# Consultar os nomes definidos no módulo networkx\n",
    "dir(networkx)"
   ]
  },
  {
   "cell_type": "markdown",
   "id": "d44f1240",
   "metadata": {},
   "source": [
    "#### dir(networkx.Module)"
   ]
  },
  {
   "cell_type": "markdown",
   "id": "3e22db79",
   "metadata": {},
   "source": [
    "Retorna uma lista de nomes definidos dentro do módulo específico, como networkx.Graph, networkx.DiGraph, networkx.layout, entre outros."
   ]
  },
  {
   "cell_type": "code",
   "execution_count": null,
   "id": "e19557ff",
   "metadata": {
    "ExecuteTime": {
     "end_time": "2023-07-18T14:54:15.515918Z",
     "start_time": "2023-07-18T14:54:15.507912Z"
    }
   },
   "outputs": [],
   "source": [
    "# Consultar os nomes definidos dentro do módulo networkx.layout\n",
    "dir(networkx.layout)"
   ]
  },
  {
   "cell_type": "markdown",
   "id": "b5e9e158",
   "metadata": {},
   "source": [
    "#### help(networkx.Module)"
   ]
  },
  {
   "cell_type": "markdown",
   "id": "c99ed19e",
   "metadata": {},
   "source": [
    "Exibe a documentação e informações de ajuda sobre o módulo, classe ou função especificado. Por exemplo, help(networkx.Graph) exibe informações sobre a classe Graph em NetworkX."
   ]
  },
  {
   "cell_type": "markdown",
   "id": "31a13f2f",
   "metadata": {},
   "source": [
    "#### Dica de mestre"
   ]
  },
  {
   "cell_type": "markdown",
   "id": "6c293fb5",
   "metadata": {},
   "source": [
    "Embora apresentaremos funções prontas você pode acessar seu código base. Para tanto deve-se importar o módulo <u>inspect</u> e utilizar a função <u>getsource</u> aplicada à função que se quer consultar. Pode ser necessário importar o módulo ao qual a função pertença. Algumas funções implementadas em C não podem ser acessadas desse modo. Execute a célula a seguir para consultar o código referente à função **nx.draw**."
   ]
  },
  {
   "cell_type": "code",
   "execution_count": 3,
   "id": "02a6f195",
   "metadata": {
    "ExecuteTime": {
     "end_time": "2023-08-09T14:34:37.356593Z",
     "start_time": "2023-08-09T14:34:37.134198Z"
    }
   },
   "outputs": [
    {
     "name": "stdout",
     "output_type": "stream",
     "text": [
      "def draw(G, pos=None, ax=None, **kwds):\n",
      "    \"\"\"Draw the graph G with Matplotlib.\n",
      "\n",
      "    Draw the graph as a simple representation with no node\n",
      "    labels or edge labels and using the full Matplotlib figure area\n",
      "    and no axis labels by default.  See draw_networkx() for more\n",
      "    full-featured drawing that allows title, axis labels etc.\n",
      "\n",
      "    Parameters\n",
      "    ----------\n",
      "    G : graph\n",
      "        A networkx graph\n",
      "\n",
      "    pos : dictionary, optional\n",
      "        A dictionary with nodes as keys and positions as values.\n",
      "        If not specified a spring layout positioning will be computed.\n",
      "        See :py:mod:`networkx.drawing.layout` for functions that\n",
      "        compute node positions.\n",
      "\n",
      "    ax : Matplotlib Axes object, optional\n",
      "        Draw the graph in specified Matplotlib axes.\n",
      "\n",
      "    kwds : optional keywords\n",
      "        See networkx.draw_networkx() for a description of optional keywords.\n",
      "\n",
      "    Examples\n",
      "    --------\n",
      "    >>> G = nx.dodecahedral_graph()\n",
      "    >>> nx.draw(G)\n",
      "    >>> nx.draw(G, pos=nx.spring_layout(G))  # use spring layout\n",
      "\n",
      "    See Also\n",
      "    --------\n",
      "    draw_networkx\n",
      "    draw_networkx_nodes\n",
      "    draw_networkx_edges\n",
      "    draw_networkx_labels\n",
      "    draw_networkx_edge_labels\n",
      "\n",
      "    Notes\n",
      "    -----\n",
      "    This function has the same name as pylab.draw and pyplot.draw\n",
      "    so beware when using `from networkx import *`\n",
      "\n",
      "    since you might overwrite the pylab.draw function.\n",
      "\n",
      "    With pyplot use\n",
      "\n",
      "    >>> import matplotlib.pyplot as plt\n",
      "    >>> G = nx.dodecahedral_graph()\n",
      "    >>> nx.draw(G)  # networkx draw()\n",
      "    >>> plt.draw()  # pyplot draw()\n",
      "\n",
      "    Also see the NetworkX drawing examples at\n",
      "    https://networkx.org/documentation/latest/auto_examples/index.html\n",
      "    \"\"\"\n",
      "    import matplotlib.pyplot as plt\n",
      "\n",
      "    if ax is None:\n",
      "        cf = plt.gcf()\n",
      "    else:\n",
      "        cf = ax.get_figure()\n",
      "    cf.set_facecolor(\"w\")\n",
      "    if ax is None:\n",
      "        if cf.axes:\n",
      "            ax = cf.gca()\n",
      "        else:\n",
      "            ax = cf.add_axes((0, 0, 1, 1))\n",
      "\n",
      "    if \"with_labels\" not in kwds:\n",
      "        kwds[\"with_labels\"] = \"labels\" in kwds\n",
      "\n",
      "    draw_networkx(G, pos=pos, ax=ax, **kwds)\n",
      "    ax.set_axis_off()\n",
      "    plt.draw_if_interactive()\n",
      "    return\n",
      "\n"
     ]
    }
   ],
   "source": [
    "import networkx as nx\n",
    "import inspect\n",
    "\n",
    "code = inspect.getsource(nx.draw) \n",
    "\n",
    "print(code)"
   ]
  },
  {
   "cell_type": "markdown",
   "id": "c0d73efc",
   "metadata": {},
   "source": [
    "Copiemos o código acima na célula a seguir:"
   ]
  },
  {
   "cell_type": "code",
   "execution_count": null,
   "id": "ca735766",
   "metadata": {
    "ExecuteTime": {
     "end_time": "2023-07-26T13:45:57.310646Z",
     "start_time": "2023-07-26T13:45:57.295246Z"
    }
   },
   "outputs": [],
   "source": [
    "def average_shortest_path_length(G, weight=None, method=None):\n",
    "    r\"\"\"Returns the average shortest path length.\n",
    "\n",
    "    The average shortest path length is\n",
    "\n",
    "    .. math::\n",
    "\n",
    "       a =\\sum_{\\substack{s,t \\in V \\\\ s\\neq t}} \\frac{d(s, t)}{n(n-1)}\n",
    "\n",
    "    where `V` is the set of nodes in `G`,\n",
    "    `d(s, t)` is the shortest path from `s` to `t`,\n",
    "    and `n` is the number of nodes in `G`.\n",
    "\n",
    "    .. versionchanged:: 3.0\n",
    "       An exception is raised for directed graphs that are not strongly\n",
    "       connected.\n",
    "\n",
    "    Parameters\n",
    "    ----------\n",
    "    G : NetworkX graph\n",
    "\n",
    "    weight : None, string or function, optional (default = None)\n",
    "        If None, every edge has weight/distance/cost 1.\n",
    "        If a string, use this edge attribute as the edge weight.\n",
    "        Any edge attribute not present defaults to 1.\n",
    "        If this is a function, the weight of an edge is the value\n",
    "        returned by the function. The function must accept exactly\n",
    "        three positional arguments: the two endpoints of an edge and\n",
    "        the dictionary of edge attributes for that edge.\n",
    "        The function must return a number.\n",
    "\n",
    "    method : string, optional (default = 'unweighted' or 'djikstra')\n",
    "        The algorithm to use to compute the path lengths.\n",
    "        Supported options are 'unweighted', 'dijkstra', 'bellman-ford',\n",
    "        'floyd-warshall' and 'floyd-warshall-numpy'.\n",
    "        Other method values produce a ValueError.\n",
    "        The default method is 'unweighted' if `weight` is None,\n",
    "        otherwise the default method is 'dijkstra'.\n",
    "\n",
    "    Raises\n",
    "    ------\n",
    "    NetworkXPointlessConcept\n",
    "        If `G` is the null graph (that is, the graph on zero nodes).\n",
    "\n",
    "    NetworkXError\n",
    "        If `G` is not connected (or not strongly connected, in the case\n",
    "        of a directed graph).\n",
    "\n",
    "    ValueError\n",
    "        If `method` is not among the supported options.\n",
    "\n",
    "    Examples\n",
    "    --------\n",
    "    >>> G = nx.path_graph(5)\n",
    "    >>> nx.average_shortest_path_length(G)\n",
    "    2.0\n",
    "\n",
    "    For disconnected graphs, you can compute the average shortest path\n",
    "    length for each component\n",
    "\n",
    "    >>> G = nx.Graph([(1, 2), (3, 4)])\n",
    "    >>> for C in (G.subgraph(c).copy() for c in nx.connected_components(G)):\n",
    "    ...     print(nx.average_shortest_path_length(C))\n",
    "    1.0\n",
    "    1.0\n",
    "\n",
    "    \"\"\"\n",
    "    single_source_methods = [\"unweighted\", \"dijkstra\", \"bellman-ford\"]\n",
    "    all_pairs_methods = [\"floyd-warshall\", \"floyd-warshall-numpy\"]\n",
    "    supported_methods = single_source_methods + all_pairs_methods\n",
    "\n",
    "    if method is None:\n",
    "        method = \"unweighted\" if weight is None else \"dijkstra\"\n",
    "    if method not in supported_methods:\n",
    "        raise ValueError(f\"method not supported: {method}\")\n",
    "\n",
    "    n = len(G)\n",
    "    # For the special case of the null graph, raise an exception, since\n",
    "    # there are no paths in the null graph.\n",
    "    if n == 0:\n",
    "        msg = (\n",
    "            \"the null graph has no paths, thus there is no average\"\n",
    "            \"shortest path length\"\n",
    "        )\n",
    "        raise nx.NetworkXPointlessConcept(msg)\n",
    "    # For the special case of the trivial graph, return zero immediately.\n",
    "    if n == 1:\n",
    "        return 0\n",
    "    # Shortest path length is undefined if the graph is not strongly connected.\n",
    "    if G.is_directed() and not nx.is_strongly_connected(G):\n",
    "        raise nx.NetworkXError(\"Graph is not strongly connected.\")\n",
    "    # Shortest path length is undefined if the graph is not connected.\n",
    "    if not G.is_directed() and not nx.is_connected(G):\n",
    "        raise nx.NetworkXError(\"Graph is not connected.\")\n",
    "\n",
    "    # Compute all-pairs shortest paths.\n",
    "    def path_length(v):\n",
    "        if method == \"unweighted\":\n",
    "            return nx.single_source_shortest_path_length(G, v)\n",
    "        elif method == \"dijkstra\":\n",
    "            return nx.single_source_dijkstra_path_length(G, v, weight=weight)\n",
    "        elif method == \"bellman-ford\":\n",
    "            return nx.single_source_bellman_ford_path_length(G, v, weight=weight)\n",
    "\n",
    "    if method in single_source_methods:\n",
    "        # Sum the distances for each (ordered) pair of source and target node.\n",
    "        s = sum(l for u in G for l in path_length(u).values())\n",
    "    else:\n",
    "        if method == \"floyd-warshall\":\n",
    "            all_pairs = nx.floyd_warshall(G, weight=weight)\n",
    "            s = sum(sum(t.values()) for t in all_pairs.values())\n",
    "        elif method == \"floyd-warshall-numpy\":\n",
    "            s = nx.floyd_warshall_numpy(G, weight=weight).sum()\n",
    "    return s / (n * (n - 1))\n",
    "\n"
   ]
  },
  {
   "cell_type": "markdown",
   "id": "7ce8cc81",
   "metadata": {},
   "source": [
    "O código aportuguesado (usando o GPT) é apresentado a seguir:"
   ]
  },
  {
   "cell_type": "code",
   "execution_count": null,
   "id": "f408f72a",
   "metadata": {
    "ExecuteTime": {
     "end_time": "2023-07-26T13:43:18.926790Z",
     "start_time": "2023-07-26T13:43:18.912827Z"
    }
   },
   "outputs": [],
   "source": [
    "def comprimento_medio_caminhos_mais_curto(G, peso=None, metodo=None):\n",
    "    r\"\"\"Retorna o comprimento médio dos caminhos mais curtos.\n",
    "\n",
    "    O comprimento médio dos caminhos mais curtos é calculado por:\n",
    "\n",
    "    .. math::\n",
    "\n",
    "       a =\\sum_{\\substack{s,t \\in V \\\\ s\\neq t}} \\frac{d(s, t)}{n(n-1)}\n",
    "\n",
    "    onde `V` é o conjunto de nós em `G`,\n",
    "    `d(s, t)` é o caminho mais curto de `s` para `t`,\n",
    "    e `n` é o número de nós em `G`.\n",
    "\n",
    "    .. versionchanged:: 3.0\n",
    "       Uma exceção é lançada para grafos direcionados que não são fortemente\n",
    "       conectados.\n",
    "\n",
    "    Parâmetros\n",
    "    ----------\n",
    "    G : grafo NetworkX\n",
    "\n",
    "    peso : None, string ou função, opcional (padrão = None)\n",
    "        Se None, todas as arestas têm peso/distância/custo 1.\n",
    "        Se uma string, use esse atributo da aresta como peso da aresta.\n",
    "        Qualquer atributo de aresta não presente é considerado peso 1.\n",
    "        Se for uma função, o peso de uma aresta é o valor retornado\n",
    "        pela função. A função deve aceitar exatamente três argumentos posicionais:\n",
    "        os dois pontos finais de uma aresta e o dicionário de atributos de aresta para essa aresta.\n",
    "        A função deve retornar um número.\n",
    "\n",
    "    metodo : string, opcional (padrão = 'unweighted' ou 'djikstra')\n",
    "        O algoritmo a ser usado para calcular os comprimentos dos caminhos.\n",
    "        As opções suportadas são 'unweighted', 'dijkstra', 'bellman-ford',\n",
    "        'floyd-warshall' e 'floyd-warshall-numpy'.\n",
    "        Outros valores de método produzem um ValueError.\n",
    "        O método padrão é 'unweighted' se `peso` for None, caso contrário, o método padrão é 'dijkstra'.\n",
    "\n",
    "    Levanta\n",
    "    ------\n",
    "    NetworkXPointlessConcept\n",
    "        Se `G` é o grafo nulo (ou seja, o grafo sem nenhum nó).\n",
    "\n",
    "    NetworkXError\n",
    "        Se `G` não está conectado (ou não é fortemente conectado, no caso\n",
    "        de um grafo direcionado).\n",
    "\n",
    "    ValueError\n",
    "        Se `metodo` não estiver entre as opções suportadas.\n",
    "\n",
    "    Exemplos\n",
    "    --------\n",
    "    >>> G = nx.path_graph(5)\n",
    "    >>> comprimento_medio = comprimento_medio_caminhos_mais_curto(G)\n",
    "    >>> print(\"Comprimento médio dos caminhos mais curtos:\", comprimento_medio)\n",
    "    2.0\n",
    "\n",
    "    Para grafos desconexos, você pode calcular o comprimento médio dos caminhos mais curtos para cada componente\n",
    "\n",
    "    >>> G = nx.Graph([(1, 2), (3, 4)])\n",
    "    >>> for C in (G.subgraph(c).copy() for c in nx.connected_components(G)):\n",
    "    ...     comprimento_medio = comprimento_medio_caminhos_mais_curto(C)\n",
    "    ...     print(comprimento_medio)\n",
    "    1.0\n",
    "    1.0\n",
    "\n",
    "    \"\"\"\n",
    "    metodos_origem_unica = [\"unweighted\", \"dijkstra\", \"bellman-ford\"]\n",
    "    metodos_todos_pares = [\"floyd-warshall\", \"floyd-warshall-numpy\"]\n",
    "    metodos_suportados = metodos_origem_unica + metodos_todos_pares\n",
    "\n",
    "    if metodo is None:\n",
    "        metodo = \"unweighted\" if peso is None else \"dijkstra\"\n",
    "    if metodo not in metodos_suportados:\n",
    "        raise ValueError(f\"método não suportado: {metodo}\")\n",
    "\n",
    "    n = len(G)\n",
    "    # Para o caso especial do grafo nulo, lançar uma exceção, já que\n",
    "    # não há caminhos no grafo nulo.\n",
    "    if n == 0:\n",
    "        msg = (\n",
    "            \"o grafo nulo não possui caminhos, portanto não há comprimento médio\"\n",
    "            \"dos caminhos mais curtos\"\n",
    "        )\n",
    "        raise nx.NetworkXPointlessConcept(msg)\n",
    "    # Para o caso especial do grafo trivial, retornar zero imediatamente.\n",
    "    if n == 1:\n",
    "        return 0\n",
    "    # O comprimento do caminho mais curto é indefinido se o grafo não for fortemente conectado.\n",
    "    if G.is_directed() and not nx.is_strongly_connected(G):\n",
    "        raise nx.NetworkXError(\"O grafo não é fortemente conectado.\")\n",
    "    # O comprimento do caminho mais curto é indefinido se o grafo não for conectado.\n",
    "    if not G.is_directed() and not nx.is_connected(G):\n",
    "        raise nx.NetworkXError(\"O grafo não é conectado.\")\n",
    "\n",
    "    # Calcular todos os caminhos mais curtos entre todos os pares de nós.\n",
    "    def comprimento_caminho(v):\n",
    "        if metodo == \"unweighted\":\n",
    "            return nx.single_source_shortest_path_length(G, v)\n",
    "        elif metodo == \"dijkstra\":\n",
    "            return nx.single_source_dijkstra_path_length(G, v, weight=peso)\n",
    "        elif metodo == \"bellman-ford\":\n",
    "            return nx.single_source_bellman_ford_path_length(G, v, weight=peso)\n",
    "\n",
    "    if metodo in metodos_origem_unica:\n",
    "        # Somar as distâncias para cada par (ordenado) de nó de origem e destino.\n",
    "        s = sum(l for u in G for l in comprimento_caminho(u).values())\n",
    "    else:\n",
    "        if metodo == \"floyd-warshall\":\n",
    "            todos_pares = nx.floyd_warshall(G, weight=peso)\n",
    "            s = sum(sum(t.values()) for t in todos_pares.values())\n",
    "        elif metodo == \"floyd-warshall-numpy\":\n",
    "            s = nx.floyd_warshall_numpy(G, weight=peso).sum()\n",
    "    return s / (n * (n - 1))\n"
   ]
  },
  {
   "cell_type": "markdown",
   "id": "6eae28af",
   "metadata": {},
   "source": [
    "O link a seguir leva diretamente para o repositório GitHub que contém todos os meus materiais em Python:\n",
    "\n",
    "[Curso Python Com Jupyter Notebook](https://github.com/ProfAllanIFBA/Curso_Python_Com_Jupyter_Notebook)\n",
    "\n",
    "[Todos meus materiais (GitHub Pessoal)](https://github.com/ProfAllanIFBA)\n",
    "\n"
   ]
  }
 ],
 "metadata": {
  "kernelspec": {
   "display_name": "Python 3 (ipykernel)",
   "language": "python",
   "name": "python3"
  },
  "language_info": {
   "codemirror_mode": {
    "name": "ipython",
    "version": 3
   },
   "file_extension": ".py",
   "mimetype": "text/x-python",
   "name": "python",
   "nbconvert_exporter": "python",
   "pygments_lexer": "ipython3",
   "version": "3.11.5"
  },
  "varInspector": {
   "cols": {
    "lenName": 16,
    "lenType": 16,
    "lenVar": 40
   },
   "kernels_config": {
    "python": {
     "delete_cmd_postfix": "",
     "delete_cmd_prefix": "del ",
     "library": "var_list.py",
     "varRefreshCmd": "print(var_dic_list())"
    },
    "r": {
     "delete_cmd_postfix": ") ",
     "delete_cmd_prefix": "rm(",
     "library": "var_list.r",
     "varRefreshCmd": "cat(var_dic_list()) "
    }
   },
   "types_to_exclude": [
    "module",
    "function",
    "builtin_function_or_method",
    "instance",
    "_Feature"
   ],
   "window_display": false
  }
 },
 "nbformat": 4,
 "nbformat_minor": 5
}
