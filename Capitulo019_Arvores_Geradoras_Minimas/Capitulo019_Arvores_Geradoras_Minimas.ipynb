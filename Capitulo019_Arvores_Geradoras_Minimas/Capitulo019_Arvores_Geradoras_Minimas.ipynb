{
 "cells": [
  {
   "cell_type": "markdown",
   "id": "ce33096c",
   "metadata": {},
   "source": [
    "<center> <img src=\"logo_ifba.jpg\" alt=\"jpg_python\" width=\"100\" height=\"\"> </center>\n",
    "<br><br>\n",
    "<div align=\"center\"><span style=\"font-size: 26px;\"><strong>Matemática Discreta II <br></strong></span></div> <br>\n",
    "<center> <img src=\"python_gif.gif\" alt=\"gif_python\" width=\"80\"> </center>"
   ]
  },
  {
   "cell_type": "markdown",
   "id": "c5073180",
   "metadata": {},
   "source": [
    "<div style=\"border: 2px solid black; padding: 10px; width: 95%; background-color: lightgray; display: flex; align-items: center;\">\n",
    "    <h1 style=\"color: red; text-align: center; margin: auto;\">\n",
    "        Capítulo 19: Árvores Geradoras Mínimas\n",
    "    </h1>\n",
    "</div>\n",
    "\n",
    "<font color='red'></font>\n",
    "<a href=\"\"></a>"
   ]
  },
  {
   "cell_type": "markdown",
   "id": "efaa9809",
   "metadata": {},
   "source": [
    "# <div style=\"margin-top: -20px;\">\n",
    "<hr style=\"border: 2px solid black;\">\n",
    "\n",
    "<font color='black'><span style=\"font-size: 22px;\"><strong>19.1 Contextualizando</strong></span></font>\n",
    "\n",
    "<hr style=\"border: 2px solid black;\">\n",
    "</div>"
   ]
  },
  {
   "cell_type": "markdown",
   "id": "0b20f496",
   "metadata": {},
   "source": [
    "Uma empresa planeja construir uma rede de comunicações conectando seus seis centros empresariais. Alguns desses centros podem ser vinculado a uma linha telefônica alugada já existente. Quais links devem ser feitos para garantir que haja um caminho entre dois desses centros para que o custo total da rede seja minimizado? Podemos modelar esse problema usando o grafo ponderado mostrado na figura a seguir, onde vértices representam centros empresariais, arestas representam possíveis linhas dedicadas e os pesos nas arestas são as taxas de aluguel mensais das linhas representadas pelas arestas. Podemos resolver esse problema ao encontrar uma árvore geradora de modo que a soma dos pesos das arestas da árvore seja minimizada. Essa árvore geradora é chamada de **árvore geradora mínima**.<br><br>\n",
    "\n",
    "<center> <img src=\"fig19_1.jpg\" alt=\"jpg_python\" width=\"500\" height=\"\"> </center>"
   ]
  },
  {
   "cell_type": "markdown",
   "id": "6afffc84",
   "metadata": {},
   "source": [
    " Uma grande variedade de problemas é resolvida encontrando uma árvore geradora em um grafo ponderado, de modo que a soma dos pesos das arestas na árvore seja mínima. Nesta seção apresentaremos dois algoritmos para obtenção de tais árvores. "
   ]
  },
  {
   "cell_type": "markdown",
   "id": "d5fe18c7",
   "metadata": {},
   "source": [
    "#### <font color='red'> Definição 1 </font>"
   ]
  },
  {
   "cell_type": "markdown",
   "id": "232aa38c",
   "metadata": {},
   "source": [
    "<font color='red'> Uma árvore **geradora mínima** em um grafo ponderado conectado é uma árvore geradora que possui a menor soma possível de pesos de suas arestas."
   ]
  },
  {
   "cell_type": "markdown",
   "id": "e2395942",
   "metadata": {},
   "source": [
    "Os algoritmos que apresentaremos a seguir para a obtenção de árvores geradoras mínimas a partir de um grafo ponderado são **algoritmos ótimos**. Um algoritmo ótimo é um procedimento que faz uma escolha ideal em cada uma de suas etapas. A otimização em cada etapa não garante que a solução geral ideal seja produzida. No entanto, os dois algoritmos apresentados nesta seção para a construção de árvores geradoras mínima são algoritmos ótimos que produzem soluções ótimas. *Que beleza!*"
   ]
  },
  {
   "cell_type": "markdown",
   "id": "ecf1913e",
   "metadata": {},
   "source": [
    "# <div style=\"margin-top: -20px;\">\n",
    "<hr style=\"border: 2px solid black;\">\n",
    "\n",
    "<font color='black'><span style=\"font-size: 22px;\"><strong>19.2 Algoritmo de Prim</strong></span></font>\n",
    "\n",
    "<hr style=\"border: 2px solid black;\">\n",
    "</div>"
   ]
  },
  {
   "cell_type": "markdown",
   "id": "0b579526",
   "metadata": {},
   "source": [
    "O primeiro algoritmo que discutiremos foi originalmente descoberto pelo matemático tcheco Vojtech Jarník em $1930$, que o descreveu em um jornal obscuro da República Tcheca. O algoritmo tornou-se bem conhecido quando foi redescoberto em $1957$ por Robert Prim. Por causa disso, é conhecido como algoritmo Prim (e às vezes como algoritmo Prim-Jarník). \n",
    "\n",
    "<font color='red'> Comece escolhendo qualquer borda com menor peso, colocando-a na árvore de abrangência. Acrescente sucessivamente às arestas da árvore de peso mínimo que estão incidentes a um vértice já na árvore, nunca formando um circuito simples com as arestas já existentes na árvore. Pare quando $n-1$ arestas tiverem sido adicionadas.</font>"
   ]
  },
  {
   "cell_type": "markdown",
   "id": "4daaf3c7",
   "metadata": {},
   "source": [
    "#### <font color='darkblue'> Algoritmo:  Algoritmo de Prim"
   ]
  },
  {
   "cell_type": "markdown",
   "id": "494f7fb8",
   "metadata": {},
   "source": [
    "<font color='darkblue'> **procedure** Prim ($G$: grafo não orientado conexo com $n$ vértices e arestas ponderadas)<br><br>\n",
    " $T:=$ uma aresta com peso mínimo<br><br>\n",
    " **for** $i := 1$ **to** $n-2$<br><br>\n",
    " **begin**<br><br>\n",
    " $ \\ \\ \\ $ $e :=$ uma aresta de peso mínimo incidente a um vértice em $T$ e que não forme um ciclo simples em $T$ se adicionada a $T$<br><br>\n",
    " $ \\ \\ \\ $ $T := T$ com $e$ adicionada<br><br>\n",
    " **end**$\\{$$T$ é uma árvore geradora mínima de $G$$\\}$"
   ]
  },
  {
   "cell_type": "markdown",
   "id": "7d6a7e89",
   "metadata": {},
   "source": [
    "#### <font color='blue'> Exemplo 1 </font>"
   ]
  },
  {
   "cell_type": "markdown",
   "id": "0c18b249",
   "metadata": {},
   "source": [
    "<font color='blue'> Use o algoritmo da Prim para projetar uma rede de comunicações de custo mínimo conectando todos os computadores representados pelo grafo apresentado no início deste capítulo:<br><br>\n",
    " <center> <img src=\"fig19_2.jpg\" alt=\"jpg_python\" width=\"500\" height=\"\"> </center>"
   ]
  },
  {
   "cell_type": "markdown",
   "id": "784de517",
   "metadata": {},
   "source": [
    "##### <font color='blue'> Solução </font>"
   ]
  },
  {
   "cell_type": "markdown",
   "id": "00af29e1",
   "metadata": {},
   "source": [
    "<font color='blue'> O algoritmo de Prim é realizado escolhendo uma borda inicial de peso mínimo e adicionando sucessivamente bordas de peso mínimo que são incidentes a um vértice na árvore e que não irá formar circuitos simples. Iniciamos escolhendo a borda de menor peso do grafo, isto é, Feira de Santana - Salvador [$500$]. Prosseguimos adicionando a aresta de menor peso incidente aos vértices já adicionados à árvore (Feira e Salvador) de modo a não termos um circuito simples, isto é, Salvador - Jequié [$680$]. Seguindo, temos que a aresta de menor peso incidente aos vértices adicionados de modo a não termos um circuito simples é Jequié - Conquista [$720$] (Note que a aresta Feira de Santana - Jequié não poderia ser adicionada pois teríamos um circuito simples). Seguindo, temos que a aresta de menor peso incidente aos vértices presentes na árvore é Vitória da Conquista - Guanambi [$700$]. Por fim, adicionamos a aresta Vitória da Conquista - Ilhéus [$720$]. A soma mínima é dada por: $3320$. As arestas escolhidas estão destacadas na figura a seguir:<br><br>\n",
    " <center> <img src=\"fig19_3.jpg\" alt=\"jpg_python\" width=\"500\" height=\"\"> </center>"
   ]
  },
  {
   "cell_type": "markdown",
   "id": "f69b1ae4",
   "metadata": {},
   "source": [
    "Observe que a árvore geradora não necessariamente é única. Em alguns casos temos que optar por arestas de mesmo peso. Neste caso, recomenda-se usarmos alguma ordem, como por exemplo a ordem alfabética, numérica etc para escolher dentre os itens aquele que \"vem primeiro\"."
   ]
  },
  {
   "cell_type": "markdown",
   "id": "60aa93dd",
   "metadata": {},
   "source": [
    "#### <font color='blue'> Exemplo 2 </font>"
   ]
  },
  {
   "cell_type": "markdown",
   "id": "ba38282f",
   "metadata": {},
   "source": [
    "<font color='blue'> Use o algoritmo Prim para encontrar uma árvore geradora mínima no grafo mostrado na figura a seguir:<br><br>\n",
    " <center> <img src=\"fig19_4.jpg\" alt=\"jpg_python\" width=\"250\" height=\"\"> </center>"
   ]
  },
  {
   "cell_type": "markdown",
   "id": "d89f3557",
   "metadata": {},
   "source": [
    "##### <font color='blue'> Solução </font>"
   ]
  },
  {
   "cell_type": "markdown",
   "id": "232dd376",
   "metadata": {},
   "source": [
    "<font color='blue'>As escolhas, de acordo com o algoritmo de Prim são: $\\{f,g\\}[1]$, $\\{f,j\\}[1]$,$\\{b,f\\}[2]$, $\\{a,b\\}[2]$, $\\{e,f\\}[2]$, $\\{j,k\\}[2]$, $\\{k,l\\}[1]$, $\\{b,c\\}[3]$, $\\{c,d\\}[2]$, $\\{d,h\\}[3]$ e $\\{i,j\\}[3]$. A soma mínima é dada por: $21$.\n",
    "Uma árvore geradora mínima construída usando o algoritmo Prim é mostrada na figura a seguir:<br><br>\n",
    " <center> <img src=\"fig19_5.jpg\" alt=\"jpg_python\" width=\"250\" height=\"\"> </center>"
   ]
  },
  {
   "cell_type": "markdown",
   "id": "31fc0ac6",
   "metadata": {},
   "source": [
    "# <div style=\"margin-top: -20px;\">\n",
    "<hr style=\"border: 2px solid black;\">\n",
    "\n",
    "<font color='black'><span style=\"font-size: 22px;\"><strong>19.3 Algoritmo de Kruskal</strong></span></font>\n",
    "\n",
    "<hr style=\"border: 2px solid black;\">\n",
    "</div>"
   ]
  },
  {
   "cell_type": "markdown",
   "id": "1e4ce7f5",
   "metadata": {},
   "source": [
    "O segundo algoritmo que discutiremos foi descoberto por Joseph Kruskal em $1956$. \n",
    "\n",
    "<font color='red'> Para realizar o algoritmo de Kruskal, escolha uma borda no grafo com peso mínimo. Adicione sucessivamente arestas com peso mínimo que não formam um circuito simples com as arestas já escolhidas. Pare após $n-1$ arestas forem selecionadas. </font>"
   ]
  },
  {
   "cell_type": "markdown",
   "id": "cac86c29",
   "metadata": {},
   "source": [
    "#### <font color='darkblue'> Algoritmo:  Algoritmo de Kruskal"
   ]
  },
  {
   "cell_type": "markdown",
   "id": "fa5259a4",
   "metadata": {},
   "source": [
    "<font color='darkblue'> **procedure** Kruskal ($G$: grafo não orientado conexo com $n$ vértices e aresta ponderadas)<br><br>\n",
    " $T:=$ grafo vazio<br><br>\n",
    " **for** $i := 1$ **to** $n-1$<br><br>\n",
    " **begin**<br><br>\n",
    " $ \\ \\ \\ $ $e :=$ uma aresta de peso mínimo e que não forme um ciclo simples em $T$ se adicionada a $T$<br><br>\n",
    " $ \\ \\ \\ $ $T := T$ com $e$ adicionada<br><br>\n",
    " **end**$\\{$$T$ é uma árvore geradora mínima de $G$$\\}$"
   ]
  },
  {
   "cell_type": "markdown",
   "id": "d7f30c93",
   "metadata": {},
   "source": [
    "#### <font color='blue'> Exemplo 3 </font>"
   ]
  },
  {
   "cell_type": "markdown",
   "id": "2175514f",
   "metadata": {},
   "source": [
    "<font color='blue'> Use o algoritmo da Kruskal para projetar uma rede de comunicações de custo mínimo conectando todos os computadores representados pelo grafo apresentado no início deste capítulo:<br><br>\n",
    " <center> <img src=\"fig19_2.jpg\" alt=\"jpg_python\" width=\"500\" height=\"\"> </center>"
   ]
  },
  {
   "cell_type": "markdown",
   "id": "7adb3e6a",
   "metadata": {},
   "source": [
    "##### <font color='blue'> Solução </font>"
   ]
  },
  {
   "cell_type": "markdown",
   "id": "706d4d8f",
   "metadata": {},
   "source": [
    "<font color='blue'> Devemos escolher as arestas de peso mínimo de modo a não termos circuitos simples até que tenhamos adicionado $5$ arestas. As arestas são escolhidas na seguinte ordem: Feira de Santana - Salvador $[500]$, Jequié - Salvador $[680]$, Guanambi - Vitória da Conquista $[700]$, Ilhéus - Vitória da Conquista $[720]$, Jequié - Vitória da Conquista $[720]$. A soma mínima é (obviamente) dada por $3320$. *Como assim, obviamente?* As arestas escolhidas estão destacadas na figura a seguir:<br><br>\n",
    " <center> <img src=\"fig19_6.jpg\" alt=\"jpg_python\" width=\"500\" height=\"\"> </center>"
   ]
  },
  {
   "cell_type": "markdown",
   "id": "af87eed9",
   "metadata": {},
   "source": [
    "#### <font color='blue'> Exemplo 4 </font>"
   ]
  },
  {
   "cell_type": "markdown",
   "id": "30240f73",
   "metadata": {},
   "source": [
    "<font color='blue'> Use o algoritmo de Kruskal para encontrar uma árvore geradora mínima do grafo ponderado mostrado na figura a seguir:<br><br>\n",
    " <center> <img src=\"fig19_7.jpg\" alt=\"jpg_python\" width=\"250\" height=\"\"> </center>"
   ]
  },
  {
   "cell_type": "markdown",
   "id": "b9fd8da6",
   "metadata": {},
   "source": [
    "##### <font color='blue'> Solução </font>"
   ]
  },
  {
   "cell_type": "markdown",
   "id": "99332bd7",
   "metadata": {},
   "source": [
    "<font color='blue'> As escolhas, de acordo com o algoritmo de Kruskal são: $\\{c,g\\}[1]$, $\\{f,j\\}[1]$,$\\{k,l\\}[1]$, $\\{b,f\\}[2]$, $\\{c,d\\}[2]$, $\\{d,h\\}[2]$, $\\{e,f\\}[2]$, $\\{i,j\\}[2]$, $\\{j,k\\}[2]$, $\\{a,b\\}[3]$ e $\\{b,c\\}[3]$. A soma mínima é dada por:  21. Uma árvore geradora mínima obtida pelo algoritmo de Kruskal é mostrada na figura a seguir:<br><br>\n",
    " <center> <img src=\"fig19_8.jpg\" alt=\"jpg_python\" width=\"250\" height=\"\"> </center>"
   ]
  },
  {
   "cell_type": "markdown",
   "id": "dec2f459",
   "metadata": {},
   "source": [
    "# <div style=\"margin-top: -20px;\">\n",
    "<hr style=\"border: 2px solid black;\">\n",
    "\n",
    "<font color='black'><span style=\"font-size: 22px;\"><strong>19.4 Exercícios</strong></span></font>\n",
    "\n",
    "<hr style=\"border: 2px solid black;\">\n",
    "</div>"
   ]
  },
  {
   "cell_type": "markdown",
   "id": "9cacb023",
   "metadata": {},
   "source": [
    "#### Exercício 1"
   ]
  },
  {
   "cell_type": "markdown",
   "id": "5db3351f",
   "metadata": {},
   "source": [
    "Aplique os algoritmos de Prim e Kruskal aos grafos dados a seguir:<br><br>\n",
    "\n",
    "<center> <img src=\"fig19_9.jpg\" alt=\"jpg_python\" width=\"600\" height=\"\"> </center>"
   ]
  },
  {
   "cell_type": "markdown",
   "id": "5558f0b9",
   "metadata": {},
   "source": [
    "## <div style=\"margin-top: -20px;\">\n",
    "<hr style=\"border: 2px solid black;\">\n",
    "\n",
    "<font color='black'><span style=\"font-size: 18px;\"><strong>Respostas</strong></span></font>\n",
    "\n",
    "<hr style=\"border: 2px solid black;\">\n",
    "</div>"
   ]
  },
  {
   "cell_type": "markdown",
   "id": "867e0a4e",
   "metadata": {},
   "source": [
    "#### Resposta do Exercício 1"
   ]
  },
  {
   "cell_type": "markdown",
   "id": "8a6314a6",
   "metadata": {},
   "source": [
    "a) Prim: $\\{b,c\\}[1],\\{a,b\\}[2], \\{c,d\\}[2],\\{a,g\\}[3],\\{e,g\\}[1],\\{g,i\\}[3],\\{e,h\\}[3],\\{h,l\\}[2], g,j\\}[3],$ $\\{j,k\\}[1],\\{a,f\\}[4]$, Soma mínima: $24$; \n",
    "\n",
    "Kruskal $\\{b,c\\}[1],\\{e,g\\}[1],\\{j,k\\}[1],\\{a,b\\}[2],\\{c,d\\}[2],\\{g,i\\}[2],\\{h,l\\}[2],\\{a,g\\}[3],\\{e,h\\}[3],$ $\\{g,j\\}[3],\\{a,f\\}[4]$, Soma mínima: $24$.\n",
    "\n",
    "b) Prim:<br>\n",
    "$\\{d,g\\}[1],\\{b,d\\}[2],\\{a,d\\}[3],\\{a,c\\}[2],\\{b,e\\}[3],\\{e,f\\}[2],\\{g,h\\}[3],\\{h,k\\}[1],\\{j,k\\}[2],\\{i,j\\}[2],$ $\\{i,l\\}[2],\\{j,m\\}[3]$, Soma mínima: $26$; \n",
    "\n",
    "Kruskal: $\\{d,g\\}[1],\\{h,k\\}[1],\\{a,c\\}[2],\\{b,d\\}[2],\\{e,f\\}[2],\\{i,j\\}[2],\\{i,l\\}[2], \\{j,k\\}[2],\\{a,d\\}[3],\\{b,e\\}[3],$ $\\{g,h\\}[3],\\{j,m\\}[3]$, Soma mínima: $26$."
   ]
  },
  {
   "cell_type": "markdown",
   "id": "bcd2be96",
   "metadata": {},
   "source": [
    "# <div style=\"margin-top: -20px;\">\n",
    "<hr style=\"border: 2px solid black;\">\n",
    "\n",
    "<font color='black'><span style=\"font-size: 22px;\"><strong>19.5 Vídeo Aulas</strong></span></font>\n",
    "\n",
    "<hr style=\"border: 2px solid black;\">\n",
    "</div>"
   ]
  },
  {
   "cell_type": "markdown",
   "id": "37a17ebc",
   "metadata": {},
   "source": [
    "Clicando nos links a seguir você será redirecionado às aulas referentes a este capítulo.\n",
    "\n",
    "[Árvores Geradoras Mínimas](https://youtu.be/GmA1xI-LOr8)\n",
    "\n",
    "[Algoritmo de Prim](https://youtu.be/AZXSlrqEhes)\n",
    "\n",
    "[Exemplo Envolvendo o Algoritmo de Prim](https://youtu.be/1OxcQH2SXkA)\n",
    "\n",
    "[Algoritmo de Kruskal](https://youtu.be/AJ1DKzb2XT0)\n",
    "\n",
    "[Exemplo Envolvendo o Algoritmo de Kruskal](https://youtu.be/MK2NBBYndsY)"
   ]
  },
  {
   "cell_type": "markdown",
   "id": "28463355",
   "metadata": {},
   "source": [
    "# <div style=\"margin-top: -20px;\">\n",
    "<hr style=\"border: 2px solid black;\">\n",
    "\n",
    "<font color='black'><span style=\"font-size: 22px;\"><strong>19.6 No Computador (Experimental)</strong></span></font>\n",
    "\n",
    "<hr style=\"border: 2px solid black;\">\n",
    "</div>"
   ]
  },
  {
   "cell_type": "markdown",
   "id": "24e5ebe5",
   "metadata": {},
   "source": [
    "Para os exemplos a seguir utilizamos as árvores dadas nos **Exemplos 1**, **2** e **4**."
   ]
  },
  {
   "cell_type": "code",
   "execution_count": 1,
   "id": "d3e3337e",
   "metadata": {
    "ExecuteTime": {
     "end_time": "2024-01-15T00:08:12.500108Z",
     "start_time": "2024-01-15T00:08:12.488140Z"
    },
    "code_folding": []
   },
   "outputs": [],
   "source": [
    "H = [('Feira de Santana', 'Guananbi', 800),\n",
    "     ('Feira de Santana', 'Jequié', 720),\n",
    "     ('Feira de Santana', 'Salvador', 500),\n",
    "     ('Feira de Santana', 'Vitória da Conquista', 780),\n",
    "     ('Guananbi', 'Jequié', 750),\n",
    "     ('Guananbi', 'Vitória da Conquista', 700),\n",
    "     ('Ilhéus', 'Jequié', 730),\n",
    "     ('Ilhéus', 'Salvador', 730),\n",
    "     ('Ilhéus', 'Vitória da Conquista', 720),\n",
    "     ('Jequié', 'Salvador', 680),\n",
    "     ('Jequié', 'Vitória da Conquista', 720)]\n",
    "\n",
    "I = [('a', 'b', 2), ('a', 'e', 3), ('b', 'c', 3), ('b', 'f', 2), ('c', 'd', 2), ('c', 'g', 3),\n",
    "     ('d', 'h', 2), ('e', 'f', 2), ('e', 'i', 4), ('f', 'g', 1), ('f', 'j', 1), ('g', 'h', 3),\n",
    "     ('g', 'k', 4), ('h', 'l', 5), ('i', 'j', 3), ('j', 'k', 2), ('k', 'l', 1)]\n",
    "\n",
    "J = [('a', 'b', 3), ('a', 'e', 3), ('b', 'c', 3), ('b', 'f', 2), ('c', 'd', 2), ('c', 'g', 1),\n",
    "     ('d', 'h', 2), ('e', 'f', 2), ('e', 'i', 4), ('f', 'g', 3), ('f', 'j', 1), ('g', 'h', 3),\n",
    "     ('g', 'k', 5), ('h', 'l', 4), ('i', 'j', 2), ('j', 'k', 2), ('k', 'l', 1)]"
   ]
  },
  {
   "cell_type": "markdown",
   "id": "589f0979",
   "metadata": {},
   "source": [
    "#### Algoritmo de Prim e Kruskal (Ordenação não bate)"
   ]
  },
  {
   "cell_type": "markdown",
   "id": "c551173a",
   "metadata": {},
   "source": [
    "O código a seguir utiliza a função **minimum_spanning_tree** da biblioteca **networkx**. A escolha das arestas bem como a ordenação das mesmas na saída do código são, em geral diferentes das obtidas no material acima. Contudo, são exibidas árvores geradoras mínimas (veja observação final)."
   ]
  },
  {
   "cell_type": "code",
   "execution_count": 2,
   "id": "c6605036",
   "metadata": {
    "ExecuteTime": {
     "end_time": "2024-01-15T00:08:14.688412Z",
     "start_time": "2024-01-15T00:08:14.456063Z"
    }
   },
   "outputs": [
    {
     "name": "stdout",
     "output_type": "stream",
     "text": [
      "Arestas da Árvore Geradora Mínima:\n",
      "('a', 'b')\n",
      "('b', 'f')\n",
      "('b', 'c')\n",
      "('e', 'f')\n",
      "('c', 'g')\n",
      "('c', 'd')\n",
      "('f', 'j')\n",
      "('d', 'h')\n",
      "('i', 'j')\n",
      "('j', 'k')\n",
      "('k', 'l')\n",
      "Soma dos pesos das arestas: 21\n"
     ]
    }
   ],
   "source": [
    "import networkx as nx\n",
    "\n",
    "# Escolha do algoritmo\n",
    "algoritmo = 'prim' # Troque 'prim' por 'kruskal'\n",
    "\n",
    "# Cria um grafo e adiciona as arestas com pesos\n",
    "G = nx.Graph()\n",
    "G.add_weighted_edges_from(J)\n",
    "\n",
    "# Calcula a árvore geradora mínima usando o algoritmo de Prim/Kruskal\n",
    "mst = nx.minimum_spanning_tree(G, algorithm=algoritmo)\n",
    "\n",
    "# Extrai as arestas e os vértices da árvore geradora mínima\n",
    "mst_edges = list(mst.edges)\n",
    "mst_nodes = list(mst.nodes)\n",
    "\n",
    "# Calcula a soma dos pesos das arestas na árvore geradora mínima\n",
    "total_weight = sum([mst[u][v]['weight'] for u, v in mst.edges])\n",
    "\n",
    "# Imprime as arestas da árvore geradora mínima\n",
    "print(\"Arestas da Árvore Geradora Mínima:\")\n",
    "for edge in mst_edges:\n",
    "    print(edge)\n",
    "\n",
    "# Imprime a soma dos pesos da árvore geradora mínima\n",
    "print(f'Soma dos pesos das arestas: {total_weight}')"
   ]
  },
  {
   "cell_type": "code",
   "execution_count": null,
   "id": "7d89459d",
   "metadata": {
    "ExecuteTime": {
     "end_time": "2024-01-15T00:07:58.049331Z",
     "start_time": "2024-01-15T00:07:57.312826Z"
    },
    "scrolled": false
   },
   "outputs": [],
   "source": [
    "import matplotlib.pyplot as plt\n",
    "\n",
    "# Cores para as arestas: vermelho para as arestas na árvore geradora mínima, azul para as outras\n",
    "edge_colors = ['red' if edge in mst.edges() else 'blue' for edge in G.edges()]\n",
    "\n",
    "# Desenhar o grafo\n",
    "pos = nx.spring_layout(G)  # Posicionamento automático dos nós\n",
    "\n",
    "# Desenhar o grafo\n",
    "pos = nx.spring_layout(G)  # Posicionamento automático dos nós\n",
    "\n",
    "# Desenhar os nós\n",
    "nx.draw_networkx_nodes(G, pos, node_color='lightblue', edgecolors='black')\n",
    "\n",
    "# Desenhar as arestas\n",
    "nx.draw_networkx_edges(G, pos, edge_color=edge_colors)\n",
    "\n",
    "# Desenhar os rótulos dos nós\n",
    "nx.draw_networkx_labels(G, pos)\n",
    "\n",
    "# Desenhar os rótulos das arestas (pesos)\n",
    "edge_labels = nx.get_edge_attributes(G, 'weight')\n",
    "nx.draw_networkx_edge_labels(G, pos, edge_labels=edge_labels)\n",
    "\n",
    "# Mostrar o grafo\n",
    "plt.title('Grafo com Árvore Geradora Mínima destacada em vermelho')\n",
    "plt.axis('off')  # Desliga o eixo\n",
    "plt.show()\n"
   ]
  },
  {
   "cell_type": "markdown",
   "id": "1d289487",
   "metadata": {},
   "source": [
    "#### Observação 1"
   ]
  },
  {
   "cell_type": "markdown",
   "id": "c38a0911",
   "metadata": {},
   "source": [
    "Notei na máquina que uso e também no google colab algo que me deixou intrigado. Ao utilizar a **minimum_spannign_tree** associada ao algorítmo de **Prim** e também **Kruskal** me parece que, ao reiniciar o kernel, ocorre da árvore gerada ser alterada, embora ainda seja de peso mínimo. Isso não deveria ocorrer uma vez que os algorítmos de **Prim** e **Kruskal** são determinísticos e, até onde sei, não usam funções randômicas. As respostas possíveis para os grafos I e J são:<br><br>\n",
    "<center> <img src=\"fig19_10.jpg\" alt=\"jpg_python\" width=\"900\" height=\"\"> </center><br>\n",
    "Contudo, vale ressaltar que estão sendo exibidas árvores geradoras mínimas, ao que parece, ordenadas a partir do vértice \"a\"."
   ]
  }
 ],
 "metadata": {
  "kernelspec": {
   "display_name": "Python 3 (ipykernel)",
   "language": "python",
   "name": "python3"
  },
  "language_info": {
   "codemirror_mode": {
    "name": "ipython",
    "version": 3
   },
   "file_extension": ".py",
   "mimetype": "text/x-python",
   "name": "python",
   "nbconvert_exporter": "python",
   "pygments_lexer": "ipython3",
   "version": "3.11.5"
  },
  "varInspector": {
   "cols": {
    "lenName": 16,
    "lenType": 16,
    "lenVar": 40
   },
   "kernels_config": {
    "python": {
     "delete_cmd_postfix": "",
     "delete_cmd_prefix": "del ",
     "library": "var_list.py",
     "varRefreshCmd": "print(var_dic_list())"
    },
    "r": {
     "delete_cmd_postfix": ") ",
     "delete_cmd_prefix": "rm(",
     "library": "var_list.r",
     "varRefreshCmd": "cat(var_dic_list()) "
    }
   },
   "types_to_exclude": [
    "module",
    "function",
    "builtin_function_or_method",
    "instance",
    "_Feature"
   ],
   "window_display": false
  }
 },
 "nbformat": 4,
 "nbformat_minor": 5
}
